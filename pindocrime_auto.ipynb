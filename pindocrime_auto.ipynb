{
 "cells": [
  {
   "cell_type": "markdown",
   "metadata": {},
   "source": [
    "# Crime in pindostan(full dataset feature selection)"
   ]
  },
  {
   "cell_type": "markdown",
   "metadata": {},
   "source": [
    "The project is based on [this](https://archive.ics.uci.edu/ml/datasets/Communities+and+Crime) UCI dataset. My goal was to predict the rate of violent and nonviolent crimes per population and to find out what features have the greatest influence on the target variables. This project contains two parts, dedicated to [manual](insert github link here) and automatic feature selection(this part). In this notebook I try to predict the rate of violent and nonviolent crimes and test out 4 different feature selecting algorithms."
   ]
  },
  {
   "cell_type": "code",
   "execution_count": 1,
   "metadata": {},
   "outputs": [],
   "source": [
    "import numpy as np\n",
    "import pandas as pd\n",
    "from matplotlib import pyplot as plt\n",
    "%matplotlib inline\n",
    "import seaborn as sns\n",
    "sns.set()\n",
    "import warnings\n",
    "warnings.filterwarnings('ignore')"
   ]
  },
  {
   "cell_type": "code",
   "execution_count": 2,
   "metadata": {},
   "outputs": [
    {
     "data": {
      "text/html": [
       "<div>\n",
       "<style scoped>\n",
       "    .dataframe tbody tr th:only-of-type {\n",
       "        vertical-align: middle;\n",
       "    }\n",
       "\n",
       "    .dataframe tbody tr th {\n",
       "        vertical-align: top;\n",
       "    }\n",
       "\n",
       "    .dataframe thead th {\n",
       "        text-align: right;\n",
       "    }\n",
       "</style>\n",
       "<table border=\"1\" class=\"dataframe\">\n",
       "  <thead>\n",
       "    <tr style=\"text-align: right;\">\n",
       "      <th></th>\n",
       "      <th>Êcommunityname</th>\n",
       "      <th>state</th>\n",
       "      <th>countyCode</th>\n",
       "      <th>communityCode</th>\n",
       "      <th>fold</th>\n",
       "      <th>population</th>\n",
       "      <th>householdsize</th>\n",
       "      <th>racepctblack</th>\n",
       "      <th>racePctWhite</th>\n",
       "      <th>racePctAsian</th>\n",
       "      <th>...</th>\n",
       "      <th>burglaries</th>\n",
       "      <th>burglPerPop</th>\n",
       "      <th>larcenies</th>\n",
       "      <th>larcPerPop</th>\n",
       "      <th>autoTheft</th>\n",
       "      <th>autoTheftPerPop</th>\n",
       "      <th>arsons</th>\n",
       "      <th>arsonsPerPop</th>\n",
       "      <th>ViolentCrimesPerPop</th>\n",
       "      <th>nonViolPerPop</th>\n",
       "    </tr>\n",
       "  </thead>\n",
       "  <tbody>\n",
       "    <tr>\n",
       "      <th>0</th>\n",
       "      <td>BerkeleyHeightstownship</td>\n",
       "      <td>NJ</td>\n",
       "      <td>39</td>\n",
       "      <td>5320</td>\n",
       "      <td>1</td>\n",
       "      <td>11980</td>\n",
       "      <td>3.10</td>\n",
       "      <td>1.37</td>\n",
       "      <td>91.78</td>\n",
       "      <td>6.50</td>\n",
       "      <td>...</td>\n",
       "      <td>14</td>\n",
       "      <td>114.85</td>\n",
       "      <td>138</td>\n",
       "      <td>1132.08</td>\n",
       "      <td>16</td>\n",
       "      <td>131.26</td>\n",
       "      <td>2</td>\n",
       "      <td>16.41</td>\n",
       "      <td>41.02</td>\n",
       "      <td>1394.59</td>\n",
       "    </tr>\n",
       "    <tr>\n",
       "      <th>1</th>\n",
       "      <td>Marpletownship</td>\n",
       "      <td>PA</td>\n",
       "      <td>45</td>\n",
       "      <td>47616</td>\n",
       "      <td>1</td>\n",
       "      <td>23123</td>\n",
       "      <td>2.82</td>\n",
       "      <td>0.80</td>\n",
       "      <td>95.57</td>\n",
       "      <td>3.44</td>\n",
       "      <td>...</td>\n",
       "      <td>57</td>\n",
       "      <td>242.37</td>\n",
       "      <td>376</td>\n",
       "      <td>1598.78</td>\n",
       "      <td>26</td>\n",
       "      <td>110.55</td>\n",
       "      <td>1</td>\n",
       "      <td>4.25</td>\n",
       "      <td>127.56</td>\n",
       "      <td>1955.95</td>\n",
       "    </tr>\n",
       "    <tr>\n",
       "      <th>2</th>\n",
       "      <td>Tigardcity</td>\n",
       "      <td>OR</td>\n",
       "      <td>?</td>\n",
       "      <td>?</td>\n",
       "      <td>1</td>\n",
       "      <td>29344</td>\n",
       "      <td>2.43</td>\n",
       "      <td>0.74</td>\n",
       "      <td>94.33</td>\n",
       "      <td>3.43</td>\n",
       "      <td>...</td>\n",
       "      <td>274</td>\n",
       "      <td>758.14</td>\n",
       "      <td>1797</td>\n",
       "      <td>4972.19</td>\n",
       "      <td>136</td>\n",
       "      <td>376.3</td>\n",
       "      <td>22</td>\n",
       "      <td>60.87</td>\n",
       "      <td>218.59</td>\n",
       "      <td>6167.51</td>\n",
       "    </tr>\n",
       "    <tr>\n",
       "      <th>3</th>\n",
       "      <td>Gloversvillecity</td>\n",
       "      <td>NY</td>\n",
       "      <td>35</td>\n",
       "      <td>29443</td>\n",
       "      <td>1</td>\n",
       "      <td>16656</td>\n",
       "      <td>2.40</td>\n",
       "      <td>1.70</td>\n",
       "      <td>97.35</td>\n",
       "      <td>0.50</td>\n",
       "      <td>...</td>\n",
       "      <td>225</td>\n",
       "      <td>1301.78</td>\n",
       "      <td>716</td>\n",
       "      <td>4142.56</td>\n",
       "      <td>47</td>\n",
       "      <td>271.93</td>\n",
       "      <td>?</td>\n",
       "      <td>?</td>\n",
       "      <td>306.64</td>\n",
       "      <td>?</td>\n",
       "    </tr>\n",
       "    <tr>\n",
       "      <th>4</th>\n",
       "      <td>Bemidjicity</td>\n",
       "      <td>MN</td>\n",
       "      <td>7</td>\n",
       "      <td>5068</td>\n",
       "      <td>1</td>\n",
       "      <td>11245</td>\n",
       "      <td>2.76</td>\n",
       "      <td>0.53</td>\n",
       "      <td>89.16</td>\n",
       "      <td>1.17</td>\n",
       "      <td>...</td>\n",
       "      <td>91</td>\n",
       "      <td>728.93</td>\n",
       "      <td>1060</td>\n",
       "      <td>8490.87</td>\n",
       "      <td>91</td>\n",
       "      <td>728.93</td>\n",
       "      <td>5</td>\n",
       "      <td>40.05</td>\n",
       "      <td>?</td>\n",
       "      <td>9988.79</td>\n",
       "    </tr>\n",
       "  </tbody>\n",
       "</table>\n",
       "<p>5 rows × 147 columns</p>\n",
       "</div>"
      ],
      "text/plain": [
       "            Êcommunityname state countyCode communityCode  fold  population  \\\n",
       "0  BerkeleyHeightstownship    NJ         39          5320     1       11980   \n",
       "1           Marpletownship    PA         45         47616     1       23123   \n",
       "2               Tigardcity    OR          ?             ?     1       29344   \n",
       "3         Gloversvillecity    NY         35         29443     1       16656   \n",
       "4              Bemidjicity    MN          7          5068     1       11245   \n",
       "\n",
       "   householdsize  racepctblack  racePctWhite  racePctAsian      ...        \\\n",
       "0           3.10          1.37         91.78          6.50      ...         \n",
       "1           2.82          0.80         95.57          3.44      ...         \n",
       "2           2.43          0.74         94.33          3.43      ...         \n",
       "3           2.40          1.70         97.35          0.50      ...         \n",
       "4           2.76          0.53         89.16          1.17      ...         \n",
       "\n",
       "   burglaries  burglPerPop  larcenies  larcPerPop  autoTheft  autoTheftPerPop  \\\n",
       "0          14       114.85        138     1132.08         16           131.26   \n",
       "1          57       242.37        376     1598.78         26           110.55   \n",
       "2         274       758.14       1797     4972.19        136            376.3   \n",
       "3         225      1301.78        716     4142.56         47           271.93   \n",
       "4          91       728.93       1060     8490.87         91           728.93   \n",
       "\n",
       "   arsons  arsonsPerPop  ViolentCrimesPerPop  nonViolPerPop  \n",
       "0       2         16.41                41.02        1394.59  \n",
       "1       1          4.25               127.56        1955.95  \n",
       "2      22         60.87               218.59        6167.51  \n",
       "3       ?             ?               306.64              ?  \n",
       "4       5         40.05                    ?        9988.79  \n",
       "\n",
       "[5 rows x 147 columns]"
      ]
     },
     "execution_count": 2,
     "metadata": {},
     "output_type": "execute_result"
    }
   ],
   "source": [
    "data = pd.read_csv('crimedata.csv', encoding = 'latin-1')\n",
    "data.head()"
   ]
  },
  {
   "cell_type": "code",
   "execution_count": 3,
   "metadata": {},
   "outputs": [
    {
     "name": "stdout",
     "output_type": "stream",
     "text": [
      "<class 'pandas.core.frame.DataFrame'>\n",
      "RangeIndex: 2215 entries, 0 to 2214\n",
      "Columns: 147 entries, Êcommunityname to nonViolPerPop\n",
      "dtypes: float64(75), int64(29), object(43)\n",
      "memory usage: 2.5+ MB\n"
     ]
    }
   ],
   "source": [
    "data.info()"
   ]
  },
  {
   "cell_type": "code",
   "execution_count": 4,
   "metadata": {},
   "outputs": [],
   "source": [
    "data.replace('?', np.nan, inplace = True)"
   ]
  },
  {
   "cell_type": "code",
   "execution_count": 5,
   "metadata": {},
   "outputs": [],
   "source": [
    "for col in data.columns[2:]:\n",
    "    if data[col].dtype == np.object:\n",
    "       data[col] = data[col].astype('float64')"
   ]
  },
  {
   "cell_type": "code",
   "execution_count": 6,
   "metadata": {},
   "outputs": [
    {
     "name": "stdout",
     "output_type": "stream",
     "text": [
      "<class 'pandas.core.frame.DataFrame'>\n",
      "RangeIndex: 2215 entries, 0 to 2214\n",
      "Columns: 147 entries, Êcommunityname to nonViolPerPop\n",
      "dtypes: float64(116), int64(29), object(2)\n",
      "memory usage: 2.5+ MB\n"
     ]
    }
   ],
   "source": [
    "data.info()"
   ]
  },
  {
   "cell_type": "code",
   "execution_count": 7,
   "metadata": {},
   "outputs": [],
   "source": [
    "data.dropna(subset = ['nonViolPerPop', 'ViolentCrimesPerPop'], inplace = True)"
   ]
  },
  {
   "cell_type": "code",
   "execution_count": 8,
   "metadata": {},
   "outputs": [],
   "source": [
    "target_nonv = data['nonViolPerPop']\n",
    "target_viol = data['ViolentCrimesPerPop']"
   ]
  },
  {
   "cell_type": "code",
   "execution_count": 9,
   "metadata": {},
   "outputs": [],
   "source": [
    "community_name = data['Êcommunityname']\n",
    "state = data['state']\n",
    "county_code = data['countyCode']\n",
    "community_code = data['communityCode']\n",
    "fold = data['fold']"
   ]
  },
  {
   "cell_type": "code",
   "execution_count": 10,
   "metadata": {},
   "outputs": [],
   "source": [
    "data.drop(columns = ['Êcommunityname', 'state', 'countyCode', 'communityCode', 'fold', 'nonViolPerPop', 'ViolentCrimesPerPop'], inplace = True)"
   ]
  },
  {
   "cell_type": "code",
   "execution_count": 11,
   "metadata": {},
   "outputs": [],
   "source": [
    "for col in data.columns:\n",
    "    data[col] = data[col].fillna(np.mean(data[col]))"
   ]
  },
  {
   "cell_type": "code",
   "execution_count": 12,
   "metadata": {},
   "outputs": [
    {
     "data": {
      "text/html": [
       "<div>\n",
       "<style scoped>\n",
       "    .dataframe tbody tr th:only-of-type {\n",
       "        vertical-align: middle;\n",
       "    }\n",
       "\n",
       "    .dataframe tbody tr th {\n",
       "        vertical-align: top;\n",
       "    }\n",
       "\n",
       "    .dataframe thead th {\n",
       "        text-align: right;\n",
       "    }\n",
       "</style>\n",
       "<table border=\"1\" class=\"dataframe\">\n",
       "  <thead>\n",
       "    <tr style=\"text-align: right;\">\n",
       "      <th></th>\n",
       "      <th>population</th>\n",
       "      <th>householdsize</th>\n",
       "      <th>racepctblack</th>\n",
       "      <th>racePctWhite</th>\n",
       "      <th>racePctAsian</th>\n",
       "      <th>racePctHisp</th>\n",
       "      <th>agePct12t21</th>\n",
       "      <th>agePct12t29</th>\n",
       "      <th>agePct16t24</th>\n",
       "      <th>agePct65up</th>\n",
       "      <th>...</th>\n",
       "      <th>assaults</th>\n",
       "      <th>assaultPerPop</th>\n",
       "      <th>burglaries</th>\n",
       "      <th>burglPerPop</th>\n",
       "      <th>larcenies</th>\n",
       "      <th>larcPerPop</th>\n",
       "      <th>autoTheft</th>\n",
       "      <th>autoTheftPerPop</th>\n",
       "      <th>arsons</th>\n",
       "      <th>arsonsPerPop</th>\n",
       "    </tr>\n",
       "  </thead>\n",
       "  <tbody>\n",
       "    <tr>\n",
       "      <th>0</th>\n",
       "      <td>11980</td>\n",
       "      <td>3.10</td>\n",
       "      <td>1.37</td>\n",
       "      <td>91.78</td>\n",
       "      <td>6.50</td>\n",
       "      <td>1.88</td>\n",
       "      <td>12.47</td>\n",
       "      <td>21.44</td>\n",
       "      <td>10.93</td>\n",
       "      <td>11.33</td>\n",
       "      <td>...</td>\n",
       "      <td>4.0</td>\n",
       "      <td>32.81</td>\n",
       "      <td>14.0</td>\n",
       "      <td>114.85</td>\n",
       "      <td>138.0</td>\n",
       "      <td>1132.08</td>\n",
       "      <td>16.0</td>\n",
       "      <td>131.26</td>\n",
       "      <td>2.0</td>\n",
       "      <td>16.41</td>\n",
       "    </tr>\n",
       "    <tr>\n",
       "      <th>1</th>\n",
       "      <td>23123</td>\n",
       "      <td>2.82</td>\n",
       "      <td>0.80</td>\n",
       "      <td>95.57</td>\n",
       "      <td>3.44</td>\n",
       "      <td>0.85</td>\n",
       "      <td>11.01</td>\n",
       "      <td>21.30</td>\n",
       "      <td>10.48</td>\n",
       "      <td>17.18</td>\n",
       "      <td>...</td>\n",
       "      <td>24.0</td>\n",
       "      <td>102.05</td>\n",
       "      <td>57.0</td>\n",
       "      <td>242.37</td>\n",
       "      <td>376.0</td>\n",
       "      <td>1598.78</td>\n",
       "      <td>26.0</td>\n",
       "      <td>110.55</td>\n",
       "      <td>1.0</td>\n",
       "      <td>4.25</td>\n",
       "    </tr>\n",
       "    <tr>\n",
       "      <th>2</th>\n",
       "      <td>29344</td>\n",
       "      <td>2.43</td>\n",
       "      <td>0.74</td>\n",
       "      <td>94.33</td>\n",
       "      <td>3.43</td>\n",
       "      <td>2.35</td>\n",
       "      <td>11.36</td>\n",
       "      <td>25.88</td>\n",
       "      <td>11.01</td>\n",
       "      <td>10.28</td>\n",
       "      <td>...</td>\n",
       "      <td>14.0</td>\n",
       "      <td>38.74</td>\n",
       "      <td>274.0</td>\n",
       "      <td>758.14</td>\n",
       "      <td>1797.0</td>\n",
       "      <td>4972.19</td>\n",
       "      <td>136.0</td>\n",
       "      <td>376.30</td>\n",
       "      <td>22.0</td>\n",
       "      <td>60.87</td>\n",
       "    </tr>\n",
       "    <tr>\n",
       "      <th>5</th>\n",
       "      <td>140494</td>\n",
       "      <td>2.45</td>\n",
       "      <td>2.51</td>\n",
       "      <td>95.65</td>\n",
       "      <td>0.90</td>\n",
       "      <td>0.95</td>\n",
       "      <td>18.09</td>\n",
       "      <td>32.89</td>\n",
       "      <td>20.04</td>\n",
       "      <td>13.26</td>\n",
       "      <td>...</td>\n",
       "      <td>449.0</td>\n",
       "      <td>297.29</td>\n",
       "      <td>2094.0</td>\n",
       "      <td>1386.46</td>\n",
       "      <td>7690.0</td>\n",
       "      <td>5091.64</td>\n",
       "      <td>454.0</td>\n",
       "      <td>300.60</td>\n",
       "      <td>134.0</td>\n",
       "      <td>88.72</td>\n",
       "    </tr>\n",
       "    <tr>\n",
       "      <th>6</th>\n",
       "      <td>28700</td>\n",
       "      <td>2.60</td>\n",
       "      <td>1.60</td>\n",
       "      <td>96.57</td>\n",
       "      <td>1.47</td>\n",
       "      <td>1.10</td>\n",
       "      <td>11.17</td>\n",
       "      <td>27.41</td>\n",
       "      <td>12.76</td>\n",
       "      <td>14.42</td>\n",
       "      <td>...</td>\n",
       "      <td>54.0</td>\n",
       "      <td>182.66</td>\n",
       "      <td>110.0</td>\n",
       "      <td>372.09</td>\n",
       "      <td>288.0</td>\n",
       "      <td>974.19</td>\n",
       "      <td>144.0</td>\n",
       "      <td>487.10</td>\n",
       "      <td>17.0</td>\n",
       "      <td>57.50</td>\n",
       "    </tr>\n",
       "  </tbody>\n",
       "</table>\n",
       "<p>5 rows × 140 columns</p>\n",
       "</div>"
      ],
      "text/plain": [
       "   population  householdsize  racepctblack  racePctWhite  racePctAsian  \\\n",
       "0       11980           3.10          1.37         91.78          6.50   \n",
       "1       23123           2.82          0.80         95.57          3.44   \n",
       "2       29344           2.43          0.74         94.33          3.43   \n",
       "5      140494           2.45          2.51         95.65          0.90   \n",
       "6       28700           2.60          1.60         96.57          1.47   \n",
       "\n",
       "   racePctHisp  agePct12t21  agePct12t29  agePct16t24  agePct65up  \\\n",
       "0         1.88        12.47        21.44        10.93       11.33   \n",
       "1         0.85        11.01        21.30        10.48       17.18   \n",
       "2         2.35        11.36        25.88        11.01       10.28   \n",
       "5         0.95        18.09        32.89        20.04       13.26   \n",
       "6         1.10        11.17        27.41        12.76       14.42   \n",
       "\n",
       "       ...       assaults  assaultPerPop  burglaries  burglPerPop  larcenies  \\\n",
       "0      ...            4.0          32.81        14.0       114.85      138.0   \n",
       "1      ...           24.0         102.05        57.0       242.37      376.0   \n",
       "2      ...           14.0          38.74       274.0       758.14     1797.0   \n",
       "5      ...          449.0         297.29      2094.0      1386.46     7690.0   \n",
       "6      ...           54.0         182.66       110.0       372.09      288.0   \n",
       "\n",
       "   larcPerPop  autoTheft  autoTheftPerPop  arsons  arsonsPerPop  \n",
       "0     1132.08       16.0           131.26     2.0         16.41  \n",
       "1     1598.78       26.0           110.55     1.0          4.25  \n",
       "2     4972.19      136.0           376.30    22.0         60.87  \n",
       "5     5091.64      454.0           300.60   134.0         88.72  \n",
       "6      974.19      144.0           487.10    17.0         57.50  \n",
       "\n",
       "[5 rows x 140 columns]"
      ]
     },
     "execution_count": 12,
     "metadata": {},
     "output_type": "execute_result"
    }
   ],
   "source": [
    "data.head()"
   ]
  },
  {
   "cell_type": "code",
   "execution_count": 13,
   "metadata": {},
   "outputs": [
    {
     "data": {
      "text/html": [
       "<div>\n",
       "<style scoped>\n",
       "    .dataframe tbody tr th:only-of-type {\n",
       "        vertical-align: middle;\n",
       "    }\n",
       "\n",
       "    .dataframe tbody tr th {\n",
       "        vertical-align: top;\n",
       "    }\n",
       "\n",
       "    .dataframe thead th {\n",
       "        text-align: right;\n",
       "    }\n",
       "</style>\n",
       "<table border=\"1\" class=\"dataframe\">\n",
       "  <thead>\n",
       "    <tr style=\"text-align: right;\">\n",
       "      <th></th>\n",
       "      <th>population</th>\n",
       "      <th>householdsize</th>\n",
       "      <th>racepctblack</th>\n",
       "      <th>racePctWhite</th>\n",
       "      <th>racePctAsian</th>\n",
       "      <th>racePctHisp</th>\n",
       "      <th>agePct12t21</th>\n",
       "      <th>agePct12t29</th>\n",
       "      <th>agePct16t24</th>\n",
       "      <th>agePct65up</th>\n",
       "      <th>...</th>\n",
       "      <th>PolicAveOTWorked</th>\n",
       "      <th>LandArea</th>\n",
       "      <th>PopDens</th>\n",
       "      <th>PctUsePubTrans</th>\n",
       "      <th>PolicCars</th>\n",
       "      <th>PolicOperBudg</th>\n",
       "      <th>LemasPctPolicOnPatr</th>\n",
       "      <th>LemasGangUnitDeploy</th>\n",
       "      <th>LemasPctOfficDrugUn</th>\n",
       "      <th>PolicBudgPerPop</th>\n",
       "    </tr>\n",
       "  </thead>\n",
       "  <tbody>\n",
       "    <tr>\n",
       "      <th>0</th>\n",
       "      <td>11980</td>\n",
       "      <td>3.10</td>\n",
       "      <td>1.37</td>\n",
       "      <td>91.78</td>\n",
       "      <td>6.50</td>\n",
       "      <td>1.88</td>\n",
       "      <td>12.47</td>\n",
       "      <td>21.44</td>\n",
       "      <td>10.93</td>\n",
       "      <td>11.33</td>\n",
       "      <td>...</td>\n",
       "      <td>118.533113</td>\n",
       "      <td>6.5</td>\n",
       "      <td>1845.9</td>\n",
       "      <td>9.63</td>\n",
       "      <td>178.05298</td>\n",
       "      <td>2.939703e+07</td>\n",
       "      <td>86.886026</td>\n",
       "      <td>4.453642</td>\n",
       "      <td>0.0</td>\n",
       "      <td>157042.042152</td>\n",
       "    </tr>\n",
       "    <tr>\n",
       "      <th>1</th>\n",
       "      <td>23123</td>\n",
       "      <td>2.82</td>\n",
       "      <td>0.80</td>\n",
       "      <td>95.57</td>\n",
       "      <td>3.44</td>\n",
       "      <td>0.85</td>\n",
       "      <td>11.01</td>\n",
       "      <td>21.30</td>\n",
       "      <td>10.48</td>\n",
       "      <td>17.18</td>\n",
       "      <td>...</td>\n",
       "      <td>118.533113</td>\n",
       "      <td>10.6</td>\n",
       "      <td>2186.7</td>\n",
       "      <td>3.84</td>\n",
       "      <td>178.05298</td>\n",
       "      <td>2.939703e+07</td>\n",
       "      <td>86.886026</td>\n",
       "      <td>4.453642</td>\n",
       "      <td>0.0</td>\n",
       "      <td>157042.042152</td>\n",
       "    </tr>\n",
       "    <tr>\n",
       "      <th>2</th>\n",
       "      <td>29344</td>\n",
       "      <td>2.43</td>\n",
       "      <td>0.74</td>\n",
       "      <td>94.33</td>\n",
       "      <td>3.43</td>\n",
       "      <td>2.35</td>\n",
       "      <td>11.36</td>\n",
       "      <td>25.88</td>\n",
       "      <td>11.01</td>\n",
       "      <td>10.28</td>\n",
       "      <td>...</td>\n",
       "      <td>118.533113</td>\n",
       "      <td>10.6</td>\n",
       "      <td>2780.9</td>\n",
       "      <td>4.37</td>\n",
       "      <td>178.05298</td>\n",
       "      <td>2.939703e+07</td>\n",
       "      <td>86.886026</td>\n",
       "      <td>4.453642</td>\n",
       "      <td>0.0</td>\n",
       "      <td>157042.042152</td>\n",
       "    </tr>\n",
       "    <tr>\n",
       "      <th>5</th>\n",
       "      <td>140494</td>\n",
       "      <td>2.45</td>\n",
       "      <td>2.51</td>\n",
       "      <td>95.65</td>\n",
       "      <td>0.90</td>\n",
       "      <td>0.95</td>\n",
       "      <td>18.09</td>\n",
       "      <td>32.89</td>\n",
       "      <td>20.04</td>\n",
       "      <td>13.26</td>\n",
       "      <td>...</td>\n",
       "      <td>118.533113</td>\n",
       "      <td>70.4</td>\n",
       "      <td>1995.7</td>\n",
       "      <td>0.97</td>\n",
       "      <td>178.05298</td>\n",
       "      <td>2.939703e+07</td>\n",
       "      <td>86.886026</td>\n",
       "      <td>4.453642</td>\n",
       "      <td>0.0</td>\n",
       "      <td>157042.042152</td>\n",
       "    </tr>\n",
       "    <tr>\n",
       "      <th>6</th>\n",
       "      <td>28700</td>\n",
       "      <td>2.60</td>\n",
       "      <td>1.60</td>\n",
       "      <td>96.57</td>\n",
       "      <td>1.47</td>\n",
       "      <td>1.10</td>\n",
       "      <td>11.17</td>\n",
       "      <td>27.41</td>\n",
       "      <td>12.76</td>\n",
       "      <td>14.42</td>\n",
       "      <td>...</td>\n",
       "      <td>118.533113</td>\n",
       "      <td>10.9</td>\n",
       "      <td>2643.5</td>\n",
       "      <td>9.62</td>\n",
       "      <td>178.05298</td>\n",
       "      <td>2.939703e+07</td>\n",
       "      <td>86.886026</td>\n",
       "      <td>4.453642</td>\n",
       "      <td>0.0</td>\n",
       "      <td>157042.042152</td>\n",
       "    </tr>\n",
       "  </tbody>\n",
       "</table>\n",
       "<p>5 rows × 124 columns</p>\n",
       "</div>"
      ],
      "text/plain": [
       "   population  householdsize  racepctblack  racePctWhite  racePctAsian  \\\n",
       "0       11980           3.10          1.37         91.78          6.50   \n",
       "1       23123           2.82          0.80         95.57          3.44   \n",
       "2       29344           2.43          0.74         94.33          3.43   \n",
       "5      140494           2.45          2.51         95.65          0.90   \n",
       "6       28700           2.60          1.60         96.57          1.47   \n",
       "\n",
       "   racePctHisp  agePct12t21  agePct12t29  agePct16t24  agePct65up  \\\n",
       "0         1.88        12.47        21.44        10.93       11.33   \n",
       "1         0.85        11.01        21.30        10.48       17.18   \n",
       "2         2.35        11.36        25.88        11.01       10.28   \n",
       "5         0.95        18.09        32.89        20.04       13.26   \n",
       "6         1.10        11.17        27.41        12.76       14.42   \n",
       "\n",
       "        ...         PolicAveOTWorked  LandArea  PopDens  PctUsePubTrans  \\\n",
       "0       ...               118.533113       6.5   1845.9            9.63   \n",
       "1       ...               118.533113      10.6   2186.7            3.84   \n",
       "2       ...               118.533113      10.6   2780.9            4.37   \n",
       "5       ...               118.533113      70.4   1995.7            0.97   \n",
       "6       ...               118.533113      10.9   2643.5            9.62   \n",
       "\n",
       "   PolicCars  PolicOperBudg  LemasPctPolicOnPatr  LemasGangUnitDeploy  \\\n",
       "0  178.05298   2.939703e+07            86.886026             4.453642   \n",
       "1  178.05298   2.939703e+07            86.886026             4.453642   \n",
       "2  178.05298   2.939703e+07            86.886026             4.453642   \n",
       "5  178.05298   2.939703e+07            86.886026             4.453642   \n",
       "6  178.05298   2.939703e+07            86.886026             4.453642   \n",
       "\n",
       "   LemasPctOfficDrugUn  PolicBudgPerPop  \n",
       "0                  0.0    157042.042152  \n",
       "1                  0.0    157042.042152  \n",
       "2                  0.0    157042.042152  \n",
       "5                  0.0    157042.042152  \n",
       "6                  0.0    157042.042152  \n",
       "\n",
       "[5 rows x 124 columns]"
      ]
     },
     "execution_count": 13,
     "metadata": {},
     "output_type": "execute_result"
    }
   ],
   "source": [
    "X = data.drop(columns = ['murders', 'murdPerPop', 'rapes', 'rapesPerPop', 'robberies', 'robbbPerPop', 'assaults', 'assaultPerPop', 'burglaries', 'burglPerPop', 'larcenies', 'larcPerPop', 'autoTheft', 'autoTheftPerPop', 'arsons', 'arsonsPerPop'])\n",
    "X.head()"
   ]
  },
  {
   "cell_type": "code",
   "execution_count": 14,
   "metadata": {},
   "outputs": [
    {
     "data": {
      "text/html": [
       "<div>\n",
       "<style scoped>\n",
       "    .dataframe tbody tr th:only-of-type {\n",
       "        vertical-align: middle;\n",
       "    }\n",
       "\n",
       "    .dataframe tbody tr th {\n",
       "        vertical-align: top;\n",
       "    }\n",
       "\n",
       "    .dataframe thead th {\n",
       "        text-align: right;\n",
       "    }\n",
       "</style>\n",
       "<table border=\"1\" class=\"dataframe\">\n",
       "  <thead>\n",
       "    <tr style=\"text-align: right;\">\n",
       "      <th></th>\n",
       "      <th>population</th>\n",
       "      <th>householdsize</th>\n",
       "      <th>racepctblack</th>\n",
       "      <th>racePctWhite</th>\n",
       "      <th>racePctAsian</th>\n",
       "      <th>racePctHisp</th>\n",
       "      <th>agePct12t21</th>\n",
       "      <th>agePct12t29</th>\n",
       "      <th>agePct16t24</th>\n",
       "      <th>agePct65up</th>\n",
       "      <th>...</th>\n",
       "      <th>PolicAveOTWorked</th>\n",
       "      <th>LandArea</th>\n",
       "      <th>PopDens</th>\n",
       "      <th>PctUsePubTrans</th>\n",
       "      <th>PolicCars</th>\n",
       "      <th>PolicOperBudg</th>\n",
       "      <th>LemasPctPolicOnPatr</th>\n",
       "      <th>LemasGangUnitDeploy</th>\n",
       "      <th>LemasPctOfficDrugUn</th>\n",
       "      <th>PolicBudgPerPop</th>\n",
       "    </tr>\n",
       "  </thead>\n",
       "  <tbody>\n",
       "    <tr>\n",
       "      <th>2210</th>\n",
       "      <td>56216</td>\n",
       "      <td>3.07</td>\n",
       "      <td>6.87</td>\n",
       "      <td>61.68</td>\n",
       "      <td>15.23</td>\n",
       "      <td>29.86</td>\n",
       "      <td>15.46</td>\n",
       "      <td>30.16</td>\n",
       "      <td>14.34</td>\n",
       "      <td>8.08</td>\n",
       "      <td>...</td>\n",
       "      <td>118.533113</td>\n",
       "      <td>16.7</td>\n",
       "      <td>3365.4</td>\n",
       "      <td>0.59</td>\n",
       "      <td>178.05298</td>\n",
       "      <td>2.939703e+07</td>\n",
       "      <td>86.886026</td>\n",
       "      <td>4.453642</td>\n",
       "      <td>0.0</td>\n",
       "      <td>157042.042152</td>\n",
       "    </tr>\n",
       "    <tr>\n",
       "      <th>2211</th>\n",
       "      <td>12251</td>\n",
       "      <td>2.68</td>\n",
       "      <td>21.18</td>\n",
       "      <td>76.65</td>\n",
       "      <td>1.52</td>\n",
       "      <td>1.29</td>\n",
       "      <td>17.36</td>\n",
       "      <td>31.23</td>\n",
       "      <td>16.97</td>\n",
       "      <td>12.57</td>\n",
       "      <td>...</td>\n",
       "      <td>118.533113</td>\n",
       "      <td>7.3</td>\n",
       "      <td>1682.8</td>\n",
       "      <td>1.15</td>\n",
       "      <td>178.05298</td>\n",
       "      <td>2.939703e+07</td>\n",
       "      <td>86.886026</td>\n",
       "      <td>4.453642</td>\n",
       "      <td>0.0</td>\n",
       "      <td>157042.042152</td>\n",
       "    </tr>\n",
       "    <tr>\n",
       "      <th>2212</th>\n",
       "      <td>32824</td>\n",
       "      <td>2.46</td>\n",
       "      <td>0.52</td>\n",
       "      <td>92.62</td>\n",
       "      <td>0.98</td>\n",
       "      <td>11.00</td>\n",
       "      <td>11.81</td>\n",
       "      <td>20.96</td>\n",
       "      <td>9.53</td>\n",
       "      <td>20.73</td>\n",
       "      <td>...</td>\n",
       "      <td>118.533113</td>\n",
       "      <td>27.5</td>\n",
       "      <td>1195.2</td>\n",
       "      <td>0.12</td>\n",
       "      <td>178.05298</td>\n",
       "      <td>2.939703e+07</td>\n",
       "      <td>86.886026</td>\n",
       "      <td>4.453642</td>\n",
       "      <td>0.0</td>\n",
       "      <td>157042.042152</td>\n",
       "    </tr>\n",
       "    <tr>\n",
       "      <th>2213</th>\n",
       "      <td>13547</td>\n",
       "      <td>2.89</td>\n",
       "      <td>3.37</td>\n",
       "      <td>69.91</td>\n",
       "      <td>0.90</td>\n",
       "      <td>62.11</td>\n",
       "      <td>17.16</td>\n",
       "      <td>30.01</td>\n",
       "      <td>14.73</td>\n",
       "      <td>10.42</td>\n",
       "      <td>...</td>\n",
       "      <td>118.533113</td>\n",
       "      <td>6.3</td>\n",
       "      <td>2142.2</td>\n",
       "      <td>0.00</td>\n",
       "      <td>178.05298</td>\n",
       "      <td>2.939703e+07</td>\n",
       "      <td>86.886026</td>\n",
       "      <td>4.453642</td>\n",
       "      <td>0.0</td>\n",
       "      <td>157042.042152</td>\n",
       "    </tr>\n",
       "    <tr>\n",
       "      <th>2214</th>\n",
       "      <td>28898</td>\n",
       "      <td>2.61</td>\n",
       "      <td>2.39</td>\n",
       "      <td>71.27</td>\n",
       "      <td>9.09</td>\n",
       "      <td>24.43</td>\n",
       "      <td>12.99</td>\n",
       "      <td>25.21</td>\n",
       "      <td>11.63</td>\n",
       "      <td>12.12</td>\n",
       "      <td>...</td>\n",
       "      <td>118.533113</td>\n",
       "      <td>21.7</td>\n",
       "      <td>1331.0</td>\n",
       "      <td>1.39</td>\n",
       "      <td>178.05298</td>\n",
       "      <td>2.939703e+07</td>\n",
       "      <td>86.886026</td>\n",
       "      <td>4.453642</td>\n",
       "      <td>0.0</td>\n",
       "      <td>157042.042152</td>\n",
       "    </tr>\n",
       "  </tbody>\n",
       "</table>\n",
       "<p>5 rows × 124 columns</p>\n",
       "</div>"
      ],
      "text/plain": [
       "      population  householdsize  racepctblack  racePctWhite  racePctAsian  \\\n",
       "2210       56216           3.07          6.87         61.68         15.23   \n",
       "2211       12251           2.68         21.18         76.65          1.52   \n",
       "2212       32824           2.46          0.52         92.62          0.98   \n",
       "2213       13547           2.89          3.37         69.91          0.90   \n",
       "2214       28898           2.61          2.39         71.27          9.09   \n",
       "\n",
       "      racePctHisp  agePct12t21  agePct12t29  agePct16t24  agePct65up  \\\n",
       "2210        29.86        15.46        30.16        14.34        8.08   \n",
       "2211         1.29        17.36        31.23        16.97       12.57   \n",
       "2212        11.00        11.81        20.96         9.53       20.73   \n",
       "2213        62.11        17.16        30.01        14.73       10.42   \n",
       "2214        24.43        12.99        25.21        11.63       12.12   \n",
       "\n",
       "           ...         PolicAveOTWorked  LandArea  PopDens  PctUsePubTrans  \\\n",
       "2210       ...               118.533113      16.7   3365.4            0.59   \n",
       "2211       ...               118.533113       7.3   1682.8            1.15   \n",
       "2212       ...               118.533113      27.5   1195.2            0.12   \n",
       "2213       ...               118.533113       6.3   2142.2            0.00   \n",
       "2214       ...               118.533113      21.7   1331.0            1.39   \n",
       "\n",
       "      PolicCars  PolicOperBudg  LemasPctPolicOnPatr  LemasGangUnitDeploy  \\\n",
       "2210  178.05298   2.939703e+07            86.886026             4.453642   \n",
       "2211  178.05298   2.939703e+07            86.886026             4.453642   \n",
       "2212  178.05298   2.939703e+07            86.886026             4.453642   \n",
       "2213  178.05298   2.939703e+07            86.886026             4.453642   \n",
       "2214  178.05298   2.939703e+07            86.886026             4.453642   \n",
       "\n",
       "      LemasPctOfficDrugUn  PolicBudgPerPop  \n",
       "2210                  0.0    157042.042152  \n",
       "2211                  0.0    157042.042152  \n",
       "2212                  0.0    157042.042152  \n",
       "2213                  0.0    157042.042152  \n",
       "2214                  0.0    157042.042152  \n",
       "\n",
       "[5 rows x 124 columns]"
      ]
     },
     "execution_count": 14,
     "metadata": {},
     "output_type": "execute_result"
    }
   ],
   "source": [
    "X.tail()"
   ]
  },
  {
   "cell_type": "code",
   "execution_count": 15,
   "metadata": {},
   "outputs": [],
   "source": [
    "RANDOM_STATE = 42"
   ]
  },
  {
   "cell_type": "markdown",
   "metadata": {},
   "source": [
    "Parameter tuning of Lasso and RandomForestRegressor on manually selected features yielded the following results. \n",
    "<br>*Violent crimes:*\n",
    "* **Lasso:** MAE_test = 259.94365824914854 \n",
    "* **RF:** MAE_test = 236.5259341134638. \n",
    "<br>\n",
    "\n",
    "*Nonviolent crimes:*\n",
    "* **Lasso:** MAE_test = 1400.6183591755841 \n",
    "* **RF:** MAE_test = 1305.806011085814.\n",
    "<br>\n",
    "\n",
    "I beleive that feature selection may lead to a better performance so I tried 4 different ways of feature selection and applied them to the whole dataset. The algorithms I chose for feature selection are:\n",
    "* [VarianceThreshold](http://scikit-learn.org/stable/modules/generated/sklearn.feature_selection.VarianceThreshold.html#sklearn.feature_selection.VarianceThreshold)\n",
    "* [SelectKBest](http://scikit-learn.org/stable/modules/generated/sklearn.feature_selection.SelectKBest.html#sklearn.feature_selection.SelectKBest)\n",
    "* [SelectFromModel](http://scikit-learn.org/stable/modules/generated/sklearn.feature_selection.SelectFromModel.html#sklearn.feature_selection.SelectFromModel)\n",
    "* [SequentialFeatureSelector](https://rasbt.github.io/mlxtend/user_guide/feature_selection/SequentialFeatureSelector/)."
   ]
  },
  {
   "cell_type": "code",
   "execution_count": 16,
   "metadata": {},
   "outputs": [],
   "source": [
    "from sklearn.linear_model import Lasso\n",
    "from sklearn.model_selection import GridSearchCV, RandomizedSearchCV, cross_val_score, train_test_split\n",
    "from sklearn.preprocessing import StandardScaler\n",
    "from sklearn.ensemble import RandomForestRegressor\n",
    "from sklearn.feature_selection import SelectFromModel, VarianceThreshold, SelectKBest, f_regression\n",
    "from sklearn.pipeline import make_pipeline"
   ]
  },
  {
   "cell_type": "code",
   "execution_count": 17,
   "metadata": {},
   "outputs": [],
   "source": [
    "from sklearn.metrics import mean_squared_error, mean_absolute_error"
   ]
  },
  {
   "cell_type": "code",
   "execution_count": 18,
   "metadata": {},
   "outputs": [],
   "source": [
    "def evaluate(X_train, X_test, y_train, y_test, regressor):\n",
    "    regressor.fit(X_train, y_train)\n",
    "    MAE_train = mean_absolute_error(y_train, regressor.predict(X_train))\n",
    "    MAE_test = mean_absolute_error(y_test, regressor.predict(X_test))\n",
    "    return(MAE_train, MAE_test)"
   ]
  },
  {
   "cell_type": "code",
   "execution_count": 19,
   "metadata": {},
   "outputs": [],
   "source": [
    "def cv_evaluate(X, y, regressor):\n",
    "    return(cross_val_score(regressor, X, y, scoring = 'neg_mean_absolute_error', n_jobs = -1).mean())"
   ]
  },
  {
   "cell_type": "code",
   "execution_count": 20,
   "metadata": {},
   "outputs": [],
   "source": [
    "def print_result(result):\n",
    "    print('MAE_train: ', result[0])\n",
    "    print('MAE_test: ', result[1])"
   ]
  },
  {
   "cell_type": "code",
   "execution_count": 21,
   "metadata": {},
   "outputs": [],
   "source": [
    "def print_cv_result(result):\n",
    "    print('cross validation MAE: ', result)"
   ]
  },
  {
   "cell_type": "code",
   "execution_count": 22,
   "metadata": {},
   "outputs": [],
   "source": [
    "def get_features(values, names, threshold):\n",
    "   for value, name in zip(values, names):\n",
    "        if value > threshold:\n",
    "            yield(name)"
   ]
  },
  {
   "cell_type": "code",
   "execution_count": 24,
   "metadata": {},
   "outputs": [],
   "source": [
    "def get_common(x, y):\n",
    "    return list(set(x)&set(y))"
   ]
  },
  {
   "cell_type": "code",
   "execution_count": 25,
   "metadata": {},
   "outputs": [],
   "source": [
    "X_train, X_test, target_nonv_train, target_nonv_test, target_viol_train, target_viol_test = train_test_split(X, target_nonv, target_viol, test_size = 0.3, random_state = RANDOM_STATE)"
   ]
  },
  {
   "cell_type": "code",
   "execution_count": 26,
   "metadata": {},
   "outputs": [],
   "source": [
    "pipe_lasso = make_pipeline(StandardScaler(), Lasso(random_state = RANDOM_STATE))\n",
    "pipe_rf = make_pipeline(StandardScaler(), RandomForestRegressor(random_state = RANDOM_STATE))"
   ]
  },
  {
   "cell_type": "code",
   "execution_count": 27,
   "metadata": {},
   "outputs": [],
   "source": [
    "lasso = Lasso(random_state = RANDOM_STATE)\n",
    "rf = RandomForestRegressor(random_state = RANDOM_STATE)"
   ]
  },
  {
   "cell_type": "markdown",
   "metadata": {},
   "source": [
    "Let's take a look at how the models perform on full dataset without any parameter tuning or feature selection."
   ]
  },
  {
   "cell_type": "markdown",
   "metadata": {},
   "source": [
    "### a. Violent crimes"
   ]
  },
  {
   "cell_type": "code",
   "execution_count": 28,
   "metadata": {},
   "outputs": [
    {
     "name": "stdout",
     "output_type": "stream",
     "text": [
      "MAE_train:  229.62860330472793\n",
      "MAE_test:  244.58862097075067\n"
     ]
    }
   ],
   "source": [
    "default_lasso_viol = evaluate(X_train, X_test, target_viol_train, target_viol_test, pipe_lasso)\n",
    "print_result(default_lasso_viol)"
   ]
  },
  {
   "cell_type": "code",
   "execution_count": 29,
   "metadata": {},
   "outputs": [
    {
     "name": "stdout",
     "output_type": "stream",
     "text": [
      "cross validation MAE:  -246.47557955182592\n"
     ]
    }
   ],
   "source": [
    "default_cv_lasso_viol = cv_evaluate(X, target_viol, pipe_lasso)\n",
    "print_cv_result(default_cv_lasso_viol)"
   ]
  },
  {
   "cell_type": "code",
   "execution_count": 30,
   "metadata": {},
   "outputs": [
    {
     "name": "stdout",
     "output_type": "stream",
     "text": [
      "MAE_train:  97.50075957926371\n",
      "MAE_test:  256.7365621716287\n"
     ]
    }
   ],
   "source": [
    "default_rf_viol = evaluate(X_train, X_test, target_viol_train, target_viol_test, pipe_rf)\n",
    "print_result(default_rf_viol)"
   ]
  },
  {
   "cell_type": "code",
   "execution_count": 31,
   "metadata": {},
   "outputs": [
    {
     "name": "stdout",
     "output_type": "stream",
     "text": [
      "cross validation MAE:  -250.954610935857\n"
     ]
    }
   ],
   "source": [
    "default_cv_rf_viol = cv_evaluate(X, target_viol, pipe_rf)\n",
    "print_cv_result(default_cv_rf_viol)"
   ]
  },
  {
   "cell_type": "markdown",
   "metadata": {},
   "source": [
    "### b. Nonviolent crimes"
   ]
  },
  {
   "cell_type": "code",
   "execution_count": 32,
   "metadata": {},
   "outputs": [
    {
     "name": "stdout",
     "output_type": "stream",
     "text": [
      "MAE_train:  1190.8119725973834\n",
      "MAE_test:  1345.0597909403812\n"
     ]
    }
   ],
   "source": [
    "default_lasso_nonv = evaluate(X_train, X_test, target_nonv_train, target_nonv_test, pipe_lasso)\n",
    "print_result(default_lasso_nonv)"
   ]
  },
  {
   "cell_type": "code",
   "execution_count": 33,
   "metadata": {},
   "outputs": [
    {
     "name": "stdout",
     "output_type": "stream",
     "text": [
      "cross validation MAE:  -1353.4573286815373\n"
     ]
    }
   ],
   "source": [
    "default_cv_lasso_nonv = cv_evaluate(X, target_nonv, pipe_lasso)\n",
    "print_cv_result(default_cv_lasso_nonv)"
   ]
  },
  {
   "cell_type": "code",
   "execution_count": 34,
   "metadata": {},
   "outputs": [
    {
     "name": "stdout",
     "output_type": "stream",
     "text": [
      "MAE_train:  544.1303891810669\n",
      "MAE_test:  1451.7389649737304\n"
     ]
    }
   ],
   "source": [
    "default_rf_nonv = evaluate(X_train, X_test, target_nonv_train, target_nonv_test, pipe_rf)\n",
    "print_result(default_rf_nonv)"
   ]
  },
  {
   "cell_type": "code",
   "execution_count": 35,
   "metadata": {},
   "outputs": [
    {
     "name": "stdout",
     "output_type": "stream",
     "text": [
      "cross validation MAE:  -1337.7898848580442\n"
     ]
    }
   ],
   "source": [
    "default_cv_rf_nonv = cv_evaluate(X, target_nonv, pipe_rf)\n",
    "print_cv_result(default_cv_rf_nonv)"
   ]
  },
  {
   "cell_type": "markdown",
   "metadata": {},
   "source": [
    "Default Lasso performs better on full dataset than on manually selected features with grid search parameter tuning."
   ]
  },
  {
   "cell_type": "markdown",
   "metadata": {},
   "source": [
    "## 1. Variance threshold"
   ]
  },
  {
   "cell_type": "markdown",
   "metadata": {},
   "source": [
    "This algorithm is based on the statistical variance analysis(the lower the variance, the less informative is the feature) and it removes all features with variance below a certain threshold. In the next cell I scale the features to fit the standard normal distribution($ N(0,1) $) and realize that maybe applying StandardScaler in order to use VarianceThreshold later ain't the smartest idea."
   ]
  },
  {
   "cell_type": "code",
   "execution_count": 36,
   "metadata": {},
   "outputs": [
    {
     "data": {
      "text/plain": [
       "array([1., 1., 1., 1., 1., 1., 1., 1., 1., 1., 1., 1., 1., 1., 1., 1., 1.,\n",
       "       1., 1., 1., 1., 1., 1., 1., 1., 1., 1., 1., 1., 1., 1., 1., 1., 1.,\n",
       "       1., 1., 1., 1., 1., 1., 1., 1., 1., 1., 1., 1., 1., 1., 1., 1., 1.,\n",
       "       1., 1., 1., 1., 1., 1., 1., 1., 1., 1., 1., 1., 1., 1., 1., 1., 1.,\n",
       "       1., 1., 1., 1., 1., 1., 1., 1., 1., 1., 1., 1., 1., 1., 1., 1., 1.,\n",
       "       1., 1., 1., 1., 1., 1., 1., 1., 1., 1., 1., 1., 1., 1., 1., 1., 1.,\n",
       "       1., 1., 1., 1., 1., 1., 1., 1., 1., 1., 1., 1., 1., 1., 1., 1., 1.,\n",
       "       1., 1., 1., 1., 1.])"
      ]
     },
     "execution_count": 36,
     "metadata": {},
     "output_type": "execute_result"
    }
   ],
   "source": [
    "scaler = StandardScaler()\n",
    "X_norm = scaler.fit_transform(X)\n",
    "np.var(X_norm, axis = 0)"
   ]
  },
  {
   "cell_type": "markdown",
   "metadata": {},
   "source": [
    "Yeah, let's try MinMaxScaler instead."
   ]
  },
  {
   "cell_type": "code",
   "execution_count": 37,
   "metadata": {},
   "outputs": [],
   "source": [
    "from sklearn.preprocessing import MinMaxScaler"
   ]
  },
  {
   "cell_type": "code",
   "execution_count": 38,
   "metadata": {},
   "outputs": [
    {
     "data": {
      "text/plain": [
       "array([0.00079367, 0.00890631, 0.02085463, 0.02850052, 0.00680784,\n",
       "       0.02633067, 0.00812543, 0.01012441, 0.00996158, 0.00901415,\n",
       "       0.00079905, 0.19588697, 0.01485516, 0.0145872 , 0.01112974,\n",
       "       0.02558297, 0.01328635, 0.0288152 , 0.01186726, 0.01496154,\n",
       "       0.01172303, 0.01012886, 0.00195133, 0.00104437, 0.00821575,\n",
       "       0.003467  , 0.01116282, 0.00077592, 0.03094508, 0.01921831,\n",
       "       0.02394677, 0.03034219, 0.01447165, 0.01829257, 0.02843845,\n",
       "       0.01519943, 0.02231608, 0.02534036, 0.0275093 , 0.01565969,\n",
       "       0.02668432, 0.03430703, 0.01151261, 0.02821697, 0.03182345,\n",
       "       0.0273195 , 0.02372713, 0.01547882, 0.01912641, 0.00073158,\n",
       "       0.01601591, 0.00078509, 0.02270941, 0.02594677, 0.03062603,\n",
       "       0.03336428, 0.01480503, 0.01671993, 0.01845212, 0.01864901,\n",
       "       0.02527158, 0.01351662, 0.01385362, 0.01220012, 0.01246458,\n",
       "       0.0116533 , 0.01619347, 0.02935007, 0.01000925, 0.02340163,\n",
       "       0.03011127, 0.0011831 , 0.00737689, 0.03080548, 0.00748715,\n",
       "       0.03146968, 0.05282167, 0.03064791, 0.00657943, 0.02053322,\n",
       "       0.03224422, 0.04877344, 0.0146561 , 0.02642406, 0.04123845,\n",
       "       0.06537873, 0.0118641 , 0.0458409 , 0.02077839, 0.02517154,\n",
       "       0.01212164, 0.00064079, 0.00062984, 0.02142037, 0.03886116,\n",
       "       0.0258652 , 0.02491623, 0.01248189, 0.00064331, 0.00114541,\n",
       "       0.00065306, 0.00091948, 0.00108646, 0.00104209, 0.00336814,\n",
       "       0.00114542, 0.00581164, 0.00389869, 0.00392538, 0.00204578,\n",
       "       0.0014752 , 0.00364389, 0.00057131, 0.00664831, 0.0035054 ,\n",
       "       0.00108206, 0.00443275, 0.00825266, 0.00130691, 0.00062481,\n",
       "       0.00227087, 0.02620847, 0.00366933, 0.00126166])"
      ]
     },
     "execution_count": 38,
     "metadata": {},
     "output_type": "execute_result"
    }
   ],
   "source": [
    "minmax = MinMaxScaler()\n",
    "X_minmax = minmax.fit_transform(X)\n",
    "np.var(X_minmax, axis = 0)"
   ]
  },
  {
   "cell_type": "code",
   "execution_count": 39,
   "metadata": {},
   "outputs": [],
   "source": [
    "pipe_varth_lasso_0 = make_pipeline(MinMaxScaler(), VarianceThreshold(0.01), Lasso(random_state = RANDOM_STATE))\n",
    "pipe_varth_lasso_1 = make_pipeline(MinMaxScaler(), VarianceThreshold(0.02), Lasso(random_state = RANDOM_STATE))\n",
    "pipe_varth_lasso_2 = make_pipeline(MinMaxScaler(), VarianceThreshold(0.03), Lasso(random_state = RANDOM_STATE))\n",
    "pipe_varth_rf_0 = make_pipeline(MinMaxScaler(), VarianceThreshold(0.01), RandomForestRegressor(random_state = RANDOM_STATE))\n",
    "pipe_varth_rf_1 = make_pipeline(MinMaxScaler(), VarianceThreshold(0.02), RandomForestRegressor(random_state = RANDOM_STATE))\n",
    "pipe_varth_rf_2 = make_pipeline(MinMaxScaler(), VarianceThreshold(0.03), RandomForestRegressor(random_state = RANDOM_STATE))"
   ]
  },
  {
   "cell_type": "markdown",
   "metadata": {},
   "source": [
    "### 1.a. Violent crimes"
   ]
  },
  {
   "cell_type": "code",
   "execution_count": 40,
   "metadata": {},
   "outputs": [
    {
     "name": "stdout",
     "output_type": "stream",
     "text": [
      "MAE_train:  243.99827356157417\n",
      "MAE_test:  241.82386789385012\n"
     ]
    }
   ],
   "source": [
    "varth_lasso_viol_0 = evaluate(X_train, X_test, target_viol_train, target_viol_test, pipe_varth_lasso_0)\n",
    "print_result(varth_lasso_viol_0)"
   ]
  },
  {
   "cell_type": "code",
   "execution_count": 41,
   "metadata": {},
   "outputs": [
    {
     "name": "stdout",
     "output_type": "stream",
     "text": [
      "cross validation MAE:  -244.8191588930797\n"
     ]
    }
   ],
   "source": [
    "varth_cv_lasso_viol_0 = cv_evaluate(X, target_viol, pipe_varth_lasso_0)\n",
    "print_cv_result(varth_cv_lasso_viol_0)"
   ]
  },
  {
   "cell_type": "code",
   "execution_count": 42,
   "metadata": {},
   "outputs": [
    {
     "name": "stdout",
     "output_type": "stream",
     "text": [
      "MAE_train:  254.98219051949994\n",
      "MAE_test:  248.5425744982677\n"
     ]
    }
   ],
   "source": [
    "varth_lasso_viol_1 = evaluate(X_train, X_test, target_viol_train, target_viol_test, pipe_varth_lasso_1)\n",
    "print_result(varth_lasso_viol_1)"
   ]
  },
  {
   "cell_type": "code",
   "execution_count": 43,
   "metadata": {},
   "outputs": [
    {
     "name": "stdout",
     "output_type": "stream",
     "text": [
      "cross validation MAE:  -254.07370109051553\n"
     ]
    }
   ],
   "source": [
    "varth_cv_lasso_viol_1 = cv_evaluate(X, target_viol, pipe_varth_lasso_1)\n",
    "print_cv_result(varth_cv_lasso_viol_1)"
   ]
  },
  {
   "cell_type": "code",
   "execution_count": 44,
   "metadata": {},
   "outputs": [
    {
     "name": "stdout",
     "output_type": "stream",
     "text": [
      "MAE_train:  273.94392207560367\n",
      "MAE_test:  264.1723526383231\n"
     ]
    }
   ],
   "source": [
    "varth_lasso_viol_2 = evaluate(X_train, X_test, target_viol_train, target_viol_test, pipe_varth_lasso_2)\n",
    "print_result(varth_lasso_viol_2)"
   ]
  },
  {
   "cell_type": "code",
   "execution_count": 45,
   "metadata": {},
   "outputs": [
    {
     "name": "stdout",
     "output_type": "stream",
     "text": [
      "cross validation MAE:  -264.75321337612763\n"
     ]
    }
   ],
   "source": [
    "varth_cv_lasso_viol_2 = cv_evaluate(X, target_viol, pipe_varth_lasso_2)\n",
    "print_cv_result(varth_cv_lasso_viol_2)"
   ]
  },
  {
   "cell_type": "code",
   "execution_count": 46,
   "metadata": {},
   "outputs": [
    {
     "name": "stdout",
     "output_type": "stream",
     "text": [
      "MAE_train:  97.11451314800901\n",
      "MAE_test:  250.9628861646235\n"
     ]
    }
   ],
   "source": [
    "varth_rf_viol_0 = evaluate(X_train, X_test, target_viol_train, target_viol_test, pipe_varth_rf_0)\n",
    "print_result(varth_rf_viol_0)"
   ]
  },
  {
   "cell_type": "code",
   "execution_count": 47,
   "metadata": {},
   "outputs": [
    {
     "name": "stdout",
     "output_type": "stream",
     "text": [
      "cross validation MAE:  -253.15047423764454\n"
     ]
    }
   ],
   "source": [
    "varth_cv_rf_viol_0 = cv_evaluate(X, target_viol, pipe_varth_rf_0)\n",
    "print_cv_result(varth_cv_rf_viol_0)"
   ]
  },
  {
   "cell_type": "code",
   "execution_count": 48,
   "metadata": {},
   "outputs": [
    {
     "name": "stdout",
     "output_type": "stream",
     "text": [
      "MAE_train:  101.30151840721263\n",
      "MAE_test:  241.7972364273205\n"
     ]
    }
   ],
   "source": [
    "varth_rf_viol_1 = evaluate(X_train, X_test, target_viol_train, target_viol_test, pipe_varth_rf_1)\n",
    "print_result(varth_rf_viol_1)"
   ]
  },
  {
   "cell_type": "code",
   "execution_count": 49,
   "metadata": {},
   "outputs": [
    {
     "name": "stdout",
     "output_type": "stream",
     "text": [
      "cross validation MAE:  -251.6202287066246\n"
     ]
    }
   ],
   "source": [
    "varth_cv_rf_viol_1 = cv_evaluate(X, target_viol, pipe_varth_rf_1)\n",
    "print_cv_result(varth_cv_rf_viol_1)"
   ]
  },
  {
   "cell_type": "code",
   "execution_count": 50,
   "metadata": {},
   "outputs": [
    {
     "name": "stdout",
     "output_type": "stream",
     "text": [
      "MAE_train:  106.35753193087903\n",
      "MAE_test:  249.87534500875654\n"
     ]
    }
   ],
   "source": [
    "varth_rf_viol_2 = evaluate(X_train, X_test, target_viol_train, target_viol_test, pipe_varth_rf_2)\n",
    "print_result(varth_rf_viol_2)"
   ]
  },
  {
   "cell_type": "code",
   "execution_count": 51,
   "metadata": {},
   "outputs": [
    {
     "name": "stdout",
     "output_type": "stream",
     "text": [
      "cross validation MAE:  -261.9007996845426\n"
     ]
    }
   ],
   "source": [
    "varth_cv_rf_viol_2 = cv_evaluate(X, target_viol, pipe_varth_rf_2)\n",
    "print_cv_result(varth_cv_rf_viol_2)"
   ]
  },
  {
   "cell_type": "markdown",
   "metadata": {},
   "source": [
    "### 1.b. Nonviolent crimes"
   ]
  },
  {
   "cell_type": "code",
   "execution_count": 52,
   "metadata": {},
   "outputs": [
    {
     "name": "stdout",
     "output_type": "stream",
     "text": [
      "MAE_train:  1236.020950029258\n",
      "MAE_test:  1318.4578550458173\n"
     ]
    }
   ],
   "source": [
    "varth_lasso_nonv_0 = evaluate(X_train, X_test, target_nonv_train, target_nonv_test, pipe_varth_lasso_0)\n",
    "print_result(varth_lasso_nonv_0)"
   ]
  },
  {
   "cell_type": "code",
   "execution_count": 53,
   "metadata": {},
   "outputs": [
    {
     "name": "stdout",
     "output_type": "stream",
     "text": [
      "cross validation MAE:  -1311.43027817035\n"
     ]
    }
   ],
   "source": [
    "varth_cv_lasso_nonv_0 = cv_evaluate(X, target_nonv, pipe_varth_lasso_0)\n",
    "print_cv_result(varth_cv_lasso_nonv_0)"
   ]
  },
  {
   "cell_type": "code",
   "execution_count": 54,
   "metadata": {},
   "outputs": [
    {
     "name": "stdout",
     "output_type": "stream",
     "text": [
      "MAE_train:  1279.6934572337514\n",
      "MAE_test:  1349.7662058926544\n"
     ]
    }
   ],
   "source": [
    "varth_lasso_nonv_1 = evaluate(X_train, X_test, target_nonv_train, target_nonv_test, pipe_varth_lasso_1)\n",
    "print_result(varth_lasso_nonv_1)"
   ]
  },
  {
   "cell_type": "code",
   "execution_count": 55,
   "metadata": {},
   "outputs": [
    {
     "name": "stdout",
     "output_type": "stream",
     "text": [
      "cross validation MAE:  -1333.8694445487172\n"
     ]
    }
   ],
   "source": [
    "varth_cv_lasso_nonv_1 = cv_evaluate(X, target_nonv, pipe_varth_lasso_1)\n",
    "print_cv_result(varth_cv_lasso_nonv_1)"
   ]
  },
  {
   "cell_type": "code",
   "execution_count": 56,
   "metadata": {},
   "outputs": [
    {
     "name": "stdout",
     "output_type": "stream",
     "text": [
      "MAE_train:  1299.0476438332814\n",
      "MAE_test:  1339.0207040220976\n"
     ]
    }
   ],
   "source": [
    "varth_lasso_nonv_2 = evaluate(X_train, X_test, target_nonv_train, target_nonv_test, pipe_varth_lasso_2)\n",
    "print_result(varth_lasso_nonv_2)"
   ]
  },
  {
   "cell_type": "code",
   "execution_count": 57,
   "metadata": {},
   "outputs": [
    {
     "name": "stdout",
     "output_type": "stream",
     "text": [
      "cross validation MAE:  -1334.9277698745411\n"
     ]
    }
   ],
   "source": [
    "varth_cv_lasso_nonv_2 = cv_evaluate(X, target_nonv, pipe_varth_lasso_2)\n",
    "print_cv_result(varth_cv_lasso_nonv_2)"
   ]
  },
  {
   "cell_type": "code",
   "execution_count": 58,
   "metadata": {},
   "outputs": [
    {
     "name": "stdout",
     "output_type": "stream",
     "text": [
      "MAE_train:  560.2956183320812\n",
      "MAE_test:  1444.3168896672507\n"
     ]
    }
   ],
   "source": [
    "varth_rf_nonv_0 = evaluate(X_train, X_test, target_nonv_train, target_nonv_test, pipe_varth_rf_0)\n",
    "print_result(varth_rf_nonv_0)"
   ]
  },
  {
   "cell_type": "code",
   "execution_count": 59,
   "metadata": {},
   "outputs": [
    {
     "name": "stdout",
     "output_type": "stream",
     "text": [
      "cross validation MAE:  -1372.7908343848583\n"
     ]
    }
   ],
   "source": [
    "varth_cv_rf_nonv_0 = cv_evaluate(X, target_nonv, pipe_varth_rf_0)\n",
    "print_cv_result(varth_cv_rf_nonv_0)"
   ]
  },
  {
   "cell_type": "code",
   "execution_count": 60,
   "metadata": {},
   "outputs": [
    {
     "name": "stdout",
     "output_type": "stream",
     "text": [
      "MAE_train:  544.6961555221638\n",
      "MAE_test:  1428.7283537653243\n"
     ]
    }
   ],
   "source": [
    "varth_rf_nonv_1 = evaluate(X_train, X_test, target_nonv_train, target_nonv_test, pipe_varth_rf_1)\n",
    "print_result(varth_rf_nonv_1)"
   ]
  },
  {
   "cell_type": "code",
   "execution_count": 61,
   "metadata": {},
   "outputs": [
    {
     "name": "stdout",
     "output_type": "stream",
     "text": [
      "cross validation MAE:  -1385.0276356466877\n"
     ]
    }
   ],
   "source": [
    "varth_cv_rf_nonv_1 = cv_evaluate(X, target_nonv, pipe_varth_rf_1)\n",
    "print_cv_result(varth_cv_rf_nonv_1)"
   ]
  },
  {
   "cell_type": "code",
   "execution_count": 62,
   "metadata": {},
   "outputs": [
    {
     "name": "stdout",
     "output_type": "stream",
     "text": [
      "MAE_train:  566.3268933132982\n",
      "MAE_test:  1479.6272539404554\n"
     ]
    }
   ],
   "source": [
    "varth_rf_nonv_2 = evaluate(X_train, X_test, target_nonv_train, target_nonv_test, pipe_varth_rf_2)\n",
    "print_result(varth_rf_nonv_2)"
   ]
  },
  {
   "cell_type": "code",
   "execution_count": 63,
   "metadata": {},
   "outputs": [
    {
     "name": "stdout",
     "output_type": "stream",
     "text": [
      "cross validation MAE:  -1378.7649626708728\n"
     ]
    }
   ],
   "source": [
    "varth_cv_rf_nonv_2 = cv_evaluate(X, target_nonv, pipe_varth_rf_2)\n",
    "print_cv_result(varth_cv_rf_nonv_2)"
   ]
  },
  {
   "cell_type": "markdown",
   "metadata": {},
   "source": [
    "### 1.c. Selected feature comparison"
   ]
  },
  {
   "cell_type": "markdown",
   "metadata": {},
   "source": [
    "Let's see how many features are selected by each value of the variance threshold."
   ]
  },
  {
   "cell_type": "code",
   "execution_count": 69,
   "metadata": {},
   "outputs": [],
   "source": [
    "varth_0 = VarianceThreshold(0.01)\n",
    "varth_1 = VarianceThreshold(0.02)\n",
    "varth_2 = VarianceThreshold(0.03)"
   ]
  },
  {
   "cell_type": "code",
   "execution_count": 65,
   "metadata": {},
   "outputs": [
    {
     "data": {
      "text/plain": [
       "(1902, 79)"
      ]
     },
     "execution_count": 65,
     "metadata": {},
     "output_type": "execute_result"
    }
   ],
   "source": [
    "X_v_0 = varth_0.fit_transform(X_minmax)\n",
    "X_v_0.shape"
   ]
  },
  {
   "cell_type": "code",
   "execution_count": 66,
   "metadata": {},
   "outputs": [
    {
     "data": {
      "text/plain": [
       "(1902, 45)"
      ]
     },
     "execution_count": 66,
     "metadata": {},
     "output_type": "execute_result"
    }
   ],
   "source": [
    "X_v_1 = varth_1.fit_transform(X_minmax)\n",
    "X_v_1.shape"
   ]
  },
  {
   "cell_type": "code",
   "execution_count": 67,
   "metadata": {},
   "outputs": [
    {
     "data": {
      "text/plain": [
       "(1902, 18)"
      ]
     },
     "execution_count": 67,
     "metadata": {},
     "output_type": "execute_result"
    }
   ],
   "source": [
    "X_v_2 = varth_2.fit_transform(X_minmax)\n",
    "X_v_2.shape"
   ]
  },
  {
   "cell_type": "code",
   "execution_count": 68,
   "metadata": {},
   "outputs": [
    {
     "data": {
      "text/plain": [
       "(1902, 124)"
      ]
     },
     "execution_count": 68,
     "metadata": {},
     "output_type": "execute_result"
    }
   ],
   "source": [
    "X_minmax.shape"
   ]
  },
  {
   "cell_type": "markdown",
   "metadata": {},
   "source": [
    "So far the best performance is obtained by Lasso with variance threshold of 0.01. The scores of RandomForestRegressor dropped."
   ]
  },
  {
   "cell_type": "markdown",
   "metadata": {},
   "source": [
    "## 2. Select k best"
   ]
  },
  {
   "cell_type": "markdown",
   "metadata": {},
   "source": [
    "This is another statistical method that removes all but the k highest scoring features. The scoring metric for regression tasks is f-regression, so let's select 15, 25 and 35 features with the best f-regression scores."
   ]
  },
  {
   "cell_type": "code",
   "execution_count": 70,
   "metadata": {},
   "outputs": [],
   "source": [
    "pipe_15_best_lasso = make_pipeline(StandardScaler(), SelectKBest(f_regression, k = 15), Lasso(random_state = RANDOM_STATE))\n",
    "pipe_25_best_lasso = make_pipeline(StandardScaler(), SelectKBest(f_regression, k = 25), Lasso(random_state = RANDOM_STATE))\n",
    "pipe_35_best_lasso = make_pipeline(StandardScaler(), SelectKBest(f_regression, k = 35), Lasso(random_state = RANDOM_STATE))\n",
    "pipe_15_best_rf = make_pipeline(StandardScaler(), SelectKBest(f_regression, k = 15), RandomForestRegressor(random_state = RANDOM_STATE))\n",
    "pipe_25_best_rf = make_pipeline(StandardScaler(), SelectKBest(f_regression, k = 25), RandomForestRegressor(random_state = RANDOM_STATE))\n",
    "pipe_35_best_rf = make_pipeline(StandardScaler(), SelectKBest(f_regression, k = 35), RandomForestRegressor(random_state = RANDOM_STATE))"
   ]
  },
  {
   "cell_type": "markdown",
   "metadata": {},
   "source": [
    "### 2.a. Violent crimes"
   ]
  },
  {
   "cell_type": "code",
   "execution_count": 71,
   "metadata": {},
   "outputs": [
    {
     "name": "stdout",
     "output_type": "stream",
     "text": [
      "MAE_train:  252.3952689373819\n",
      "MAE_test:  255.51379184921447\n"
     ]
    }
   ],
   "source": [
    "lasso_viol_15_best = evaluate(X_train, X_test, target_viol_train, target_viol_test, pipe_15_best_lasso)\n",
    "print_result(lasso_viol_15_best)"
   ]
  },
  {
   "cell_type": "code",
   "execution_count": 72,
   "metadata": {},
   "outputs": [
    {
     "name": "stdout",
     "output_type": "stream",
     "text": [
      "cross validation MAE:  -254.28419978266984\n"
     ]
    }
   ],
   "source": [
    "cv_lasso_viol_15_best = cv_evaluate(X, target_viol, pipe_15_best_lasso)\n",
    "print_cv_result(cv_lasso_viol_15_best)"
   ]
  },
  {
   "cell_type": "code",
   "execution_count": 73,
   "metadata": {},
   "outputs": [
    {
     "name": "stdout",
     "output_type": "stream",
     "text": [
      "MAE_train:  248.4711569642637\n",
      "MAE_test:  248.12502848408326\n"
     ]
    }
   ],
   "source": [
    "lasso_viol_25_best = evaluate(X_train, X_test, target_viol_train, target_viol_test, pipe_25_best_lasso)\n",
    "print_result(lasso_viol_25_best)"
   ]
  },
  {
   "cell_type": "code",
   "execution_count": 74,
   "metadata": {},
   "outputs": [
    {
     "name": "stdout",
     "output_type": "stream",
     "text": [
      "cross validation MAE:  -253.27445705715445\n"
     ]
    }
   ],
   "source": [
    "cv_lasso_viol_25_best = cv_evaluate(X, target_viol, pipe_25_best_lasso)\n",
    "print_cv_result(cv_lasso_viol_25_best)"
   ]
  },
  {
   "cell_type": "code",
   "execution_count": 75,
   "metadata": {},
   "outputs": [
    {
     "name": "stdout",
     "output_type": "stream",
     "text": [
      "MAE_train:  246.42956386438178\n",
      "MAE_test:  245.84404678787106\n"
     ]
    }
   ],
   "source": [
    "lasso_viol_35_best = evaluate(X_train, X_test, target_viol_train, target_viol_test, pipe_35_best_lasso)\n",
    "print_result(lasso_viol_35_best)"
   ]
  },
  {
   "cell_type": "code",
   "execution_count": 76,
   "metadata": {},
   "outputs": [
    {
     "name": "stdout",
     "output_type": "stream",
     "text": [
      "cross validation MAE:  -249.24185162569106\n"
     ]
    }
   ],
   "source": [
    "cv_lasso_viol_35_best = cv_evaluate(X, target_viol, pipe_35_best_lasso)\n",
    "print_cv_result(cv_lasso_viol_35_best)"
   ]
  },
  {
   "cell_type": "code",
   "execution_count": 77,
   "metadata": {},
   "outputs": [
    {
     "name": "stdout",
     "output_type": "stream",
     "text": [
      "MAE_train:  101.50547182569497\n",
      "MAE_test:  259.58760420315235\n"
     ]
    }
   ],
   "source": [
    "rf_viol_15_best = evaluate(X_train, X_test, target_viol_train, target_viol_test, pipe_15_best_rf)\n",
    "print_result(rf_viol_15_best)"
   ]
  },
  {
   "cell_type": "code",
   "execution_count": 78,
   "metadata": {},
   "outputs": [
    {
     "name": "stdout",
     "output_type": "stream",
     "text": [
      "cross validation MAE:  -259.1117255520505\n"
     ]
    }
   ],
   "source": [
    "cv_rf_viol_15_best = cv_evaluate(X, target_viol, pipe_15_best_rf)\n",
    "print_cv_result(cv_rf_viol_15_best)"
   ]
  },
  {
   "cell_type": "code",
   "execution_count": 79,
   "metadata": {},
   "outputs": [
    {
     "name": "stdout",
     "output_type": "stream",
     "text": [
      "MAE_train:  100.12156348610068\n",
      "MAE_test:  250.22875306479858\n"
     ]
    }
   ],
   "source": [
    "rf_viol_25_best = evaluate(X_train, X_test, target_viol_train, target_viol_test, pipe_25_best_rf)\n",
    "print_result(rf_viol_25_best)"
   ]
  },
  {
   "cell_type": "code",
   "execution_count": 80,
   "metadata": {},
   "outputs": [
    {
     "name": "stdout",
     "output_type": "stream",
     "text": [
      "cross validation MAE:  -255.7814116719243\n"
     ]
    }
   ],
   "source": [
    "cv_rf_viol_25_best = cv_evaluate(X, target_viol, pipe_25_best_rf)\n",
    "print_cv_result(cv_rf_viol_25_best)"
   ]
  },
  {
   "cell_type": "code",
   "execution_count": 81,
   "metadata": {},
   "outputs": [
    {
     "name": "stdout",
     "output_type": "stream",
     "text": [
      "MAE_train:  98.48026296018033\n",
      "MAE_test:  249.03149211908934\n"
     ]
    }
   ],
   "source": [
    "rf_viol_35_best = evaluate(X_train, X_test, target_viol_train, target_viol_test, pipe_35_best_rf)\n",
    "print_result(rf_viol_35_best)"
   ]
  },
  {
   "cell_type": "code",
   "execution_count": 82,
   "metadata": {},
   "outputs": [
    {
     "name": "stdout",
     "output_type": "stream",
     "text": [
      "cross validation MAE:  -250.2812534174553\n"
     ]
    }
   ],
   "source": [
    "cv_rf_viol_35_best = cv_evaluate(X, target_viol, pipe_35_best_rf)\n",
    "print_cv_result(cv_rf_viol_35_best)"
   ]
  },
  {
   "cell_type": "markdown",
   "metadata": {},
   "source": [
    "### 2.b. Nonviolent crimes"
   ]
  },
  {
   "cell_type": "code",
   "execution_count": 83,
   "metadata": {},
   "outputs": [
    {
     "name": "stdout",
     "output_type": "stream",
     "text": [
      "MAE_train:  1350.1434451641385\n",
      "MAE_test:  1392.5263281047276\n"
     ]
    }
   ],
   "source": [
    "lasso_nonv_15_best = evaluate(X_train, X_test, target_nonv_train, target_nonv_test, pipe_15_best_lasso)\n",
    "print_result(lasso_nonv_15_best)"
   ]
  },
  {
   "cell_type": "code",
   "execution_count": 84,
   "metadata": {},
   "outputs": [
    {
     "name": "stdout",
     "output_type": "stream",
     "text": [
      "cross validation MAE:  -1376.7740919507462\n"
     ]
    }
   ],
   "source": [
    "cv_lasso_nonv_15_best = cv_evaluate(X, target_nonv, pipe_15_best_lasso)\n",
    "print_cv_result(cv_lasso_nonv_15_best)"
   ]
  },
  {
   "cell_type": "code",
   "execution_count": 85,
   "metadata": {},
   "outputs": [
    {
     "name": "stdout",
     "output_type": "stream",
     "text": [
      "MAE_train:  1331.871429620944\n",
      "MAE_test:  1377.8337337375706\n"
     ]
    }
   ],
   "source": [
    "lasso_nonv_25_best = evaluate(X_train, X_test, target_nonv_train, target_nonv_test, pipe_25_best_lasso)\n",
    "print_result(lasso_nonv_25_best)"
   ]
  },
  {
   "cell_type": "code",
   "execution_count": 86,
   "metadata": {},
   "outputs": [
    {
     "name": "stdout",
     "output_type": "stream",
     "text": [
      "cross validation MAE:  -1368.7946665004608\n"
     ]
    }
   ],
   "source": [
    "cv_lasso_nonv_25_best = cv_evaluate(X, target_nonv, pipe_25_best_lasso)\n",
    "print_cv_result(cv_lasso_nonv_25_best)"
   ]
  },
  {
   "cell_type": "code",
   "execution_count": 87,
   "metadata": {},
   "outputs": [
    {
     "name": "stdout",
     "output_type": "stream",
     "text": [
      "MAE_train:  1303.2663836447516\n",
      "MAE_test:  1382.7908008380637\n"
     ]
    }
   ],
   "source": [
    "lasso_nonv_35_best = evaluate(X_train, X_test, target_nonv_train, target_nonv_test, pipe_35_best_lasso)\n",
    "print_result(lasso_nonv_35_best)"
   ]
  },
  {
   "cell_type": "code",
   "execution_count": 88,
   "metadata": {},
   "outputs": [
    {
     "name": "stdout",
     "output_type": "stream",
     "text": [
      "cross validation MAE:  -1357.2942683999001\n"
     ]
    }
   ],
   "source": [
    "cv_lasso_nonv_35_best = cv_evaluate(X, target_nonv, pipe_35_best_lasso)\n",
    "print_cv_result(cv_lasso_nonv_35_best)"
   ]
  },
  {
   "cell_type": "code",
   "execution_count": 89,
   "metadata": {},
   "outputs": [
    {
     "name": "stdout",
     "output_type": "stream",
     "text": [
      "MAE_train:  550.7893193087904\n",
      "MAE_test:  1420.2796917688268\n"
     ]
    }
   ],
   "source": [
    "rf_nonv_15_best = evaluate(X_train, X_test, target_nonv_train, target_nonv_test, pipe_15_best_rf)\n",
    "print_result(rf_nonv_15_best)"
   ]
  },
  {
   "cell_type": "code",
   "execution_count": 90,
   "metadata": {},
   "outputs": [
    {
     "name": "stdout",
     "output_type": "stream",
     "text": [
      "cross validation MAE:  -1449.632574132492\n"
     ]
    }
   ],
   "source": [
    "cv_rf_nonv_15_best = cv_evaluate(X, target_nonv, pipe_15_best_rf)\n",
    "print_cv_result(cv_rf_nonv_15_best)"
   ]
  },
  {
   "cell_type": "code",
   "execution_count": 91,
   "metadata": {},
   "outputs": [
    {
     "name": "stdout",
     "output_type": "stream",
     "text": [
      "MAE_train:  540.8874838467318\n",
      "MAE_test:  1440.6902749562173\n"
     ]
    }
   ],
   "source": [
    "rf_nonv_25_best = evaluate(X_train, X_test, target_nonv_train, target_nonv_test, pipe_25_best_rf)\n",
    "print_result(rf_nonv_25_best)"
   ]
  },
  {
   "cell_type": "code",
   "execution_count": 92,
   "metadata": {},
   "outputs": [
    {
     "name": "stdout",
     "output_type": "stream",
     "text": [
      "cross validation MAE:  -1426.4000410094638\n"
     ]
    }
   ],
   "source": [
    "cv_rf_nonv_25_best = cv_evaluate(X, target_nonv, pipe_25_best_rf)\n",
    "print_cv_result(cv_rf_nonv_25_best)"
   ]
  },
  {
   "cell_type": "code",
   "execution_count": 93,
   "metadata": {},
   "outputs": [
    {
     "name": "stdout",
     "output_type": "stream",
     "text": [
      "MAE_train:  549.6894072126221\n",
      "MAE_test:  1475.8223887915938\n"
     ]
    }
   ],
   "source": [
    "rf_nonv_35_best = evaluate(X_train, X_test, target_nonv_train, target_nonv_test, pipe_35_best_rf)\n",
    "print_result(rf_nonv_35_best)"
   ]
  },
  {
   "cell_type": "code",
   "execution_count": 94,
   "metadata": {},
   "outputs": [
    {
     "name": "stdout",
     "output_type": "stream",
     "text": [
      "cross validation MAE:  -1390.476803364879\n"
     ]
    }
   ],
   "source": [
    "cv_rf_nonv_35_best = cv_evaluate(X, target_nonv, pipe_35_best_rf)\n",
    "print_cv_result(cv_rf_nonv_35_best)"
   ]
  },
  {
   "cell_type": "markdown",
   "metadata": {},
   "source": [
    "Selecting 35 best f-regression features leads to better performance"
   ]
  },
  {
   "cell_type": "markdown",
   "metadata": {},
   "source": [
    "## 3. Select from model"
   ]
  },
  {
   "cell_type": "markdown",
   "metadata": {},
   "source": [
    "This algorithm performs feature selection based on importance weights of an estimator(such as Lasso or RandomForest)."
   ]
  },
  {
   "cell_type": "code",
   "execution_count": 95,
   "metadata": {},
   "outputs": [],
   "source": [
    "pipe_select_lasso_lasso = make_pipeline(StandardScaler(), SelectFromModel(estimator = Lasso()), Lasso(random_state = RANDOM_STATE))\n",
    "pipe_select_lasso_rf = make_pipeline(StandardScaler(), SelectFromModel(estimator = Lasso()), RandomForestRegressor(random_state = RANDOM_STATE))\n",
    "pipe_select_rf_lasso = make_pipeline(StandardScaler(), SelectFromModel(estimator = RandomForestRegressor()), Lasso(random_state = RANDOM_STATE))\n",
    "pipe_select_rf_rf = make_pipeline(StandardScaler(), SelectFromModel(estimator = RandomForestRegressor()), RandomForestRegressor(random_state = RANDOM_STATE))"
   ]
  },
  {
   "cell_type": "markdown",
   "metadata": {},
   "source": [
    "### 3.a. Violent crimes"
   ]
  },
  {
   "cell_type": "code",
   "execution_count": 96,
   "metadata": {},
   "outputs": [
    {
     "name": "stdout",
     "output_type": "stream",
     "text": [
      "MAE_train:  229.62845405274516\n",
      "MAE_test:  244.5882183554582\n"
     ]
    }
   ],
   "source": [
    "select_lasso_lasso_viol = evaluate(X_train, X_test, target_viol_train, target_viol_test, pipe_select_lasso_lasso)\n",
    "print_result(select_lasso_lasso_viol)"
   ]
  },
  {
   "cell_type": "code",
   "execution_count": 97,
   "metadata": {},
   "outputs": [
    {
     "name": "stdout",
     "output_type": "stream",
     "text": [
      "cross validation MAE:  -246.47812294844243\n"
     ]
    }
   ],
   "source": [
    "cv_select_lasso_lasso_viol = cv_evaluate(X, target_viol, pipe_select_lasso_lasso)\n",
    "print_cv_result(cv_select_lasso_lasso_viol)"
   ]
  },
  {
   "cell_type": "code",
   "execution_count": 98,
   "metadata": {},
   "outputs": [
    {
     "name": "stdout",
     "output_type": "stream",
     "text": [
      "MAE_train:  96.76906160781368\n",
      "MAE_test:  253.44508231173378\n"
     ]
    }
   ],
   "source": [
    "select_lasso_rf_viol = evaluate(X_train, X_test, target_viol_train, target_viol_test, pipe_select_lasso_rf)\n",
    "print_result(select_lasso_rf_viol)"
   ]
  },
  {
   "cell_type": "code",
   "execution_count": 99,
   "metadata": {},
   "outputs": [
    {
     "name": "stdout",
     "output_type": "stream",
     "text": [
      "cross validation MAE:  -247.60452628811777\n"
     ]
    }
   ],
   "source": [
    "cv_select_lasso_rf_viol = cv_evaluate(X, target_viol, pipe_select_lasso_rf)\n",
    "print_cv_result(cv_select_lasso_rf_viol)"
   ]
  },
  {
   "cell_type": "code",
   "execution_count": 100,
   "metadata": {},
   "outputs": [
    {
     "name": "stdout",
     "output_type": "stream",
     "text": [
      "MAE_train:  248.9954375638797\n",
      "MAE_test:  250.8371934298118\n"
     ]
    }
   ],
   "source": [
    "select_rf_lasso_viol = evaluate(X_train, X_test, target_viol_train, target_viol_test, pipe_select_rf_lasso)\n",
    "print_result(select_rf_lasso_viol)"
   ]
  },
  {
   "cell_type": "code",
   "execution_count": 101,
   "metadata": {},
   "outputs": [
    {
     "name": "stdout",
     "output_type": "stream",
     "text": [
      "cross validation MAE:  -254.0902528616914\n"
     ]
    }
   ],
   "source": [
    "cv_select_rf_lasso_viol = cv_evaluate(X, target_viol, pipe_select_rf_lasso)\n",
    "print_cv_result(cv_select_rf_lasso_viol)"
   ]
  },
  {
   "cell_type": "code",
   "execution_count": 102,
   "metadata": {},
   "outputs": [
    {
     "name": "stdout",
     "output_type": "stream",
     "text": [
      "MAE_train:  97.2462389181067\n",
      "MAE_test:  255.5091838879159\n"
     ]
    }
   ],
   "source": [
    "select_rf_rf_viol = evaluate(X_train, X_test, target_viol_train, target_viol_test, pipe_select_rf_rf)\n",
    "print_result(select_rf_rf_viol)"
   ]
  },
  {
   "cell_type": "code",
   "execution_count": 103,
   "metadata": {},
   "outputs": [
    {
     "name": "stdout",
     "output_type": "stream",
     "text": [
      "cross validation MAE:  -252.95549526813878\n"
     ]
    }
   ],
   "source": [
    "cv_select_rf_rf_viol = cv_evaluate(X, target_viol, pipe_select_rf_rf)\n",
    "print_cv_result(cv_select_rf_rf_viol)"
   ]
  },
  {
   "cell_type": "markdown",
   "metadata": {},
   "source": [
    "### 3.b. Nonviolent crimes"
   ]
  },
  {
   "cell_type": "code",
   "execution_count": 104,
   "metadata": {},
   "outputs": [
    {
     "name": "stdout",
     "output_type": "stream",
     "text": [
      "MAE_train:  1190.398068340503\n",
      "MAE_test:  1345.115514245666\n"
     ]
    }
   ],
   "source": [
    "select_lasso_lasso_nonv = evaluate(X_train, X_test, target_nonv_train, target_nonv_test, pipe_select_lasso_lasso)\n",
    "print_result(select_lasso_lasso_nonv)"
   ]
  },
  {
   "cell_type": "code",
   "execution_count": 105,
   "metadata": {},
   "outputs": [
    {
     "name": "stdout",
     "output_type": "stream",
     "text": [
      "cross validation MAE:  -1353.5344101359815\n"
     ]
    }
   ],
   "source": [
    "cv_select_lasso_lasso_nonv = cv_evaluate(X, target_nonv, pipe_select_lasso_lasso)\n",
    "print_cv_result(cv_select_lasso_lasso_nonv)"
   ]
  },
  {
   "cell_type": "code",
   "execution_count": 106,
   "metadata": {},
   "outputs": [
    {
     "name": "stdout",
     "output_type": "stream",
     "text": [
      "MAE_train:  544.8789594290008\n",
      "MAE_test:  1450.8650455341506\n"
     ]
    }
   ],
   "source": [
    "select_lasso_rf_nonv = evaluate(X_train, X_test, target_nonv_train, target_nonv_test, pipe_select_lasso_rf)\n",
    "print_result(select_lasso_rf_nonv)"
   ]
  },
  {
   "cell_type": "code",
   "execution_count": 107,
   "metadata": {},
   "outputs": [
    {
     "name": "stdout",
     "output_type": "stream",
     "text": [
      "cross validation MAE:  -1347.4558028391166\n"
     ]
    }
   ],
   "source": [
    "cv_select_lasso_rf_nonv = cv_evaluate(X, target_nonv, pipe_select_lasso_rf)\n",
    "print_cv_result(cv_select_lasso_rf_nonv)"
   ]
  },
  {
   "cell_type": "code",
   "execution_count": 108,
   "metadata": {},
   "outputs": [
    {
     "name": "stdout",
     "output_type": "stream",
     "text": [
      "MAE_train:  1328.8112314813636\n",
      "MAE_test:  1398.1355129405176\n"
     ]
    }
   ],
   "source": [
    "select_rf_lasso_nonv = evaluate(X_train, X_test, target_nonv_train, target_nonv_test, pipe_select_rf_lasso)\n",
    "print_result(select_rf_lasso_nonv)"
   ]
  },
  {
   "cell_type": "code",
   "execution_count": 109,
   "metadata": {},
   "outputs": [
    {
     "name": "stdout",
     "output_type": "stream",
     "text": [
      "cross validation MAE:  -1370.6746594894284\n"
     ]
    }
   ],
   "source": [
    "cv_select_rf_lasso_nonv = cv_evaluate(X, target_nonv, pipe_select_rf_lasso)\n",
    "print_cv_result(cv_select_rf_lasso_nonv)"
   ]
  },
  {
   "cell_type": "code",
   "execution_count": 110,
   "metadata": {},
   "outputs": [
    {
     "name": "stdout",
     "output_type": "stream",
     "text": [
      "MAE_train:  535.3759346356123\n",
      "MAE_test:  1406.0061558669001\n"
     ]
    }
   ],
   "source": [
    "select_rf_rf_nonv = evaluate(X_train, X_test, target_nonv_train, target_nonv_test, pipe_select_rf_rf)\n",
    "print_result(select_rf_rf_nonv)"
   ]
  },
  {
   "cell_type": "code",
   "execution_count": 111,
   "metadata": {},
   "outputs": [
    {
     "name": "stdout",
     "output_type": "stream",
     "text": [
      "cross validation MAE:  -1394.3881903259726\n"
     ]
    }
   ],
   "source": [
    "cv_select_rf_rf_nonv = cv_evaluate(X, target_nonv, pipe_select_rf_rf)\n",
    "print_cv_result(cv_select_rf_rf_nonv)"
   ]
  },
  {
   "cell_type": "markdown",
   "metadata": {},
   "source": [
    "So far I see no improvement of the scores."
   ]
  },
  {
   "cell_type": "markdown",
   "metadata": {},
   "source": [
    "## 4. Grid search feature selection"
   ]
  },
  {
   "cell_type": "markdown",
   "metadata": {},
   "source": [
    "This algorithm implements a greedy search to reduce the dimensionality of feature space in order to improve the performance. It's the most effectve, though it's the most computationally complex."
   ]
  },
  {
   "cell_type": "code",
   "execution_count": 112,
   "metadata": {},
   "outputs": [],
   "source": [
    "from mlxtend.feature_selection import SequentialFeatureSelector"
   ]
  },
  {
   "cell_type": "code",
   "execution_count": 113,
   "metadata": {},
   "outputs": [],
   "source": [
    "X_norm = scaler.fit_transform(X)"
   ]
  },
  {
   "cell_type": "markdown",
   "metadata": {},
   "source": [
    "### 4.a. Violent crimes"
   ]
  },
  {
   "cell_type": "code",
   "execution_count": 120,
   "metadata": {},
   "outputs": [
    {
     "name": "stderr",
     "output_type": "stream",
     "text": [
      "[Parallel(n_jobs=-1)]: Using backend LokyBackend with 4 concurrent workers.\n",
      "[Parallel(n_jobs=-1)]: Done  33 tasks      | elapsed:   35.9s\n",
      "[Parallel(n_jobs=-1)]: Done 124 out of 124 | elapsed:  2.1min finished\n",
      "\n",
      "[2018-10-02 17:08:09] Features: 123/35 -- score: -243.59438291858132[Parallel(n_jobs=-1)]: Using backend LokyBackend with 4 concurrent workers.\n",
      "[Parallel(n_jobs=-1)]: Done  33 tasks      | elapsed:   32.7s\n",
      "[Parallel(n_jobs=-1)]: Done 123 out of 123 | elapsed:  1.9min finished\n",
      "\n",
      "[2018-10-02 17:10:04] Features: 122/35 -- score: -242.862845976046[Parallel(n_jobs=-1)]: Using backend LokyBackend with 4 concurrent workers.\n",
      "[Parallel(n_jobs=-1)]: Done  33 tasks      | elapsed:   31.9s\n",
      "[Parallel(n_jobs=-1)]: Done 122 out of 122 | elapsed:  2.1min finished\n",
      "\n",
      "[2018-10-02 17:12:12] Features: 121/35 -- score: -242.13678462498856[Parallel(n_jobs=-1)]: Using backend LokyBackend with 4 concurrent workers.\n",
      "[Parallel(n_jobs=-1)]: Done  33 tasks      | elapsed:   43.4s\n",
      "[Parallel(n_jobs=-1)]: Done 121 out of 121 | elapsed:  2.3min finished\n",
      "\n",
      "[2018-10-02 17:14:30] Features: 120/35 -- score: -241.4731413854238[Parallel(n_jobs=-1)]: Using backend LokyBackend with 4 concurrent workers.\n",
      "[Parallel(n_jobs=-1)]: Done  33 tasks      | elapsed:   32.2s\n",
      "[Parallel(n_jobs=-1)]: Done 120 out of 120 | elapsed:  2.2min finished\n",
      "\n",
      "[2018-10-02 17:16:40] Features: 119/35 -- score: -240.87737198287164[Parallel(n_jobs=-1)]: Using backend LokyBackend with 4 concurrent workers.\n",
      "[Parallel(n_jobs=-1)]: Done  33 tasks      | elapsed:   48.0s\n",
      "[Parallel(n_jobs=-1)]: Done 119 out of 119 | elapsed:  2.5min finished\n",
      "\n",
      "[2018-10-02 17:19:10] Features: 118/35 -- score: -240.39926330070548[Parallel(n_jobs=-1)]: Using backend LokyBackend with 4 concurrent workers.\n",
      "[Parallel(n_jobs=-1)]: Done  33 tasks      | elapsed:   32.4s\n",
      "[Parallel(n_jobs=-1)]: Done 118 out of 118 | elapsed:  1.8min finished\n",
      "\n",
      "[2018-10-02 17:20:56] Features: 117/35 -- score: -240.02912828369313[Parallel(n_jobs=-1)]: Using backend LokyBackend with 4 concurrent workers.\n",
      "[Parallel(n_jobs=-1)]: Done  33 tasks      | elapsed:   30.6s\n",
      "[Parallel(n_jobs=-1)]: Done 117 out of 117 | elapsed:  1.7min finished\n",
      "\n",
      "[2018-10-02 17:22:41] Features: 116/35 -- score: -239.72698685851287[Parallel(n_jobs=-1)]: Using backend LokyBackend with 4 concurrent workers.\n",
      "[Parallel(n_jobs=-1)]: Done  33 tasks      | elapsed:   28.8s\n",
      "[Parallel(n_jobs=-1)]: Done 116 out of 116 | elapsed:  1.7min finished\n",
      "\n",
      "[2018-10-02 17:24:23] Features: 115/35 -- score: -239.41534491793809[Parallel(n_jobs=-1)]: Using backend LokyBackend with 4 concurrent workers.\n",
      "[Parallel(n_jobs=-1)]: Done  33 tasks      | elapsed:   30.1s\n",
      "[Parallel(n_jobs=-1)]: Done 115 out of 115 | elapsed:  1.7min finished\n",
      "\n",
      "[2018-10-02 17:26:02] Features: 114/35 -- score: -239.1072203022828[Parallel(n_jobs=-1)]: Using backend LokyBackend with 4 concurrent workers.\n",
      "[Parallel(n_jobs=-1)]: Done  33 tasks      | elapsed:   29.8s\n",
      "[Parallel(n_jobs=-1)]: Done 114 out of 114 | elapsed:  1.6min finished\n",
      "\n",
      "[2018-10-02 17:27:39] Features: 113/35 -- score: -238.83186466232308[Parallel(n_jobs=-1)]: Using backend LokyBackend with 4 concurrent workers.\n",
      "[Parallel(n_jobs=-1)]: Done  33 tasks      | elapsed:   29.3s\n",
      "[Parallel(n_jobs=-1)]: Done 113 out of 113 | elapsed:  1.6min finished\n",
      "\n",
      "[2018-10-02 17:29:15] Features: 112/35 -- score: -238.5430792910146[Parallel(n_jobs=-1)]: Using backend LokyBackend with 4 concurrent workers.\n",
      "[Parallel(n_jobs=-1)]: Done  33 tasks      | elapsed:   28.8s\n",
      "[Parallel(n_jobs=-1)]: Done 112 out of 112 | elapsed:  1.5min finished\n",
      "\n",
      "[2018-10-02 17:30:47] Features: 111/35 -- score: -238.30422411157755[Parallel(n_jobs=-1)]: Using backend LokyBackend with 4 concurrent workers.\n",
      "[Parallel(n_jobs=-1)]: Done  33 tasks      | elapsed:   29.5s\n",
      "[Parallel(n_jobs=-1)]: Done 111 out of 111 | elapsed:  1.6min finished\n",
      "\n",
      "[2018-10-02 17:32:21] Features: 110/35 -- score: -238.13573550884522[Parallel(n_jobs=-1)]: Using backend LokyBackend with 4 concurrent workers.\n",
      "[Parallel(n_jobs=-1)]: Done  33 tasks      | elapsed:   27.8s\n",
      "[Parallel(n_jobs=-1)]: Done 110 out of 110 | elapsed:  1.5min finished\n",
      "\n",
      "[2018-10-02 17:33:49] Features: 109/35 -- score: -237.83068739621157[Parallel(n_jobs=-1)]: Using backend LokyBackend with 4 concurrent workers.\n",
      "[Parallel(n_jobs=-1)]: Done  33 tasks      | elapsed:   27.3s\n",
      "[Parallel(n_jobs=-1)]: Done 109 out of 109 | elapsed:  1.4min finished\n",
      "\n",
      "[2018-10-02 17:35:15] Features: 108/35 -- score: -237.59550026349766[Parallel(n_jobs=-1)]: Using backend LokyBackend with 4 concurrent workers.\n",
      "[Parallel(n_jobs=-1)]: Done  33 tasks      | elapsed:   26.4s\n",
      "[Parallel(n_jobs=-1)]: Done 108 out of 108 | elapsed:  1.4min finished\n",
      "\n",
      "[2018-10-02 17:36:37] Features: 107/35 -- score: -237.35419352337553[Parallel(n_jobs=-1)]: Using backend LokyBackend with 4 concurrent workers.\n",
      "[Parallel(n_jobs=-1)]: Done  33 tasks      | elapsed:   26.5s\n",
      "[Parallel(n_jobs=-1)]: Done 107 out of 107 | elapsed:  1.3min finished\n",
      "\n",
      "[2018-10-02 17:37:57] Features: 106/35 -- score: -237.16551563748257[Parallel(n_jobs=-1)]: Using backend LokyBackend with 4 concurrent workers.\n",
      "[Parallel(n_jobs=-1)]: Done  33 tasks      | elapsed:   25.1s\n",
      "[Parallel(n_jobs=-1)]: Done 106 out of 106 | elapsed:  1.3min finished\n",
      "\n",
      "[2018-10-02 17:39:13] Features: 105/35 -- score: -237.01140100972316[Parallel(n_jobs=-1)]: Using backend LokyBackend with 4 concurrent workers.\n",
      "[Parallel(n_jobs=-1)]: Done  33 tasks      | elapsed:   25.9s\n",
      "[Parallel(n_jobs=-1)]: Done 105 out of 105 | elapsed:  1.3min finished\n",
      "\n",
      "[2018-10-02 17:40:31] Features: 104/35 -- score: -236.8849753567948[Parallel(n_jobs=-1)]: Using backend LokyBackend with 4 concurrent workers.\n",
      "[Parallel(n_jobs=-1)]: Done  33 tasks      | elapsed:   23.1s\n",
      "[Parallel(n_jobs=-1)]: Done 104 out of 104 | elapsed:  1.2min finished\n",
      "\n",
      "[2018-10-02 17:41:41] Features: 103/35 -- score: -236.76598211353362[Parallel(n_jobs=-1)]: Using backend LokyBackend with 4 concurrent workers.\n",
      "[Parallel(n_jobs=-1)]: Done  33 tasks      | elapsed:   24.3s\n",
      "[Parallel(n_jobs=-1)]: Done 103 out of 103 | elapsed:  1.2min finished\n",
      "\n",
      "[2018-10-02 17:42:50] Features: 102/35 -- score: -236.65059797559167[Parallel(n_jobs=-1)]: Using backend LokyBackend with 4 concurrent workers.\n",
      "[Parallel(n_jobs=-1)]: Done  33 tasks      | elapsed:   22.2s\n",
      "[Parallel(n_jobs=-1)]: Done 102 out of 102 | elapsed:  1.1min finished\n",
      "\n",
      "[2018-10-02 17:43:55] Features: 101/35 -- score: -236.50713385464496[Parallel(n_jobs=-1)]: Using backend LokyBackend with 4 concurrent workers.\n",
      "[Parallel(n_jobs=-1)]: Done  33 tasks      | elapsed:   19.6s\n",
      "[Parallel(n_jobs=-1)]: Done 101 out of 101 | elapsed:   59.4s finished\n",
      "\n",
      "[2018-10-02 17:44:55] Features: 100/35 -- score: -236.41914020120188[Parallel(n_jobs=-1)]: Using backend LokyBackend with 4 concurrent workers.\n",
      "[Parallel(n_jobs=-1)]: Done  33 tasks      | elapsed:   19.2s\n",
      "[Parallel(n_jobs=-1)]: Done 100 out of 100 | elapsed:   57.7s finished\n",
      "\n",
      "[2018-10-02 17:45:52] Features: 99/35 -- score: -236.22859931532443[Parallel(n_jobs=-1)]: Using backend LokyBackend with 4 concurrent workers.\n",
      "[Parallel(n_jobs=-1)]: Done  33 tasks      | elapsed:   20.0s\n",
      "[Parallel(n_jobs=-1)]: Done  99 out of  99 | elapsed:   58.9s finished\n",
      "\n",
      "[2018-10-02 17:46:51] Features: 98/35 -- score: -236.1467269919[Parallel(n_jobs=-1)]: Using backend LokyBackend with 4 concurrent workers.\n",
      "[Parallel(n_jobs=-1)]: Done  33 tasks      | elapsed:   22.3s\n",
      "[Parallel(n_jobs=-1)]: Done  98 out of  98 | elapsed:  1.1min finished\n",
      "\n",
      "[2018-10-02 17:47:57] Features: 97/35 -- score: -236.04767548686664[Parallel(n_jobs=-1)]: Using backend LokyBackend with 4 concurrent workers.\n",
      "[Parallel(n_jobs=-1)]: Done  33 tasks      | elapsed:   21.2s\n",
      "[Parallel(n_jobs=-1)]: Done  97 out of  97 | elapsed:  1.0min finished\n",
      "\n",
      "[2018-10-02 17:48:58] Features: 96/35 -- score: -235.94811257351813[Parallel(n_jobs=-1)]: Using backend LokyBackend with 4 concurrent workers.\n",
      "[Parallel(n_jobs=-1)]: Done  33 tasks      | elapsed:   22.4s\n",
      "[Parallel(n_jobs=-1)]: Done  96 out of  96 | elapsed:   59.6s finished\n",
      "\n",
      "[2018-10-02 17:49:58] Features: 95/35 -- score: -235.85065373078382[Parallel(n_jobs=-1)]: Using backend LokyBackend with 4 concurrent workers.\n",
      "[Parallel(n_jobs=-1)]: Done  33 tasks      | elapsed:   20.9s\n",
      "[Parallel(n_jobs=-1)]: Done  95 out of  95 | elapsed:   59.4s finished\n",
      "\n",
      "[2018-10-02 17:50:57] Features: 94/35 -- score: -235.72419624788455[Parallel(n_jobs=-1)]: Using backend LokyBackend with 4 concurrent workers.\n"
     ]
    },
    {
     "name": "stderr",
     "output_type": "stream",
     "text": [
      "[Parallel(n_jobs=-1)]: Done  33 tasks      | elapsed:   20.0s\n",
      "[Parallel(n_jobs=-1)]: Done  94 out of  94 | elapsed:   55.2s finished\n",
      "\n",
      "[2018-10-02 17:51:52] Features: 93/35 -- score: -235.60808827252058[Parallel(n_jobs=-1)]: Using backend LokyBackend with 4 concurrent workers.\n",
      "[Parallel(n_jobs=-1)]: Done  33 tasks      | elapsed:   20.3s\n",
      "[Parallel(n_jobs=-1)]: Done  93 out of  93 | elapsed:   55.9s finished\n",
      "\n",
      "[2018-10-02 17:52:48] Features: 92/35 -- score: -235.5079850596504[Parallel(n_jobs=-1)]: Using backend LokyBackend with 4 concurrent workers.\n",
      "[Parallel(n_jobs=-1)]: Done  33 tasks      | elapsed:   19.0s\n",
      "[Parallel(n_jobs=-1)]: Done  92 out of  92 | elapsed:   51.4s finished\n",
      "\n",
      "[2018-10-02 17:53:40] Features: 91/35 -- score: -235.40748562955378[Parallel(n_jobs=-1)]: Using backend LokyBackend with 4 concurrent workers.\n",
      "[Parallel(n_jobs=-1)]: Done  33 tasks      | elapsed:   19.1s\n",
      "[Parallel(n_jobs=-1)]: Done  91 out of  91 | elapsed:   51.0s finished\n",
      "\n",
      "[2018-10-02 17:54:31] Features: 90/35 -- score: -235.28837963380155[Parallel(n_jobs=-1)]: Using backend LokyBackend with 4 concurrent workers.\n",
      "[Parallel(n_jobs=-1)]: Done  33 tasks      | elapsed:   19.5s\n",
      "[Parallel(n_jobs=-1)]: Done  90 out of  90 | elapsed:   50.2s finished\n",
      "\n",
      "[2018-10-02 17:55:21] Features: 89/35 -- score: -235.19124487388916[Parallel(n_jobs=-1)]: Using backend LokyBackend with 4 concurrent workers.\n",
      "[Parallel(n_jobs=-1)]: Done  33 tasks      | elapsed:   18.7s\n",
      "[Parallel(n_jobs=-1)]: Done  89 out of  89 | elapsed:   48.4s finished\n",
      "\n",
      "[2018-10-02 17:56:09] Features: 88/35 -- score: -235.1092857270947[Parallel(n_jobs=-1)]: Using backend LokyBackend with 4 concurrent workers.\n",
      "[Parallel(n_jobs=-1)]: Done  33 tasks      | elapsed:   18.7s\n",
      "[Parallel(n_jobs=-1)]: Done  88 out of  88 | elapsed:   48.3s finished\n",
      "\n",
      "[2018-10-02 17:56:58] Features: 87/35 -- score: -235.02439590424393[Parallel(n_jobs=-1)]: Using backend LokyBackend with 4 concurrent workers.\n",
      "[Parallel(n_jobs=-1)]: Done  33 tasks      | elapsed:   18.5s\n",
      "[Parallel(n_jobs=-1)]: Done  87 out of  87 | elapsed:   48.1s finished\n",
      "\n",
      "[2018-10-02 17:57:46] Features: 86/35 -- score: -234.92893972591415[Parallel(n_jobs=-1)]: Using backend LokyBackend with 4 concurrent workers.\n",
      "[Parallel(n_jobs=-1)]: Done  33 tasks      | elapsed:   20.4s\n",
      "[Parallel(n_jobs=-1)]: Done  86 out of  86 | elapsed:   48.7s finished\n",
      "\n",
      "[2018-10-02 17:58:35] Features: 85/35 -- score: -234.82540773853233[Parallel(n_jobs=-1)]: Using backend LokyBackend with 4 concurrent workers.\n",
      "[Parallel(n_jobs=-1)]: Done  33 tasks      | elapsed:   18.5s\n",
      "[Parallel(n_jobs=-1)]: Done  85 out of  85 | elapsed:   45.5s finished\n",
      "\n",
      "[2018-10-02 17:59:20] Features: 84/35 -- score: -234.68031946968313[Parallel(n_jobs=-1)]: Using backend LokyBackend with 4 concurrent workers.\n",
      "[Parallel(n_jobs=-1)]: Done  33 tasks      | elapsed:   17.8s\n",
      "[Parallel(n_jobs=-1)]: Done  84 out of  84 | elapsed:   45.1s finished\n",
      "\n",
      "[2018-10-02 18:00:05] Features: 83/35 -- score: -234.61866156696843[Parallel(n_jobs=-1)]: Using backend LokyBackend with 4 concurrent workers.\n",
      "[Parallel(n_jobs=-1)]: Done  33 tasks      | elapsed:   21.5s\n",
      "[Parallel(n_jobs=-1)]: Done  83 out of  83 | elapsed:   59.0s finished\n",
      "\n",
      "[2018-10-02 18:01:04] Features: 82/35 -- score: -234.5578375618335[Parallel(n_jobs=-1)]: Using backend LokyBackend with 4 concurrent workers.\n",
      "[Parallel(n_jobs=-1)]: Done  33 tasks      | elapsed:   28.6s\n",
      "[Parallel(n_jobs=-1)]: Done  82 out of  82 | elapsed:   58.2s finished\n",
      "\n",
      "[2018-10-02 18:02:02] Features: 81/35 -- score: -234.50091662340887[Parallel(n_jobs=-1)]: Using backend LokyBackend with 4 concurrent workers.\n",
      "[Parallel(n_jobs=-1)]: Done  33 tasks      | elapsed:   21.1s\n",
      "[Parallel(n_jobs=-1)]: Done  81 out of  81 | elapsed:   45.4s finished\n",
      "\n",
      "[2018-10-02 18:02:48] Features: 80/35 -- score: -234.4367971826028[Parallel(n_jobs=-1)]: Using backend LokyBackend with 4 concurrent workers.\n",
      "[Parallel(n_jobs=-1)]: Done  33 tasks      | elapsed:   18.1s\n",
      "[Parallel(n_jobs=-1)]: Done  80 out of  80 | elapsed:   43.0s finished\n",
      "\n",
      "[2018-10-02 18:03:31] Features: 79/35 -- score: -234.3707190794351[Parallel(n_jobs=-1)]: Using backend LokyBackend with 4 concurrent workers.\n",
      "[Parallel(n_jobs=-1)]: Done  33 tasks      | elapsed:   18.8s\n",
      "[Parallel(n_jobs=-1)]: Done  79 out of  79 | elapsed:   42.3s finished\n",
      "\n",
      "[2018-10-02 18:04:13] Features: 78/35 -- score: -234.27326324462882[Parallel(n_jobs=-1)]: Using backend LokyBackend with 4 concurrent workers.\n",
      "[Parallel(n_jobs=-1)]: Done  33 tasks      | elapsed:   17.5s\n",
      "[Parallel(n_jobs=-1)]: Done  78 out of  78 | elapsed:   39.9s finished\n",
      "\n",
      "[2018-10-02 18:04:53] Features: 77/35 -- score: -234.20247679580538[Parallel(n_jobs=-1)]: Using backend LokyBackend with 4 concurrent workers.\n",
      "[Parallel(n_jobs=-1)]: Done  33 tasks      | elapsed:   17.8s\n",
      "[Parallel(n_jobs=-1)]: Done  77 out of  77 | elapsed:   40.2s finished\n",
      "\n",
      "[2018-10-02 18:05:33] Features: 76/35 -- score: -234.13539747876644[Parallel(n_jobs=-1)]: Using backend LokyBackend with 4 concurrent workers.\n",
      "[Parallel(n_jobs=-1)]: Done  33 tasks      | elapsed:   16.8s\n",
      "[Parallel(n_jobs=-1)]: Done  76 out of  76 | elapsed:   39.6s finished\n",
      "\n",
      "[2018-10-02 18:06:13] Features: 75/35 -- score: -234.07733980095463[Parallel(n_jobs=-1)]: Using backend LokyBackend with 4 concurrent workers.\n",
      "[Parallel(n_jobs=-1)]: Done  33 tasks      | elapsed:   19.4s\n",
      "[Parallel(n_jobs=-1)]: Done  75 out of  75 | elapsed:   40.1s finished\n",
      "\n",
      "[2018-10-02 18:06:53] Features: 74/35 -- score: -234.02810286861623[Parallel(n_jobs=-1)]: Using backend LokyBackend with 4 concurrent workers.\n",
      "[Parallel(n_jobs=-1)]: Done  33 tasks      | elapsed:   17.2s\n",
      "[Parallel(n_jobs=-1)]: Done  74 out of  74 | elapsed:   37.0s finished\n",
      "\n",
      "[2018-10-02 18:07:30] Features: 73/35 -- score: -233.97966189793996[Parallel(n_jobs=-1)]: Using backend LokyBackend with 4 concurrent workers.\n",
      "[Parallel(n_jobs=-1)]: Done  33 tasks      | elapsed:   16.9s\n",
      "[Parallel(n_jobs=-1)]: Done  73 out of  73 | elapsed:   36.3s finished\n",
      "\n",
      "[2018-10-02 18:08:06] Features: 72/35 -- score: -233.93361614097088[Parallel(n_jobs=-1)]: Using backend LokyBackend with 4 concurrent workers.\n",
      "[Parallel(n_jobs=-1)]: Done  33 tasks      | elapsed:   16.7s\n",
      "[Parallel(n_jobs=-1)]: Done  72 out of  72 | elapsed:   35.1s finished\n",
      "\n",
      "[2018-10-02 18:08:42] Features: 71/35 -- score: -233.89270484067075[Parallel(n_jobs=-1)]: Using backend LokyBackend with 4 concurrent workers.\n",
      "[Parallel(n_jobs=-1)]: Done  33 tasks      | elapsed:   16.6s\n",
      "[Parallel(n_jobs=-1)]: Done  71 out of  71 | elapsed:   34.2s finished\n",
      "\n",
      "[2018-10-02 18:09:16] Features: 70/35 -- score: -233.84890041611465[Parallel(n_jobs=-1)]: Using backend LokyBackend with 4 concurrent workers.\n",
      "[Parallel(n_jobs=-1)]: Done  33 tasks      | elapsed:   15.9s\n",
      "[Parallel(n_jobs=-1)]: Done  70 out of  70 | elapsed:   33.1s finished\n",
      "\n",
      "[2018-10-02 18:09:49] Features: 69/35 -- score: -233.72325013670735[Parallel(n_jobs=-1)]: Using backend LokyBackend with 4 concurrent workers.\n",
      "[Parallel(n_jobs=-1)]: Done  33 tasks      | elapsed:   17.1s\n",
      "[Parallel(n_jobs=-1)]: Done  69 out of  69 | elapsed:   33.2s finished\n",
      "\n",
      "[2018-10-02 18:10:22] Features: 68/35 -- score: -233.6869251263941[Parallel(n_jobs=-1)]: Using backend LokyBackend with 4 concurrent workers.\n",
      "[Parallel(n_jobs=-1)]: Done  33 tasks      | elapsed:   16.3s\n",
      "[Parallel(n_jobs=-1)]: Done  68 out of  68 | elapsed:   31.8s finished\n",
      "\n",
      "[2018-10-02 18:10:54] Features: 67/35 -- score: -233.65626971526066[Parallel(n_jobs=-1)]: Using backend LokyBackend with 4 concurrent workers.\n",
      "[Parallel(n_jobs=-1)]: Done  33 tasks      | elapsed:   16.3s\n",
      "[Parallel(n_jobs=-1)]: Done  67 out of  67 | elapsed:   33.0s finished\n",
      "\n",
      "[2018-10-02 18:11:27] Features: 66/35 -- score: -233.6319851632662[Parallel(n_jobs=-1)]: Using backend LokyBackend with 4 concurrent workers.\n",
      "[Parallel(n_jobs=-1)]: Done  33 tasks      | elapsed:   16.7s\n",
      "[Parallel(n_jobs=-1)]: Done  66 out of  66 | elapsed:   35.3s finished\n",
      "\n",
      "[2018-10-02 18:12:02] Features: 65/35 -- score: -233.61311269665634[Parallel(n_jobs=-1)]: Using backend LokyBackend with 4 concurrent workers.\n",
      "[Parallel(n_jobs=-1)]: Done  33 tasks      | elapsed:   17.7s\n",
      "[Parallel(n_jobs=-1)]: Done  65 out of  65 | elapsed:   34.4s finished\n",
      "\n",
      "[2018-10-02 18:12:37] Features: 64/35 -- score: -233.59662331177856[Parallel(n_jobs=-1)]: Using backend LokyBackend with 4 concurrent workers.\n"
     ]
    },
    {
     "name": "stderr",
     "output_type": "stream",
     "text": [
      "[Parallel(n_jobs=-1)]: Done  33 tasks      | elapsed:   16.2s\n",
      "[Parallel(n_jobs=-1)]: Done  64 out of  64 | elapsed:   31.7s finished\n",
      "\n",
      "[2018-10-02 18:13:08] Features: 63/35 -- score: -233.58189286139424[Parallel(n_jobs=-1)]: Using backend LokyBackend with 4 concurrent workers.\n",
      "[Parallel(n_jobs=-1)]: Done  33 tasks      | elapsed:   18.8s\n",
      "[Parallel(n_jobs=-1)]: Done  63 out of  63 | elapsed:   34.7s finished\n",
      "\n",
      "[2018-10-02 18:13:43] Features: 62/35 -- score: -233.5681768829245[Parallel(n_jobs=-1)]: Using backend LokyBackend with 4 concurrent workers.\n",
      "[Parallel(n_jobs=-1)]: Done  33 tasks      | elapsed:   17.0s\n",
      "[Parallel(n_jobs=-1)]: Done  62 out of  62 | elapsed:   29.3s finished\n",
      "\n",
      "[2018-10-02 18:14:12] Features: 61/35 -- score: -233.5590505253655[Parallel(n_jobs=-1)]: Using backend LokyBackend with 4 concurrent workers.\n",
      "[Parallel(n_jobs=-1)]: Done  33 tasks      | elapsed:   15.1s\n",
      "[Parallel(n_jobs=-1)]: Done  61 out of  61 | elapsed:   27.1s finished\n",
      "\n",
      "[2018-10-02 18:14:40] Features: 60/35 -- score: -233.55082660594263[Parallel(n_jobs=-1)]: Using backend LokyBackend with 4 concurrent workers.\n",
      "[Parallel(n_jobs=-1)]: Done  33 tasks      | elapsed:   15.5s\n",
      "[Parallel(n_jobs=-1)]: Done  60 out of  60 | elapsed:   27.1s finished\n",
      "\n",
      "[2018-10-02 18:15:07] Features: 59/35 -- score: -233.5420986429363[Parallel(n_jobs=-1)]: Using backend LokyBackend with 4 concurrent workers.\n",
      "[Parallel(n_jobs=-1)]: Done  33 tasks      | elapsed:   14.1s\n",
      "[Parallel(n_jobs=-1)]: Done  59 out of  59 | elapsed:   24.2s finished\n",
      "\n",
      "[2018-10-02 18:15:31] Features: 58/35 -- score: -233.53850371409914[Parallel(n_jobs=-1)]: Using backend LokyBackend with 4 concurrent workers.\n",
      "[Parallel(n_jobs=-1)]: Done  33 tasks      | elapsed:   15.7s\n",
      "[Parallel(n_jobs=-1)]: Done  58 out of  58 | elapsed:   27.4s finished\n",
      "\n",
      "[2018-10-02 18:15:58] Features: 57/35 -- score: -233.5302982296596[Parallel(n_jobs=-1)]: Using backend LokyBackend with 4 concurrent workers.\n",
      "[Parallel(n_jobs=-1)]: Done  33 tasks      | elapsed:   17.4s\n",
      "[Parallel(n_jobs=-1)]: Done  57 out of  57 | elapsed:   27.2s finished\n",
      "\n",
      "[2018-10-02 18:16:25] Features: 56/35 -- score: -233.5282290506294[Parallel(n_jobs=-1)]: Using backend LokyBackend with 4 concurrent workers.\n",
      "[Parallel(n_jobs=-1)]: Done  33 tasks      | elapsed:   14.3s\n",
      "[Parallel(n_jobs=-1)]: Done  56 out of  56 | elapsed:   23.6s finished\n",
      "\n",
      "[2018-10-02 18:16:49] Features: 55/35 -- score: -233.50758378668738[Parallel(n_jobs=-1)]: Using backend LokyBackend with 4 concurrent workers.\n",
      "[Parallel(n_jobs=-1)]: Done  33 tasks      | elapsed:   14.5s\n",
      "[Parallel(n_jobs=-1)]: Done  55 out of  55 | elapsed:   23.3s finished\n",
      "\n",
      "[2018-10-02 18:17:12] Features: 54/35 -- score: -233.50230684687753[Parallel(n_jobs=-1)]: Using backend LokyBackend with 4 concurrent workers.\n",
      "[Parallel(n_jobs=-1)]: Done  33 tasks      | elapsed:   14.6s\n",
      "[Parallel(n_jobs=-1)]: Done  54 out of  54 | elapsed:   23.4s finished\n",
      "\n",
      "[2018-10-02 18:17:36] Features: 53/35 -- score: -233.48372628783304[Parallel(n_jobs=-1)]: Using backend LokyBackend with 4 concurrent workers.\n",
      "[Parallel(n_jobs=-1)]: Done  33 tasks      | elapsed:   15.1s\n",
      "[Parallel(n_jobs=-1)]: Done  53 out of  53 | elapsed:   22.7s finished\n",
      "\n",
      "[2018-10-02 18:17:59] Features: 52/35 -- score: -233.47796549745095[Parallel(n_jobs=-1)]: Using backend LokyBackend with 4 concurrent workers.\n",
      "[Parallel(n_jobs=-1)]: Done  33 tasks      | elapsed:   13.7s\n",
      "[Parallel(n_jobs=-1)]: Done  52 out of  52 | elapsed:   20.6s finished\n",
      "\n",
      "[2018-10-02 18:18:19] Features: 51/35 -- score: -233.4770438874122[Parallel(n_jobs=-1)]: Using backend LokyBackend with 4 concurrent workers.\n",
      "[Parallel(n_jobs=-1)]: Done  33 tasks      | elapsed:   13.5s\n",
      "[Parallel(n_jobs=-1)]: Done  51 out of  51 | elapsed:   19.7s finished\n",
      "\n",
      "[2018-10-02 18:18:39] Features: 50/35 -- score: -233.47699518080236[Parallel(n_jobs=-1)]: Using backend LokyBackend with 4 concurrent workers.\n",
      "[Parallel(n_jobs=-1)]: Done  33 tasks      | elapsed:   14.8s\n",
      "[Parallel(n_jobs=-1)]: Done  50 out of  50 | elapsed:   21.8s finished\n",
      "\n",
      "[2018-10-02 18:19:01] Features: 49/35 -- score: -233.47694848197517[Parallel(n_jobs=-1)]: Using backend LokyBackend with 4 concurrent workers.\n",
      "[Parallel(n_jobs=-1)]: Done  33 tasks      | elapsed:   14.5s\n",
      "[Parallel(n_jobs=-1)]: Done  49 out of  49 | elapsed:   20.8s finished\n",
      "\n",
      "[2018-10-02 18:19:22] Features: 48/35 -- score: -233.47697925487032[Parallel(n_jobs=-1)]: Using backend LokyBackend with 4 concurrent workers.\n",
      "[Parallel(n_jobs=-1)]: Done  33 tasks      | elapsed:   13.4s\n",
      "[Parallel(n_jobs=-1)]: Done  48 out of  48 | elapsed:   20.0s finished\n",
      "\n",
      "[2018-10-02 18:19:42] Features: 47/35 -- score: -233.47710729652613[Parallel(n_jobs=-1)]: Using backend LokyBackend with 4 concurrent workers.\n",
      "[Parallel(n_jobs=-1)]: Done  33 tasks      | elapsed:   13.6s\n",
      "[Parallel(n_jobs=-1)]: Done  47 out of  47 | elapsed:   18.6s finished\n",
      "\n",
      "[2018-10-02 18:20:00] Features: 46/35 -- score: -233.47727048802307[Parallel(n_jobs=-1)]: Using backend LokyBackend with 4 concurrent workers.\n",
      "[Parallel(n_jobs=-1)]: Done  33 tasks      | elapsed:   14.2s\n",
      "[Parallel(n_jobs=-1)]: Done  46 out of  46 | elapsed:   18.6s finished\n",
      "\n",
      "[2018-10-02 18:20:19] Features: 45/35 -- score: -233.48966938998834[Parallel(n_jobs=-1)]: Using backend LokyBackend with 4 concurrent workers.\n",
      "[Parallel(n_jobs=-1)]: Done  33 tasks      | elapsed:   12.3s\n",
      "[Parallel(n_jobs=-1)]: Done  45 out of  45 | elapsed:   16.8s finished\n",
      "\n",
      "[2018-10-02 18:20:35] Features: 44/35 -- score: -233.51905539901745[Parallel(n_jobs=-1)]: Using backend LokyBackend with 4 concurrent workers.\n",
      "[Parallel(n_jobs=-1)]: Done  33 tasks      | elapsed:   12.7s\n",
      "[Parallel(n_jobs=-1)]: Done  44 out of  44 | elapsed:   16.8s finished\n",
      "\n",
      "[2018-10-02 18:20:52] Features: 43/35 -- score: -233.54029614637534[Parallel(n_jobs=-1)]: Using backend LokyBackend with 4 concurrent workers.\n",
      "[Parallel(n_jobs=-1)]: Done  33 tasks      | elapsed:   13.1s\n",
      "[Parallel(n_jobs=-1)]: Done  43 out of  43 | elapsed:   16.5s finished\n",
      "\n",
      "[2018-10-02 18:21:09] Features: 42/35 -- score: -233.56683071255148[Parallel(n_jobs=-1)]: Using backend LokyBackend with 4 concurrent workers.\n",
      "[Parallel(n_jobs=-1)]: Done  33 tasks      | elapsed:   11.9s\n",
      "[Parallel(n_jobs=-1)]: Done  42 out of  42 | elapsed:   14.4s finished\n",
      "\n",
      "[2018-10-02 18:21:23] Features: 41/35 -- score: -233.6091995386709[Parallel(n_jobs=-1)]: Using backend LokyBackend with 4 concurrent workers.\n",
      "[Parallel(n_jobs=-1)]: Done  33 tasks      | elapsed:   11.2s\n",
      "[Parallel(n_jobs=-1)]: Done  41 out of  41 | elapsed:   13.5s finished\n",
      "\n",
      "[2018-10-02 18:21:37] Features: 40/35 -- score: -233.6528813826996[Parallel(n_jobs=-1)]: Using backend LokyBackend with 4 concurrent workers.\n",
      "[Parallel(n_jobs=-1)]: Done  33 tasks      | elapsed:   11.2s\n",
      "[Parallel(n_jobs=-1)]: Done  40 out of  40 | elapsed:   13.1s finished\n",
      "\n",
      "[2018-10-02 18:21:50] Features: 39/35 -- score: -233.68719428911763[Parallel(n_jobs=-1)]: Using backend LokyBackend with 4 concurrent workers.\n",
      "[Parallel(n_jobs=-1)]: Done  39 out of  39 | elapsed:   12.7s finished\n",
      "\n",
      "[2018-10-02 18:22:03] Features: 38/35 -- score: -233.73893006347348[Parallel(n_jobs=-1)]: Using backend LokyBackend with 4 concurrent workers.\n",
      "[Parallel(n_jobs=-1)]: Done  38 out of  38 | elapsed:   11.5s finished\n",
      "\n",
      "[2018-10-02 18:22:14] Features: 37/35 -- score: -233.79033468848056[Parallel(n_jobs=-1)]: Using backend LokyBackend with 4 concurrent workers.\n",
      "[Parallel(n_jobs=-1)]: Done  37 out of  37 | elapsed:   11.0s finished\n",
      "\n",
      "[2018-10-02 18:22:25] Features: 36/35 -- score: -233.75590822600708[Parallel(n_jobs=-1)]: Using backend LokyBackend with 4 concurrent workers.\n",
      "[Parallel(n_jobs=-1)]: Done  36 out of  36 | elapsed:   10.4s finished\n",
      "\n",
      "[2018-10-02 18:22:36] Features: 35/35 -- score: -233.87590886886738"
     ]
    },
    {
     "data": {
      "text/plain": [
       "SequentialFeatureSelector(clone_estimator=True, cv=5,\n",
       "             estimator=Lasso(alpha=1.0, copy_X=True, fit_intercept=True, max_iter=1000,\n",
       "   normalize=False, positive=False, precompute=False, random_state=None,\n",
       "   selection='cyclic', tol=0.0001, warm_start=False),\n",
       "             floating=False, forward=False, k_features=35, n_jobs=-1,\n",
       "             pre_dispatch='2*n_jobs', scoring='neg_mean_absolute_error',\n",
       "             verbose=2)"
      ]
     },
     "execution_count": 120,
     "metadata": {},
     "output_type": "execute_result"
    }
   ],
   "source": [
    "selector = SequentialFeatureSelector(Lasso(), scoring='neg_mean_absolute_error', \n",
    "                                     verbose=2, k_features=35, forward=False, n_jobs=-1)\n",
    "selector.fit(X_norm, target_viol)"
   ]
  },
  {
   "cell_type": "code",
   "execution_count": 123,
   "metadata": {},
   "outputs": [],
   "source": [
    "selected = selector.k_feature_idx_"
   ]
  },
  {
   "cell_type": "code",
   "execution_count": 126,
   "metadata": {},
   "outputs": [
    {
     "name": "stdout",
     "output_type": "stream",
     "text": [
      "population\n",
      "racepctblack\n",
      "agePct12t29\n",
      "agePct16t24\n",
      "pctUrban\n",
      "pctWWage\n",
      "pctWInvInc\n",
      "pctWRetire\n",
      "PctEmploy\n",
      "PctOccupManu\n",
      "MalePctDivorce\n",
      "MalePctNevMarr\n",
      "TotalPctDiv\n",
      "PctKids2Par\n",
      "PctWorkMom\n",
      "NumKidsBornNeverMar\n",
      "PctKidsBornNeverMar\n",
      "PctRecImmig5\n",
      "PctNotSpeakEnglWell\n",
      "PctLargHouseOccup\n",
      "PersPerOccupHous\n",
      "PersPerOwnOccHous\n",
      "PctPersDenseHous\n",
      "PctHousLess3BR\n",
      "PctHousOccup\n",
      "OwnOccHiQuart\n",
      "RentLowQ\n",
      "MedOwnCostPctIncNoMtg\n",
      "NumInShelters\n",
      "PctForeignBorn\n",
      "LemasSwFTFieldOps\n",
      "PolicReqPerOffic\n",
      "OfficAssgnDrugUnits\n",
      "PolicCars\n",
      "LemasPctOfficDrugUn\n"
     ]
    }
   ],
   "source": [
    "for x, y in enumerate(X.columns):\n",
    "    if x in selected:\n",
    "        print (y)"
   ]
  },
  {
   "cell_type": "code",
   "execution_count": 114,
   "metadata": {},
   "outputs": [],
   "source": [
    "violent_features = ['population', 'racepctblack', 'agePct12t29', 'agePct16t24', 'pctUrban', 'pctWWage', 'pctWInvInc', 'pctWRetire', 'PctEmploy', 'PctOccupManu', 'MalePctDivorce', 'MalePctNevMarr', 'TotalPctDiv', 'PctKids2Par', 'PctWorkMom', 'NumKidsBornNeverMar', 'PctKidsBornNeverMar', 'PctRecImmig5', 'PctNotSpeakEnglWell', 'PctLargHouseOccup', 'PersPerOccupHous', 'PersPerOwnOccHous', 'PctPersDenseHous', 'PctHousLess3BR', 'PctHousOccup', 'OwnOccHiQuart', 'RentLowQ', 'MedOwnCostPctIncNoMtg', 'NumInShelters', 'PctForeignBorn', 'LemasSwFTFieldOps', 'PolicReqPerOffic', 'OfficAssgnDrugUnits', 'PolicCars', 'LemasPctOfficDrugUn']"
   ]
  },
  {
   "cell_type": "code",
   "execution_count": 115,
   "metadata": {},
   "outputs": [
    {
     "data": {
      "text/plain": [
       "35"
      ]
     },
     "execution_count": 115,
     "metadata": {},
     "output_type": "execute_result"
    }
   ],
   "source": [
    "len(violent_features)"
   ]
  },
  {
   "cell_type": "markdown",
   "metadata": {},
   "source": [
    "### 4.b.  Nonviolent crimes"
   ]
  },
  {
   "cell_type": "code",
   "execution_count": 127,
   "metadata": {},
   "outputs": [
    {
     "name": "stderr",
     "output_type": "stream",
     "text": [
      "[Parallel(n_jobs=-1)]: Using backend LokyBackend with 4 concurrent workers.\n",
      "[Parallel(n_jobs=-1)]: Done  33 tasks      | elapsed:  1.0min\n",
      "[Parallel(n_jobs=-1)]: Done 124 out of 124 | elapsed:  3.3min finished\n",
      "\n",
      "[2018-10-02 18:46:15] Features: 123/35 -- score: -1318.1625417288742[Parallel(n_jobs=-1)]: Using backend LokyBackend with 4 concurrent workers.\n",
      "[Parallel(n_jobs=-1)]: Done  33 tasks      | elapsed:   52.0s\n",
      "[Parallel(n_jobs=-1)]: Done 123 out of 123 | elapsed:  3.0min finished\n",
      "\n",
      "[2018-10-02 18:49:14] Features: 122/35 -- score: -1315.2602535751898[Parallel(n_jobs=-1)]: Using backend LokyBackend with 4 concurrent workers.\n",
      "[Parallel(n_jobs=-1)]: Done  33 tasks      | elapsed:   51.2s\n",
      "[Parallel(n_jobs=-1)]: Done 122 out of 122 | elapsed:  3.0min finished\n",
      "\n",
      "[2018-10-02 18:52:15] Features: 121/35 -- score: -1312.5061115389615[Parallel(n_jobs=-1)]: Using backend LokyBackend with 4 concurrent workers.\n",
      "[Parallel(n_jobs=-1)]: Done  33 tasks      | elapsed:   50.5s\n",
      "[Parallel(n_jobs=-1)]: Done 121 out of 121 | elapsed:  2.9min finished\n",
      "\n",
      "[2018-10-02 18:55:08] Features: 120/35 -- score: -1309.4078849900902[Parallel(n_jobs=-1)]: Using backend LokyBackend with 4 concurrent workers.\n",
      "[Parallel(n_jobs=-1)]: Done  33 tasks      | elapsed:   49.5s\n",
      "[Parallel(n_jobs=-1)]: Done 120 out of 120 | elapsed:  2.8min finished\n",
      "\n",
      "[2018-10-02 18:57:56] Features: 119/35 -- score: -1306.8222970605134[Parallel(n_jobs=-1)]: Using backend LokyBackend with 4 concurrent workers.\n",
      "[Parallel(n_jobs=-1)]: Done  33 tasks      | elapsed:   48.7s\n",
      "[Parallel(n_jobs=-1)]: Done 119 out of 119 | elapsed:  2.8min finished\n",
      "\n",
      "[2018-10-02 19:00:42] Features: 118/35 -- score: -1304.3921526110148[Parallel(n_jobs=-1)]: Using backend LokyBackend with 4 concurrent workers.\n",
      "[Parallel(n_jobs=-1)]: Done  33 tasks      | elapsed:   47.4s\n",
      "[Parallel(n_jobs=-1)]: Done 118 out of 118 | elapsed:  2.7min finished\n",
      "\n",
      "[2018-10-02 19:03:24] Features: 117/35 -- score: -1301.7974296005082[Parallel(n_jobs=-1)]: Using backend LokyBackend with 4 concurrent workers.\n",
      "[Parallel(n_jobs=-1)]: Done  33 tasks      | elapsed:   47.8s\n",
      "[Parallel(n_jobs=-1)]: Done 117 out of 117 | elapsed:  2.7min finished\n",
      "\n",
      "[2018-10-02 19:06:05] Features: 116/35 -- score: -1299.7079112478455[Parallel(n_jobs=-1)]: Using backend LokyBackend with 4 concurrent workers.\n",
      "[Parallel(n_jobs=-1)]: Done  33 tasks      | elapsed:   47.6s\n",
      "[Parallel(n_jobs=-1)]: Done 116 out of 116 | elapsed:  2.6min finished\n",
      "\n",
      "[2018-10-02 19:08:43] Features: 115/35 -- score: -1297.8602744403859[Parallel(n_jobs=-1)]: Using backend LokyBackend with 4 concurrent workers.\n",
      "[Parallel(n_jobs=-1)]: Done  33 tasks      | elapsed:   47.9s\n",
      "[Parallel(n_jobs=-1)]: Done 115 out of 115 | elapsed:  2.6min finished\n",
      "\n",
      "[2018-10-02 19:11:18] Features: 114/35 -- score: -1296.1514566359313[Parallel(n_jobs=-1)]: Using backend LokyBackend with 4 concurrent workers.\n",
      "[Parallel(n_jobs=-1)]: Done  33 tasks      | elapsed:   47.7s\n",
      "[Parallel(n_jobs=-1)]: Done 114 out of 114 | elapsed:  2.6min finished\n",
      "\n",
      "[2018-10-02 19:13:51] Features: 113/35 -- score: -1294.5209492233178[Parallel(n_jobs=-1)]: Using backend LokyBackend with 4 concurrent workers.\n",
      "[Parallel(n_jobs=-1)]: Done  33 tasks      | elapsed:   47.7s\n",
      "[Parallel(n_jobs=-1)]: Done 113 out of 113 | elapsed:  2.5min finished\n",
      "\n",
      "[2018-10-02 19:16:23] Features: 112/35 -- score: -1292.923861879445[Parallel(n_jobs=-1)]: Using backend LokyBackend with 4 concurrent workers.\n",
      "[Parallel(n_jobs=-1)]: Done  33 tasks      | elapsed:   46.7s\n",
      "[Parallel(n_jobs=-1)]: Done 112 out of 112 | elapsed:  2.5min finished\n",
      "\n",
      "[2018-10-02 19:18:50] Features: 111/35 -- score: -1291.3666286089106[Parallel(n_jobs=-1)]: Using backend LokyBackend with 4 concurrent workers.\n",
      "[Parallel(n_jobs=-1)]: Done  33 tasks      | elapsed:   46.3s\n",
      "[Parallel(n_jobs=-1)]: Done 111 out of 111 | elapsed:  2.4min finished\n",
      "\n",
      "[2018-10-02 19:21:16] Features: 110/35 -- score: -1289.8469725680366[Parallel(n_jobs=-1)]: Using backend LokyBackend with 4 concurrent workers.\n",
      "[Parallel(n_jobs=-1)]: Done  33 tasks      | elapsed:   46.2s\n",
      "[Parallel(n_jobs=-1)]: Done 110 out of 110 | elapsed:  2.4min finished\n",
      "\n",
      "[2018-10-02 19:23:39] Features: 109/35 -- score: -1288.1714575699662[Parallel(n_jobs=-1)]: Using backend LokyBackend with 4 concurrent workers.\n",
      "[Parallel(n_jobs=-1)]: Done  33 tasks      | elapsed:   45.8s\n",
      "[Parallel(n_jobs=-1)]: Done 109 out of 109 | elapsed:  2.4min finished\n",
      "\n",
      "[2018-10-02 19:26:00] Features: 108/35 -- score: -1286.7126617446575[Parallel(n_jobs=-1)]: Using backend LokyBackend with 4 concurrent workers.\n",
      "[Parallel(n_jobs=-1)]: Done  33 tasks      | elapsed:   44.9s\n",
      "[Parallel(n_jobs=-1)]: Done 108 out of 108 | elapsed:  2.3min finished\n",
      "\n",
      "[2018-10-02 19:28:18] Features: 107/35 -- score: -1285.3404312513812[Parallel(n_jobs=-1)]: Using backend LokyBackend with 4 concurrent workers.\n",
      "[Parallel(n_jobs=-1)]: Done  33 tasks      | elapsed:   44.3s\n",
      "[Parallel(n_jobs=-1)]: Done 107 out of 107 | elapsed:  2.3min finished\n",
      "\n",
      "[2018-10-02 19:30:34] Features: 106/35 -- score: -1282.5859695441065[Parallel(n_jobs=-1)]: Using backend LokyBackend with 4 concurrent workers.\n",
      "[Parallel(n_jobs=-1)]: Done  33 tasks      | elapsed:   44.7s\n",
      "[Parallel(n_jobs=-1)]: Done 106 out of 106 | elapsed:  2.2min finished\n",
      "\n",
      "[2018-10-02 19:32:48] Features: 105/35 -- score: -1281.2297468721745[Parallel(n_jobs=-1)]: Using backend LokyBackend with 4 concurrent workers.\n",
      "[Parallel(n_jobs=-1)]: Done  33 tasks      | elapsed:   43.5s\n",
      "[Parallel(n_jobs=-1)]: Done 105 out of 105 | elapsed:  2.2min finished\n",
      "\n",
      "[2018-10-02 19:35:00] Features: 104/35 -- score: -1279.9836107870779[Parallel(n_jobs=-1)]: Using backend LokyBackend with 4 concurrent workers.\n",
      "[Parallel(n_jobs=-1)]: Done  33 tasks      | elapsed:   44.0s\n",
      "[Parallel(n_jobs=-1)]: Done 104 out of 104 | elapsed:  2.1min finished\n",
      "\n",
      "[2018-10-02 19:37:09] Features: 103/35 -- score: -1278.8296021591898[Parallel(n_jobs=-1)]: Using backend LokyBackend with 4 concurrent workers.\n",
      "[Parallel(n_jobs=-1)]: Done  33 tasks      | elapsed:   44.2s\n",
      "[Parallel(n_jobs=-1)]: Done 103 out of 103 | elapsed:  2.1min finished\n",
      "\n",
      "[2018-10-02 19:39:16] Features: 102/35 -- score: -1277.6733366757442[Parallel(n_jobs=-1)]: Using backend LokyBackend with 4 concurrent workers.\n",
      "[Parallel(n_jobs=-1)]: Done  33 tasks      | elapsed:   43.5s\n",
      "[Parallel(n_jobs=-1)]: Done 102 out of 102 | elapsed:  2.1min finished\n",
      "\n",
      "[2018-10-02 19:41:22] Features: 101/35 -- score: -1276.3487333188198[Parallel(n_jobs=-1)]: Using backend LokyBackend with 4 concurrent workers.\n",
      "[Parallel(n_jobs=-1)]: Done  33 tasks      | elapsed:   42.9s\n",
      "[Parallel(n_jobs=-1)]: Done 101 out of 101 | elapsed:  2.1min finished\n",
      "\n",
      "[2018-10-02 19:43:25] Features: 100/35 -- score: -1275.1931319468547[Parallel(n_jobs=-1)]: Using backend LokyBackend with 4 concurrent workers.\n",
      "[Parallel(n_jobs=-1)]: Done  33 tasks      | elapsed:   42.6s\n",
      "[Parallel(n_jobs=-1)]: Done 100 out of 100 | elapsed:  2.0min finished\n",
      "\n",
      "[2018-10-02 19:45:26] Features: 99/35 -- score: -1274.2573043164043[Parallel(n_jobs=-1)]: Using backend LokyBackend with 4 concurrent workers.\n",
      "[Parallel(n_jobs=-1)]: Done  33 tasks      | elapsed:   41.6s\n",
      "[Parallel(n_jobs=-1)]: Done  99 out of  99 | elapsed:  2.0min finished\n",
      "\n",
      "[2018-10-02 19:47:23] Features: 98/35 -- score: -1273.2924137724792[Parallel(n_jobs=-1)]: Using backend LokyBackend with 4 concurrent workers.\n",
      "[Parallel(n_jobs=-1)]: Done  33 tasks      | elapsed:   41.4s\n",
      "[Parallel(n_jobs=-1)]: Done  98 out of  98 | elapsed:  2.0min finished\n",
      "\n",
      "[2018-10-02 19:49:20] Features: 97/35 -- score: -1271.468436909207[Parallel(n_jobs=-1)]: Using backend LokyBackend with 4 concurrent workers.\n",
      "[Parallel(n_jobs=-1)]: Done  33 tasks      | elapsed:   42.1s\n",
      "[Parallel(n_jobs=-1)]: Done  97 out of  97 | elapsed:  1.9min finished\n",
      "\n",
      "[2018-10-02 19:51:16] Features: 96/35 -- score: -1270.179726544401[Parallel(n_jobs=-1)]: Using backend LokyBackend with 4 concurrent workers.\n",
      "[Parallel(n_jobs=-1)]: Done  33 tasks      | elapsed:   41.5s\n",
      "[Parallel(n_jobs=-1)]: Done  96 out of  96 | elapsed:  1.9min finished\n",
      "\n",
      "[2018-10-02 19:53:09] Features: 95/35 -- score: -1269.4305699525482[Parallel(n_jobs=-1)]: Using backend LokyBackend with 4 concurrent workers.\n",
      "[Parallel(n_jobs=-1)]: Done  33 tasks      | elapsed:   41.2s\n",
      "[Parallel(n_jobs=-1)]: Done  95 out of  95 | elapsed:  1.9min finished\n",
      "\n",
      "[2018-10-02 19:55:01] Features: 94/35 -- score: -1268.379527774476[Parallel(n_jobs=-1)]: Using backend LokyBackend with 4 concurrent workers.\n"
     ]
    },
    {
     "name": "stderr",
     "output_type": "stream",
     "text": [
      "[Parallel(n_jobs=-1)]: Done  33 tasks      | elapsed:   40.5s\n",
      "[Parallel(n_jobs=-1)]: Done  94 out of  94 | elapsed:  1.8min finished\n",
      "\n",
      "[2018-10-02 19:56:49] Features: 93/35 -- score: -1266.1313281036353[Parallel(n_jobs=-1)]: Using backend LokyBackend with 4 concurrent workers.\n",
      "[Parallel(n_jobs=-1)]: Done  33 tasks      | elapsed:   40.6s\n",
      "[Parallel(n_jobs=-1)]: Done  93 out of  93 | elapsed:  1.8min finished\n",
      "\n",
      "[2018-10-02 19:58:37] Features: 92/35 -- score: -1265.248888786328[Parallel(n_jobs=-1)]: Using backend LokyBackend with 4 concurrent workers.\n",
      "[Parallel(n_jobs=-1)]: Done  33 tasks      | elapsed:   40.4s\n",
      "[Parallel(n_jobs=-1)]: Done  92 out of  92 | elapsed:  1.8min finished\n",
      "\n",
      "[2018-10-02 20:00:22] Features: 91/35 -- score: -1264.4264461145629[Parallel(n_jobs=-1)]: Using backend LokyBackend with 4 concurrent workers.\n",
      "[Parallel(n_jobs=-1)]: Done  33 tasks      | elapsed:   39.3s\n",
      "[Parallel(n_jobs=-1)]: Done  91 out of  91 | elapsed:  1.7min finished\n",
      "\n",
      "[2018-10-02 20:02:04] Features: 90/35 -- score: -1263.7873441866295[Parallel(n_jobs=-1)]: Using backend LokyBackend with 4 concurrent workers.\n",
      "[Parallel(n_jobs=-1)]: Done  33 tasks      | elapsed:   38.8s\n",
      "[Parallel(n_jobs=-1)]: Done  90 out of  90 | elapsed:  1.7min finished\n",
      "\n",
      "[2018-10-02 20:03:44] Features: 89/35 -- score: -1263.1177378398052[Parallel(n_jobs=-1)]: Using backend LokyBackend with 4 concurrent workers.\n",
      "[Parallel(n_jobs=-1)]: Done  33 tasks      | elapsed:   39.4s\n",
      "[Parallel(n_jobs=-1)]: Done  89 out of  89 | elapsed:  1.6min finished\n",
      "\n",
      "[2018-10-02 20:05:22] Features: 88/35 -- score: -1262.550916861499[Parallel(n_jobs=-1)]: Using backend LokyBackend with 4 concurrent workers.\n",
      "[Parallel(n_jobs=-1)]: Done  33 tasks      | elapsed:   38.7s\n",
      "[Parallel(n_jobs=-1)]: Done  88 out of  88 | elapsed:  1.6min finished\n",
      "\n",
      "[2018-10-02 20:06:58] Features: 87/35 -- score: -1262.0775505657257[Parallel(n_jobs=-1)]: Using backend LokyBackend with 4 concurrent workers.\n",
      "[Parallel(n_jobs=-1)]: Done  33 tasks      | elapsed:   37.8s\n",
      "[Parallel(n_jobs=-1)]: Done  87 out of  87 | elapsed:  1.6min finished\n",
      "\n",
      "[2018-10-02 20:08:32] Features: 86/35 -- score: -1261.3943035738628[Parallel(n_jobs=-1)]: Using backend LokyBackend with 4 concurrent workers.\n",
      "[Parallel(n_jobs=-1)]: Done  33 tasks      | elapsed:   37.9s\n",
      "[Parallel(n_jobs=-1)]: Done  86 out of  86 | elapsed:  1.5min finished\n",
      "\n",
      "[2018-10-02 20:10:04] Features: 85/35 -- score: -1260.887498271905[Parallel(n_jobs=-1)]: Using backend LokyBackend with 4 concurrent workers.\n",
      "[Parallel(n_jobs=-1)]: Done  33 tasks      | elapsed:   37.3s\n",
      "[Parallel(n_jobs=-1)]: Done  85 out of  85 | elapsed:  1.5min finished\n",
      "\n",
      "[2018-10-02 20:11:36] Features: 84/35 -- score: -1260.2749422399463[Parallel(n_jobs=-1)]: Using backend LokyBackend with 4 concurrent workers.\n",
      "[Parallel(n_jobs=-1)]: Done  33 tasks      | elapsed:   37.3s\n",
      "[Parallel(n_jobs=-1)]: Done  84 out of  84 | elapsed:  1.5min finished\n",
      "\n",
      "[2018-10-02 20:13:05] Features: 83/35 -- score: -1259.290683472703[Parallel(n_jobs=-1)]: Using backend LokyBackend with 4 concurrent workers.\n",
      "[Parallel(n_jobs=-1)]: Done  33 tasks      | elapsed:   36.9s\n",
      "[Parallel(n_jobs=-1)]: Done  83 out of  83 | elapsed:  1.4min finished\n",
      "\n",
      "[2018-10-02 20:14:31] Features: 82/35 -- score: -1258.5555899800895[Parallel(n_jobs=-1)]: Using backend LokyBackend with 4 concurrent workers.\n",
      "[Parallel(n_jobs=-1)]: Done  33 tasks      | elapsed:   35.7s\n",
      "[Parallel(n_jobs=-1)]: Done  82 out of  82 | elapsed:  1.4min finished\n",
      "\n",
      "[2018-10-02 20:15:56] Features: 81/35 -- score: -1256.2439779559907[Parallel(n_jobs=-1)]: Using backend LokyBackend with 4 concurrent workers.\n",
      "[Parallel(n_jobs=-1)]: Done  33 tasks      | elapsed:   35.7s\n",
      "[Parallel(n_jobs=-1)]: Done  81 out of  81 | elapsed:  1.4min finished\n",
      "\n",
      "[2018-10-02 20:17:19] Features: 80/35 -- score: -1254.9969611803335[Parallel(n_jobs=-1)]: Using backend LokyBackend with 4 concurrent workers.\n",
      "[Parallel(n_jobs=-1)]: Done  33 tasks      | elapsed:   35.8s\n",
      "[Parallel(n_jobs=-1)]: Done  80 out of  80 | elapsed:  1.3min finished\n",
      "\n",
      "[2018-10-02 20:18:39] Features: 79/35 -- score: -1254.5636280512351[Parallel(n_jobs=-1)]: Using backend LokyBackend with 4 concurrent workers.\n",
      "[Parallel(n_jobs=-1)]: Done  33 tasks      | elapsed:   37.0s\n",
      "[Parallel(n_jobs=-1)]: Done  79 out of  79 | elapsed:  1.4min finished\n",
      "\n",
      "[2018-10-02 20:20:02] Features: 78/35 -- score: -1252.8316240243378[Parallel(n_jobs=-1)]: Using backend LokyBackend with 4 concurrent workers.\n",
      "[Parallel(n_jobs=-1)]: Done  33 tasks      | elapsed:   35.0s\n",
      "[Parallel(n_jobs=-1)]: Done  78 out of  78 | elapsed:  1.3min finished\n",
      "\n",
      "[2018-10-02 20:21:20] Features: 77/35 -- score: -1251.3953171312412[Parallel(n_jobs=-1)]: Using backend LokyBackend with 4 concurrent workers.\n",
      "[Parallel(n_jobs=-1)]: Done  33 tasks      | elapsed:   35.2s\n",
      "[Parallel(n_jobs=-1)]: Done  77 out of  77 | elapsed:  1.3min finished\n",
      "\n",
      "[2018-10-02 20:22:37] Features: 76/35 -- score: -1250.538662706309[Parallel(n_jobs=-1)]: Using backend LokyBackend with 4 concurrent workers.\n",
      "[Parallel(n_jobs=-1)]: Done  33 tasks      | elapsed:   34.6s\n",
      "[Parallel(n_jobs=-1)]: Done  76 out of  76 | elapsed:  1.2min finished\n",
      "\n",
      "[2018-10-02 20:23:51] Features: 75/35 -- score: -1249.7770692638746[Parallel(n_jobs=-1)]: Using backend LokyBackend with 4 concurrent workers.\n",
      "[Parallel(n_jobs=-1)]: Done  33 tasks      | elapsed:   33.8s\n",
      "[Parallel(n_jobs=-1)]: Done  75 out of  75 | elapsed:  1.2min finished\n",
      "\n",
      "[2018-10-02 20:25:03] Features: 74/35 -- score: -1249.4517434845586[Parallel(n_jobs=-1)]: Using backend LokyBackend with 4 concurrent workers.\n",
      "[Parallel(n_jobs=-1)]: Done  33 tasks      | elapsed:   33.5s\n",
      "[Parallel(n_jobs=-1)]: Done  74 out of  74 | elapsed:  1.2min finished\n",
      "\n",
      "[2018-10-02 20:26:14] Features: 73/35 -- score: -1249.1202182334084[Parallel(n_jobs=-1)]: Using backend LokyBackend with 4 concurrent workers.\n",
      "[Parallel(n_jobs=-1)]: Done  33 tasks      | elapsed:   32.9s\n",
      "[Parallel(n_jobs=-1)]: Done  73 out of  73 | elapsed:  1.2min finished\n",
      "\n",
      "[2018-10-02 20:27:24] Features: 72/35 -- score: -1248.8287882382133[Parallel(n_jobs=-1)]: Using backend LokyBackend with 4 concurrent workers.\n",
      "[Parallel(n_jobs=-1)]: Done  33 tasks      | elapsed:   33.2s\n",
      "[Parallel(n_jobs=-1)]: Done  72 out of  72 | elapsed:  1.1min finished\n",
      "\n",
      "[2018-10-02 20:28:32] Features: 71/35 -- score: -1248.4664961219794[Parallel(n_jobs=-1)]: Using backend LokyBackend with 4 concurrent workers.\n",
      "[Parallel(n_jobs=-1)]: Done  33 tasks      | elapsed:   32.7s\n",
      "[Parallel(n_jobs=-1)]: Done  71 out of  71 | elapsed:  1.1min finished\n",
      "\n",
      "[2018-10-02 20:29:39] Features: 70/35 -- score: -1248.1102775039658[Parallel(n_jobs=-1)]: Using backend LokyBackend with 4 concurrent workers.\n",
      "[Parallel(n_jobs=-1)]: Done  33 tasks      | elapsed:   32.2s\n",
      "[Parallel(n_jobs=-1)]: Done  70 out of  70 | elapsed:  1.1min finished\n",
      "\n",
      "[2018-10-02 20:30:43] Features: 69/35 -- score: -1247.6922656684096[Parallel(n_jobs=-1)]: Using backend LokyBackend with 4 concurrent workers.\n",
      "[Parallel(n_jobs=-1)]: Done  33 tasks      | elapsed:   31.7s\n",
      "[Parallel(n_jobs=-1)]: Done  69 out of  69 | elapsed:  1.1min finished\n",
      "\n",
      "[2018-10-02 20:31:46] Features: 68/35 -- score: -1247.1339598449226[Parallel(n_jobs=-1)]: Using backend LokyBackend with 4 concurrent workers.\n",
      "[Parallel(n_jobs=-1)]: Done  33 tasks      | elapsed:   31.6s\n",
      "[Parallel(n_jobs=-1)]: Done  68 out of  68 | elapsed:  1.0min finished\n",
      "\n",
      "[2018-10-02 20:32:48] Features: 67/35 -- score: -1246.9123202714054[Parallel(n_jobs=-1)]: Using backend LokyBackend with 4 concurrent workers.\n",
      "[Parallel(n_jobs=-1)]: Done  33 tasks      | elapsed:   31.3s\n",
      "[Parallel(n_jobs=-1)]: Done  67 out of  67 | elapsed:  1.0min finished\n",
      "\n",
      "[2018-10-02 20:33:48] Features: 66/35 -- score: -1244.4850863378776[Parallel(n_jobs=-1)]: Using backend LokyBackend with 4 concurrent workers.\n",
      "[Parallel(n_jobs=-1)]: Done  33 tasks      | elapsed:   31.5s\n",
      "[Parallel(n_jobs=-1)]: Done  66 out of  66 | elapsed:   58.2s finished\n",
      "\n",
      "[2018-10-02 20:34:46] Features: 65/35 -- score: -1244.186469067317[Parallel(n_jobs=-1)]: Using backend LokyBackend with 4 concurrent workers.\n",
      "[Parallel(n_jobs=-1)]: Done  33 tasks      | elapsed:   31.1s\n",
      "[Parallel(n_jobs=-1)]: Done  65 out of  65 | elapsed:   57.8s finished\n",
      "\n",
      "[2018-10-02 20:35:44] Features: 64/35 -- score: -1244.0632334357783[Parallel(n_jobs=-1)]: Using backend LokyBackend with 4 concurrent workers.\n"
     ]
    },
    {
     "name": "stderr",
     "output_type": "stream",
     "text": [
      "[Parallel(n_jobs=-1)]: Done  33 tasks      | elapsed:   30.4s\n",
      "[Parallel(n_jobs=-1)]: Done  64 out of  64 | elapsed:   54.9s finished\n",
      "\n",
      "[2018-10-02 20:36:39] Features: 63/35 -- score: -1243.9867819506612[Parallel(n_jobs=-1)]: Using backend LokyBackend with 4 concurrent workers.\n",
      "[Parallel(n_jobs=-1)]: Done  33 tasks      | elapsed:   29.9s\n",
      "[Parallel(n_jobs=-1)]: Done  63 out of  63 | elapsed:   53.5s finished\n",
      "\n",
      "[2018-10-02 20:37:32] Features: 62/35 -- score: -1243.9293779699908[Parallel(n_jobs=-1)]: Using backend LokyBackend with 4 concurrent workers.\n",
      "[Parallel(n_jobs=-1)]: Done  33 tasks      | elapsed:   30.3s\n",
      "[Parallel(n_jobs=-1)]: Done  62 out of  62 | elapsed:   52.9s finished\n",
      "\n",
      "[2018-10-02 20:38:25] Features: 61/35 -- score: -1243.5687755278434[Parallel(n_jobs=-1)]: Using backend LokyBackend with 4 concurrent workers.\n",
      "[Parallel(n_jobs=-1)]: Done  33 tasks      | elapsed:   29.1s\n",
      "[Parallel(n_jobs=-1)]: Done  61 out of  61 | elapsed:   50.9s finished\n",
      "\n",
      "[2018-10-02 20:39:16] Features: 60/35 -- score: -1243.1588434067119[Parallel(n_jobs=-1)]: Using backend LokyBackend with 4 concurrent workers.\n",
      "[Parallel(n_jobs=-1)]: Done  33 tasks      | elapsed:   29.8s\n",
      "[Parallel(n_jobs=-1)]: Done  60 out of  60 | elapsed:   49.7s finished\n",
      "\n",
      "[2018-10-02 20:40:06] Features: 59/35 -- score: -1242.88456814332[Parallel(n_jobs=-1)]: Using backend LokyBackend with 4 concurrent workers.\n",
      "[Parallel(n_jobs=-1)]: Done  33 tasks      | elapsed:   28.8s\n",
      "[Parallel(n_jobs=-1)]: Done  59 out of  59 | elapsed:   47.9s finished\n",
      "\n",
      "[2018-10-02 20:40:54] Features: 58/35 -- score: -1242.784515478184[Parallel(n_jobs=-1)]: Using backend LokyBackend with 4 concurrent workers.\n",
      "[Parallel(n_jobs=-1)]: Done  33 tasks      | elapsed:   28.2s\n",
      "[Parallel(n_jobs=-1)]: Done  58 out of  58 | elapsed:   46.8s finished\n",
      "\n",
      "[2018-10-02 20:41:40] Features: 57/35 -- score: -1242.7502379746063[Parallel(n_jobs=-1)]: Using backend LokyBackend with 4 concurrent workers.\n",
      "[Parallel(n_jobs=-1)]: Done  33 tasks      | elapsed:   28.1s\n",
      "[Parallel(n_jobs=-1)]: Done  57 out of  57 | elapsed:   45.4s finished\n",
      "\n",
      "[2018-10-02 20:42:26] Features: 56/35 -- score: -1242.7502054206084[Parallel(n_jobs=-1)]: Using backend LokyBackend with 4 concurrent workers.\n",
      "[Parallel(n_jobs=-1)]: Done  33 tasks      | elapsed:   28.1s\n",
      "[Parallel(n_jobs=-1)]: Done  56 out of  56 | elapsed:   44.1s finished\n",
      "\n",
      "[2018-10-02 20:43:10] Features: 55/35 -- score: -1242.8934381923614[Parallel(n_jobs=-1)]: Using backend LokyBackend with 4 concurrent workers.\n",
      "[Parallel(n_jobs=-1)]: Done  33 tasks      | elapsed:   27.5s\n",
      "[Parallel(n_jobs=-1)]: Done  55 out of  55 | elapsed:   42.9s finished\n",
      "\n",
      "[2018-10-02 20:43:53] Features: 54/35 -- score: -1242.9734395459018[Parallel(n_jobs=-1)]: Using backend LokyBackend with 4 concurrent workers.\n",
      "[Parallel(n_jobs=-1)]: Done  33 tasks      | elapsed:   26.9s\n",
      "[Parallel(n_jobs=-1)]: Done  54 out of  54 | elapsed:   41.5s finished\n",
      "\n",
      "[2018-10-02 20:44:34] Features: 53/35 -- score: -1242.9143196709533[Parallel(n_jobs=-1)]: Using backend LokyBackend with 4 concurrent workers.\n",
      "[Parallel(n_jobs=-1)]: Done  33 tasks      | elapsed:   26.7s\n",
      "[Parallel(n_jobs=-1)]: Done  53 out of  53 | elapsed:   40.4s finished\n",
      "\n",
      "[2018-10-02 20:45:15] Features: 52/35 -- score: -1243.022743873338[Parallel(n_jobs=-1)]: Using backend LokyBackend with 4 concurrent workers.\n",
      "[Parallel(n_jobs=-1)]: Done  33 tasks      | elapsed:   26.6s\n",
      "[Parallel(n_jobs=-1)]: Done  52 out of  52 | elapsed:   38.8s finished\n",
      "\n",
      "[2018-10-02 20:45:54] Features: 51/35 -- score: -1242.8659290467056[Parallel(n_jobs=-1)]: Using backend LokyBackend with 4 concurrent workers.\n",
      "[Parallel(n_jobs=-1)]: Done  33 tasks      | elapsed:   26.3s\n",
      "[Parallel(n_jobs=-1)]: Done  51 out of  51 | elapsed:   38.0s finished\n",
      "\n",
      "[2018-10-02 20:46:32] Features: 50/35 -- score: -1242.666340085975[Parallel(n_jobs=-1)]: Using backend LokyBackend with 4 concurrent workers.\n",
      "[Parallel(n_jobs=-1)]: Done  33 tasks      | elapsed:   25.4s\n",
      "[Parallel(n_jobs=-1)]: Done  50 out of  50 | elapsed:   36.2s finished\n",
      "\n",
      "[2018-10-02 20:47:08] Features: 49/35 -- score: -1242.7401117070985[Parallel(n_jobs=-1)]: Using backend LokyBackend with 4 concurrent workers.\n",
      "[Parallel(n_jobs=-1)]: Done  33 tasks      | elapsed:   24.6s\n",
      "[Parallel(n_jobs=-1)]: Done  49 out of  49 | elapsed:   35.0s finished\n",
      "\n",
      "[2018-10-02 20:47:43] Features: 48/35 -- score: -1242.9231411304902[Parallel(n_jobs=-1)]: Using backend LokyBackend with 4 concurrent workers.\n",
      "[Parallel(n_jobs=-1)]: Done  33 tasks      | elapsed:   24.4s\n",
      "[Parallel(n_jobs=-1)]: Done  48 out of  48 | elapsed:   33.5s finished\n",
      "\n",
      "[2018-10-02 20:48:16] Features: 47/35 -- score: -1243.143252655846[Parallel(n_jobs=-1)]: Using backend LokyBackend with 4 concurrent workers.\n",
      "[Parallel(n_jobs=-1)]: Done  33 tasks      | elapsed:   22.9s\n",
      "[Parallel(n_jobs=-1)]: Done  47 out of  47 | elapsed:   32.7s finished\n",
      "\n",
      "[2018-10-02 20:48:49] Features: 46/35 -- score: -1243.2836286374406[Parallel(n_jobs=-1)]: Using backend LokyBackend with 4 concurrent workers.\n",
      "[Parallel(n_jobs=-1)]: Done  33 tasks      | elapsed:   24.3s\n",
      "[Parallel(n_jobs=-1)]: Done  46 out of  46 | elapsed:   31.6s finished\n",
      "\n",
      "[2018-10-02 20:49:21] Features: 45/35 -- score: -1242.5574916833452[Parallel(n_jobs=-1)]: Using backend LokyBackend with 4 concurrent workers.\n",
      "[Parallel(n_jobs=-1)]: Done  33 tasks      | elapsed:   22.8s\n",
      "[Parallel(n_jobs=-1)]: Done  45 out of  45 | elapsed:   30.2s finished\n",
      "\n",
      "[2018-10-02 20:49:51] Features: 44/35 -- score: -1242.2444803810267[Parallel(n_jobs=-1)]: Using backend LokyBackend with 4 concurrent workers.\n",
      "[Parallel(n_jobs=-1)]: Done  33 tasks      | elapsed:   22.9s\n",
      "[Parallel(n_jobs=-1)]: Done  44 out of  44 | elapsed:   28.8s finished\n",
      "\n",
      "[2018-10-02 20:50:20] Features: 43/35 -- score: -1242.4984060640788[Parallel(n_jobs=-1)]: Using backend LokyBackend with 4 concurrent workers.\n",
      "[Parallel(n_jobs=-1)]: Done  33 tasks      | elapsed:   21.3s\n",
      "[Parallel(n_jobs=-1)]: Done  43 out of  43 | elapsed:   27.5s finished\n",
      "\n",
      "[2018-10-02 20:50:47] Features: 42/35 -- score: -1242.6077276940825[Parallel(n_jobs=-1)]: Using backend LokyBackend with 4 concurrent workers.\n",
      "[Parallel(n_jobs=-1)]: Done  33 tasks      | elapsed:   20.8s\n",
      "[Parallel(n_jobs=-1)]: Done  42 out of  42 | elapsed:   26.1s finished\n",
      "\n",
      "[2018-10-02 20:51:13] Features: 41/35 -- score: -1242.7380645656572[Parallel(n_jobs=-1)]: Using backend LokyBackend with 4 concurrent workers.\n",
      "[Parallel(n_jobs=-1)]: Done  33 tasks      | elapsed:   20.4s\n",
      "[Parallel(n_jobs=-1)]: Done  41 out of  41 | elapsed:   25.1s finished\n",
      "\n",
      "[2018-10-02 20:51:38] Features: 40/35 -- score: -1243.2239409049512[Parallel(n_jobs=-1)]: Using backend LokyBackend with 4 concurrent workers.\n",
      "[Parallel(n_jobs=-1)]: Done  33 tasks      | elapsed:   19.7s\n",
      "[Parallel(n_jobs=-1)]: Done  40 out of  40 | elapsed:   23.9s finished\n",
      "\n",
      "[2018-10-02 20:52:02] Features: 39/35 -- score: -1243.865131676383[Parallel(n_jobs=-1)]: Using backend LokyBackend with 4 concurrent workers.\n",
      "[Parallel(n_jobs=-1)]: Done  39 out of  39 | elapsed:   23.3s finished\n",
      "\n",
      "[2018-10-02 20:52:26] Features: 38/35 -- score: -1244.688444896729[Parallel(n_jobs=-1)]: Using backend LokyBackend with 4 concurrent workers.\n",
      "[Parallel(n_jobs=-1)]: Done  38 out of  38 | elapsed:   21.7s finished\n",
      "\n",
      "[2018-10-02 20:52:47] Features: 37/35 -- score: -1245.4717472441553[Parallel(n_jobs=-1)]: Using backend LokyBackend with 4 concurrent workers.\n",
      "[Parallel(n_jobs=-1)]: Done  37 out of  37 | elapsed:   20.8s finished\n",
      "\n",
      "[2018-10-02 20:53:08] Features: 36/35 -- score: -1245.9163347557967[Parallel(n_jobs=-1)]: Using backend LokyBackend with 4 concurrent workers.\n",
      "[Parallel(n_jobs=-1)]: Done  36 out of  36 | elapsed:   20.1s finished\n",
      "\n",
      "[2018-10-02 20:53:28] Features: 35/35 -- score: -1245.991877469019"
     ]
    },
    {
     "data": {
      "text/plain": [
       "SequentialFeatureSelector(clone_estimator=True, cv=5,\n",
       "             estimator=Lasso(alpha=1.0, copy_X=True, fit_intercept=True, max_iter=1000,\n",
       "   normalize=False, positive=False, precompute=False, random_state=None,\n",
       "   selection='cyclic', tol=0.0001, warm_start=False),\n",
       "             floating=False, forward=False, k_features=35, n_jobs=-1,\n",
       "             pre_dispatch='2*n_jobs', scoring='neg_mean_absolute_error',\n",
       "             verbose=2)"
      ]
     },
     "execution_count": 127,
     "metadata": {},
     "output_type": "execute_result"
    }
   ],
   "source": [
    "selector_nonv = SequentialFeatureSelector(Lasso(), scoring='neg_mean_absolute_error', \n",
    "                                     verbose=2, k_features=35, forward=False, n_jobs=-1)\n",
    "selector_nonv.fit(X_norm, target_nonv)"
   ]
  },
  {
   "cell_type": "code",
   "execution_count": 1,
   "metadata": {},
   "outputs": [
    {
     "ename": "NameError",
     "evalue": "name 'selector_nonv' is not defined",
     "output_type": "error",
     "traceback": [
      "\u001b[0;31m---------------------------------------------------------------------------\u001b[0m",
      "\u001b[0;31mNameError\u001b[0m                                 Traceback (most recent call last)",
      "\u001b[0;32m<ipython-input-1-8f8820285712>\u001b[0m in \u001b[0;36m<module>\u001b[0;34m()\u001b[0m\n\u001b[0;32m----> 1\u001b[0;31m \u001b[0mselected_nonv\u001b[0m \u001b[0;34m=\u001b[0m \u001b[0mselector_nonv\u001b[0m\u001b[0;34m.\u001b[0m\u001b[0mk_feature_idx_\u001b[0m\u001b[0;34m\u001b[0m\u001b[0m\n\u001b[0m\u001b[1;32m      2\u001b[0m \u001b[0mselected_nonv\u001b[0m\u001b[0;34m\u001b[0m\u001b[0m\n",
      "\u001b[0;31mNameError\u001b[0m: name 'selector_nonv' is not defined"
     ]
    }
   ],
   "source": [
    "selected_nonv = selector_nonv.k_feature_idx_\n",
    "selected_nonv"
   ]
  },
  {
   "cell_type": "code",
   "execution_count": 129,
   "metadata": {},
   "outputs": [
    {
     "name": "stdout",
     "output_type": "stream",
     "text": [
      "householdsize\n",
      "agePct12t21\n",
      "agePct16t24\n",
      "numbUrban\n",
      "pctUrban\n",
      "pctWSocSec\n",
      "pctWRetire\n",
      "whitePerCap\n",
      "NumUnderPov\n",
      "PctNotHSGrad\n",
      "PctEmploy\n",
      "MalePctDivorce\n",
      "MalePctNevMarr\n",
      "PctKids2Par\n",
      "NumImmig\n",
      "PctImmigRec5\n",
      "PctImmigRec8\n",
      "PctRecImmig8\n",
      "PersPerOwnOccHous\n",
      "PersPerRentOccHous\n",
      "PctPersOwnOccup\n",
      "HousVacant\n",
      "PctHousOwnOcc\n",
      "PctVacMore6Mos\n",
      "MedYrHousBuilt\n",
      "PctHousNoPhone\n",
      "OwnOccHiQuart\n",
      "RentHighQ\n",
      "NumInShelters\n",
      "PctForeignBorn\n",
      "LemasSwFTFieldOps\n",
      "RacialMatchCommPol\n",
      "PopDens\n",
      "LemasPctPolicOnPatr\n",
      "LemasPctOfficDrugUn\n"
     ]
    }
   ],
   "source": [
    "for x, y in enumerate(X.columns):\n",
    "    if x in selected_nonv:\n",
    "        print (y)"
   ]
  },
  {
   "cell_type": "code",
   "execution_count": 116,
   "metadata": {},
   "outputs": [],
   "source": [
    "nonviolent_features = ['householdsize', 'agePct12t21', 'agePct16t24', 'numbUrban', 'pctUrban', 'pctWSocSec', 'pctWRetire', 'whitePerCap', 'NumUnderPov', 'PctNotHSGrad', 'PctEmploy', 'MalePctDivorce', 'MalePctNevMarr', 'PctKids2Par', 'NumImmig', 'PctImmigRec5', 'PctImmigRec8', 'PctRecImmig8', 'PersPerOwnOccHous', 'PersPerRentOccHous', 'PctPersOwnOccup', 'HousVacant', 'PctHousOwnOcc', 'PctVacMore6Mos', 'MedYrHousBuilt', 'PctHousNoPhone', 'OwnOccHiQuart', 'RentHighQ', 'NumInShelters', 'PctForeignBorn', 'LemasSwFTFieldOps', 'RacialMatchCommPol', 'PopDens', 'LemasPctPolicOnPatr', 'LemasPctOfficDrugUn']"
   ]
  },
  {
   "cell_type": "code",
   "execution_count": 117,
   "metadata": {},
   "outputs": [
    {
     "data": {
      "text/plain": [
       "35"
      ]
     },
     "execution_count": 117,
     "metadata": {},
     "output_type": "execute_result"
    }
   ],
   "source": [
    "len(nonviolent_features)"
   ]
  },
  {
   "cell_type": "code",
   "execution_count": 156,
   "metadata": {},
   "outputs": [
    {
     "data": {
      "text/plain": [
       "['agePct16t24',\n",
       " 'PctKids2Par',\n",
       " 'pctWRetire',\n",
       " 'MalePctDivorce',\n",
       " 'NumInShelters',\n",
       " 'LemasPctOfficDrugUn',\n",
       " 'PersPerOwnOccHous',\n",
       " 'pctUrban',\n",
       " 'MalePctNevMarr',\n",
       " 'LemasSwFTFieldOps',\n",
       " 'OwnOccHiQuart',\n",
       " 'PctEmploy',\n",
       " 'PctForeignBorn']"
      ]
     },
     "execution_count": 156,
     "metadata": {},
     "output_type": "execute_result"
    }
   ],
   "source": [
    "common_grid_features = get_common(violent_features, nonviolent_features)\n",
    "common_grid_features"
   ]
  },
  {
   "cell_type": "code",
   "execution_count": 157,
   "metadata": {},
   "outputs": [
    {
     "data": {
      "text/plain": [
       "13"
      ]
     },
     "execution_count": 157,
     "metadata": {},
     "output_type": "execute_result"
    }
   ],
   "source": [
    "len(common_grid_features)"
   ]
  },
  {
   "cell_type": "markdown",
   "metadata": {},
   "source": [
    "Only one of the common grid selected features was among the manually selected ones. However, a couple of manually selected features depend on the common grid features."
   ]
  },
  {
   "cell_type": "markdown",
   "metadata": {},
   "source": [
    "## 5. Selected features comparison"
   ]
  },
  {
   "cell_type": "markdown",
   "metadata": {},
   "source": [
    "Let's compare the features selected by each model to manually selected features, find the common ones and explain the choice of the feature."
   ]
  },
  {
   "cell_type": "markdown",
   "metadata": {},
   "source": [
    "### 5.1. Variance threshold features"
   ]
  },
  {
   "cell_type": "markdown",
   "metadata": {},
   "source": [
    "Best scores were obtained with the lowest threshold: 0.01."
   ]
  },
  {
   "cell_type": "code",
   "execution_count": 118,
   "metadata": {},
   "outputs": [],
   "source": [
    "var_features = list(get_features(np.var(X_minmax, axis = 0), X.columns, 0.01))"
   ]
  },
  {
   "cell_type": "markdown",
   "metadata": {},
   "source": [
    "79 features is a lot, lemme compare them to the features found by grid search."
   ]
  },
  {
   "cell_type": "code",
   "execution_count": 119,
   "metadata": {},
   "outputs": [
    {
     "data": {
      "text/plain": [
       "['PctOccupManu',\n",
       " 'MalePctDivorce',\n",
       " 'racepctblack',\n",
       " 'PctLargHouseOccup',\n",
       " 'TotalPctDiv',\n",
       " 'PersPerOwnOccHous',\n",
       " 'MalePctNevMarr',\n",
       " 'PctNotSpeakEnglWell',\n",
       " 'OwnOccHiQuart',\n",
       " 'pctWWage',\n",
       " 'PersPerOccupHous',\n",
       " 'PctHousLess3BR',\n",
       " 'agePct12t29',\n",
       " 'pctWRetire',\n",
       " 'PctPersDenseHous',\n",
       " 'pctUrban',\n",
       " 'MedOwnCostPctIncNoMtg',\n",
       " 'PctWorkMom',\n",
       " 'PctKids2Par',\n",
       " 'RentLowQ',\n",
       " 'PctKidsBornNeverMar',\n",
       " 'pctWInvInc',\n",
       " 'PctRecImmig5',\n",
       " 'PctForeignBorn',\n",
       " 'PctEmploy']"
      ]
     },
     "execution_count": 119,
     "metadata": {},
     "output_type": "execute_result"
    }
   ],
   "source": [
    "common_viol_var = get_common(violent_features, var_features)\n",
    "common_viol_var"
   ]
  },
  {
   "cell_type": "code",
   "execution_count": 120,
   "metadata": {},
   "outputs": [
    {
     "data": {
      "text/plain": [
       "25"
      ]
     },
     "execution_count": 120,
     "metadata": {},
     "output_type": "execute_result"
    }
   ],
   "source": [
    "len(common_viol_var)"
   ]
  },
  {
   "cell_type": "code",
   "execution_count": 121,
   "metadata": {},
   "outputs": [
    {
     "data": {
      "text/plain": [
       "['MalePctDivorce',\n",
       " 'PersPerOwnOccHous',\n",
       " 'MalePctNevMarr',\n",
       " 'whitePerCap',\n",
       " 'OwnOccHiQuart',\n",
       " 'PctRecImmig8',\n",
       " 'PctVacMore6Mos',\n",
       " 'PersPerRentOccHous',\n",
       " 'PctPersOwnOccup',\n",
       " 'MedYrHousBuilt',\n",
       " 'pctWRetire',\n",
       " 'PctImmigRec5',\n",
       " 'PctImmigRec8',\n",
       " 'pctUrban',\n",
       " 'PctNotHSGrad',\n",
       " 'pctWSocSec',\n",
       " 'PctHousNoPhone',\n",
       " 'PctKids2Par',\n",
       " 'RentHighQ',\n",
       " 'PctHousOwnOcc',\n",
       " 'PctForeignBorn',\n",
       " 'PctEmploy']"
      ]
     },
     "execution_count": 121,
     "metadata": {},
     "output_type": "execute_result"
    }
   ],
   "source": [
    "common_nonv_var = get_common(nonviolent_features, var_features)\n",
    "common_nonv_var"
   ]
  },
  {
   "cell_type": "code",
   "execution_count": 122,
   "metadata": {},
   "outputs": [
    {
     "data": {
      "text/plain": [
       "22"
      ]
     },
     "execution_count": 122,
     "metadata": {},
     "output_type": "execute_result"
    }
   ],
   "source": [
    "len(common_nonv_var)"
   ]
  },
  {
   "cell_type": "markdown",
   "metadata": {},
   "source": [
    "More than half of the grid features were chosen by VarianceThreshold in case of violent and nonviolent crimes."
   ]
  },
  {
   "cell_type": "markdown",
   "metadata": {},
   "source": [
    "### 5.2. 35 best features"
   ]
  },
  {
   "cell_type": "markdown",
   "metadata": {},
   "source": [
    "Best scores were obtained by selecting 35 features with f_regression metric."
   ]
  },
  {
   "cell_type": "code",
   "execution_count": 123,
   "metadata": {},
   "outputs": [],
   "source": [
    "def get_features_3(X, X_norm, target, selector):\n",
    "    selector.fit_transform(X_norm, target)\n",
    "    idx = selector.get_support()\n",
    "    return(X.columns[idx])"
   ]
  },
  {
   "cell_type": "code",
   "execution_count": 124,
   "metadata": {},
   "outputs": [
    {
     "data": {
      "text/plain": [
       "Index(['racepctblack', 'racePctWhite', 'medIncome', 'pctWWage', 'pctWInvInc',\n",
       "       'pctWPubAsst', 'medFamInc', 'perCapInc', 'PctPopUnderPov',\n",
       "       'PctLess9thGrade', 'PctNotHSGrad', 'PctBSorMore', 'PctUnemployed',\n",
       "       'PctEmploy', 'PctOccupMgmtProf', 'MalePctDivorce', 'FemalePctDiv',\n",
       "       'TotalPctDiv', 'PctFam2Par', 'PctKids2Par', 'PctYoungKids2Par',\n",
       "       'PctTeen2Par', 'PctKidsBornNeverMar', 'PctLargHouseFam',\n",
       "       'PctPersOwnOccup', 'PctPersDenseHous', 'PctHousLess3BR', 'MedNumBR',\n",
       "       'HousVacant', 'PctHousOwnOcc', 'PctVacantBoarded', 'PctHousNoPhone',\n",
       "       'PctWOFullPlumb', 'MedRentPctHousInc', 'LemasPctOfficDrugUn'],\n",
       "      dtype='object')"
      ]
     },
     "execution_count": 124,
     "metadata": {},
     "output_type": "execute_result"
    }
   ],
   "source": [
    "select_35_best = SelectKBest(f_regression, k = 35)\n",
    "get_features_3(X, X_norm, target_viol, select_35_best)"
   ]
  },
  {
   "cell_type": "code",
   "execution_count": 125,
   "metadata": {},
   "outputs": [
    {
     "data": {
      "text/plain": [
       "35"
      ]
     },
     "execution_count": 125,
     "metadata": {},
     "output_type": "execute_result"
    }
   ],
   "source": [
    "best_35_viol = ['racepctblack', 'racePctWhite', 'medIncome', 'pctWWage', 'pctWInvInc',\n",
    "       'pctWPubAsst', 'medFamInc', 'perCapInc', 'PctPopUnderPov',\n",
    "       'PctLess9thGrade', 'PctNotHSGrad', 'PctBSorMore', 'PctUnemployed',\n",
    "       'PctEmploy', 'PctOccupMgmtProf', 'MalePctDivorce', 'FemalePctDiv',\n",
    "       'TotalPctDiv', 'PctFam2Par', 'PctKids2Par', 'PctYoungKids2Par',\n",
    "       'PctTeen2Par', 'PctKidsBornNeverMar', 'PctLargHouseFam',\n",
    "       'PctPersOwnOccup', 'PctPersDenseHous', 'PctHousLess3BR', 'MedNumBR',\n",
    "       'HousVacant', 'PctHousOwnOcc', 'PctVacantBoarded', 'PctHousNoPhone',\n",
    "       'PctWOFullPlumb', 'MedRentPctHousInc', 'LemasPctOfficDrugUn']\n",
    "len(best_35_viol)"
   ]
  },
  {
   "cell_type": "code",
   "execution_count": 126,
   "metadata": {},
   "outputs": [
    {
     "data": {
      "text/plain": [
       "Index(['racepctblack', 'racePctWhite', 'medIncome', 'pctWWage', 'pctWInvInc',\n",
       "       'pctWPubAsst', 'medFamInc', 'perCapInc', 'PctPopUnderPov',\n",
       "       'PctLess9thGrade', 'PctNotHSGrad', 'PctUnemployed', 'PctEmploy',\n",
       "       'PctOccupMgmtProf', 'MalePctDivorce', 'FemalePctDiv', 'TotalPctDiv',\n",
       "       'PctFam2Par', 'PctKids2Par', 'PctYoungKids2Par', 'PctTeen2Par',\n",
       "       'PctKidsBornNeverMar', 'PctImmigRec10', 'PctPersOwnOccup',\n",
       "       'PctHousLess3BR', 'MedNumBR', 'PctHousOccup', 'PctHousOwnOcc',\n",
       "       'PctVacantBoarded', 'PctHousNoPhone', 'OwnOccLowQuart', 'RentLowQ',\n",
       "       'RentMedian', 'RentHighQ', 'MedRent'],\n",
       "      dtype='object')"
      ]
     },
     "execution_count": 126,
     "metadata": {},
     "output_type": "execute_result"
    }
   ],
   "source": [
    "get_features_3(X, X_norm, target_nonv, select_35_best)"
   ]
  },
  {
   "cell_type": "code",
   "execution_count": 127,
   "metadata": {},
   "outputs": [
    {
     "data": {
      "text/plain": [
       "35"
      ]
     },
     "execution_count": 127,
     "metadata": {},
     "output_type": "execute_result"
    }
   ],
   "source": [
    "best_35_nonv = ['racepctblack', 'racePctWhite', 'medIncome', 'pctWWage', 'pctWInvInc',\n",
    "       'pctWPubAsst', 'medFamInc', 'perCapInc', 'PctPopUnderPov',\n",
    "       'PctLess9thGrade', 'PctNotHSGrad', 'PctUnemployed', 'PctEmploy',\n",
    "       'PctOccupMgmtProf', 'MalePctDivorce', 'FemalePctDiv', 'TotalPctDiv',\n",
    "       'PctFam2Par', 'PctKids2Par', 'PctYoungKids2Par', 'PctTeen2Par',\n",
    "       'PctKidsBornNeverMar', 'PctImmigRec10', 'PctPersOwnOccup',\n",
    "       'PctHousLess3BR', 'MedNumBR', 'PctHousOccup', 'PctHousOwnOcc',\n",
    "       'PctVacantBoarded', 'PctHousNoPhone', 'OwnOccLowQuart', 'RentLowQ',\n",
    "       'RentMedian', 'RentHighQ', 'MedRent']\n",
    "len(best_35_nonv)"
   ]
  },
  {
   "cell_type": "code",
   "execution_count": 128,
   "metadata": {},
   "outputs": [
    {
     "data": {
      "text/plain": [
       "['pctWPubAsst',\n",
       " 'MalePctDivorce',\n",
       " 'racepctblack',\n",
       " 'TotalPctDiv',\n",
       " 'PctTeen2Par',\n",
       " 'PctYoungKids2Par',\n",
       " 'FemalePctDiv',\n",
       " 'medFamInc',\n",
       " 'PctUnemployed',\n",
       " 'pctWWage',\n",
       " 'PctHousLess3BR',\n",
       " 'racePctWhite',\n",
       " 'perCapInc',\n",
       " 'PctPersOwnOccup',\n",
       " 'PctEmploy',\n",
       " 'PctLess9thGrade',\n",
       " 'PctPopUnderPov',\n",
       " 'PctNotHSGrad',\n",
       " 'PctHousNoPhone',\n",
       " 'PctKids2Par',\n",
       " 'PctKidsBornNeverMar',\n",
       " 'PctOccupMgmtProf',\n",
       " 'PctHousOwnOcc',\n",
       " 'pctWInvInc',\n",
       " 'PctFam2Par',\n",
       " 'PctVacantBoarded',\n",
       " 'medIncome',\n",
       " 'MedNumBR']"
      ]
     },
     "execution_count": 128,
     "metadata": {},
     "output_type": "execute_result"
    }
   ],
   "source": [
    "common_best_35 = get_common(best_35_viol, best_35_nonv)\n",
    "common_best_35"
   ]
  },
  {
   "cell_type": "code",
   "execution_count": 129,
   "metadata": {},
   "outputs": [
    {
     "data": {
      "text/plain": [
       "28"
      ]
     },
     "execution_count": 129,
     "metadata": {},
     "output_type": "execute_result"
    }
   ],
   "source": [
    "len(common_best_35)"
   ]
  },
  {
   "cell_type": "code",
   "execution_count": 130,
   "metadata": {},
   "outputs": [
    {
     "data": {
      "text/plain": [
       "['PctKids2Par',\n",
       " 'PctKidsBornNeverMar',\n",
       " 'MalePctDivorce',\n",
       " 'PctPersDenseHous',\n",
       " 'racepctblack',\n",
       " 'pctWWage',\n",
       " 'TotalPctDiv',\n",
       " 'PctHousLess3BR',\n",
       " 'LemasPctOfficDrugUn',\n",
       " 'pctWInvInc',\n",
       " 'PctEmploy']"
      ]
     },
     "execution_count": 130,
     "metadata": {},
     "output_type": "execute_result"
    }
   ],
   "source": [
    "common_viol_35_best = get_common(violent_features, best_35_viol)\n",
    "common_viol_35_best"
   ]
  },
  {
   "cell_type": "code",
   "execution_count": 131,
   "metadata": {},
   "outputs": [
    {
     "data": {
      "text/plain": [
       "11"
      ]
     },
     "execution_count": 131,
     "metadata": {},
     "output_type": "execute_result"
    }
   ],
   "source": [
    "len(common_viol_35_best)"
   ]
  },
  {
   "cell_type": "code",
   "execution_count": 132,
   "metadata": {},
   "outputs": [
    {
     "data": {
      "text/plain": [
       "['PctHousNoPhone',\n",
       " 'PctKids2Par',\n",
       " 'MalePctDivorce',\n",
       " 'RentHighQ',\n",
       " 'PctHousOwnOcc',\n",
       " 'PctEmploy',\n",
       " 'PctPersOwnOccup',\n",
       " 'PctNotHSGrad']"
      ]
     },
     "execution_count": 132,
     "metadata": {},
     "output_type": "execute_result"
    }
   ],
   "source": [
    "common_nonv_35_best = get_common(nonviolent_features, best_35_nonv)\n",
    "common_nonv_35_best"
   ]
  },
  {
   "cell_type": "code",
   "execution_count": 133,
   "metadata": {},
   "outputs": [
    {
     "data": {
      "text/plain": [
       "8"
      ]
     },
     "execution_count": 133,
     "metadata": {},
     "output_type": "execute_result"
    }
   ],
   "source": [
    "len(common_nonv_35_best)"
   ]
  },
  {
   "cell_type": "markdown",
   "metadata": {},
   "source": [
    "Few features, selected by the algorithm, matched with the grid features."
   ]
  },
  {
   "cell_type": "markdown",
   "metadata": {},
   "source": [
    "### 5.3. Select from model features"
   ]
  },
  {
   "cell_type": "code",
   "execution_count": 134,
   "metadata": {},
   "outputs": [],
   "source": [
    "select_lasso = SelectFromModel(estimator = Lasso())\n",
    "select_rf = SelectFromModel(estimator = RandomForestRegressor())"
   ]
  },
  {
   "cell_type": "code",
   "execution_count": 135,
   "metadata": {},
   "outputs": [
    {
     "data": {
      "text/plain": [
       "Index(['population', 'racepctblack', 'racePctWhite', 'racePctAsian',\n",
       "       'agePct12t21', 'agePct12t29', 'agePct16t24', 'numbUrban', 'pctUrban',\n",
       "       'pctWWage', 'pctWFarmSelf', 'pctWInvInc', 'pctWPubAsst', 'pctWRetire',\n",
       "       'whitePerCap', 'blackPerCap', 'AsianPerCap', 'OtherPerCap',\n",
       "       'HispPerCap', 'PctPopUnderPov', 'PctLess9thGrade', 'PctNotHSGrad',\n",
       "       'PctBSorMore', 'PctUnemployed', 'PctEmploy', 'PctEmplManu',\n",
       "       'PctOccupMgmtProf', 'MalePctDivorce', 'MalePctNevMarr', 'FemalePctDiv',\n",
       "       'PctKids2Par', 'PctWorkMomYoungKids', 'PctWorkMom',\n",
       "       'NumKidsBornNeverMar', 'PctKidsBornNeverMar', 'PctImmigRecent',\n",
       "       'PctImmigRec5', 'PctImmigRec10', 'PctRecImmig5', 'PctNotSpeakEnglWell',\n",
       "       'PctLargHouseOccup', 'PersPerOccupHous', 'PersPerOwnOccHous',\n",
       "       'PersPerRentOccHous', 'PctPersOwnOccup', 'PctPersDenseHous',\n",
       "       'PctHousLess3BR', 'MedNumBR', 'HousVacant', 'PctHousOccup',\n",
       "       'PctVacantBoarded', 'PctVacMore6Mos', 'MedYrHousBuilt',\n",
       "       'PctHousNoPhone', 'PctWOFullPlumb', 'OwnOccHiQuart', 'OwnOccQrange',\n",
       "       'RentLowQ', 'RentQrange', 'MedRent', 'MedRentPctHousInc',\n",
       "       'MedOwnCostPctInc', 'MedOwnCostPctIncNoMtg', 'NumInShelters',\n",
       "       'NumStreet', 'PctForeignBorn', 'PctBornSameState', 'PctSameCity85',\n",
       "       'PctSameState85', 'LemasSwFTFieldOps', 'LemasSwFTFieldPerPop',\n",
       "       'LemasTotalReq', 'PolicReqPerOffic', 'RacialMatchCommPol',\n",
       "       'PctPolicHisp', 'PctPolicAsian', 'PctPolicMinor', 'OfficAssgnDrugUnits',\n",
       "       'NumKindsDrugsSeiz', 'PolicAveOTWorked', 'LandArea', 'PopDens',\n",
       "       'PolicCars', 'LemasPctPolicOnPatr', 'LemasGangUnitDeploy',\n",
       "       'LemasPctOfficDrugUn'],\n",
       "      dtype='object')"
      ]
     },
     "execution_count": 135,
     "metadata": {},
     "output_type": "execute_result"
    }
   ],
   "source": [
    "get_features_3(X, X_norm, target_viol, select_lasso)"
   ]
  },
  {
   "cell_type": "code",
   "execution_count": 136,
   "metadata": {},
   "outputs": [
    {
     "data": {
      "text/plain": [
       "86"
      ]
     },
     "execution_count": 136,
     "metadata": {},
     "output_type": "execute_result"
    }
   ],
   "source": [
    "viol_select_lasso = ['population', 'racepctblack', 'racePctWhite', 'racePctAsian',\n",
    "       'agePct12t21', 'agePct12t29', 'agePct16t24', 'numbUrban', 'pctUrban',\n",
    "       'pctWWage', 'pctWFarmSelf', 'pctWInvInc', 'pctWPubAsst', 'pctWRetire',\n",
    "       'whitePerCap', 'blackPerCap', 'AsianPerCap', 'OtherPerCap',\n",
    "       'HispPerCap', 'PctPopUnderPov', 'PctLess9thGrade', 'PctNotHSGrad',\n",
    "       'PctBSorMore', 'PctUnemployed', 'PctEmploy', 'PctEmplManu',\n",
    "       'PctOccupMgmtProf', 'MalePctDivorce', 'MalePctNevMarr', 'FemalePctDiv',\n",
    "       'PctKids2Par', 'PctWorkMomYoungKids', 'PctWorkMom',\n",
    "       'NumKidsBornNeverMar', 'PctKidsBornNeverMar', 'PctImmigRecent',\n",
    "       'PctImmigRec5', 'PctImmigRec10', 'PctRecImmig5', 'PctNotSpeakEnglWell',\n",
    "       'PctLargHouseOccup', 'PersPerOccupHous', 'PersPerOwnOccHous',\n",
    "       'PersPerRentOccHous', 'PctPersOwnOccup', 'PctPersDenseHous',\n",
    "       'PctHousLess3BR', 'MedNumBR', 'HousVacant', 'PctHousOccup',\n",
    "       'PctVacantBoarded', 'PctVacMore6Mos', 'MedYrHousBuilt',\n",
    "       'PctHousNoPhone', 'PctWOFullPlumb', 'OwnOccHiQuart', 'OwnOccQrange',\n",
    "       'RentLowQ', 'RentQrange', 'MedRent', 'MedRentPctHousInc',\n",
    "       'MedOwnCostPctInc', 'MedOwnCostPctIncNoMtg', 'NumInShelters',\n",
    "       'NumStreet', 'PctForeignBorn', 'PctBornSameState', 'PctSameCity85',\n",
    "       'PctSameState85', 'LemasSwFTFieldOps', 'LemasSwFTFieldPerPop',\n",
    "       'LemasTotalReq', 'PolicReqPerOffic', 'RacialMatchCommPol',\n",
    "       'PctPolicHisp', 'PctPolicAsian', 'PctPolicMinor', 'OfficAssgnDrugUnits',\n",
    "       'NumKindsDrugsSeiz', 'PolicAveOTWorked', 'LandArea', 'PopDens',\n",
    "       'PolicCars', 'LemasPctPolicOnPatr', 'LemasGangUnitDeploy',\n",
    "       'LemasPctOfficDrugUn']\n",
    "len(viol_select_lasso)"
   ]
  },
  {
   "cell_type": "code",
   "execution_count": 137,
   "metadata": {},
   "outputs": [
    {
     "data": {
      "text/plain": [
       "Index(['racePctWhite', 'pctWInvInc', 'MalePctDivorce', 'FemalePctDiv',\n",
       "       'TotalPctDiv', 'PctFam2Par', 'PctKids2Par', 'NumKidsBornNeverMar',\n",
       "       'PctKidsBornNeverMar', 'PctLargHouseFam', 'PctPersDenseHous',\n",
       "       'HousVacant', 'NumStreet', 'PctForeignBorn', 'PolicAveOTWorked',\n",
       "       'PctUsePubTrans'],\n",
       "      dtype='object')"
      ]
     },
     "execution_count": 137,
     "metadata": {},
     "output_type": "execute_result"
    }
   ],
   "source": [
    "get_features_3(X, X_norm, target_viol, select_rf)"
   ]
  },
  {
   "cell_type": "code",
   "execution_count": 138,
   "metadata": {},
   "outputs": [
    {
     "data": {
      "text/plain": [
       "18"
      ]
     },
     "execution_count": 138,
     "metadata": {},
     "output_type": "execute_result"
    }
   ],
   "source": [
    "viol_select_rf = ['racePctWhite', 'racePctHisp', 'HispPerCap', 'PctPopUnderPov',\n",
    "       'PctOccupMgmtProf', 'MalePctDivorce', 'PctFam2Par', 'PctKids2Par',\n",
    "       'NumKidsBornNeverMar', 'PctKidsBornNeverMar', 'PctPersDenseHous',\n",
    "       'PctHousLess3BR', 'HousVacant', 'PctVacantBoarded', 'NumStreet',\n",
    "       'RacialMatchCommPol', 'PopDens', 'PctUsePubTrans']\n",
    "len(viol_select_rf)"
   ]
  },
  {
   "cell_type": "code",
   "execution_count": 139,
   "metadata": {},
   "outputs": [
    {
     "data": {
      "text/plain": [
       "['PctKids2Par',\n",
       " 'NumStreet',\n",
       " 'PctKidsBornNeverMar',\n",
       " 'PctOccupMgmtProf',\n",
       " 'MalePctDivorce',\n",
       " 'PopDens',\n",
       " 'HispPerCap',\n",
       " 'PctPersDenseHous',\n",
       " 'RacialMatchCommPol',\n",
       " 'PctHousLess3BR',\n",
       " 'NumKidsBornNeverMar',\n",
       " 'PctPopUnderPov',\n",
       " 'racePctWhite',\n",
       " 'PctVacantBoarded',\n",
       " 'HousVacant']"
      ]
     },
     "execution_count": 139,
     "metadata": {},
     "output_type": "execute_result"
    }
   ],
   "source": [
    "common_viol_select = get_common(viol_select_lasso, viol_select_rf)\n",
    "common_viol_select"
   ]
  },
  {
   "cell_type": "code",
   "execution_count": 140,
   "metadata": {},
   "outputs": [
    {
     "data": {
      "text/plain": [
       "15"
      ]
     },
     "execution_count": 140,
     "metadata": {},
     "output_type": "execute_result"
    }
   ],
   "source": [
    "len(common_viol_select)"
   ]
  },
  {
   "cell_type": "code",
   "execution_count": 141,
   "metadata": {},
   "outputs": [
    {
     "data": {
      "text/plain": [
       "['OfficAssgnDrugUnits',\n",
       " 'MalePctDivorce',\n",
       " 'NumInShelters',\n",
       " 'racepctblack',\n",
       " 'PctLargHouseOccup',\n",
       " 'PersPerOwnOccHous',\n",
       " 'MalePctNevMarr',\n",
       " 'PctNotSpeakEnglWell',\n",
       " 'OwnOccHiQuart',\n",
       " 'PolicCars',\n",
       " 'pctWWage',\n",
       " 'PersPerOccupHous',\n",
       " 'PctHousLess3BR',\n",
       " 'LemasSwFTFieldOps',\n",
       " 'agePct12t29',\n",
       " 'pctWRetire',\n",
       " 'PctPersDenseHous',\n",
       " 'LemasPctOfficDrugUn',\n",
       " 'pctUrban',\n",
       " 'MedOwnCostPctIncNoMtg',\n",
       " 'population',\n",
       " 'agePct16t24',\n",
       " 'PctWorkMom',\n",
       " 'PolicReqPerOffic',\n",
       " 'PctKids2Par',\n",
       " 'RentLowQ',\n",
       " 'PctKidsBornNeverMar',\n",
       " 'PctHousOccup',\n",
       " 'NumKidsBornNeverMar',\n",
       " 'pctWInvInc',\n",
       " 'PctRecImmig5',\n",
       " 'PctForeignBorn',\n",
       " 'PctEmploy']"
      ]
     },
     "execution_count": 141,
     "metadata": {},
     "output_type": "execute_result"
    }
   ],
   "source": [
    "common_viol_lasso = get_common(violent_features, viol_select_lasso)\n",
    "common_viol_lasso"
   ]
  },
  {
   "cell_type": "code",
   "execution_count": 142,
   "metadata": {},
   "outputs": [
    {
     "data": {
      "text/plain": [
       "33"
      ]
     },
     "execution_count": 142,
     "metadata": {},
     "output_type": "execute_result"
    }
   ],
   "source": [
    "len(common_viol_lasso)"
   ]
  },
  {
   "cell_type": "code",
   "execution_count": 144,
   "metadata": {},
   "outputs": [
    {
     "data": {
      "text/plain": [
       "['PctKids2Par',\n",
       " 'PctKidsBornNeverMar',\n",
       " 'MalePctDivorce',\n",
       " 'PctPersDenseHous',\n",
       " 'PctHousLess3BR',\n",
       " 'NumKidsBornNeverMar']"
      ]
     },
     "execution_count": 144,
     "metadata": {},
     "output_type": "execute_result"
    }
   ],
   "source": [
    "common_viol_rf = get_common(violent_features, viol_select_rf)\n",
    "common_viol_rf"
   ]
  },
  {
   "cell_type": "code",
   "execution_count": 145,
   "metadata": {},
   "outputs": [
    {
     "data": {
      "text/plain": [
       "6"
      ]
     },
     "execution_count": 145,
     "metadata": {},
     "output_type": "execute_result"
    }
   ],
   "source": [
    "len(common_viol_rf)"
   ]
  },
  {
   "cell_type": "code",
   "execution_count": 146,
   "metadata": {},
   "outputs": [
    {
     "data": {
      "text/plain": [
       "Index(['householdsize', 'racepctblack', 'racePctWhite', 'racePctAsian',\n",
       "       'racePctHisp', 'agePct12t21', 'agePct16t24', 'agePct65up', 'numbUrban',\n",
       "       'pctUrban',\n",
       "       ...\n",
       "       'NumKindsDrugsSeiz', 'PolicAveOTWorked', 'LandArea', 'PopDens',\n",
       "       'PolicCars', 'PolicOperBudg', 'LemasPctPolicOnPatr',\n",
       "       'LemasGangUnitDeploy', 'LemasPctOfficDrugUn', 'PolicBudgPerPop'],\n",
       "      dtype='object', length=116)"
      ]
     },
     "execution_count": 146,
     "metadata": {},
     "output_type": "execute_result"
    }
   ],
   "source": [
    "get_features_3(X, X_norm, target_nonv, select_lasso)"
   ]
  },
  {
   "cell_type": "markdown",
   "metadata": {},
   "source": [
    "116 features, for fuck's sake"
   ]
  },
  {
   "cell_type": "code",
   "execution_count": 147,
   "metadata": {},
   "outputs": [
    {
     "data": {
      "text/plain": [
       "Index(['racePctWhite', 'NumUnderPov', 'PctEmplProfServ', 'MalePctDivorce',\n",
       "       'FemalePctDiv', 'TotalPctDiv', 'PctFam2Par', 'PctKids2Par',\n",
       "       'PctTeen2Par', 'PctWorkMomYoungKids', 'PctPersDenseHous',\n",
       "       'PctHousLess3BR', 'HousVacant', 'PctHousOccup', 'PctHousNoPhone',\n",
       "       'RentLowQ', 'RentQrange', 'MedOwnCostPctIncNoMtg', 'NumStreet',\n",
       "       'PctSameCity85', 'LandArea'],\n",
       "      dtype='object')"
      ]
     },
     "execution_count": 147,
     "metadata": {},
     "output_type": "execute_result"
    }
   ],
   "source": [
    "get_features_3(X, X_norm, target_nonv, select_rf)"
   ]
  },
  {
   "cell_type": "code",
   "execution_count": 148,
   "metadata": {},
   "outputs": [
    {
     "data": {
      "text/plain": [
       "15"
      ]
     },
     "execution_count": 148,
     "metadata": {},
     "output_type": "execute_result"
    }
   ],
   "source": [
    "nonv_select_rf = ['racePctWhite', 'NumUnderPov', 'PctEmplProfServ', 'MalePctDivorce',\n",
    "       'FemalePctDiv', 'TotalPctDiv', 'PctFam2Par', 'PctKids2Par',\n",
    "       'PctTeen2Par', 'NumKidsBornNeverMar', 'PctPersDenseHous', 'HousVacant',\n",
    "       'PctHousOccup', 'RentLowQ', 'NumStreet']\n",
    "len(nonv_select_rf)"
   ]
  },
  {
   "cell_type": "code",
   "execution_count": 149,
   "metadata": {},
   "outputs": [
    {
     "data": {
      "text/plain": [
       "['NumUnderPov', 'HousVacant', 'PctKids2Par', 'MalePctDivorce']"
      ]
     },
     "execution_count": 149,
     "metadata": {},
     "output_type": "execute_result"
    }
   ],
   "source": [
    "common_nonv_rf = get_common(nonviolent_features, nonv_select_rf)\n",
    "common_nonv_rf"
   ]
  },
  {
   "cell_type": "markdown",
   "metadata": {},
   "source": [
    "RandomForest turned out to be quite picky with its selected features, while Lasso selected almost all of them."
   ]
  },
  {
   "cell_type": "markdown",
   "metadata": {},
   "source": [
    "### 5.4. Frequency of the selected features"
   ]
  },
  {
   "cell_type": "markdown",
   "metadata": {},
   "source": [
    "Let's find out which features were selected by different algorithms the most often."
   ]
  },
  {
   "cell_type": "markdown",
   "metadata": {},
   "source": [
    "#### 5.4.a. Violent crimes"
   ]
  },
  {
   "cell_type": "code",
   "execution_count": 158,
   "metadata": {},
   "outputs": [
    {
     "data": {
      "text/plain": [
       "167"
      ]
     },
     "execution_count": 158,
     "metadata": {},
     "output_type": "execute_result"
    }
   ],
   "source": [
    "final_violent_features = violent_features+var_features+best_35_viol+viol_select_rf\n",
    "len(final_violent_features)"
   ]
  },
  {
   "cell_type": "code",
   "execution_count": 159,
   "metadata": {},
   "outputs": [],
   "source": [
    "final_violent_features_series = pd.Series(final_violent_features)"
   ]
  },
  {
   "cell_type": "code",
   "execution_count": 160,
   "metadata": {},
   "outputs": [
    {
     "data": {
      "image/png": "[encoded data removed]",
      "text/plain": [
       "<Figure size 432x288 with 1 Axes>"
      ]
     },
     "metadata": {},
     "output_type": "display_data"
    }
   ],
   "source": [
    "final_violent_features_series.value_counts().nlargest(14).plot.barh();"
   ]
  },
  {
   "cell_type": "markdown",
   "metadata": {},
   "source": [
    "#### 5.4.b. Nonviolent crimes"
   ]
  },
  {
   "cell_type": "code",
   "execution_count": 161,
   "metadata": {},
   "outputs": [
    {
     "data": {
      "text/plain": [
       "164"
      ]
     },
     "execution_count": 161,
     "metadata": {},
     "output_type": "execute_result"
    }
   ],
   "source": [
    "final_nonviolent_features = nonviolent_features+var_features+best_35_nonv+nonv_select_rf\n",
    "len(final_nonviolent_features)"
   ]
  },
  {
   "cell_type": "code",
   "execution_count": 162,
   "metadata": {},
   "outputs": [],
   "source": [
    "final_nonviolent_features_series = pd.Series(final_nonviolent_features)"
   ]
  },
  {
   "cell_type": "code",
   "execution_count": 163,
   "metadata": {},
   "outputs": [
    {
     "data": {
      "image/png": "[encoded data removed]",
      "text/plain": [
       "<Figure size 432x288 with 1 Axes>"
      ]
     },
     "metadata": {},
     "output_type": "display_data"
    }
   ],
   "source": [
    "final_nonviolent_features_series.value_counts().nlargest(14).plot.barh();"
   ]
  },
  {
   "cell_type": "markdown",
   "metadata": {},
   "source": [
    "The three most frequent features correspond in case of  both violent and nonviolent crimes, and the rest are unique features. That's why predicting the rate of violent and nonviolent crimes on the same features may lead to poor performance."
   ]
  },
  {
   "cell_type": "markdown",
   "metadata": {},
   "source": [
    "## 6. Model with parameter tuning on grid selected features"
   ]
  },
  {
   "cell_type": "code",
   "execution_count": 164,
   "metadata": {},
   "outputs": [
    {
     "data": {
      "text/html": [
       "<div>\n",
       "<style scoped>\n",
       "    .dataframe tbody tr th:only-of-type {\n",
       "        vertical-align: middle;\n",
       "    }\n",
       "\n",
       "    .dataframe tbody tr th {\n",
       "        vertical-align: top;\n",
       "    }\n",
       "\n",
       "    .dataframe thead th {\n",
       "        text-align: right;\n",
       "    }\n",
       "</style>\n",
       "<table border=\"1\" class=\"dataframe\">\n",
       "  <thead>\n",
       "    <tr style=\"text-align: right;\">\n",
       "      <th></th>\n",
       "      <th>population</th>\n",
       "      <th>racepctblack</th>\n",
       "      <th>agePct12t29</th>\n",
       "      <th>agePct16t24</th>\n",
       "      <th>pctUrban</th>\n",
       "      <th>pctWWage</th>\n",
       "      <th>pctWInvInc</th>\n",
       "      <th>pctWRetire</th>\n",
       "      <th>PctEmploy</th>\n",
       "      <th>PctOccupManu</th>\n",
       "      <th>...</th>\n",
       "      <th>OwnOccHiQuart</th>\n",
       "      <th>RentLowQ</th>\n",
       "      <th>MedOwnCostPctIncNoMtg</th>\n",
       "      <th>NumInShelters</th>\n",
       "      <th>PctForeignBorn</th>\n",
       "      <th>LemasSwFTFieldOps</th>\n",
       "      <th>PolicReqPerOffic</th>\n",
       "      <th>OfficAssgnDrugUnits</th>\n",
       "      <th>PolicCars</th>\n",
       "      <th>LemasPctOfficDrugUn</th>\n",
       "    </tr>\n",
       "  </thead>\n",
       "  <tbody>\n",
       "    <tr>\n",
       "      <th>0</th>\n",
       "      <td>11980</td>\n",
       "      <td>1.37</td>\n",
       "      <td>21.44</td>\n",
       "      <td>10.93</td>\n",
       "      <td>100.0</td>\n",
       "      <td>89.24</td>\n",
       "      <td>70.20</td>\n",
       "      <td>18.39</td>\n",
       "      <td>64.55</td>\n",
       "      <td>5.49</td>\n",
       "      <td>...</td>\n",
       "      <td>326900</td>\n",
       "      <td>685</td>\n",
       "      <td>14.0</td>\n",
       "      <td>11</td>\n",
       "      <td>10.66</td>\n",
       "      <td>399.692053</td>\n",
       "      <td>526.418212</td>\n",
       "      <td>26.364238</td>\n",
       "      <td>178.05298</td>\n",
       "      <td>0.0</td>\n",
       "    </tr>\n",
       "    <tr>\n",
       "      <th>1</th>\n",
       "      <td>23123</td>\n",
       "      <td>0.80</td>\n",
       "      <td>21.30</td>\n",
       "      <td>10.48</td>\n",
       "      <td>100.0</td>\n",
       "      <td>78.99</td>\n",
       "      <td>64.11</td>\n",
       "      <td>22.85</td>\n",
       "      <td>61.96</td>\n",
       "      <td>6.39</td>\n",
       "      <td>...</td>\n",
       "      <td>199900</td>\n",
       "      <td>467</td>\n",
       "      <td>12.5</td>\n",
       "      <td>0</td>\n",
       "      <td>8.30</td>\n",
       "      <td>399.692053</td>\n",
       "      <td>526.418212</td>\n",
       "      <td>26.364238</td>\n",
       "      <td>178.05298</td>\n",
       "      <td>0.0</td>\n",
       "    </tr>\n",
       "    <tr>\n",
       "      <th>2</th>\n",
       "      <td>29344</td>\n",
       "      <td>0.74</td>\n",
       "      <td>25.88</td>\n",
       "      <td>11.01</td>\n",
       "      <td>100.0</td>\n",
       "      <td>82.00</td>\n",
       "      <td>55.73</td>\n",
       "      <td>14.56</td>\n",
       "      <td>69.80</td>\n",
       "      <td>8.79</td>\n",
       "      <td>...</td>\n",
       "      <td>112000</td>\n",
       "      <td>370</td>\n",
       "      <td>11.6</td>\n",
       "      <td>16</td>\n",
       "      <td>5.00</td>\n",
       "      <td>399.692053</td>\n",
       "      <td>526.418212</td>\n",
       "      <td>26.364238</td>\n",
       "      <td>178.05298</td>\n",
       "      <td>0.0</td>\n",
       "    </tr>\n",
       "    <tr>\n",
       "      <th>5</th>\n",
       "      <td>140494</td>\n",
       "      <td>2.51</td>\n",
       "      <td>32.89</td>\n",
       "      <td>20.04</td>\n",
       "      <td>100.0</td>\n",
       "      <td>75.78</td>\n",
       "      <td>41.15</td>\n",
       "      <td>14.09</td>\n",
       "      <td>59.02</td>\n",
       "      <td>14.72</td>\n",
       "      <td>...</td>\n",
       "      <td>73100</td>\n",
       "      <td>215</td>\n",
       "      <td>11.7</td>\n",
       "      <td>327</td>\n",
       "      <td>1.49</td>\n",
       "      <td>399.692053</td>\n",
       "      <td>526.418212</td>\n",
       "      <td>26.364238</td>\n",
       "      <td>178.05298</td>\n",
       "      <td>0.0</td>\n",
       "    </tr>\n",
       "    <tr>\n",
       "      <th>6</th>\n",
       "      <td>28700</td>\n",
       "      <td>1.60</td>\n",
       "      <td>27.41</td>\n",
       "      <td>12.76</td>\n",
       "      <td>100.0</td>\n",
       "      <td>79.47</td>\n",
       "      <td>47.70</td>\n",
       "      <td>17.23</td>\n",
       "      <td>65.42</td>\n",
       "      <td>8.50</td>\n",
       "      <td>...</td>\n",
       "      <td>215500</td>\n",
       "      <td>463</td>\n",
       "      <td>12.5</td>\n",
       "      <td>0</td>\n",
       "      <td>9.19</td>\n",
       "      <td>399.692053</td>\n",
       "      <td>526.418212</td>\n",
       "      <td>26.364238</td>\n",
       "      <td>178.05298</td>\n",
       "      <td>0.0</td>\n",
       "    </tr>\n",
       "  </tbody>\n",
       "</table>\n",
       "<p>5 rows × 35 columns</p>\n",
       "</div>"
      ],
      "text/plain": [
       "   population  racepctblack  agePct12t29  agePct16t24  pctUrban  pctWWage  \\\n",
       "0       11980          1.37        21.44        10.93     100.0     89.24   \n",
       "1       23123          0.80        21.30        10.48     100.0     78.99   \n",
       "2       29344          0.74        25.88        11.01     100.0     82.00   \n",
       "5      140494          2.51        32.89        20.04     100.0     75.78   \n",
       "6       28700          1.60        27.41        12.76     100.0     79.47   \n",
       "\n",
       "   pctWInvInc  pctWRetire  PctEmploy  PctOccupManu         ...           \\\n",
       "0       70.20       18.39      64.55          5.49         ...            \n",
       "1       64.11       22.85      61.96          6.39         ...            \n",
       "2       55.73       14.56      69.80          8.79         ...            \n",
       "5       41.15       14.09      59.02         14.72         ...            \n",
       "6       47.70       17.23      65.42          8.50         ...            \n",
       "\n",
       "   OwnOccHiQuart  RentLowQ  MedOwnCostPctIncNoMtg  NumInShelters  \\\n",
       "0         326900       685                   14.0             11   \n",
       "1         199900       467                   12.5              0   \n",
       "2         112000       370                   11.6             16   \n",
       "5          73100       215                   11.7            327   \n",
       "6         215500       463                   12.5              0   \n",
       "\n",
       "   PctForeignBorn  LemasSwFTFieldOps  PolicReqPerOffic  OfficAssgnDrugUnits  \\\n",
       "0           10.66         399.692053        526.418212            26.364238   \n",
       "1            8.30         399.692053        526.418212            26.364238   \n",
       "2            5.00         399.692053        526.418212            26.364238   \n",
       "5            1.49         399.692053        526.418212            26.364238   \n",
       "6            9.19         399.692053        526.418212            26.364238   \n",
       "\n",
       "   PolicCars  LemasPctOfficDrugUn  \n",
       "0  178.05298                  0.0  \n",
       "1  178.05298                  0.0  \n",
       "2  178.05298                  0.0  \n",
       "5  178.05298                  0.0  \n",
       "6  178.05298                  0.0  \n",
       "\n",
       "[5 rows x 35 columns]"
      ]
     },
     "execution_count": 164,
     "metadata": {},
     "output_type": "execute_result"
    }
   ],
   "source": [
    "X_viol = X[violent_features]\n",
    "X_viol.head()"
   ]
  },
  {
   "cell_type": "code",
   "execution_count": 165,
   "metadata": {},
   "outputs": [
    {
     "data": {
      "text/html": [
       "<div>\n",
       "<style scoped>\n",
       "    .dataframe tbody tr th:only-of-type {\n",
       "        vertical-align: middle;\n",
       "    }\n",
       "\n",
       "    .dataframe tbody tr th {\n",
       "        vertical-align: top;\n",
       "    }\n",
       "\n",
       "    .dataframe thead th {\n",
       "        text-align: right;\n",
       "    }\n",
       "</style>\n",
       "<table border=\"1\" class=\"dataframe\">\n",
       "  <thead>\n",
       "    <tr style=\"text-align: right;\">\n",
       "      <th></th>\n",
       "      <th>householdsize</th>\n",
       "      <th>agePct12t21</th>\n",
       "      <th>agePct16t24</th>\n",
       "      <th>numbUrban</th>\n",
       "      <th>pctUrban</th>\n",
       "      <th>pctWSocSec</th>\n",
       "      <th>pctWRetire</th>\n",
       "      <th>whitePerCap</th>\n",
       "      <th>NumUnderPov</th>\n",
       "      <th>PctNotHSGrad</th>\n",
       "      <th>...</th>\n",
       "      <th>PctHousNoPhone</th>\n",
       "      <th>OwnOccHiQuart</th>\n",
       "      <th>RentHighQ</th>\n",
       "      <th>NumInShelters</th>\n",
       "      <th>PctForeignBorn</th>\n",
       "      <th>LemasSwFTFieldOps</th>\n",
       "      <th>RacialMatchCommPol</th>\n",
       "      <th>PopDens</th>\n",
       "      <th>LemasPctPolicOnPatr</th>\n",
       "      <th>LemasPctOfficDrugUn</th>\n",
       "    </tr>\n",
       "  </thead>\n",
       "  <tbody>\n",
       "    <tr>\n",
       "      <th>0</th>\n",
       "      <td>3.10</td>\n",
       "      <td>12.47</td>\n",
       "      <td>10.93</td>\n",
       "      <td>11980</td>\n",
       "      <td>100.0</td>\n",
       "      <td>23.62</td>\n",
       "      <td>18.39</td>\n",
       "      <td>30233</td>\n",
       "      <td>227</td>\n",
       "      <td>9.90</td>\n",
       "      <td>...</td>\n",
       "      <td>0.00</td>\n",
       "      <td>326900</td>\n",
       "      <td>1001</td>\n",
       "      <td>11</td>\n",
       "      <td>10.66</td>\n",
       "      <td>399.692053</td>\n",
       "      <td>85.482185</td>\n",
       "      <td>1845.9</td>\n",
       "      <td>86.886026</td>\n",
       "      <td>0.0</td>\n",
       "    </tr>\n",
       "    <tr>\n",
       "      <th>1</th>\n",
       "      <td>2.82</td>\n",
       "      <td>11.01</td>\n",
       "      <td>10.48</td>\n",
       "      <td>23123</td>\n",
       "      <td>100.0</td>\n",
       "      <td>35.50</td>\n",
       "      <td>22.85</td>\n",
       "      <td>20191</td>\n",
       "      <td>885</td>\n",
       "      <td>13.72</td>\n",
       "      <td>...</td>\n",
       "      <td>0.31</td>\n",
       "      <td>199900</td>\n",
       "      <td>672</td>\n",
       "      <td>0</td>\n",
       "      <td>8.30</td>\n",
       "      <td>399.692053</td>\n",
       "      <td>85.482185</td>\n",
       "      <td>2186.7</td>\n",
       "      <td>86.886026</td>\n",
       "      <td>0.0</td>\n",
       "    </tr>\n",
       "    <tr>\n",
       "      <th>2</th>\n",
       "      <td>2.43</td>\n",
       "      <td>11.36</td>\n",
       "      <td>11.01</td>\n",
       "      <td>29344</td>\n",
       "      <td>100.0</td>\n",
       "      <td>22.25</td>\n",
       "      <td>14.56</td>\n",
       "      <td>17103</td>\n",
       "      <td>1389</td>\n",
       "      <td>9.09</td>\n",
       "      <td>...</td>\n",
       "      <td>1.55</td>\n",
       "      <td>112000</td>\n",
       "      <td>520</td>\n",
       "      <td>16</td>\n",
       "      <td>5.00</td>\n",
       "      <td>399.692053</td>\n",
       "      <td>85.482185</td>\n",
       "      <td>2780.9</td>\n",
       "      <td>86.886026</td>\n",
       "      <td>0.0</td>\n",
       "    </tr>\n",
       "    <tr>\n",
       "      <th>5</th>\n",
       "      <td>2.45</td>\n",
       "      <td>18.09</td>\n",
       "      <td>20.04</td>\n",
       "      <td>140494</td>\n",
       "      <td>100.0</td>\n",
       "      <td>29.31</td>\n",
       "      <td>14.09</td>\n",
       "      <td>12029</td>\n",
       "      <td>23223</td>\n",
       "      <td>23.03</td>\n",
       "      <td>...</td>\n",
       "      <td>6.13</td>\n",
       "      <td>73100</td>\n",
       "      <td>349</td>\n",
       "      <td>327</td>\n",
       "      <td>1.49</td>\n",
       "      <td>399.692053</td>\n",
       "      <td>85.482185</td>\n",
       "      <td>1995.7</td>\n",
       "      <td>86.886026</td>\n",
       "      <td>0.0</td>\n",
       "    </tr>\n",
       "    <tr>\n",
       "      <th>6</th>\n",
       "      <td>2.60</td>\n",
       "      <td>11.17</td>\n",
       "      <td>12.76</td>\n",
       "      <td>28700</td>\n",
       "      <td>100.0</td>\n",
       "      <td>30.23</td>\n",
       "      <td>17.23</td>\n",
       "      <td>18276</td>\n",
       "      <td>1126</td>\n",
       "      <td>13.89</td>\n",
       "      <td>...</td>\n",
       "      <td>0.69</td>\n",
       "      <td>215500</td>\n",
       "      <td>824</td>\n",
       "      <td>0</td>\n",
       "      <td>9.19</td>\n",
       "      <td>399.692053</td>\n",
       "      <td>85.482185</td>\n",
       "      <td>2643.5</td>\n",
       "      <td>86.886026</td>\n",
       "      <td>0.0</td>\n",
       "    </tr>\n",
       "  </tbody>\n",
       "</table>\n",
       "<p>5 rows × 35 columns</p>\n",
       "</div>"
      ],
      "text/plain": [
       "   householdsize  agePct12t21  agePct16t24  numbUrban  pctUrban  pctWSocSec  \\\n",
       "0           3.10        12.47        10.93      11980     100.0       23.62   \n",
       "1           2.82        11.01        10.48      23123     100.0       35.50   \n",
       "2           2.43        11.36        11.01      29344     100.0       22.25   \n",
       "5           2.45        18.09        20.04     140494     100.0       29.31   \n",
       "6           2.60        11.17        12.76      28700     100.0       30.23   \n",
       "\n",
       "   pctWRetire  whitePerCap  NumUnderPov  PctNotHSGrad         ...           \\\n",
       "0       18.39        30233          227          9.90         ...            \n",
       "1       22.85        20191          885         13.72         ...            \n",
       "2       14.56        17103         1389          9.09         ...            \n",
       "5       14.09        12029        23223         23.03         ...            \n",
       "6       17.23        18276         1126         13.89         ...            \n",
       "\n",
       "   PctHousNoPhone  OwnOccHiQuart  RentHighQ  NumInShelters  PctForeignBorn  \\\n",
       "0            0.00         326900       1001             11           10.66   \n",
       "1            0.31         199900        672              0            8.30   \n",
       "2            1.55         112000        520             16            5.00   \n",
       "5            6.13          73100        349            327            1.49   \n",
       "6            0.69         215500        824              0            9.19   \n",
       "\n",
       "   LemasSwFTFieldOps  RacialMatchCommPol  PopDens  LemasPctPolicOnPatr  \\\n",
       "0         399.692053           85.482185   1845.9            86.886026   \n",
       "1         399.692053           85.482185   2186.7            86.886026   \n",
       "2         399.692053           85.482185   2780.9            86.886026   \n",
       "5         399.692053           85.482185   1995.7            86.886026   \n",
       "6         399.692053           85.482185   2643.5            86.886026   \n",
       "\n",
       "   LemasPctOfficDrugUn  \n",
       "0                  0.0  \n",
       "1                  0.0  \n",
       "2                  0.0  \n",
       "5                  0.0  \n",
       "6                  0.0  \n",
       "\n",
       "[5 rows x 35 columns]"
      ]
     },
     "execution_count": 165,
     "metadata": {},
     "output_type": "execute_result"
    }
   ],
   "source": [
    "X_nonv = X[nonviolent_features]\n",
    "X_nonv.head()"
   ]
  },
  {
   "cell_type": "code",
   "execution_count": 166,
   "metadata": {},
   "outputs": [],
   "source": [
    "def grid_evaluate(X_train, X_test, y_train, y_test, regressor, parameters):\n",
    "    grid = GridSearchCV(regressor, parameters, scoring = 'neg_mean_absolute_error', cv = 3, n_jobs = -1)\n",
    "    grid.fit(X_train, y_train)\n",
    "    score = grid.best_score_\n",
    "    params = grid.best_params_\n",
    "    predicts_train = grid.best_estimator_.predict(X_train)\n",
    "    predicts_test = grid.best_estimator_.predict(X_test)\n",
    "    MAE_train = mean_absolute_error(y_train, predicts_train)\n",
    "    MAE_test = mean_absolute_error(y_test, predicts_test)\n",
    "    return(score, params, MAE_train, MAE_test)"
   ]
  },
  {
   "cell_type": "code",
   "execution_count": 167,
   "metadata": {},
   "outputs": [],
   "source": [
    "X_viol_std = scaler.fit_transform(X_viol)\n",
    "X_nonv_std = scaler.fit_transform(X_nonv)"
   ]
  },
  {
   "cell_type": "code",
   "execution_count": 168,
   "metadata": {},
   "outputs": [],
   "source": [
    "X_viol_train, X_viol_test, X_nonv_train, X_nonv_test, y_nonv_train, y_nonv_test, y_viol_train, y_viol_test = train_test_split(X_viol_std, X_nonv_std, target_nonv, target_viol, test_size = 0.3, random_state = RANDOM_STATE)"
   ]
  },
  {
   "cell_type": "markdown",
   "metadata": {},
   "source": [
    "### 6. a. Violent crimes"
   ]
  },
  {
   "cell_type": "code",
   "execution_count": 169,
   "metadata": {},
   "outputs": [],
   "source": [
    "lasso_params = {'alpha': np.logspace(-1, 1, 5)}"
   ]
  },
  {
   "cell_type": "code",
   "execution_count": 170,
   "metadata": {},
   "outputs": [
    {
     "name": "stdout",
     "output_type": "stream",
     "text": [
      "(-242.10091972497105, {'alpha': 1.0}, 231.08039260482155, 228.91310938787944)\n",
      "CPU times: user 148 ms, sys: 57.5 ms, total: 206 ms\n",
      "Wall time: 3.47 s\n"
     ]
    }
   ],
   "source": [
    "%%time\n",
    "grid_lasso_viol = grid_evaluate(X_viol_train, X_viol_test, y_viol_train, y_viol_test, lasso, lasso_params)\n",
    "print(grid_lasso_viol)"
   ]
  },
  {
   "cell_type": "code",
   "execution_count": 171,
   "metadata": {},
   "outputs": [],
   "source": [
    "best_lasso_viol = Lasso(alpha = 0.31622776601683794, random_state = RANDOM_STATE)"
   ]
  },
  {
   "cell_type": "code",
   "execution_count": 172,
   "metadata": {},
   "outputs": [],
   "source": [
    "def plotter(X_train, X_test, y_train, y_test, regressor, title, lim_low, lim_up):\n",
    "    regressor.fit(X_train, y_train)\n",
    "    plt.scatter(y_train, regressor.predict(X_train))\n",
    "    plt.scatter(y_test, regressor.predict(X_test))\n",
    "    plt.xlim(lim_low, lim_up)\n",
    "    plt.ylim(lim_low, lim_up)\n",
    "    plt.title(title)"
   ]
  },
  {
   "cell_type": "code",
   "execution_count": 173,
   "metadata": {},
   "outputs": [
    {
     "data": {
      "image/png": "[encoded data removed]",
      "text/plain": [
       "<Figure size 432x288 with 1 Axes>"
      ]
     },
     "metadata": {},
     "output_type": "display_data"
    }
   ],
   "source": [
    "plotter(X_viol_train, X_viol_test, y_viol_train, y_viol_test, best_lasso_viol, 'Lasso', -100, 3000)"
   ]
  },
  {
   "cell_type": "code",
   "execution_count": 174,
   "metadata": {},
   "outputs": [
    {
     "data": {
      "text/plain": [
       "{'bootstrap': [True, False],\n",
       " 'max_depth': array([ 10,  40,  70, 100]),\n",
       " 'max_features': ['auto', 'sqrt'],\n",
       " 'min_samples_leaf': [1, 2, 4],\n",
       " 'min_samples_split': [2, 5, 10],\n",
       " 'n_estimators': array([  20,  520, 1020, 1520, 2020])}"
      ]
     },
     "execution_count": 174,
     "metadata": {},
     "output_type": "execute_result"
    }
   ],
   "source": [
    "n_estimators_2 = np.arange(20, 2520, 500)\n",
    "max_features = ['auto', 'sqrt']\n",
    "max_depth = np.arange(10, 120, 30)\n",
    "min_samples_split = [2, 5, 10]\n",
    "min_samples_leaf = [1, 2, 4]\n",
    "bootstrap = [True, False]\n",
    "random_params_2 = {'n_estimators': n_estimators_2,\n",
    "               'max_features': max_features,\n",
    "               'max_depth': max_depth,\n",
    "               'min_samples_split': min_samples_split,\n",
    "               'min_samples_leaf': min_samples_leaf,\n",
    "               'bootstrap': bootstrap}\n",
    "random_params_2"
   ]
  },
  {
   "cell_type": "code",
   "execution_count": 175,
   "metadata": {},
   "outputs": [],
   "source": [
    "random_rf_viol = RandomizedSearchCV(rf, random_params_2, scoring = 'neg_mean_absolute_error', n_iter = 100, cv = 3, verbose=2, random_state=RANDOM_STATE, n_jobs = -1)"
   ]
  },
  {
   "cell_type": "code",
   "execution_count": 206,
   "metadata": {},
   "outputs": [
    {
     "name": "stdout",
     "output_type": "stream",
     "text": [
      "Fitting 3 folds for each of 100 candidates, totalling 300 fits\n"
     ]
    },
    {
     "name": "stderr",
     "output_type": "stream",
     "text": [
      "[Parallel(n_jobs=-1)]: Using backend LokyBackend with 4 concurrent workers.\n",
      "[Parallel(n_jobs=-1)]: Done  33 tasks      | elapsed:  2.3min\n",
      "[Parallel(n_jobs=-1)]: Done 154 tasks      | elapsed: 15.2min\n",
      "[Parallel(n_jobs=-1)]: Done 300 out of 300 | elapsed: 31.1min finished\n"
     ]
    },
    {
     "data": {
      "text/plain": [
       "RandomizedSearchCV(cv=3, error_score='raise-deprecating',\n",
       "          estimator=RandomForestRegressor(bootstrap=True, criterion='mse', max_depth=None,\n",
       "           max_features='auto', max_leaf_nodes=None,\n",
       "           min_impurity_decrease=0.0, min_impurity_split=None,\n",
       "           min_samples_leaf=1, min_samples_split=2,\n",
       "           min_weight_fraction_leaf=0.0, n_estimators='warn', n_jobs=None,\n",
       "           oob_score=False, random_state=42, verbose=0, warm_start=False),\n",
       "          fit_params=None, iid='warn', n_iter=100, n_jobs=-1,\n",
       "          param_distributions={'min_samples_split': [2, 5, 10], 'n_estimators': array([  20,  520, 1020, 1520, 2020]), 'max_depth': array([ 10,  40,  70, 100]), 'bootstrap': [True, False], 'max_features': ['auto', 'sqrt'], 'min_samples_leaf': [1, 2, 4]},\n",
       "          pre_dispatch='2*n_jobs', random_state=42, refit=True,\n",
       "          return_train_score='warn', scoring='neg_mean_absolute_error',\n",
       "          verbose=2)"
      ]
     },
     "execution_count": 206,
     "metadata": {},
     "output_type": "execute_result"
    }
   ],
   "source": [
    "random_rf_viol.fit(X_viol_train, y_viol_train)"
   ]
  },
  {
   "cell_type": "code",
   "execution_count": 208,
   "metadata": {},
   "outputs": [
    {
     "data": {
      "text/plain": [
       "{'bootstrap': False,\n",
       " 'max_depth': 40,\n",
       " 'max_features': 'sqrt',\n",
       " 'min_samples_leaf': 4,\n",
       " 'min_samples_split': 5,\n",
       " 'n_estimators': 1520}"
      ]
     },
     "execution_count": 208,
     "metadata": {},
     "output_type": "execute_result"
    }
   ],
   "source": [
    "random_rf_viol.best_params_"
   ]
  },
  {
   "cell_type": "code",
   "execution_count": 210,
   "metadata": {},
   "outputs": [
    {
     "data": {
      "text/plain": [
       "-230.7546413684638"
      ]
     },
     "execution_count": 210,
     "metadata": {},
     "output_type": "execute_result"
    }
   ],
   "source": [
    "random_rf_viol.best_score_"
   ]
  },
  {
   "cell_type": "code",
   "execution_count": 211,
   "metadata": {},
   "outputs": [
    {
     "data": {
      "text/plain": [
       "226.9430769741345"
      ]
     },
     "execution_count": 211,
     "metadata": {},
     "output_type": "execute_result"
    }
   ],
   "source": [
    "mean_absolute_error(y_viol_test, random_rf_viol.best_estimator_.predict(X_viol_test))"
   ]
  },
  {
   "cell_type": "code",
   "execution_count": 215,
   "metadata": {},
   "outputs": [],
   "source": [
    "rf_viol_params = {'bootstrap': [False],\n",
    " 'max_depth': [30, 40, 50],\n",
    " 'max_features': ['sqrt'],\n",
    " 'min_samples_leaf': [3, 4, 5], \n",
    " 'min_samples_split': [5,7],\n",
    " 'n_estimators': [1300, 1520, 1770]}"
   ]
  },
  {
   "cell_type": "code",
   "execution_count": 216,
   "metadata": {},
   "outputs": [
    {
     "name": "stdout",
     "output_type": "stream",
     "text": [
      "(-230.7009811604208, {'min_samples_split': 5, 'n_estimators': 1300, 'max_depth': 30, 'bootstrap': False, 'max_features': 'sqrt', 'min_samples_leaf': 3}, 64.50459872211184, 227.08441115426606)\n",
      "CPU times: user 10.4 s, sys: 106 ms, total: 10.5 s\n",
      "Wall time: 9min 33s\n"
     ]
    }
   ],
   "source": [
    "%%time\n",
    "grid_rf_viol = grid_evaluate(X_viol_train, X_viol_test, y_viol_train, y_viol_test, rf, rf_viol_params)\n",
    "print(grid_rf_viol)"
   ]
  },
  {
   "cell_type": "code",
   "execution_count": 176,
   "metadata": {},
   "outputs": [],
   "source": [
    "best_rf_viol = RandomForestRegressor(min_samples_split = 5, n_estimators=1300, max_depth = 30, bootstrap = False, max_features = 'sqrt', min_samples_leaf = 3, random_state = RANDOM_STATE)"
   ]
  },
  {
   "cell_type": "code",
   "execution_count": 177,
   "metadata": {},
   "outputs": [
    {
     "data": {
      "image/png": "[encoded data removed]",
      "text/plain": [
       "<Figure size 432x288 with 1 Axes>"
      ]
     },
     "metadata": {},
     "output_type": "display_data"
    }
   ],
   "source": [
    "plotter(X_viol_train, X_viol_test, y_viol_train, y_viol_test, best_rf_viol, 'RF', -100, 3000)"
   ]
  },
  {
   "cell_type": "markdown",
   "metadata": {},
   "source": [
    "### 6. b. Nonviolent crimes"
   ]
  },
  {
   "cell_type": "code",
   "execution_count": 222,
   "metadata": {},
   "outputs": [],
   "source": [
    "lasso_params_1 = {'alpha': np.logspace(-2, 1, 5)}"
   ]
  },
  {
   "cell_type": "code",
   "execution_count": 223,
   "metadata": {},
   "outputs": [
    {
     "name": "stdout",
     "output_type": "stream",
     "text": [
      "(-1275.126554492346, {'alpha': 1.7782794100389228}, 1213.6731847307212, 1249.2224025789321)\n",
      "CPU times: user 242 ms, sys: 16.3 ms, total: 259 ms\n",
      "Wall time: 1.67 s\n"
     ]
    }
   ],
   "source": [
    "%%time\n",
    "grid_lasso_nonv = grid_evaluate(X_nonv_train, X_nonv_test, y_nonv_train, y_nonv_test, lasso, lasso_params_1)\n",
    "print(grid_lasso_nonv)"
   ]
  },
  {
   "cell_type": "code",
   "execution_count": 224,
   "metadata": {},
   "outputs": [],
   "source": [
    "best_lasso_nonv = Lasso(alpha = 1.7782794100389228, random_state = RANDOM_STATE)"
   ]
  },
  {
   "cell_type": "code",
   "execution_count": 226,
   "metadata": {},
   "outputs": [
    {
     "data": {
      "image/png": "[encoded data removed]",
      "text/plain": [
       "<Figure size 432x288 with 1 Axes>"
      ]
     },
     "metadata": {},
     "output_type": "display_data"
    }
   ],
   "source": [
    "plotter(X_nonv_train, X_nonv_test, y_nonv_train, y_nonv_test, best_lasso_nonv, 'Lasso', -100, 12000)"
   ]
  },
  {
   "cell_type": "code",
   "execution_count": 228,
   "metadata": {},
   "outputs": [],
   "source": [
    "random_rf_nonv = RandomizedSearchCV(rf, random_params_2, scoring = 'neg_mean_absolute_error', n_iter = 100, cv = 3, verbose=2, random_state=RANDOM_STATE, n_jobs = -1)"
   ]
  },
  {
   "cell_type": "code",
   "execution_count": 229,
   "metadata": {
    "scrolled": true
   },
   "outputs": [
    {
     "name": "stdout",
     "output_type": "stream",
     "text": [
      "Fitting 3 folds for each of 100 candidates, totalling 300 fits\n"
     ]
    },
    {
     "name": "stderr",
     "output_type": "stream",
     "text": [
      "[Parallel(n_jobs=-1)]: Using backend LokyBackend with 4 concurrent workers.\n",
      "[Parallel(n_jobs=-1)]: Done  33 tasks      | elapsed:  2.7min\n",
      "[Parallel(n_jobs=-1)]: Done 154 tasks      | elapsed: 17.3min\n",
      "[Parallel(n_jobs=-1)]: Done 300 out of 300 | elapsed: 38.5min finished\n"
     ]
    },
    {
     "data": {
      "text/plain": [
       "RandomizedSearchCV(cv=3, error_score='raise-deprecating',\n",
       "          estimator=RandomForestRegressor(bootstrap=True, criterion='mse', max_depth=None,\n",
       "           max_features='auto', max_leaf_nodes=None,\n",
       "           min_impurity_decrease=0.0, min_impurity_split=None,\n",
       "           min_samples_leaf=1, min_samples_split=2,\n",
       "           min_weight_fraction_leaf=0.0, n_estimators='warn', n_jobs=None,\n",
       "           oob_score=False, random_state=42, verbose=0, warm_start=False),\n",
       "          fit_params=None, iid='warn', n_iter=100, n_jobs=-1,\n",
       "          param_distributions={'min_samples_split': [2, 5, 10], 'n_estimators': array([  20,  520, 1020, 1520, 2020]), 'max_depth': array([ 10,  40,  70, 100]), 'bootstrap': [True, False], 'max_features': ['auto', 'sqrt'], 'min_samples_leaf': [1, 2, 4]},\n",
       "          pre_dispatch='2*n_jobs', random_state=42, refit=True,\n",
       "          return_train_score='warn', scoring='neg_mean_absolute_error',\n",
       "          verbose=2)"
      ]
     },
     "execution_count": 229,
     "metadata": {},
     "output_type": "execute_result"
    }
   ],
   "source": [
    "random_rf_nonv.fit(X_nonv_train, y_nonv_train)"
   ]
  },
  {
   "cell_type": "code",
   "execution_count": 231,
   "metadata": {},
   "outputs": [
    {
     "data": {
      "text/plain": [
       "-1296.7216839762302"
      ]
     },
     "execution_count": 231,
     "metadata": {},
     "output_type": "execute_result"
    }
   ],
   "source": [
    "random_rf_nonv.best_score_"
   ]
  },
  {
   "cell_type": "code",
   "execution_count": 232,
   "metadata": {},
   "outputs": [
    {
     "data": {
      "text/plain": [
       "{'bootstrap': False,\n",
       " 'max_depth': 10,\n",
       " 'max_features': 'sqrt',\n",
       " 'min_samples_leaf': 4,\n",
       " 'min_samples_split': 10,\n",
       " 'n_estimators': 1520}"
      ]
     },
     "execution_count": 232,
     "metadata": {},
     "output_type": "execute_result"
    }
   ],
   "source": [
    "random_rf_nonv.best_params_"
   ]
  },
  {
   "cell_type": "code",
   "execution_count": 236,
   "metadata": {},
   "outputs": [],
   "source": [
    "rf_nonv_params = {'bootstrap': [False],\n",
    " 'max_depth': [5, 10, 20],\n",
    " 'max_features': ['sqrt'],\n",
    " 'min_samples_leaf': [3, 4, 5], \n",
    " 'min_samples_split': [10, 15],\n",
    " 'n_estimators': [1300, 1520, 1770]}"
   ]
  },
  {
   "cell_type": "code",
   "execution_count": 238,
   "metadata": {},
   "outputs": [
    {
     "name": "stdout",
     "output_type": "stream",
     "text": [
      "(-1296.2162995526587, {'min_samples_split': 10, 'n_estimators': 1300, 'max_depth': 10, 'bootstrap': False, 'max_features': 'sqrt', 'min_samples_leaf': 4}, 673.9232924723915, 1343.0470040829211)\n",
      "CPU times: user 8.94 s, sys: 100 ms, total: 9.04 s\n",
      "Wall time: 7min 15s\n"
     ]
    }
   ],
   "source": [
    "%%time\n",
    "grid_rf_nonv = grid_evaluate(X_nonv_train, X_nonv_test, y_nonv_train, y_nonv_test, rf, rf_nonv_params)\n",
    "print(grid_rf_nonv)"
   ]
  },
  {
   "cell_type": "code",
   "execution_count": 239,
   "metadata": {},
   "outputs": [],
   "source": [
    "best_rf_nonv = RandomForestRegressor(min_samples_split = 10, n_estimators = 1300, max_depth = 10, bootstrap = False, max_features = 'sqrt', min_samples_leaf = 4, random_state = RANDOM_STATE)"
   ]
  },
  {
   "cell_type": "code",
   "execution_count": 240,
   "metadata": {},
   "outputs": [
    {
     "data": {
      "image/png": "[encoded data removed]",
      "text/plain": [
       "<Figure size 432x288 with 1 Axes>"
      ]
     },
     "metadata": {},
     "output_type": "display_data"
    }
   ],
   "source": [
    "plotter(X_nonv_train, X_nonv_test, y_nonv_train, y_nonv_test, best_rf_nonv, 'RF', -100, 12000)"
   ]
  },
  {
   "cell_type": "markdown",
   "metadata": {},
   "source": [
    "Feature selection leads to a better performance for every model, except for the nonviolent RandomForest. This exception may be caused by evaluating grid feature scores for Lasso, rather than RandomForestRegressor, but my PC ain't Usain Bolt and I ain't got a couple of spare centuries to wait. "
   ]
  }
 ],
 "metadata": {
  "kernelspec": {
   "display_name": "Python 3",
   "language": "python",
   "name": "python3"
  },
  "language_info": {
   "codemirror_mode": {
    "name": "ipython",
    "version": 3
   },
   "file_extension": ".py",
   "mimetype": "text/x-python",
   "name": "python",
   "nbconvert_exporter": "python",
   "pygments_lexer": "ipython3",
   "version": "3.5.2"
  }
 },
 "nbformat": 4,
 "nbformat_minor": 2
}
