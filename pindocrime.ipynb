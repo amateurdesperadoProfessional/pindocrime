{
 "cells": [
  {
   "cell_type": "markdown",
   "metadata": {},
   "source": [
    "# Crime in Pindostan(manually selected features)"
   ]
  },
  {
   "cell_type": "markdown",
   "metadata": {},
   "source": [
    "The project is based on [this](https://archive.ics.uci.edu/ml/datasets/Communities+and+Crime) UCI dataset. My goal was to predict the rate of violent and nonviolent crimes per population and to find out what features have the greatest influence on the target variables. This project contains two parts, dedicated to manual(this part) and [automatic feature selection](insert github link here). In this notebook I try to predict the rate of violent and nonviolent crimes using features I selected via common sense. I also do some kind of data preprocessing and choose the model with best scores, then fine-tune two most optimal models."
   ]
  },
  {
   "cell_type": "code",
   "execution_count": 1,
   "metadata": {},
   "outputs": [],
   "source": [
    "import numpy as np\n",
    "import pandas as pd\n",
    "from matplotlib import pyplot as plt\n",
    "%matplotlib inline\n",
    "import seaborn as sns\n",
    "sns.set()\n",
    "import warnings\n",
    "warnings.filterwarnings('ignore')"
   ]
  },
  {
   "cell_type": "code",
   "execution_count": 2,
   "metadata": {
    "scrolled": true
   },
   "outputs": [
    {
     "data": {
      "text/html": [
       "<div>\n",
       "<style scoped>\n",
       "    .dataframe tbody tr th:only-of-type {\n",
       "        vertical-align: middle;\n",
       "    }\n",
       "\n",
       "    .dataframe tbody tr th {\n",
       "        vertical-align: top;\n",
       "    }\n",
       "\n",
       "    .dataframe thead th {\n",
       "        text-align: right;\n",
       "    }\n",
       "</style>\n",
       "<table border=\"1\" class=\"dataframe\">\n",
       "  <thead>\n",
       "    <tr style=\"text-align: right;\">\n",
       "      <th></th>\n",
       "      <th>Êcommunityname</th>\n",
       "      <th>state</th>\n",
       "      <th>countyCode</th>\n",
       "      <th>communityCode</th>\n",
       "      <th>fold</th>\n",
       "      <th>population</th>\n",
       "      <th>householdsize</th>\n",
       "      <th>racepctblack</th>\n",
       "      <th>racePctWhite</th>\n",
       "      <th>racePctAsian</th>\n",
       "      <th>...</th>\n",
       "      <th>burglaries</th>\n",
       "      <th>burglPerPop</th>\n",
       "      <th>larcenies</th>\n",
       "      <th>larcPerPop</th>\n",
       "      <th>autoTheft</th>\n",
       "      <th>autoTheftPerPop</th>\n",
       "      <th>arsons</th>\n",
       "      <th>arsonsPerPop</th>\n",
       "      <th>ViolentCrimesPerPop</th>\n",
       "      <th>nonViolPerPop</th>\n",
       "    </tr>\n",
       "  </thead>\n",
       "  <tbody>\n",
       "    <tr>\n",
       "      <th>0</th>\n",
       "      <td>BerkeleyHeightstownship</td>\n",
       "      <td>NJ</td>\n",
       "      <td>39</td>\n",
       "      <td>5320</td>\n",
       "      <td>1</td>\n",
       "      <td>11980</td>\n",
       "      <td>3.10</td>\n",
       "      <td>1.37</td>\n",
       "      <td>91.78</td>\n",
       "      <td>6.50</td>\n",
       "      <td>...</td>\n",
       "      <td>14</td>\n",
       "      <td>114.85</td>\n",
       "      <td>138</td>\n",
       "      <td>1132.08</td>\n",
       "      <td>16</td>\n",
       "      <td>131.26</td>\n",
       "      <td>2</td>\n",
       "      <td>16.41</td>\n",
       "      <td>41.02</td>\n",
       "      <td>1394.59</td>\n",
       "    </tr>\n",
       "    <tr>\n",
       "      <th>1</th>\n",
       "      <td>Marpletownship</td>\n",
       "      <td>PA</td>\n",
       "      <td>45</td>\n",
       "      <td>47616</td>\n",
       "      <td>1</td>\n",
       "      <td>23123</td>\n",
       "      <td>2.82</td>\n",
       "      <td>0.80</td>\n",
       "      <td>95.57</td>\n",
       "      <td>3.44</td>\n",
       "      <td>...</td>\n",
       "      <td>57</td>\n",
       "      <td>242.37</td>\n",
       "      <td>376</td>\n",
       "      <td>1598.78</td>\n",
       "      <td>26</td>\n",
       "      <td>110.55</td>\n",
       "      <td>1</td>\n",
       "      <td>4.25</td>\n",
       "      <td>127.56</td>\n",
       "      <td>1955.95</td>\n",
       "    </tr>\n",
       "    <tr>\n",
       "      <th>2</th>\n",
       "      <td>Tigardcity</td>\n",
       "      <td>OR</td>\n",
       "      <td>?</td>\n",
       "      <td>?</td>\n",
       "      <td>1</td>\n",
       "      <td>29344</td>\n",
       "      <td>2.43</td>\n",
       "      <td>0.74</td>\n",
       "      <td>94.33</td>\n",
       "      <td>3.43</td>\n",
       "      <td>...</td>\n",
       "      <td>274</td>\n",
       "      <td>758.14</td>\n",
       "      <td>1797</td>\n",
       "      <td>4972.19</td>\n",
       "      <td>136</td>\n",
       "      <td>376.3</td>\n",
       "      <td>22</td>\n",
       "      <td>60.87</td>\n",
       "      <td>218.59</td>\n",
       "      <td>6167.51</td>\n",
       "    </tr>\n",
       "    <tr>\n",
       "      <th>3</th>\n",
       "      <td>Gloversvillecity</td>\n",
       "      <td>NY</td>\n",
       "      <td>35</td>\n",
       "      <td>29443</td>\n",
       "      <td>1</td>\n",
       "      <td>16656</td>\n",
       "      <td>2.40</td>\n",
       "      <td>1.70</td>\n",
       "      <td>97.35</td>\n",
       "      <td>0.50</td>\n",
       "      <td>...</td>\n",
       "      <td>225</td>\n",
       "      <td>1301.78</td>\n",
       "      <td>716</td>\n",
       "      <td>4142.56</td>\n",
       "      <td>47</td>\n",
       "      <td>271.93</td>\n",
       "      <td>?</td>\n",
       "      <td>?</td>\n",
       "      <td>306.64</td>\n",
       "      <td>?</td>\n",
       "    </tr>\n",
       "    <tr>\n",
       "      <th>4</th>\n",
       "      <td>Bemidjicity</td>\n",
       "      <td>MN</td>\n",
       "      <td>7</td>\n",
       "      <td>5068</td>\n",
       "      <td>1</td>\n",
       "      <td>11245</td>\n",
       "      <td>2.76</td>\n",
       "      <td>0.53</td>\n",
       "      <td>89.16</td>\n",
       "      <td>1.17</td>\n",
       "      <td>...</td>\n",
       "      <td>91</td>\n",
       "      <td>728.93</td>\n",
       "      <td>1060</td>\n",
       "      <td>8490.87</td>\n",
       "      <td>91</td>\n",
       "      <td>728.93</td>\n",
       "      <td>5</td>\n",
       "      <td>40.05</td>\n",
       "      <td>?</td>\n",
       "      <td>9988.79</td>\n",
       "    </tr>\n",
       "  </tbody>\n",
       "</table>\n",
       "<p>5 rows × 147 columns</p>\n",
       "</div>"
      ],
      "text/plain": [
       "            Êcommunityname state countyCode communityCode  fold  population  \\\n",
       "0  BerkeleyHeightstownship    NJ         39          5320     1       11980   \n",
       "1           Marpletownship    PA         45         47616     1       23123   \n",
       "2               Tigardcity    OR          ?             ?     1       29344   \n",
       "3         Gloversvillecity    NY         35         29443     1       16656   \n",
       "4              Bemidjicity    MN          7          5068     1       11245   \n",
       "\n",
       "   householdsize  racepctblack  racePctWhite  racePctAsian      ...        \\\n",
       "0           3.10          1.37         91.78          6.50      ...         \n",
       "1           2.82          0.80         95.57          3.44      ...         \n",
       "2           2.43          0.74         94.33          3.43      ...         \n",
       "3           2.40          1.70         97.35          0.50      ...         \n",
       "4           2.76          0.53         89.16          1.17      ...         \n",
       "\n",
       "   burglaries  burglPerPop  larcenies  larcPerPop  autoTheft  autoTheftPerPop  \\\n",
       "0          14       114.85        138     1132.08         16           131.26   \n",
       "1          57       242.37        376     1598.78         26           110.55   \n",
       "2         274       758.14       1797     4972.19        136            376.3   \n",
       "3         225      1301.78        716     4142.56         47           271.93   \n",
       "4          91       728.93       1060     8490.87         91           728.93   \n",
       "\n",
       "   arsons  arsonsPerPop  ViolentCrimesPerPop  nonViolPerPop  \n",
       "0       2         16.41                41.02        1394.59  \n",
       "1       1          4.25               127.56        1955.95  \n",
       "2      22         60.87               218.59        6167.51  \n",
       "3       ?             ?               306.64              ?  \n",
       "4       5         40.05                    ?        9988.79  \n",
       "\n",
       "[5 rows x 147 columns]"
      ]
     },
     "execution_count": 2,
     "metadata": {},
     "output_type": "execute_result"
    }
   ],
   "source": [
    "data = pd.read_csv('crimedata.csv', encoding = 'latin-1')\n",
    "data.head()"
   ]
  },
  {
   "cell_type": "code",
   "execution_count": 3,
   "metadata": {},
   "outputs": [
    {
     "name": "stdout",
     "output_type": "stream",
     "text": [
      "<class 'pandas.core.frame.DataFrame'>\n",
      "RangeIndex: 2215 entries, 0 to 2214\n",
      "Columns: 147 entries, Êcommunityname to nonViolPerPop\n",
      "dtypes: float64(75), int64(29), object(43)\n",
      "memory usage: 2.5+ MB\n"
     ]
    }
   ],
   "source": [
    "data.info()"
   ]
  },
  {
   "cell_type": "code",
   "execution_count": 4,
   "metadata": {},
   "outputs": [
    {
     "name": "stdout",
     "output_type": "stream",
     "text": [
      "Êcommunityname\n",
      "state\n",
      "countyCode\n",
      "communityCode\n",
      "fold\n",
      "population\n",
      "householdsize\n",
      "racepctblack\n",
      "racePctWhite\n",
      "racePctAsian\n",
      "racePctHisp\n",
      "agePct12t21\n",
      "agePct12t29\n",
      "agePct16t24\n",
      "agePct65up\n",
      "numbUrban\n",
      "pctUrban\n",
      "medIncome\n",
      "pctWWage\n",
      "pctWFarmSelf\n",
      "pctWInvInc\n",
      "pctWSocSec\n",
      "pctWPubAsst\n",
      "pctWRetire\n",
      "medFamInc\n",
      "perCapInc\n",
      "whitePerCap\n",
      "blackPerCap\n",
      "indianPerCap\n",
      "AsianPerCap\n",
      "OtherPerCap\n",
      "HispPerCap\n",
      "NumUnderPov\n",
      "PctPopUnderPov\n",
      "PctLess9thGrade\n",
      "PctNotHSGrad\n",
      "PctBSorMore\n",
      "PctUnemployed\n",
      "PctEmploy\n",
      "PctEmplManu\n",
      "PctEmplProfServ\n",
      "PctOccupManu\n",
      "PctOccupMgmtProf\n",
      "MalePctDivorce\n",
      "MalePctNevMarr\n",
      "FemalePctDiv\n",
      "TotalPctDiv\n",
      "PersPerFam\n",
      "PctFam2Par\n",
      "PctKids2Par\n",
      "PctYoungKids2Par\n",
      "PctTeen2Par\n",
      "PctWorkMomYoungKids\n",
      "PctWorkMom\n",
      "NumKidsBornNeverMar\n",
      "PctKidsBornNeverMar\n",
      "NumImmig\n",
      "PctImmigRecent\n",
      "PctImmigRec5\n",
      "PctImmigRec8\n",
      "PctImmigRec10\n",
      "PctRecentImmig\n",
      "PctRecImmig5\n",
      "PctRecImmig8\n",
      "PctRecImmig10\n",
      "PctSpeakEnglOnly\n",
      "PctNotSpeakEnglWell\n",
      "PctLargHouseFam\n",
      "PctLargHouseOccup\n",
      "PersPerOccupHous\n",
      "PersPerOwnOccHous\n",
      "PersPerRentOccHous\n",
      "PctPersOwnOccup\n",
      "PctPersDenseHous\n",
      "PctHousLess3BR\n",
      "MedNumBR\n",
      "HousVacant\n",
      "PctHousOccup\n",
      "PctHousOwnOcc\n",
      "PctVacantBoarded\n",
      "PctVacMore6Mos\n",
      "MedYrHousBuilt\n",
      "PctHousNoPhone\n",
      "PctWOFullPlumb\n",
      "OwnOccLowQuart\n",
      "OwnOccMedVal\n",
      "OwnOccHiQuart\n",
      "OwnOccQrange\n",
      "RentLowQ\n",
      "RentMedian\n",
      "RentHighQ\n",
      "RentQrange\n",
      "MedRent\n",
      "MedRentPctHousInc\n",
      "MedOwnCostPctInc\n",
      "MedOwnCostPctIncNoMtg\n",
      "NumInShelters\n",
      "NumStreet\n",
      "PctForeignBorn\n",
      "PctBornSameState\n",
      "PctSameHouse85\n",
      "PctSameCity85\n",
      "PctSameState85\n",
      "LemasSwornFT\n",
      "LemasSwFTPerPop\n",
      "LemasSwFTFieldOps\n",
      "LemasSwFTFieldPerPop\n",
      "LemasTotalReq\n",
      "LemasTotReqPerPop\n",
      "PolicReqPerOffic\n",
      "PolicPerPop\n",
      "RacialMatchCommPol\n",
      "PctPolicWhite\n",
      "PctPolicBlack\n",
      "PctPolicHisp\n",
      "PctPolicAsian\n",
      "PctPolicMinor\n",
      "OfficAssgnDrugUnits\n",
      "NumKindsDrugsSeiz\n",
      "PolicAveOTWorked\n",
      "LandArea\n",
      "PopDens\n",
      "PctUsePubTrans\n",
      "PolicCars\n",
      "PolicOperBudg\n",
      "LemasPctPolicOnPatr\n",
      "LemasGangUnitDeploy\n",
      "LemasPctOfficDrugUn\n",
      "PolicBudgPerPop\n",
      "murders\n",
      "murdPerPop\n",
      "rapes\n",
      "rapesPerPop\n",
      "robberies\n",
      "robbbPerPop\n",
      "assaults\n",
      "assaultPerPop\n",
      "burglaries\n",
      "burglPerPop\n",
      "larcenies\n",
      "larcPerPop\n",
      "autoTheft\n",
      "autoTheftPerPop\n",
      "arsons\n",
      "arsonsPerPop\n",
      "ViolentCrimesPerPop\n",
      "nonViolPerPop\n"
     ]
    }
   ],
   "source": [
    "for col in data.columns:\n",
    "    print (col)"
   ]
  },
  {
   "cell_type": "code",
   "execution_count": 5,
   "metadata": {},
   "outputs": [],
   "source": [
    "data.replace('?', np.nan, inplace = True)"
   ]
  },
  {
   "cell_type": "code",
   "execution_count": 6,
   "metadata": {},
   "outputs": [],
   "source": [
    "for col in data.columns[2:]:\n",
    "    if data[col].dtype == np.object:\n",
    "       data[col] = data[col].astype('float64')"
   ]
  },
  {
   "cell_type": "code",
   "execution_count": 7,
   "metadata": {},
   "outputs": [
    {
     "name": "stdout",
     "output_type": "stream",
     "text": [
      "<class 'pandas.core.frame.DataFrame'>\n",
      "RangeIndex: 2215 entries, 0 to 2214\n",
      "Columns: 147 entries, Êcommunityname to nonViolPerPop\n",
      "dtypes: float64(116), int64(29), object(2)\n",
      "memory usage: 2.5+ MB\n"
     ]
    }
   ],
   "source": [
    "data.info()"
   ]
  },
  {
   "cell_type": "code",
   "execution_count": 8,
   "metadata": {},
   "outputs": [
    {
     "data": {
      "text/plain": [
       "97"
      ]
     },
     "execution_count": 8,
     "metadata": {},
     "output_type": "execute_result"
    }
   ],
   "source": [
    "data['nonViolPerPop'].shape[0] - data['nonViolPerPop'].count()"
   ]
  },
  {
   "cell_type": "code",
   "execution_count": 9,
   "metadata": {},
   "outputs": [
    {
     "data": {
      "text/plain": [
       "221"
      ]
     },
     "execution_count": 9,
     "metadata": {},
     "output_type": "execute_result"
    }
   ],
   "source": [
    "data['ViolentCrimesPerPop'].shape[0] - data['ViolentCrimesPerPop'].count()"
   ]
  },
  {
   "cell_type": "code",
   "execution_count": 10,
   "metadata": {},
   "outputs": [],
   "source": [
    "data.dropna(subset = ['nonViolPerPop', 'ViolentCrimesPerPop'], inplace = True)"
   ]
  },
  {
   "cell_type": "code",
   "execution_count": 11,
   "metadata": {
    "scrolled": true
   },
   "outputs": [
    {
     "data": {
      "text/plain": [
       "1600"
      ]
     },
     "execution_count": 11,
     "metadata": {},
     "output_type": "execute_result"
    }
   ],
   "source": [
    "data['NumKindsDrugsSeiz'].shape[0] - data['NumKindsDrugsSeiz'].count()"
   ]
  },
  {
   "cell_type": "code",
   "execution_count": 12,
   "metadata": {
    "scrolled": true
   },
   "outputs": [
    {
     "data": {
      "text/plain": [
       "1600"
      ]
     },
     "execution_count": 12,
     "metadata": {},
     "output_type": "execute_result"
    }
   ],
   "source": [
    "data['LemasSwornFT'].shape[0] - data['LemasSwornFT'].count()"
   ]
  },
  {
   "cell_type": "code",
   "execution_count": 13,
   "metadata": {},
   "outputs": [
    {
     "name": "stdout",
     "output_type": "stream",
     "text": [
      "<class 'pandas.core.frame.DataFrame'>\n",
      "Int64Index: 1902 entries, 0 to 2214\n",
      "Columns: 147 entries, Êcommunityname to nonViolPerPop\n",
      "dtypes: float64(116), int64(29), object(2)\n",
      "memory usage: 2.1+ MB\n"
     ]
    }
   ],
   "source": [
    "data.info()"
   ]
  },
  {
   "cell_type": "code",
   "execution_count": 14,
   "metadata": {},
   "outputs": [],
   "source": [
    "target_nonv = data['nonViolPerPop']\n",
    "target_viol = data['ViolentCrimesPerPop']"
   ]
  },
  {
   "cell_type": "code",
   "execution_count": 15,
   "metadata": {},
   "outputs": [],
   "source": [
    "data.drop(columns = ['nonViolPerPop', 'ViolentCrimesPerPop'], inplace = True)"
   ]
  },
  {
   "cell_type": "code",
   "execution_count": 16,
   "metadata": {},
   "outputs": [],
   "source": [
    "for col in data.columns[2:]:\n",
    "    data[col] = data[col].fillna(np.mean(data[col]))"
   ]
  },
  {
   "cell_type": "markdown",
   "metadata": {},
   "source": [
    "After I've replaced '?' with np.nan and filled the NaNs with with mean values, I read up the feature [description](https://archive.ics.uci.edu/ml/machine-learning-databases/communities/communities.names) and found out that most features linearly depend on each other. Then I selected 13 features, that seemed to be most uncorrelated and influential on the target variables."
   ]
  },
  {
   "cell_type": "code",
   "execution_count": 17,
   "metadata": {},
   "outputs": [],
   "source": [
    "manually_selected_features = ['racePctWhite', 'agePct12t29', 'perCapInc', 'PctPopUnderPov', 'PctBSorMore', 'PctUnemployed', 'TotalPctDiv', 'PctImmigRec10', 'MedRent', 'NumInShelters', 'NumStreet', 'LemasSwornFT', 'NumKindsDrugsSeiz']"
   ]
  },
  {
   "cell_type": "code",
   "execution_count": 18,
   "metadata": {},
   "outputs": [
    {
     "data": {
      "text/plain": [
       "13"
      ]
     },
     "execution_count": 18,
     "metadata": {},
     "output_type": "execute_result"
    }
   ],
   "source": [
    "len(manually_selected_features)"
   ]
  },
  {
   "cell_type": "code",
   "execution_count": 19,
   "metadata": {},
   "outputs": [
    {
     "name": "stdout",
     "output_type": "stream",
     "text": [
      "<class 'pandas.core.frame.DataFrame'>\n",
      "Int64Index: 1902 entries, 0 to 2214\n",
      "Data columns (total 13 columns):\n",
      "racePctWhite         1902 non-null float64\n",
      "agePct12t29          1902 non-null float64\n",
      "perCapInc            1902 non-null int64\n",
      "PctPopUnderPov       1902 non-null float64\n",
      "PctBSorMore          1902 non-null float64\n",
      "PctUnemployed        1902 non-null float64\n",
      "TotalPctDiv          1902 non-null float64\n",
      "PctImmigRec10        1902 non-null float64\n",
      "MedRent              1902 non-null int64\n",
      "NumInShelters        1902 non-null int64\n",
      "NumStreet            1902 non-null int64\n",
      "LemasSwornFT         1902 non-null float64\n",
      "NumKindsDrugsSeiz    1902 non-null float64\n",
      "dtypes: float64(9), int64(4)\n",
      "memory usage: 208.0 KB\n"
     ]
    }
   ],
   "source": [
    "X_m_s = data[manually_selected_features]\n",
    "X_m_s.info()"
   ]
  },
  {
   "cell_type": "code",
   "execution_count": 20,
   "metadata": {},
   "outputs": [
    {
     "data": {
      "text/html": [
       "<div>\n",
       "<style scoped>\n",
       "    .dataframe tbody tr th:only-of-type {\n",
       "        vertical-align: middle;\n",
       "    }\n",
       "\n",
       "    .dataframe tbody tr th {\n",
       "        vertical-align: top;\n",
       "    }\n",
       "\n",
       "    .dataframe thead th {\n",
       "        text-align: right;\n",
       "    }\n",
       "</style>\n",
       "<table border=\"1\" class=\"dataframe\">\n",
       "  <thead>\n",
       "    <tr style=\"text-align: right;\">\n",
       "      <th></th>\n",
       "      <th>racePctWhite</th>\n",
       "      <th>agePct12t29</th>\n",
       "      <th>perCapInc</th>\n",
       "      <th>PctPopUnderPov</th>\n",
       "      <th>PctBSorMore</th>\n",
       "      <th>PctUnemployed</th>\n",
       "      <th>TotalPctDiv</th>\n",
       "      <th>PctImmigRec10</th>\n",
       "      <th>MedRent</th>\n",
       "      <th>NumInShelters</th>\n",
       "      <th>NumStreet</th>\n",
       "      <th>LemasSwornFT</th>\n",
       "      <th>NumKindsDrugsSeiz</th>\n",
       "    </tr>\n",
       "  </thead>\n",
       "  <tbody>\n",
       "    <tr>\n",
       "      <th>0</th>\n",
       "      <td>91.78</td>\n",
       "      <td>21.44</td>\n",
       "      <td>29711</td>\n",
       "      <td>1.96</td>\n",
       "      <td>48.18</td>\n",
       "      <td>2.70</td>\n",
       "      <td>4.47</td>\n",
       "      <td>30.93</td>\n",
       "      <td>1001</td>\n",
       "      <td>11</td>\n",
       "      <td>0</td>\n",
       "      <td>462.725166</td>\n",
       "      <td>8.788079</td>\n",
       "    </tr>\n",
       "    <tr>\n",
       "      <th>1</th>\n",
       "      <td>95.57</td>\n",
       "      <td>21.30</td>\n",
       "      <td>20148</td>\n",
       "      <td>3.98</td>\n",
       "      <td>29.89</td>\n",
       "      <td>2.43</td>\n",
       "      <td>5.42</td>\n",
       "      <td>22.50</td>\n",
       "      <td>627</td>\n",
       "      <td>0</td>\n",
       "      <td>0</td>\n",
       "      <td>462.725166</td>\n",
       "      <td>8.788079</td>\n",
       "    </tr>\n",
       "    <tr>\n",
       "      <th>2</th>\n",
       "      <td>94.33</td>\n",
       "      <td>25.88</td>\n",
       "      <td>16946</td>\n",
       "      <td>4.75</td>\n",
       "      <td>30.13</td>\n",
       "      <td>4.01</td>\n",
       "      <td>12.55</td>\n",
       "      <td>35.63</td>\n",
       "      <td>484</td>\n",
       "      <td>16</td>\n",
       "      <td>0</td>\n",
       "      <td>462.725166</td>\n",
       "      <td>8.788079</td>\n",
       "    </tr>\n",
       "    <tr>\n",
       "      <th>5</th>\n",
       "      <td>95.65</td>\n",
       "      <td>32.89</td>\n",
       "      <td>11878</td>\n",
       "      <td>17.78</td>\n",
       "      <td>20.66</td>\n",
       "      <td>5.72</td>\n",
       "      <td>13.04</td>\n",
       "      <td>45.48</td>\n",
       "      <td>340</td>\n",
       "      <td>327</td>\n",
       "      <td>4</td>\n",
       "      <td>462.725166</td>\n",
       "      <td>8.788079</td>\n",
       "    </tr>\n",
       "    <tr>\n",
       "      <th>6</th>\n",
       "      <td>96.57</td>\n",
       "      <td>27.41</td>\n",
       "      <td>18193</td>\n",
       "      <td>4.01</td>\n",
       "      <td>27.01</td>\n",
       "      <td>4.85</td>\n",
       "      <td>7.64</td>\n",
       "      <td>27.76</td>\n",
       "      <td>736</td>\n",
       "      <td>0</td>\n",
       "      <td>0</td>\n",
       "      <td>462.725166</td>\n",
       "      <td>8.788079</td>\n",
       "    </tr>\n",
       "  </tbody>\n",
       "</table>\n",
       "</div>"
      ],
      "text/plain": [
       "   racePctWhite  agePct12t29  perCapInc  PctPopUnderPov  PctBSorMore  \\\n",
       "0         91.78        21.44      29711            1.96        48.18   \n",
       "1         95.57        21.30      20148            3.98        29.89   \n",
       "2         94.33        25.88      16946            4.75        30.13   \n",
       "5         95.65        32.89      11878           17.78        20.66   \n",
       "6         96.57        27.41      18193            4.01        27.01   \n",
       "\n",
       "   PctUnemployed  TotalPctDiv  PctImmigRec10  MedRent  NumInShelters  \\\n",
       "0           2.70         4.47          30.93     1001             11   \n",
       "1           2.43         5.42          22.50      627              0   \n",
       "2           4.01        12.55          35.63      484             16   \n",
       "5           5.72        13.04          45.48      340            327   \n",
       "6           4.85         7.64          27.76      736              0   \n",
       "\n",
       "   NumStreet  LemasSwornFT  NumKindsDrugsSeiz  \n",
       "0          0    462.725166           8.788079  \n",
       "1          0    462.725166           8.788079  \n",
       "2          0    462.725166           8.788079  \n",
       "5          4    462.725166           8.788079  \n",
       "6          0    462.725166           8.788079  "
      ]
     },
     "execution_count": 20,
     "metadata": {},
     "output_type": "execute_result"
    }
   ],
   "source": [
    "X_m_s.head()"
   ]
  },
  {
   "cell_type": "code",
   "execution_count": 21,
   "metadata": {},
   "outputs": [
    {
     "data": {
      "text/html": [
       "<div>\n",
       "<style scoped>\n",
       "    .dataframe tbody tr th:only-of-type {\n",
       "        vertical-align: middle;\n",
       "    }\n",
       "\n",
       "    .dataframe tbody tr th {\n",
       "        vertical-align: top;\n",
       "    }\n",
       "\n",
       "    .dataframe thead th {\n",
       "        text-align: right;\n",
       "    }\n",
       "</style>\n",
       "<table border=\"1\" class=\"dataframe\">\n",
       "  <thead>\n",
       "    <tr style=\"text-align: right;\">\n",
       "      <th></th>\n",
       "      <th>racePctWhite</th>\n",
       "      <th>agePct12t29</th>\n",
       "      <th>perCapInc</th>\n",
       "      <th>PctPopUnderPov</th>\n",
       "      <th>PctBSorMore</th>\n",
       "      <th>PctUnemployed</th>\n",
       "      <th>TotalPctDiv</th>\n",
       "      <th>PctImmigRec10</th>\n",
       "      <th>MedRent</th>\n",
       "      <th>NumInShelters</th>\n",
       "      <th>NumStreet</th>\n",
       "      <th>LemasSwornFT</th>\n",
       "      <th>NumKindsDrugsSeiz</th>\n",
       "    </tr>\n",
       "  </thead>\n",
       "  <tbody>\n",
       "    <tr>\n",
       "      <th>2210</th>\n",
       "      <td>61.68</td>\n",
       "      <td>30.16</td>\n",
       "      <td>10237</td>\n",
       "      <td>25.06</td>\n",
       "      <td>15.79</td>\n",
       "      <td>9.99</td>\n",
       "      <td>13.34</td>\n",
       "      <td>60.31</td>\n",
       "      <td>438</td>\n",
       "      <td>64</td>\n",
       "      <td>0</td>\n",
       "      <td>462.725166</td>\n",
       "      <td>8.788079</td>\n",
       "    </tr>\n",
       "    <tr>\n",
       "      <th>2211</th>\n",
       "      <td>76.65</td>\n",
       "      <td>31.23</td>\n",
       "      <td>9995</td>\n",
       "      <td>20.79</td>\n",
       "      <td>19.28</td>\n",
       "      <td>7.90</td>\n",
       "      <td>13.77</td>\n",
       "      <td>75.64</td>\n",
       "      <td>330</td>\n",
       "      <td>0</td>\n",
       "      <td>0</td>\n",
       "      <td>462.725166</td>\n",
       "      <td>8.788079</td>\n",
       "    </tr>\n",
       "    <tr>\n",
       "      <th>2212</th>\n",
       "      <td>92.62</td>\n",
       "      <td>20.96</td>\n",
       "      <td>14131</td>\n",
       "      <td>7.56</td>\n",
       "      <td>12.42</td>\n",
       "      <td>5.18</td>\n",
       "      <td>11.23</td>\n",
       "      <td>26.72</td>\n",
       "      <td>514</td>\n",
       "      <td>44</td>\n",
       "      <td>0</td>\n",
       "      <td>462.725166</td>\n",
       "      <td>8.788079</td>\n",
       "    </tr>\n",
       "    <tr>\n",
       "      <th>2213</th>\n",
       "      <td>69.91</td>\n",
       "      <td>30.01</td>\n",
       "      <td>8100</td>\n",
       "      <td>30.32</td>\n",
       "      <td>12.40</td>\n",
       "      <td>12.12</td>\n",
       "      <td>12.48</td>\n",
       "      <td>20.71</td>\n",
       "      <td>316</td>\n",
       "      <td>0</td>\n",
       "      <td>0</td>\n",
       "      <td>462.725166</td>\n",
       "      <td>8.788079</td>\n",
       "    </tr>\n",
       "    <tr>\n",
       "      <th>2214</th>\n",
       "      <td>71.27</td>\n",
       "      <td>25.21</td>\n",
       "      <td>11510</td>\n",
       "      <td>18.50</td>\n",
       "      <td>8.86</td>\n",
       "      <td>9.27</td>\n",
       "      <td>17.31</td>\n",
       "      <td>55.97</td>\n",
       "      <td>426</td>\n",
       "      <td>10</td>\n",
       "      <td>2</td>\n",
       "      <td>462.725166</td>\n",
       "      <td>8.788079</td>\n",
       "    </tr>\n",
       "  </tbody>\n",
       "</table>\n",
       "</div>"
      ],
      "text/plain": [
       "      racePctWhite  agePct12t29  perCapInc  PctPopUnderPov  PctBSorMore  \\\n",
       "2210         61.68        30.16      10237           25.06        15.79   \n",
       "2211         76.65        31.23       9995           20.79        19.28   \n",
       "2212         92.62        20.96      14131            7.56        12.42   \n",
       "2213         69.91        30.01       8100           30.32        12.40   \n",
       "2214         71.27        25.21      11510           18.50         8.86   \n",
       "\n",
       "      PctUnemployed  TotalPctDiv  PctImmigRec10  MedRent  NumInShelters  \\\n",
       "2210           9.99        13.34          60.31      438             64   \n",
       "2211           7.90        13.77          75.64      330              0   \n",
       "2212           5.18        11.23          26.72      514             44   \n",
       "2213          12.12        12.48          20.71      316              0   \n",
       "2214           9.27        17.31          55.97      426             10   \n",
       "\n",
       "      NumStreet  LemasSwornFT  NumKindsDrugsSeiz  \n",
       "2210          0    462.725166           8.788079  \n",
       "2211          0    462.725166           8.788079  \n",
       "2212          0    462.725166           8.788079  \n",
       "2213          0    462.725166           8.788079  \n",
       "2214          2    462.725166           8.788079  "
      ]
     },
     "execution_count": 21,
     "metadata": {},
     "output_type": "execute_result"
    }
   ],
   "source": [
    "X_m_s.tail()"
   ]
  },
  {
   "cell_type": "code",
   "execution_count": 22,
   "metadata": {},
   "outputs": [
    {
     "data": {
      "text/plain": [
       "0"
      ]
     },
     "execution_count": 22,
     "metadata": {},
     "output_type": "execute_result"
    }
   ],
   "source": [
    "X_m_s['NumKindsDrugsSeiz'].shape[0] - X_m_s['NumKindsDrugsSeiz'].count()"
   ]
  },
  {
   "cell_type": "code",
   "execution_count": 23,
   "metadata": {},
   "outputs": [
    {
     "data": {
      "text/plain": [
       "0"
      ]
     },
     "execution_count": 23,
     "metadata": {},
     "output_type": "execute_result"
    }
   ],
   "source": [
    "X_m_s['LemasSwornFT'].shape[0] - X_m_s['LemasSwornFT'].count()"
   ]
  },
  {
   "cell_type": "markdown",
   "metadata": {},
   "source": [
    "Let's take a look at the pearson's correlation of the features:"
   ]
  },
  {
   "cell_type": "code",
   "execution_count": 24,
   "metadata": {},
   "outputs": [],
   "source": [
    "m_s_corr = X_m_s.corr()"
   ]
  },
  {
   "cell_type": "code",
   "execution_count": 25,
   "metadata": {},
   "outputs": [
    {
     "data": {
      "image/png": "[encoded data removed]",
      "text/plain": [
       "<Figure size 432x288 with 2 Axes>"
      ]
     },
     "metadata": {},
     "output_type": "display_data"
    }
   ],
   "source": [
    "sns.heatmap(m_s_corr, annot = True);"
   ]
  },
  {
   "cell_type": "markdown",
   "metadata": {},
   "source": [
    "Everything seems to be fine, except for the weird square with high correlation coefficient between the number of homeless features in the streets, the number of homeless people in shelters and the number of policemen."
   ]
  },
  {
   "cell_type": "code",
   "execution_count": 26,
   "metadata": {},
   "outputs": [
    {
     "data": {
      "text/plain": [
       "pandas.core.series.Series"
      ]
     },
     "execution_count": 26,
     "metadata": {},
     "output_type": "execute_result"
    }
   ],
   "source": [
    "type(target_viol)"
   ]
  },
  {
   "cell_type": "markdown",
   "metadata": {},
   "source": [
    "Now let's calculate the correlation coefficient between the selected features and the target variables."
   ]
  },
  {
   "cell_type": "code",
   "execution_count": 27,
   "metadata": {},
   "outputs": [
    {
     "data": {
      "text/plain": [
       "racePctWhite        -0.676357\n",
       "agePct12t29          0.109940\n",
       "perCapInc           -0.313196\n",
       "PctPopUnderPov       0.499213\n",
       "PctBSorMore         -0.299290\n",
       "PctUnemployed        0.474968\n",
       "TotalPctDiv          0.541083\n",
       "PctImmigRec10        0.278065\n",
       "MedRent             -0.230659\n",
       "NumInShelters        0.194454\n",
       "NumStreet            0.140040\n",
       "LemasSwornFT         0.099984\n",
       "NumKindsDrugsSeiz    0.061954\n",
       "dtype: float64"
      ]
     },
     "execution_count": 27,
     "metadata": {},
     "output_type": "execute_result"
    }
   ],
   "source": [
    "X_m_s.corrwith(target_viol)"
   ]
  },
  {
   "cell_type": "code",
   "execution_count": 28,
   "metadata": {},
   "outputs": [
    {
     "data": {
      "text/plain": [
       "racePctWhite        -0.476579\n",
       "agePct12t29          0.111280\n",
       "perCapInc           -0.317037\n",
       "PctPopUnderPov       0.510311\n",
       "PctBSorMore         -0.271017\n",
       "PctUnemployed        0.392085\n",
       "TotalPctDiv          0.606485\n",
       "PctImmigRec10        0.296664\n",
       "MedRent             -0.349403\n",
       "NumInShelters        0.102595\n",
       "NumStreet            0.059097\n",
       "LemasSwornFT         0.017616\n",
       "NumKindsDrugsSeiz    0.031717\n",
       "dtype: float64"
      ]
     },
     "execution_count": 28,
     "metadata": {},
     "output_type": "execute_result"
    }
   ],
   "source": [
    "X_m_s.corrwith(target_nonv)"
   ]
  },
  {
   "cell_type": "markdown",
   "metadata": {},
   "source": [
    "There is definitely enough of linear dependence in order to apply linear regression algorithms."
   ]
  },
  {
   "cell_type": "markdown",
   "metadata": {},
   "source": [
    "## 1. Linear Regression on manually selected dataset"
   ]
  },
  {
   "cell_type": "code",
   "execution_count": 29,
   "metadata": {},
   "outputs": [],
   "source": [
    "from sklearn.linear_model import SGDRegressor, Lasso, Ridge\n",
    "from sklearn.model_selection import GridSearchCV, cross_val_score, train_test_split\n",
    "from sklearn.preprocessing import StandardScaler"
   ]
  },
  {
   "cell_type": "code",
   "execution_count": 30,
   "metadata": {},
   "outputs": [],
   "source": [
    "RANDOM_STATE = 42"
   ]
  },
  {
   "cell_type": "markdown",
   "metadata": {},
   "source": [
    "In this part I compare 3 linear models: SGDRegressor, Lasso, and Ridge."
   ]
  },
  {
   "cell_type": "code",
   "execution_count": 31,
   "metadata": {},
   "outputs": [],
   "source": [
    "X_m_s_train, X_m_s_test, target_nonv_train, target_nonv_test, target_viol_train, target_viol_test = train_test_split(X_m_s, target_nonv, target_viol, test_size = 0.3, random_state = RANDOM_STATE)"
   ]
  },
  {
   "cell_type": "code",
   "execution_count": 32,
   "metadata": {},
   "outputs": [],
   "source": [
    "scaler = StandardScaler()\n",
    "X_m_s_train_norm = scaler.fit_transform(X_m_s_train)\n",
    "X_m_s_test_norm = scaler.fit_transform(X_m_s_test)"
   ]
  },
  {
   "cell_type": "code",
   "execution_count": 33,
   "metadata": {},
   "outputs": [],
   "source": [
    "sgdreg = SGDRegressor(random_state = RANDOM_STATE)"
   ]
  },
  {
   "cell_type": "code",
   "execution_count": 34,
   "metadata": {},
   "outputs": [],
   "source": [
    "from sklearn.metrics import mean_squared_error, mean_absolute_error"
   ]
  },
  {
   "cell_type": "code",
   "execution_count": 35,
   "metadata": {},
   "outputs": [],
   "source": [
    "ridge = Ridge(random_state = RANDOM_STATE)"
   ]
  },
  {
   "cell_type": "code",
   "execution_count": 36,
   "metadata": {},
   "outputs": [],
   "source": [
    "def evaluate(X_train, X_test, y_train, y_test, regressor):\n",
    "    regressor.fit(X_train, y_train)\n",
    "    MAE_train = mean_absolute_error(y_train, regressor.predict(X_train))\n",
    "    MAE_test = mean_absolute_error(y_test, regressor.predict(X_test))\n",
    "    return(MAE_train, MAE_test)"
   ]
  },
  {
   "cell_type": "code",
   "execution_count": 37,
   "metadata": {},
   "outputs": [],
   "source": [
    "def print_result(result):\n",
    "    print('MAE_train: ', result[0])\n",
    "    print('MAE_test: ', result[1])"
   ]
  },
  {
   "cell_type": "code",
   "execution_count": 38,
   "metadata": {},
   "outputs": [
    {
     "name": "stdout",
     "output_type": "stream",
     "text": [
      "MAE_train:  650.8583086623811\n",
      "MAE_test:  955.700347513871\n"
     ]
    }
   ],
   "source": [
    "result_sgdreg = evaluate(X_m_s_train_norm, X_m_s_test_norm, target_viol_train, target_viol_test, sgdreg)\n",
    "print_result(result_sgdreg)"
   ]
  },
  {
   "cell_type": "code",
   "execution_count": 39,
   "metadata": {},
   "outputs": [
    {
     "name": "stdout",
     "output_type": "stream",
     "text": [
      "MAE_train:  3280.308874531848\n",
      "MAE_test:  4953.8814615524325\n"
     ]
    }
   ],
   "source": [
    "result_sgdreg_nonv = evaluate(X_m_s_train_norm, X_m_s_test_norm, target_nonv_train, target_nonv_test, sgdreg)\n",
    "print_result(result_sgdreg_nonv)"
   ]
  },
  {
   "cell_type": "code",
   "execution_count": 40,
   "metadata": {},
   "outputs": [
    {
     "name": "stdout",
     "output_type": "stream",
     "text": [
      "MAE_train:  265.1171516154771\n",
      "MAE_test:  270.9576014858093\n"
     ]
    }
   ],
   "source": [
    "result_ridge_viol = evaluate(X_m_s_train_norm, X_m_s_test_norm, target_viol_train, target_viol_test, ridge)\n",
    "print_result(result_ridge_viol)"
   ]
  },
  {
   "cell_type": "code",
   "execution_count": 41,
   "metadata": {},
   "outputs": [
    {
     "name": "stdout",
     "output_type": "stream",
     "text": [
      "MAE_train:  1345.7237526900817\n",
      "MAE_test:  1400.6712809881462\n"
     ]
    }
   ],
   "source": [
    "result_ridge_nonv = evaluate(X_m_s_train_norm, X_m_s_test_norm, target_nonv_train, target_nonv_test, ridge)\n",
    "print_result(result_ridge_nonv)"
   ]
  },
  {
   "cell_type": "code",
   "execution_count": 42,
   "metadata": {},
   "outputs": [],
   "source": [
    "lasso = Lasso(random_state = RANDOM_STATE)"
   ]
  },
  {
   "cell_type": "code",
   "execution_count": 43,
   "metadata": {},
   "outputs": [],
   "source": [
    "def evaluate_lasso(X_train, X_test, y_train, y_test, regressor):\n",
    "    regressor.fit(X_train, y_train)\n",
    "    weights = regressor.coef_\n",
    "    MAE_train = mean_absolute_error(y_train, regressor.predict(X_train))\n",
    "    MAE_test = mean_absolute_error(y_test, regressor.predict(X_test))\n",
    "    pred = regressor.predict(X_test)\n",
    "    return(weights, MAE_train, MAE_test)"
   ]
  },
  {
   "cell_type": "code",
   "execution_count": 44,
   "metadata": {},
   "outputs": [
    {
     "data": {
      "text/plain": [
       "(array([-431.27438227, -192.51558817,  242.93123422,  893.09989239,\n",
       "         -22.4552592 , -263.81462621, 1112.9258444 ,  194.87819809,\n",
       "        -203.22322033,  944.63097601,  -47.37533586, -879.61994902,\n",
       "          24.67219338]), 1345.939472380797, 1400.6183591755841)"
      ]
     },
     "execution_count": 44,
     "metadata": {},
     "output_type": "execute_result"
    }
   ],
   "source": [
    "result_nonv_lasso = evaluate_lasso(X_m_s_train_norm, X_m_s_test_norm, target_nonv_train, target_nonv_test, lasso)\n",
    "result_nonv_lasso"
   ]
  },
  {
   "cell_type": "code",
   "execution_count": 45,
   "metadata": {},
   "outputs": [
    {
     "data": {
      "text/plain": [
       "(array([-289.22761161,  -16.89355431,   16.38227802,   97.72151366,\n",
       "         -27.49298653,   22.23495703,  155.422002  ,  -26.87906878,\n",
       "          26.64719542,  363.3624874 ,  -96.09729257, -223.72677258,\n",
       "           8.6079747 ]), 265.16512201534056, 268.918191538164)"
      ]
     },
     "execution_count": 45,
     "metadata": {},
     "output_type": "execute_result"
    }
   ],
   "source": [
    "result_lasso_viol = evaluate_lasso(X_m_s_train_norm, X_m_s_test_norm, target_viol_train, target_viol_test, lasso)\n",
    "result_lasso_viol"
   ]
  },
  {
   "cell_type": "markdown",
   "metadata": {},
   "source": [
    "## 2. Linear regression on manually selected dataset with parameter tuning"
   ]
  },
  {
   "cell_type": "markdown",
   "metadata": {},
   "source": [
    "Let's tune the models in order to obtain better performance."
   ]
  },
  {
   "cell_type": "code",
   "execution_count": 48,
   "metadata": {},
   "outputs": [],
   "source": [
    "def grid_evaluate(X_train, X_test, y_train, y_test, regressor, parameters):\n",
    "    grid = GridSearchCV(regressor, parameters, scoring = 'neg_mean_absolute_error', cv = 4, n_jobs = -1)\n",
    "    grid.fit(X_train, y_train)\n",
    "    score = grid.best_score_\n",
    "    params = grid.best_params_\n",
    "    predicts_train = grid.best_estimator_.predict(X_train)\n",
    "    predicts_test = grid.best_estimator_.predict(X_test)\n",
    "    MAE_train = mean_absolute_error(y_train, predicts_train)\n",
    "    MAE_test = mean_absolute_error(y_test, predicts_test)\n",
    "    return(score, params, MAE_train, MAE_test)"
   ]
  },
  {
   "cell_type": "code",
   "execution_count": 49,
   "metadata": {},
   "outputs": [],
   "source": [
    "sgdreg_params = {'alpha': 10.0**-np.arange(1,7)}\n",
    "ridge_lasso_params_0 = {'alpha': np.logspace(-2, 1, 5)}\n",
    "ridge_lasso_params_1 = {'alpha': np.logspace(-1, 1, 5)}"
   ]
  },
  {
   "cell_type": "code",
   "execution_count": 50,
   "metadata": {},
   "outputs": [
    {
     "name": "stdout",
     "output_type": "stream",
     "text": [
      "(-1070.3604686092212, {'alpha': 0.1}, 363.4036395440142, 430.74600735543316)\n",
      "CPU times: user 107 ms, sys: 57.9 ms, total: 165 ms\n",
      "Wall time: 3.08 s\n"
     ]
    },
    {
     "name": "stderr",
     "output_type": "stream",
     "text": [
      "/home/amateurdesperado/pycodeine/project1/proj1_env/lib/python3.5/site-packages/sklearn/model_selection/_search.py:841: DeprecationWarning: The default of the `iid` parameter will change from True to False in version 0.22 and will be removed in 0.24. This will change numeric results when test-set sizes are unequal.\n",
      "  DeprecationWarning)\n"
     ]
    }
   ],
   "source": [
    "%%time\n",
    "grid_sgdreg_viol = grid_evaluate(X_m_s_train_norm, X_m_s_test_norm, target_viol_train, target_viol_test, sgdreg, sgdreg_params)\n",
    "print(grid_sgdreg_viol)"
   ]
  },
  {
   "cell_type": "code",
   "execution_count": 51,
   "metadata": {},
   "outputs": [
    {
     "name": "stdout",
     "output_type": "stream",
     "text": [
      "(-274.3122154952893, {'alpha': 10.0}, 265.43580679813186, 267.6384564579106)\n",
      "CPU times: user 37 ms, sys: 12.5 ms, total: 49.5 ms\n",
      "Wall time: 322 ms\n"
     ]
    }
   ],
   "source": [
    "%%time\n",
    "grid_ridge_viol = grid_evaluate(X_m_s_train_norm, X_m_s_test_norm, target_viol_train, target_viol_test, ridge, ridge_lasso_params_0)\n",
    "print(grid_ridge_viol)"
   ]
  },
  {
   "cell_type": "code",
   "execution_count": 52,
   "metadata": {},
   "outputs": [
    {
     "name": "stdout",
     "output_type": "stream",
     "text": [
      "(-274.3122154952893, {'alpha': 10.0}, 265.43580679813186, 267.6384564579106)\n",
      "CPU times: user 36.5 ms, sys: 3.93 ms, total: 40.4 ms\n",
      "Wall time: 171 ms\n"
     ]
    }
   ],
   "source": [
    "%%time\n",
    "grid_ridge_viol = grid_evaluate(X_m_s_train_norm, X_m_s_test_norm, target_viol_train, target_viol_test, ridge, ridge_lasso_params_1)\n",
    "print(grid_ridge_viol)"
   ]
  },
  {
   "cell_type": "code",
   "execution_count": 53,
   "metadata": {},
   "outputs": [],
   "source": [
    "rigde_lasso_params_2 = {'alpha': np.logspace(0, 2, 5)}"
   ]
  },
  {
   "cell_type": "code",
   "execution_count": 54,
   "metadata": {},
   "outputs": [],
   "source": [
    "ridge_lasso_params_3 = {'alpha' : np.linspace(0.1, 2, 20)}"
   ]
  },
  {
   "cell_type": "code",
   "execution_count": 55,
   "metadata": {},
   "outputs": [
    {
     "name": "stdout",
     "output_type": "stream",
     "text": [
      "(-273.2622123562587, {'alpha': 100.0}, 267.14900384971196, 258.1202700167888)\n",
      "CPU times: user 33.5 ms, sys: 16.9 ms, total: 50.4 ms\n",
      "Wall time: 335 ms\n"
     ]
    }
   ],
   "source": [
    "%%time\n",
    "grid_ridge_viol = grid_evaluate(X_m_s_train_norm, X_m_s_test_norm, target_viol_train, target_viol_test, ridge, rigde_lasso_params_2)\n",
    "print(grid_ridge_viol)"
   ]
  },
  {
   "cell_type": "code",
   "execution_count": 56,
   "metadata": {},
   "outputs": [
    {
     "data": {
      "text/plain": [
       "dict_keys(['estimator__max_iter', 'estimator__early_stopping', 'estimator__verbose', 'refit', 'estimator__power_t', 'iid', 'estimator__validation_fraction', 'estimator__n_iter', 'n_jobs', 'estimator__average', 'param_grid', 'estimator__fit_intercept', 'estimator__n_iter_no_change', 'cv', 'estimator__tol', 'estimator', 'estimator__random_state', 'estimator__alpha', 'estimator__eta0', 'estimator__l1_ratio', 'estimator__shuffle', 'estimator__loss', 'estimator__learning_rate', 'scoring', 'estimator__warm_start', 'fit_params', 'verbose', 'pre_dispatch', 'return_train_score', 'estimator__penalty', 'estimator__epsilon', 'error_score'])"
      ]
     },
     "execution_count": 56,
     "metadata": {},
     "output_type": "execute_result"
    }
   ],
   "source": [
    "grid_sgd = GridSearchCV(sgdreg, ridge_lasso_params_0)\n",
    "grid_sgd.get_params().keys()"
   ]
  },
  {
   "cell_type": "code",
   "execution_count": 57,
   "metadata": {},
   "outputs": [
    {
     "name": "stdout",
     "output_type": "stream",
     "text": [
      "(-274.5114872507342, {'alpha': 31.622776601683793}, 271.8383761396298, 259.94365824914854)\n",
      "CPU times: user 44 ms, sys: 678 µs, total: 44.6 ms\n",
      "Wall time: 423 ms\n"
     ]
    }
   ],
   "source": [
    "%%time\n",
    "grid_lasso_viol = grid_evaluate(X_m_s_train_norm, X_m_s_test_norm, target_viol_train, target_viol_test, lasso, rigde_lasso_params_2)\n",
    "print(grid_lasso_viol)"
   ]
  },
  {
   "cell_type": "code",
   "execution_count": 58,
   "metadata": {},
   "outputs": [
    {
     "name": "stdout",
     "output_type": "stream",
     "text": [
      "(-4411.522284954951, {'alpha': 0.1}, 1974.1010182234797, 2487.215035688884)\n",
      "CPU times: user 51.4 ms, sys: 12.7 ms, total: 64.1 ms\n",
      "Wall time: 371 ms\n"
     ]
    },
    {
     "name": "stderr",
     "output_type": "stream",
     "text": [
      "/home/amateurdesperado/pycodeine/project1/proj1_env/lib/python3.5/site-packages/sklearn/model_selection/_search.py:841: DeprecationWarning: The default of the `iid` parameter will change from True to False in version 0.22 and will be removed in 0.24. This will change numeric results when test-set sizes are unequal.\n",
      "  DeprecationWarning)\n"
     ]
    }
   ],
   "source": [
    "%%time\n",
    "grid_sgdreg_nonv = grid_evaluate(X_m_s_train_norm, X_m_s_test_norm, target_nonv_train, target_nonv_test, sgdreg, sgdreg_params)\n",
    "print(grid_sgdreg_nonv)"
   ]
  },
  {
   "cell_type": "code",
   "execution_count": 59,
   "metadata": {},
   "outputs": [
    {
     "name": "stdout",
     "output_type": "stream",
     "text": [
      "(-1371.7439699756335, {'alpha': 1.0}, 1345.7237526900817, 1400.6712809881462)\n",
      "CPU times: user 36.7 ms, sys: 18.7 ms, total: 55.5 ms\n",
      "Wall time: 394 ms\n"
     ]
    }
   ],
   "source": [
    "%%time\n",
    "grid_ridge_nonv = grid_evaluate(X_m_s_train_norm, X_m_s_test_norm, target_nonv_train, target_nonv_test, ridge, rigde_lasso_params_2)\n",
    "print(grid_ridge_nonv)"
   ]
  },
  {
   "cell_type": "code",
   "execution_count": 60,
   "metadata": {},
   "outputs": [
    {
     "name": "stdout",
     "output_type": "stream",
     "text": [
      "(-1371.9657390368804, {'alpha': 1.0}, 1345.939472380797, 1400.6183591755841)\n",
      "CPU times: user 44.2 ms, sys: 14.8 ms, total: 59 ms\n",
      "Wall time: 345 ms\n"
     ]
    }
   ],
   "source": [
    "%%time\n",
    "grid_lasso_nonv = grid_evaluate(X_m_s_train_norm, X_m_s_test_norm, target_nonv_train, target_nonv_test, lasso, rigde_lasso_params_2)\n",
    "print(grid_lasso_nonv)"
   ]
  },
  {
   "cell_type": "code",
   "execution_count": 61,
   "metadata": {},
   "outputs": [
    {
     "name": "stdout",
     "output_type": "stream",
     "text": [
      "(-1371.746852449666, {'alpha': 0.1}, 1345.588317290338, 1400.7702166323065)\n",
      "CPU times: user 110 ms, sys: 14.6 ms, total: 125 ms\n",
      "Wall time: 1.29 s\n"
     ]
    }
   ],
   "source": [
    "%%time\n",
    "grid_lasso_nonv_2 = grid_evaluate(X_m_s_train_norm, X_m_s_test_norm, target_nonv_train, target_nonv_test, lasso, ridge_lasso_params_3)\n",
    "print(grid_lasso_nonv_2)"
   ]
  },
  {
   "cell_type": "markdown",
   "metadata": {},
   "source": [
    "So far I'm best at predicting violent crimes with parameter tuning. Parameter tuning for nonviolent cries influences SGDRegressor results the most. Let's plot the results for each model."
   ]
  },
  {
   "cell_type": "markdown",
   "metadata": {},
   "source": [
    "### 2.1. Violent crimes"
   ]
  },
  {
   "cell_type": "code",
   "execution_count": 62,
   "metadata": {},
   "outputs": [],
   "source": [
    "best_sgdreg_viol = SGDRegressor(alpha = 0.1, random_state = RANDOM_STATE)\n",
    "best_ridge_viol = Ridge(alpha = 100.0, random_state = RANDOM_STATE)\n",
    "best_lasso_viol = Lasso(alpha = 31.622776601683793, random_state = RANDOM_STATE)"
   ]
  },
  {
   "cell_type": "code",
   "execution_count": 63,
   "metadata": {},
   "outputs": [],
   "source": [
    "def plotter(X_train, X_test, y_train, y_test, regressor, title, lim_low, lim_up):\n",
    "    regressor.fit(X_train, y_train)\n",
    "    plt.scatter(y_train, regressor.predict(X_train))\n",
    "    plt.scatter(y_test, regressor.predict(X_test))\n",
    "    plt.xlim(lim_low, lim_up)\n",
    "    plt.ylim(lim_low, lim_up)\n",
    "    plt.title(title)"
   ]
  },
  {
   "cell_type": "code",
   "execution_count": 64,
   "metadata": {},
   "outputs": [
    {
     "data": {
      "image/png": "[encoded data removed]",
      "text/plain": [
       "<Figure size 432x288 with 1 Axes>"
      ]
     },
     "metadata": {},
     "output_type": "display_data"
    }
   ],
   "source": [
    "plotter(X_m_s_train_norm, X_m_s_test_norm, target_viol_train, target_viol_test, best_sgdreg_viol, 'SGDRegressor', -100, 5000)"
   ]
  },
  {
   "cell_type": "code",
   "execution_count": 65,
   "metadata": {},
   "outputs": [
    {
     "data": {
      "image/png": "[encoded data removed]",
      "text/plain": [
       "<Figure size 432x288 with 1 Axes>"
      ]
     },
     "metadata": {},
     "output_type": "display_data"
    }
   ],
   "source": [
    "plotter(X_m_s_train_norm, X_m_s_test_norm, target_viol_train, target_viol_test, best_ridge_viol, 'Ridge', -100, 5000)"
   ]
  },
  {
   "cell_type": "code",
   "execution_count": 66,
   "metadata": {},
   "outputs": [
    {
     "data": {
      "image/png": "[encoded data removed]",
      "text/plain": [
       "<Figure size 432x288 with 1 Axes>"
      ]
     },
     "metadata": {},
     "output_type": "display_data"
    }
   ],
   "source": [
    "plotter(X_m_s_train_norm, X_m_s_test_norm, target_viol_train, target_viol_test, best_lasso_viol, 'Lasso', -100, 5000)"
   ]
  },
  {
   "cell_type": "markdown",
   "metadata": {},
   "source": [
    "### 2.2 Nonviolent crimes"
   ]
  },
  {
   "cell_type": "code",
   "execution_count": 67,
   "metadata": {},
   "outputs": [],
   "source": [
    "best_sgdreg_nonv = SGDRegressor(alpha = 0.1, random_state = RANDOM_STATE)\n",
    "best_ridge_nonv = Ridge(random_state = RANDOM_STATE)\n",
    "best_lasso_nonv = Lasso(alpha = 0.1, random_state = RANDOM_STATE)"
   ]
  },
  {
   "cell_type": "code",
   "execution_count": 68,
   "metadata": {},
   "outputs": [
    {
     "data": {
      "image/png": "[encoded data removed]",
      "text/plain": [
       "<Figure size 432x288 with 1 Axes>"
      ]
     },
     "metadata": {},
     "output_type": "display_data"
    }
   ],
   "source": [
    "plotter(X_m_s_train_norm, X_m_s_test_norm, target_nonv_train, target_nonv_test, best_sgdreg_nonv, 'SGDRegressor', -100, 15000)"
   ]
  },
  {
   "cell_type": "code",
   "execution_count": 69,
   "metadata": {},
   "outputs": [
    {
     "data": {
      "image/png": "[encoded data removed]",
      "text/plain": [
       "<Figure size 432x288 with 1 Axes>"
      ]
     },
     "metadata": {},
     "output_type": "display_data"
    }
   ],
   "source": [
    "plotter(X_m_s_train_norm, X_m_s_test_norm, target_nonv_train, target_nonv_test, best_lasso_nonv, 'Lasso', -100, 15000)"
   ]
  },
  {
   "cell_type": "code",
   "execution_count": 70,
   "metadata": {},
   "outputs": [
    {
     "data": {
      "image/png": "[encoded data removed]",
      "text/plain": [
       "<Figure size 432x288 with 1 Axes>"
      ]
     },
     "metadata": {},
     "output_type": "display_data"
    }
   ],
   "source": [
    "plotter(X_m_s_train_norm, X_m_s_test_norm, target_nonv_train, target_nonv_test, best_ridge_nonv, 'Ridge', -100, 15000)"
   ]
  },
  {
   "cell_type": "markdown",
   "metadata": {},
   "source": [
    "## 3. Random Forest "
   ]
  },
  {
   "cell_type": "markdown",
   "metadata": {},
   "source": [
    "Now I wanna see how a 'wooden' algorithm will perform, so I apply the RandomForestRegressor"
   ]
  },
  {
   "cell_type": "code",
   "execution_count": 71,
   "metadata": {},
   "outputs": [],
   "source": [
    "from sklearn.ensemble import RandomForestRegressor"
   ]
  },
  {
   "cell_type": "code",
   "execution_count": 72,
   "metadata": {},
   "outputs": [],
   "source": [
    "rfreg = RandomForestRegressor(criterion = 'mae', random_state = RANDOM_STATE)"
   ]
  },
  {
   "cell_type": "code",
   "execution_count": 73,
   "metadata": {},
   "outputs": [
    {
     "name": "stdout",
     "output_type": "stream",
     "text": [
      "MAE_train:  103.07431930879038\n",
      "MAE_test:  258.10251751313484\n"
     ]
    }
   ],
   "source": [
    "result_rfreg = evaluate(X_m_s_train_norm, X_m_s_test_norm, target_viol_train, target_viol_test, rfreg)\n",
    "print_result(result_rfreg)"
   ]
  },
  {
   "cell_type": "code",
   "execution_count": 74,
   "metadata": {},
   "outputs": [
    {
     "name": "stdout",
     "output_type": "stream",
     "text": [
      "MAE_train:  543.6699921111946\n",
      "MAE_test:  1395.3402022767075\n"
     ]
    }
   ],
   "source": [
    "result_rfreg_nonv = evaluate(X_m_s_train_norm, X_m_s_test_norm, target_nonv_train, target_nonv_test, rfreg)\n",
    "print_result(result_rfreg_nonv)"
   ]
  },
  {
   "cell_type": "markdown",
   "metadata": {},
   "source": [
    "### 3.1. Random Forest with parameter tuning: violent crimes"
   ]
  },
  {
   "cell_type": "code",
   "execution_count": 75,
   "metadata": {},
   "outputs": [],
   "source": [
    "from sklearn.model_selection import RandomizedSearchCV"
   ]
  },
  {
   "cell_type": "code",
   "execution_count": 76,
   "metadata": {},
   "outputs": [
    {
     "data": {
      "text/plain": [
       "{'bootstrap': [True, False],\n",
       " 'max_depth': array([ 10,  20,  30,  40,  50,  60,  70,  80,  90, 100, 110]),\n",
       " 'max_features': ['auto', 'sqrt'],\n",
       " 'min_samples_leaf': [1, 2, 4],\n",
       " 'min_samples_split': [2, 5, 10],\n",
       " 'n_estimators': array([  20,   40,   60,   80,  100,  120,  140,  160,  180,  200,  220,\n",
       "         240,  260,  280,  300,  320,  340,  360,  380,  400,  420,  440,\n",
       "         460,  480,  500,  520,  540,  560,  580,  600,  620,  640,  660,\n",
       "         680,  700,  720,  740,  760,  780,  800,  820,  840,  860,  880,\n",
       "         900,  920,  940,  960,  980, 1000, 1020, 1040, 1060, 1080, 1100,\n",
       "        1120, 1140, 1160, 1180, 1200, 1220, 1240, 1260, 1280, 1300, 1320,\n",
       "        1340, 1360, 1380, 1400, 1420, 1440, 1460, 1480, 1500, 1520, 1540,\n",
       "        1560, 1580, 1600, 1620, 1640, 1660, 1680, 1700, 1720, 1740, 1760,\n",
       "        1780, 1800, 1820, 1840, 1860, 1880, 1900, 1920, 1940, 1960, 1980,\n",
       "        2000])}"
      ]
     },
     "execution_count": 76,
     "metadata": {},
     "output_type": "execute_result"
    }
   ],
   "source": [
    "n_estimators = np.arange(20, 2020, 20)\n",
    "max_features = ['auto', 'sqrt']\n",
    "max_depth = np.arange(10, 120, 10)\n",
    "min_samples_split = [2, 5, 10]\n",
    "min_samples_leaf = [1, 2, 4]\n",
    "bootstrap = [True, False]\n",
    "random_params = {'n_estimators': n_estimators,\n",
    "               'max_features': max_features,\n",
    "               'max_depth': max_depth,\n",
    "               'min_samples_split': min_samples_split,\n",
    "               'min_samples_leaf': min_samples_leaf,\n",
    "               'bootstrap': bootstrap}\n",
    "random_params"
   ]
  },
  {
   "cell_type": "code",
   "execution_count": 77,
   "metadata": {},
   "outputs": [],
   "source": [
    "random_rf = RandomizedSearchCV(rfreg, random_params, n_iter = 100, cv = 3, verbose=2, random_state=RANDOM_STATE, n_jobs = -1)"
   ]
  },
  {
   "cell_type": "code",
   "execution_count": 79,
   "metadata": {},
   "outputs": [
    {
     "name": "stdout",
     "output_type": "stream",
     "text": [
      "Fitting 3 folds for each of 100 candidates, totalling 300 fits\n",
      "[CV] max_depth=90, max_features=sqrt, n_estimators=1920, bootstrap=True, min_samples_leaf=2, min_samples_split=5 \n",
      "[CV] max_depth=90, max_features=sqrt, n_estimators=1920, bootstrap=True, min_samples_leaf=2, min_samples_split=5 \n",
      "[CV] max_depth=90, max_features=sqrt, n_estimators=1920, bootstrap=True, min_samples_leaf=2, min_samples_split=5 \n",
      "[CV] max_depth=10, max_features=auto, n_estimators=1220, bootstrap=True, min_samples_leaf=4, min_samples_split=10 \n",
      "[CV]  max_depth=90, max_features=sqrt, n_estimators=1920, bootstrap=True, min_samples_leaf=2, min_samples_split=5, total=  49.8s\n",
      "[CV] max_depth=10, max_features=auto, n_estimators=1220, bootstrap=True, min_samples_leaf=4, min_samples_split=10 \n",
      "[CV]  max_depth=90, max_features=sqrt, n_estimators=1920, bootstrap=True, min_samples_leaf=2, min_samples_split=5, total=  50.5s\n",
      "[CV] max_depth=10, max_features=auto, n_estimators=1220, bootstrap=True, min_samples_leaf=4, min_samples_split=10 \n",
      "[CV]  max_depth=90, max_features=sqrt, n_estimators=1920, bootstrap=True, min_samples_leaf=2, min_samples_split=5, total=  51.3s\n",
      "[CV] max_depth=110, max_features=auto, n_estimators=1180, bootstrap=False, min_samples_leaf=2, min_samples_split=2 \n",
      "[CV]  max_depth=10, max_features=auto, n_estimators=1220, bootstrap=True, min_samples_leaf=4, min_samples_split=10, total= 1.6min\n",
      "[CV] max_depth=110, max_features=auto, n_estimators=1180, bootstrap=False, min_samples_leaf=2, min_samples_split=2 \n",
      "[CV]  max_depth=10, max_features=auto, n_estimators=1220, bootstrap=True, min_samples_leaf=4, min_samples_split=10, total= 1.6min\n",
      "[CV] max_depth=110, max_features=auto, n_estimators=1180, bootstrap=False, min_samples_leaf=2, min_samples_split=2 \n",
      "[CV]  max_depth=10, max_features=auto, n_estimators=1220, bootstrap=True, min_samples_leaf=4, min_samples_split=10, total= 1.6min\n",
      "[CV] max_depth=70, max_features=auto, n_estimators=1700, bootstrap=True, min_samples_leaf=2, min_samples_split=5 \n",
      "[CV]  max_depth=110, max_features=auto, n_estimators=1180, bootstrap=False, min_samples_leaf=2, min_samples_split=2, total= 3.8min\n",
      "[CV] max_depth=70, max_features=auto, n_estimators=1700, bootstrap=True, min_samples_leaf=2, min_samples_split=5 \n",
      "[CV]  max_depth=70, max_features=auto, n_estimators=1700, bootstrap=True, min_samples_leaf=2, min_samples_split=5, total= 2.5min\n",
      "[CV] max_depth=70, max_features=auto, n_estimators=1700, bootstrap=True, min_samples_leaf=2, min_samples_split=5 \n",
      "[CV]  max_depth=110, max_features=auto, n_estimators=1180, bootstrap=False, min_samples_leaf=2, min_samples_split=2, total= 3.5min\n",
      "[CV] max_depth=40, max_features=auto, n_estimators=1320, bootstrap=True, min_samples_leaf=4, min_samples_split=10 \n",
      "[CV]  max_depth=110, max_features=auto, n_estimators=1180, bootstrap=False, min_samples_leaf=2, min_samples_split=2, total= 3.6min\n",
      "[CV] max_depth=40, max_features=auto, n_estimators=1320, bootstrap=True, min_samples_leaf=4, min_samples_split=10 \n",
      "[CV]  max_depth=40, max_features=auto, n_estimators=1320, bootstrap=True, min_samples_leaf=4, min_samples_split=10, total= 1.7min\n",
      "[CV] max_depth=40, max_features=auto, n_estimators=1320, bootstrap=True, min_samples_leaf=4, min_samples_split=10 \n",
      "[CV]  max_depth=70, max_features=auto, n_estimators=1700, bootstrap=True, min_samples_leaf=2, min_samples_split=5, total= 2.6min\n",
      "[CV] max_depth=100, max_features=auto, n_estimators=1020, bootstrap=True, min_samples_leaf=4, min_samples_split=2 \n",
      "[CV]  max_depth=70, max_features=auto, n_estimators=1700, bootstrap=True, min_samples_leaf=2, min_samples_split=5, total= 2.5min\n",
      "[CV] max_depth=100, max_features=auto, n_estimators=1020, bootstrap=True, min_samples_leaf=4, min_samples_split=2 \n",
      "[CV]  max_depth=40, max_features=auto, n_estimators=1320, bootstrap=True, min_samples_leaf=4, min_samples_split=10, total= 1.8min\n",
      "[CV] max_depth=100, max_features=auto, n_estimators=1020, bootstrap=True, min_samples_leaf=4, min_samples_split=2 \n",
      "[CV]  max_depth=100, max_features=auto, n_estimators=1020, bootstrap=True, min_samples_leaf=4, min_samples_split=2, total= 1.4min\n",
      "[CV] max_depth=100, max_features=sqrt, n_estimators=1900, bootstrap=False, min_samples_leaf=1, min_samples_split=10 \n",
      "[CV]  max_depth=40, max_features=auto, n_estimators=1320, bootstrap=True, min_samples_leaf=4, min_samples_split=10, total= 1.8min\n",
      "[CV] max_depth=100, max_features=sqrt, n_estimators=1900, bootstrap=False, min_samples_leaf=1, min_samples_split=10 \n",
      "[CV]  max_depth=100, max_features=auto, n_estimators=1020, bootstrap=True, min_samples_leaf=4, min_samples_split=2, total= 1.3min\n",
      "[CV] max_depth=100, max_features=sqrt, n_estimators=1900, bootstrap=False, min_samples_leaf=1, min_samples_split=10 \n",
      "[CV]  max_depth=100, max_features=auto, n_estimators=1020, bootstrap=True, min_samples_leaf=4, min_samples_split=2, total= 1.4min\n",
      "[CV] max_depth=20, max_features=auto, n_estimators=1260, bootstrap=False, min_samples_leaf=2, min_samples_split=2 \n",
      "[CV]  max_depth=100, max_features=sqrt, n_estimators=1900, bootstrap=False, min_samples_leaf=1, min_samples_split=10, total= 1.7min\n",
      "[CV] max_depth=20, max_features=auto, n_estimators=1260, bootstrap=False, min_samples_leaf=2, min_samples_split=2 \n",
      "[CV]  max_depth=100, max_features=sqrt, n_estimators=1900, bootstrap=False, min_samples_leaf=1, min_samples_split=10, total= 1.7min\n",
      "[CV] max_depth=20, max_features=auto, n_estimators=1260, bootstrap=False, min_samples_leaf=2, min_samples_split=2 \n",
      "[CV]  max_depth=100, max_features=sqrt, n_estimators=1900, bootstrap=False, min_samples_leaf=1, min_samples_split=10, total= 1.7min\n",
      "[CV] max_depth=90, max_features=sqrt, n_estimators=480, bootstrap=True, min_samples_leaf=4, min_samples_split=5 \n",
      "[CV]  max_depth=90, max_features=sqrt, n_estimators=480, bootstrap=True, min_samples_leaf=4, min_samples_split=5, total=  11.2s\n",
      "[CV] max_depth=90, max_features=sqrt, n_estimators=480, bootstrap=True, min_samples_leaf=4, min_samples_split=5 \n",
      "[CV]  max_depth=90, max_features=sqrt, n_estimators=480, bootstrap=True, min_samples_leaf=4, min_samples_split=5, total=  11.3s\n",
      "[CV] max_depth=90, max_features=sqrt, n_estimators=480, bootstrap=True, min_samples_leaf=4, min_samples_split=5 \n",
      "[CV]  max_depth=90, max_features=sqrt, n_estimators=480, bootstrap=True, min_samples_leaf=4, min_samples_split=5, total=  11.3s\n",
      "[CV] max_depth=10, max_features=sqrt, n_estimators=1720, bootstrap=True, min_samples_leaf=4, min_samples_split=5 \n",
      "[CV]  max_depth=10, max_features=sqrt, n_estimators=1720, bootstrap=True, min_samples_leaf=4, min_samples_split=5, total=  40.3s\n",
      "[CV] max_depth=10, max_features=sqrt, n_estimators=1720, bootstrap=True, min_samples_leaf=4, min_samples_split=5 \n",
      "[CV]  max_depth=10, max_features=sqrt, n_estimators=1720, bootstrap=True, min_samples_leaf=4, min_samples_split=5, total=  39.9s\n",
      "[CV] max_depth=10, max_features=sqrt, n_estimators=1720, bootstrap=True, min_samples_leaf=4, min_samples_split=5 \n",
      "[CV]  max_depth=10, max_features=sqrt, n_estimators=1720, bootstrap=True, min_samples_leaf=4, min_samples_split=5, total=  39.3s\n",
      "[CV] max_depth=10, max_features=auto, n_estimators=1400, bootstrap=True, min_samples_leaf=4, min_samples_split=5 \n",
      "[CV]  max_depth=20, max_features=auto, n_estimators=1260, bootstrap=False, min_samples_leaf=2, min_samples_split=2, total= 4.0min\n",
      "[CV] max_depth=10, max_features=auto, n_estimators=1400, bootstrap=True, min_samples_leaf=4, min_samples_split=5 \n",
      "[CV]  max_depth=20, max_features=auto, n_estimators=1260, bootstrap=False, min_samples_leaf=2, min_samples_split=2, total= 3.8min\n",
      "[CV] max_depth=10, max_features=auto, n_estimators=1400, bootstrap=True, min_samples_leaf=4, min_samples_split=5 \n",
      "[CV]  max_depth=20, max_features=auto, n_estimators=1260, bootstrap=False, min_samples_leaf=2, min_samples_split=2, total= 3.8min\n",
      "[CV] max_depth=20, max_features=auto, n_estimators=680, bootstrap=True, min_samples_leaf=4, min_samples_split=2 \n",
      "[CV]  max_depth=10, max_features=auto, n_estimators=1400, bootstrap=True, min_samples_leaf=4, min_samples_split=5, total= 1.9min\n",
      "[CV] max_depth=20, max_features=auto, n_estimators=680, bootstrap=True, min_samples_leaf=4, min_samples_split=2 \n",
      "[CV]  max_depth=10, max_features=auto, n_estimators=1400, bootstrap=True, min_samples_leaf=4, min_samples_split=5, total= 1.9min\n"
     ]
    },
    {
     "name": "stdout",
     "output_type": "stream",
     "text": [
      "[CV] max_depth=20, max_features=auto, n_estimators=680, bootstrap=True, min_samples_leaf=4, min_samples_split=2 \n",
      "[CV]  max_depth=20, max_features=auto, n_estimators=680, bootstrap=True, min_samples_leaf=4, min_samples_split=2, total=  58.3s\n",
      "[CV] max_depth=30, max_features=sqrt, n_estimators=240, bootstrap=True, min_samples_leaf=4, min_samples_split=10 \n"
     ]
    },
    {
     "name": "stderr",
     "output_type": "stream",
     "text": [
      "[Parallel(n_jobs=-1)]: Done  33 tasks      | elapsed: 15.2min\n"
     ]
    },
    {
     "name": "stdout",
     "output_type": "stream",
     "text": [
      "[CV]  max_depth=30, max_features=sqrt, n_estimators=240, bootstrap=True, min_samples_leaf=4, min_samples_split=10, total=   5.7s\n",
      "[CV] max_depth=30, max_features=sqrt, n_estimators=240, bootstrap=True, min_samples_leaf=4, min_samples_split=10 \n",
      "[CV]  max_depth=30, max_features=sqrt, n_estimators=240, bootstrap=True, min_samples_leaf=4, min_samples_split=10, total=   5.6s\n",
      "[CV] max_depth=30, max_features=sqrt, n_estimators=240, bootstrap=True, min_samples_leaf=4, min_samples_split=10 \n",
      "[CV]  max_depth=30, max_features=sqrt, n_estimators=240, bootstrap=True, min_samples_leaf=4, min_samples_split=10, total=   5.5s\n",
      "[CV] max_depth=110, max_features=auto, n_estimators=400, bootstrap=False, min_samples_leaf=1, min_samples_split=2 \n",
      "[CV]  max_depth=20, max_features=auto, n_estimators=680, bootstrap=True, min_samples_leaf=4, min_samples_split=2, total=  56.3s\n",
      "[CV] max_depth=110, max_features=auto, n_estimators=400, bootstrap=False, min_samples_leaf=1, min_samples_split=2 \n",
      "[CV]  max_depth=10, max_features=auto, n_estimators=1400, bootstrap=True, min_samples_leaf=4, min_samples_split=5, total= 1.9min\n",
      "[CV] max_depth=110, max_features=auto, n_estimators=400, bootstrap=False, min_samples_leaf=1, min_samples_split=2 \n",
      "[CV]  max_depth=20, max_features=auto, n_estimators=680, bootstrap=True, min_samples_leaf=4, min_samples_split=2, total=  56.3s\n",
      "[CV] max_depth=110, max_features=sqrt, n_estimators=1780, bootstrap=False, min_samples_leaf=2, min_samples_split=5 \n",
      "[CV]  max_depth=110, max_features=auto, n_estimators=400, bootstrap=False, min_samples_leaf=1, min_samples_split=2, total= 1.4min\n",
      "[CV] max_depth=110, max_features=sqrt, n_estimators=1780, bootstrap=False, min_samples_leaf=2, min_samples_split=5 \n",
      "[CV]  max_depth=110, max_features=auto, n_estimators=400, bootstrap=False, min_samples_leaf=1, min_samples_split=2, total= 1.3min\n",
      "[CV] max_depth=110, max_features=sqrt, n_estimators=1780, bootstrap=False, min_samples_leaf=2, min_samples_split=5 \n",
      "[CV]  max_depth=110, max_features=auto, n_estimators=400, bootstrap=False, min_samples_leaf=1, min_samples_split=2, total= 1.4min\n",
      "[CV] max_depth=100, max_features=sqrt, n_estimators=1380, bootstrap=True, min_samples_leaf=2, min_samples_split=5 \n",
      "[CV]  max_depth=110, max_features=sqrt, n_estimators=1780, bootstrap=False, min_samples_leaf=2, min_samples_split=5, total= 1.5min\n",
      "[CV] max_depth=100, max_features=sqrt, n_estimators=1380, bootstrap=True, min_samples_leaf=2, min_samples_split=5 \n",
      "[CV]  max_depth=100, max_features=sqrt, n_estimators=1380, bootstrap=True, min_samples_leaf=2, min_samples_split=5, total=  35.8s\n",
      "[CV] max_depth=100, max_features=sqrt, n_estimators=1380, bootstrap=True, min_samples_leaf=2, min_samples_split=5 \n",
      "[CV]  max_depth=100, max_features=sqrt, n_estimators=1380, bootstrap=True, min_samples_leaf=2, min_samples_split=5, total=  35.6s\n",
      "[CV] max_depth=110, max_features=sqrt, n_estimators=1400, bootstrap=True, min_samples_leaf=4, min_samples_split=10 \n",
      "[CV]  max_depth=110, max_features=sqrt, n_estimators=1780, bootstrap=False, min_samples_leaf=2, min_samples_split=5, total= 1.5min\n",
      "[CV] max_depth=110, max_features=sqrt, n_estimators=1400, bootstrap=True, min_samples_leaf=4, min_samples_split=10 \n",
      "[CV]  max_depth=100, max_features=sqrt, n_estimators=1380, bootstrap=True, min_samples_leaf=2, min_samples_split=5, total=  35.1s\n",
      "[CV] max_depth=110, max_features=sqrt, n_estimators=1400, bootstrap=True, min_samples_leaf=4, min_samples_split=10 \n",
      "[CV]  max_depth=110, max_features=sqrt, n_estimators=1400, bootstrap=True, min_samples_leaf=4, min_samples_split=10, total=  32.7s\n",
      "[CV] max_depth=50, max_features=sqrt, n_estimators=1880, bootstrap=False, min_samples_leaf=4, min_samples_split=5 \n",
      "[CV]  max_depth=110, max_features=sqrt, n_estimators=1780, bootstrap=False, min_samples_leaf=2, min_samples_split=5, total= 1.5min\n",
      "[CV] max_depth=50, max_features=sqrt, n_estimators=1880, bootstrap=False, min_samples_leaf=4, min_samples_split=5 \n",
      "[CV]  max_depth=110, max_features=sqrt, n_estimators=1400, bootstrap=True, min_samples_leaf=4, min_samples_split=10, total=  33.0s\n",
      "[CV] max_depth=50, max_features=sqrt, n_estimators=1880, bootstrap=False, min_samples_leaf=4, min_samples_split=5 \n",
      "[CV]  max_depth=110, max_features=sqrt, n_estimators=1400, bootstrap=True, min_samples_leaf=4, min_samples_split=10, total=  32.5s\n",
      "[CV] max_depth=40, max_features=sqrt, n_estimators=1940, bootstrap=True, min_samples_leaf=1, min_samples_split=2 \n",
      "[CV]  max_depth=40, max_features=sqrt, n_estimators=1940, bootstrap=True, min_samples_leaf=1, min_samples_split=2, total= 1.0min\n",
      "[CV] max_depth=40, max_features=sqrt, n_estimators=1940, bootstrap=True, min_samples_leaf=1, min_samples_split=2 \n",
      "[CV]  max_depth=50, max_features=sqrt, n_estimators=1880, bootstrap=False, min_samples_leaf=4, min_samples_split=5, total= 1.5min\n",
      "[CV] max_depth=40, max_features=sqrt, n_estimators=1940, bootstrap=True, min_samples_leaf=1, min_samples_split=2 \n",
      "[CV]  max_depth=50, max_features=sqrt, n_estimators=1880, bootstrap=False, min_samples_leaf=4, min_samples_split=5, total= 1.5min\n",
      "[CV] max_depth=50, max_features=auto, n_estimators=1620, bootstrap=False, min_samples_leaf=2, min_samples_split=5 \n",
      "[CV]  max_depth=50, max_features=sqrt, n_estimators=1880, bootstrap=False, min_samples_leaf=4, min_samples_split=5, total= 1.5min\n",
      "[CV] max_depth=50, max_features=auto, n_estimators=1620, bootstrap=False, min_samples_leaf=2, min_samples_split=5 \n",
      "[CV]  max_depth=40, max_features=sqrt, n_estimators=1940, bootstrap=True, min_samples_leaf=1, min_samples_split=2, total= 1.0min\n",
      "[CV] max_depth=50, max_features=auto, n_estimators=1620, bootstrap=False, min_samples_leaf=2, min_samples_split=5 \n",
      "[CV]  max_depth=40, max_features=sqrt, n_estimators=1940, bootstrap=True, min_samples_leaf=1, min_samples_split=2, total= 1.0min\n",
      "[CV] max_depth=40, max_features=auto, n_estimators=1180, bootstrap=False, min_samples_leaf=2, min_samples_split=5 \n",
      "[CV]  max_depth=40, max_features=auto, n_estimators=1180, bootstrap=False, min_samples_leaf=2, min_samples_split=5, total= 3.7min\n",
      "[CV] max_depth=40, max_features=auto, n_estimators=1180, bootstrap=False, min_samples_leaf=2, min_samples_split=5 \n",
      "[CV]  max_depth=50, max_features=auto, n_estimators=1620, bootstrap=False, min_samples_leaf=2, min_samples_split=5, total= 4.8min\n",
      "[CV] max_depth=40, max_features=auto, n_estimators=1180, bootstrap=False, min_samples_leaf=2, min_samples_split=5 \n",
      "[CV]  max_depth=50, max_features=auto, n_estimators=1620, bootstrap=False, min_samples_leaf=2, min_samples_split=5, total= 5.1min\n",
      "[CV] max_depth=110, max_features=sqrt, n_estimators=860, bootstrap=True, min_samples_leaf=1, min_samples_split=2 \n",
      "[CV]  max_depth=110, max_features=sqrt, n_estimators=860, bootstrap=True, min_samples_leaf=1, min_samples_split=2, total=  27.2s\n",
      "[CV] max_depth=110, max_features=sqrt, n_estimators=860, bootstrap=True, min_samples_leaf=1, min_samples_split=2 \n",
      "[CV]  max_depth=50, max_features=auto, n_estimators=1620, bootstrap=False, min_samples_leaf=2, min_samples_split=5, total= 4.9min\n",
      "[CV] max_depth=110, max_features=sqrt, n_estimators=860, bootstrap=True, min_samples_leaf=1, min_samples_split=2 \n",
      "[CV]  max_depth=110, max_features=sqrt, n_estimators=860, bootstrap=True, min_samples_leaf=1, min_samples_split=2, total=  26.6s\n",
      "[CV] max_depth=110, max_features=auto, n_estimators=640, bootstrap=True, min_samples_leaf=2, min_samples_split=5 \n",
      "[CV]  max_depth=110, max_features=sqrt, n_estimators=860, bootstrap=True, min_samples_leaf=1, min_samples_split=2, total=  26.4s\n",
      "[CV] max_depth=110, max_features=auto, n_estimators=640, bootstrap=True, min_samples_leaf=2, min_samples_split=5 \n",
      "[CV]  max_depth=110, max_features=auto, n_estimators=640, bootstrap=True, min_samples_leaf=2, min_samples_split=5, total=  57.1s\n",
      "[CV] max_depth=110, max_features=auto, n_estimators=640, bootstrap=True, min_samples_leaf=2, min_samples_split=5 \n",
      "[CV]  max_depth=110, max_features=auto, n_estimators=640, bootstrap=True, min_samples_leaf=2, min_samples_split=5, total=  56.7s\n",
      "[CV] max_depth=20, max_features=sqrt, n_estimators=960, bootstrap=True, min_samples_leaf=1, min_samples_split=2 \n",
      "[CV]  max_depth=20, max_features=sqrt, n_estimators=960, bootstrap=True, min_samples_leaf=1, min_samples_split=2, total=  29.5s\n"
     ]
    },
    {
     "name": "stdout",
     "output_type": "stream",
     "text": [
      "[CV] max_depth=20, max_features=sqrt, n_estimators=960, bootstrap=True, min_samples_leaf=1, min_samples_split=2 \n",
      "[CV]  max_depth=110, max_features=auto, n_estimators=640, bootstrap=True, min_samples_leaf=2, min_samples_split=5, total=  56.9s\n",
      "[CV] max_depth=20, max_features=sqrt, n_estimators=960, bootstrap=True, min_samples_leaf=1, min_samples_split=2 \n",
      "[CV]  max_depth=20, max_features=sqrt, n_estimators=960, bootstrap=True, min_samples_leaf=1, min_samples_split=2, total=  29.7s\n",
      "[CV] max_depth=10, max_features=auto, n_estimators=1800, bootstrap=True, min_samples_leaf=1, min_samples_split=5 \n",
      "[CV]  max_depth=40, max_features=auto, n_estimators=1180, bootstrap=False, min_samples_leaf=2, min_samples_split=5, total= 3.5min\n",
      "[CV] max_depth=10, max_features=auto, n_estimators=1800, bootstrap=True, min_samples_leaf=1, min_samples_split=5 \n",
      "[CV]  max_depth=20, max_features=sqrt, n_estimators=960, bootstrap=True, min_samples_leaf=1, min_samples_split=2, total=  29.2s\n",
      "[CV] max_depth=10, max_features=auto, n_estimators=1800, bootstrap=True, min_samples_leaf=1, min_samples_split=5 \n",
      "[CV]  max_depth=40, max_features=auto, n_estimators=1180, bootstrap=False, min_samples_leaf=2, min_samples_split=5, total= 3.6min\n",
      "[CV] max_depth=110, max_features=sqrt, n_estimators=380, bootstrap=True, min_samples_leaf=1, min_samples_split=10 \n",
      "[CV]  max_depth=110, max_features=sqrt, n_estimators=380, bootstrap=True, min_samples_leaf=1, min_samples_split=10, total=  10.7s\n",
      "[CV] max_depth=110, max_features=sqrt, n_estimators=380, bootstrap=True, min_samples_leaf=1, min_samples_split=10 \n",
      "[CV]  max_depth=110, max_features=sqrt, n_estimators=380, bootstrap=True, min_samples_leaf=1, min_samples_split=10, total=  10.5s\n",
      "[CV] max_depth=110, max_features=sqrt, n_estimators=380, bootstrap=True, min_samples_leaf=1, min_samples_split=10 \n",
      "[CV]  max_depth=110, max_features=sqrt, n_estimators=380, bootstrap=True, min_samples_leaf=1, min_samples_split=10, total=  10.4s\n",
      "[CV] max_depth=90, max_features=sqrt, n_estimators=1480, bootstrap=False, min_samples_leaf=4, min_samples_split=2 \n",
      "[CV]  max_depth=90, max_features=sqrt, n_estimators=1480, bootstrap=False, min_samples_leaf=4, min_samples_split=2, total= 1.2min\n",
      "[CV] max_depth=90, max_features=sqrt, n_estimators=1480, bootstrap=False, min_samples_leaf=4, min_samples_split=2 \n",
      "[CV]  max_depth=10, max_features=auto, n_estimators=1800, bootstrap=True, min_samples_leaf=1, min_samples_split=5, total= 2.7min\n",
      "[CV] max_depth=90, max_features=sqrt, n_estimators=1480, bootstrap=False, min_samples_leaf=4, min_samples_split=2 \n",
      "[CV]  max_depth=10, max_features=auto, n_estimators=1800, bootstrap=True, min_samples_leaf=1, min_samples_split=5, total= 2.7min\n",
      "[CV] max_depth=20, max_features=auto, n_estimators=2000, bootstrap=True, min_samples_leaf=1, min_samples_split=2 \n",
      "[CV]  max_depth=10, max_features=auto, n_estimators=1800, bootstrap=True, min_samples_leaf=1, min_samples_split=5, total= 2.7min\n",
      "[CV] max_depth=20, max_features=auto, n_estimators=2000, bootstrap=True, min_samples_leaf=1, min_samples_split=2 \n",
      "[CV]  max_depth=90, max_features=sqrt, n_estimators=1480, bootstrap=False, min_samples_leaf=4, min_samples_split=2, total= 1.2min\n",
      "[CV] max_depth=20, max_features=auto, n_estimators=2000, bootstrap=True, min_samples_leaf=1, min_samples_split=2 \n",
      "[CV]  max_depth=90, max_features=sqrt, n_estimators=1480, bootstrap=False, min_samples_leaf=4, min_samples_split=2, total= 1.2min\n",
      "[CV] max_depth=10, max_features=sqrt, n_estimators=1360, bootstrap=True, min_samples_leaf=2, min_samples_split=2 \n",
      "[CV]  max_depth=10, max_features=sqrt, n_estimators=1360, bootstrap=True, min_samples_leaf=2, min_samples_split=2, total=  34.1s\n",
      "[CV] max_depth=10, max_features=sqrt, n_estimators=1360, bootstrap=True, min_samples_leaf=2, min_samples_split=2 \n",
      "[CV]  max_depth=10, max_features=sqrt, n_estimators=1360, bootstrap=True, min_samples_leaf=2, min_samples_split=2, total=  34.1s\n",
      "[CV] max_depth=10, max_features=sqrt, n_estimators=1360, bootstrap=True, min_samples_leaf=2, min_samples_split=2 \n",
      "[CV]  max_depth=10, max_features=sqrt, n_estimators=1360, bootstrap=True, min_samples_leaf=2, min_samples_split=2, total=  33.9s\n",
      "[CV] max_depth=70, max_features=sqrt, n_estimators=1040, bootstrap=False, min_samples_leaf=1, min_samples_split=2 \n",
      "[CV]  max_depth=20, max_features=auto, n_estimators=2000, bootstrap=True, min_samples_leaf=1, min_samples_split=2, total= 3.5min\n",
      "[CV] max_depth=70, max_features=sqrt, n_estimators=1040, bootstrap=False, min_samples_leaf=1, min_samples_split=2 \n",
      "[CV]  max_depth=20, max_features=auto, n_estimators=2000, bootstrap=True, min_samples_leaf=1, min_samples_split=2, total= 3.5min\n",
      "[CV] max_depth=70, max_features=sqrt, n_estimators=1040, bootstrap=False, min_samples_leaf=1, min_samples_split=2 \n",
      "[CV]  max_depth=70, max_features=sqrt, n_estimators=1040, bootstrap=False, min_samples_leaf=1, min_samples_split=2, total= 1.0min\n",
      "[CV] max_depth=70, max_features=auto, n_estimators=1900, bootstrap=True, min_samples_leaf=2, min_samples_split=10 \n",
      "[CV]  max_depth=20, max_features=auto, n_estimators=2000, bootstrap=True, min_samples_leaf=1, min_samples_split=2, total= 3.5min\n",
      "[CV] max_depth=70, max_features=auto, n_estimators=1900, bootstrap=True, min_samples_leaf=2, min_samples_split=10 \n",
      "[CV]  max_depth=70, max_features=sqrt, n_estimators=1040, bootstrap=False, min_samples_leaf=1, min_samples_split=2, total= 1.0min\n",
      "[CV] max_depth=70, max_features=auto, n_estimators=1900, bootstrap=True, min_samples_leaf=2, min_samples_split=10 \n",
      "[CV]  max_depth=70, max_features=sqrt, n_estimators=1040, bootstrap=False, min_samples_leaf=1, min_samples_split=2, total= 1.0min\n",
      "[CV] max_depth=20, max_features=sqrt, n_estimators=1140, bootstrap=True, min_samples_leaf=4, min_samples_split=10 \n",
      "[CV]  max_depth=20, max_features=sqrt, n_estimators=1140, bootstrap=True, min_samples_leaf=4, min_samples_split=10, total=  26.5s\n",
      "[CV] max_depth=20, max_features=sqrt, n_estimators=1140, bootstrap=True, min_samples_leaf=4, min_samples_split=10 \n",
      "[CV]  max_depth=20, max_features=sqrt, n_estimators=1140, bootstrap=True, min_samples_leaf=4, min_samples_split=10, total=  26.7s\n",
      "[CV] max_depth=20, max_features=sqrt, n_estimators=1140, bootstrap=True, min_samples_leaf=4, min_samples_split=10 \n",
      "[CV]  max_depth=20, max_features=sqrt, n_estimators=1140, bootstrap=True, min_samples_leaf=4, min_samples_split=10, total=  26.5s\n",
      "[CV] max_depth=30, max_features=auto, n_estimators=1820, bootstrap=True, min_samples_leaf=1, min_samples_split=10 \n",
      "[CV]  max_depth=70, max_features=auto, n_estimators=1900, bootstrap=True, min_samples_leaf=2, min_samples_split=10, total= 2.8min\n",
      "[CV] max_depth=30, max_features=auto, n_estimators=1820, bootstrap=True, min_samples_leaf=1, min_samples_split=10 \n",
      "[CV]  max_depth=70, max_features=auto, n_estimators=1900, bootstrap=True, min_samples_leaf=2, min_samples_split=10, total= 2.7min\n",
      "[CV] max_depth=30, max_features=auto, n_estimators=1820, bootstrap=True, min_samples_leaf=1, min_samples_split=10 \n",
      "[CV]  max_depth=70, max_features=auto, n_estimators=1900, bootstrap=True, min_samples_leaf=2, min_samples_split=10, total= 2.8min\n",
      "[CV] max_depth=70, max_features=auto, n_estimators=820, bootstrap=False, min_samples_leaf=1, min_samples_split=5 \n",
      "[CV]  max_depth=30, max_features=auto, n_estimators=1820, bootstrap=True, min_samples_leaf=1, min_samples_split=10, total= 2.9min\n",
      "[CV] max_depth=70, max_features=auto, n_estimators=820, bootstrap=False, min_samples_leaf=1, min_samples_split=5 \n",
      "[CV]  max_depth=30, max_features=auto, n_estimators=1820, bootstrap=True, min_samples_leaf=1, min_samples_split=10, total= 2.9min\n",
      "[CV] max_depth=70, max_features=auto, n_estimators=820, bootstrap=False, min_samples_leaf=1, min_samples_split=5 \n",
      "[CV]  max_depth=30, max_features=auto, n_estimators=1820, bootstrap=True, min_samples_leaf=1, min_samples_split=10, total= 3.0min\n",
      "[CV] max_depth=90, max_features=auto, n_estimators=60, bootstrap=True, min_samples_leaf=1, min_samples_split=5 \n",
      "[CV]  max_depth=90, max_features=auto, n_estimators=60, bootstrap=True, min_samples_leaf=1, min_samples_split=5, total=   9.0s\n",
      "[CV] max_depth=90, max_features=auto, n_estimators=60, bootstrap=True, min_samples_leaf=1, min_samples_split=5 \n",
      "[CV]  max_depth=90, max_features=auto, n_estimators=60, bootstrap=True, min_samples_leaf=1, min_samples_split=5, total=   6.6s\n"
     ]
    },
    {
     "name": "stdout",
     "output_type": "stream",
     "text": [
      "[CV] max_depth=90, max_features=auto, n_estimators=60, bootstrap=True, min_samples_leaf=1, min_samples_split=5 \n",
      "[CV]  max_depth=90, max_features=auto, n_estimators=60, bootstrap=True, min_samples_leaf=1, min_samples_split=5, total=   6.1s\n",
      "[CV] max_depth=20, max_features=auto, n_estimators=1560, bootstrap=False, min_samples_leaf=1, min_samples_split=5 \n",
      "[CV]  max_depth=70, max_features=auto, n_estimators=820, bootstrap=False, min_samples_leaf=1, min_samples_split=5, total= 2.9min\n",
      "[CV] max_depth=20, max_features=auto, n_estimators=1560, bootstrap=False, min_samples_leaf=1, min_samples_split=5 \n",
      "[CV]  max_depth=70, max_features=auto, n_estimators=820, bootstrap=False, min_samples_leaf=1, min_samples_split=5, total= 2.8min\n",
      "[CV] max_depth=20, max_features=auto, n_estimators=1560, bootstrap=False, min_samples_leaf=1, min_samples_split=5 \n",
      "[CV]  max_depth=70, max_features=auto, n_estimators=820, bootstrap=False, min_samples_leaf=1, min_samples_split=5, total= 2.8min\n",
      "[CV] max_depth=60, max_features=sqrt, n_estimators=560, bootstrap=True, min_samples_leaf=4, min_samples_split=5 \n",
      "[CV]  max_depth=60, max_features=sqrt, n_estimators=560, bootstrap=True, min_samples_leaf=4, min_samples_split=5, total=  13.0s\n",
      "[CV] max_depth=60, max_features=sqrt, n_estimators=560, bootstrap=True, min_samples_leaf=4, min_samples_split=5 \n",
      "[CV]  max_depth=60, max_features=sqrt, n_estimators=560, bootstrap=True, min_samples_leaf=4, min_samples_split=5, total=  13.3s\n",
      "[CV] max_depth=60, max_features=sqrt, n_estimators=560, bootstrap=True, min_samples_leaf=4, min_samples_split=5 \n",
      "[CV]  max_depth=60, max_features=sqrt, n_estimators=560, bootstrap=True, min_samples_leaf=4, min_samples_split=5, total=  12.9s\n",
      "[CV] max_depth=50, max_features=sqrt, n_estimators=1860, bootstrap=True, min_samples_leaf=4, min_samples_split=2 \n",
      "[CV]  max_depth=50, max_features=sqrt, n_estimators=1860, bootstrap=True, min_samples_leaf=4, min_samples_split=2, total=  43.4s\n",
      "[CV] max_depth=50, max_features=sqrt, n_estimators=1860, bootstrap=True, min_samples_leaf=4, min_samples_split=2 \n",
      "[CV]  max_depth=50, max_features=sqrt, n_estimators=1860, bootstrap=True, min_samples_leaf=4, min_samples_split=2, total=  43.5s\n",
      "[CV] max_depth=50, max_features=sqrt, n_estimators=1860, bootstrap=True, min_samples_leaf=4, min_samples_split=2 \n",
      "[CV]  max_depth=50, max_features=sqrt, n_estimators=1860, bootstrap=True, min_samples_leaf=4, min_samples_split=2, total=  43.0s\n",
      "[CV] max_depth=50, max_features=sqrt, n_estimators=680, bootstrap=True, min_samples_leaf=2, min_samples_split=2 \n",
      "[CV]  max_depth=20, max_features=auto, n_estimators=1560, bootstrap=False, min_samples_leaf=1, min_samples_split=5, total= 5.2min\n",
      "[CV] max_depth=50, max_features=sqrt, n_estimators=680, bootstrap=True, min_samples_leaf=2, min_samples_split=2 \n",
      "[CV]  max_depth=20, max_features=auto, n_estimators=1560, bootstrap=False, min_samples_leaf=1, min_samples_split=5, total= 5.3min\n",
      "[CV] max_depth=50, max_features=sqrt, n_estimators=680, bootstrap=True, min_samples_leaf=2, min_samples_split=2 \n",
      "[CV]  max_depth=50, max_features=sqrt, n_estimators=680, bootstrap=True, min_samples_leaf=2, min_samples_split=2, total=  17.9s\n",
      "[CV] max_depth=70, max_features=auto, n_estimators=340, bootstrap=True, min_samples_leaf=1, min_samples_split=10 \n",
      "[CV]  max_depth=50, max_features=sqrt, n_estimators=680, bootstrap=True, min_samples_leaf=2, min_samples_split=2, total=  17.9s\n",
      "[CV] max_depth=70, max_features=auto, n_estimators=340, bootstrap=True, min_samples_leaf=1, min_samples_split=10 \n",
      "[CV]  max_depth=50, max_features=sqrt, n_estimators=680, bootstrap=True, min_samples_leaf=2, min_samples_split=2, total=  18.0s\n",
      "[CV] max_depth=70, max_features=auto, n_estimators=340, bootstrap=True, min_samples_leaf=1, min_samples_split=10 \n",
      "[CV]  max_depth=70, max_features=auto, n_estimators=340, bootstrap=True, min_samples_leaf=1, min_samples_split=10, total=  33.3s\n",
      "[CV] max_depth=30, max_features=auto, n_estimators=1960, bootstrap=False, min_samples_leaf=2, min_samples_split=5 \n",
      "[CV]  max_depth=70, max_features=auto, n_estimators=340, bootstrap=True, min_samples_leaf=1, min_samples_split=10, total=  33.5s\n",
      "[CV] max_depth=30, max_features=auto, n_estimators=1960, bootstrap=False, min_samples_leaf=2, min_samples_split=5 \n",
      "[CV]  max_depth=70, max_features=auto, n_estimators=340, bootstrap=True, min_samples_leaf=1, min_samples_split=10, total=  32.9s\n",
      "[CV] max_depth=30, max_features=auto, n_estimators=1960, bootstrap=False, min_samples_leaf=2, min_samples_split=5 \n",
      "[CV]  max_depth=20, max_features=auto, n_estimators=1560, bootstrap=False, min_samples_leaf=1, min_samples_split=5, total= 5.1min\n",
      "[CV] max_depth=20, max_features=auto, n_estimators=260, bootstrap=True, min_samples_leaf=4, min_samples_split=10 \n",
      "[CV]  max_depth=20, max_features=auto, n_estimators=260, bootstrap=True, min_samples_leaf=4, min_samples_split=10, total=  20.4s\n",
      "[CV] max_depth=20, max_features=auto, n_estimators=260, bootstrap=True, min_samples_leaf=4, min_samples_split=10 \n",
      "[CV]  max_depth=20, max_features=auto, n_estimators=260, bootstrap=True, min_samples_leaf=4, min_samples_split=10, total=  20.3s\n",
      "[CV] max_depth=20, max_features=auto, n_estimators=260, bootstrap=True, min_samples_leaf=4, min_samples_split=10 \n",
      "[CV]  max_depth=20, max_features=auto, n_estimators=260, bootstrap=True, min_samples_leaf=4, min_samples_split=10, total=  20.7s\n",
      "[CV] max_depth=30, max_features=auto, n_estimators=1680, bootstrap=False, min_samples_leaf=1, min_samples_split=2 \n",
      "[CV]  max_depth=30, max_features=auto, n_estimators=1960, bootstrap=False, min_samples_leaf=2, min_samples_split=5, total= 5.8min\n",
      "[CV] max_depth=30, max_features=auto, n_estimators=1680, bootstrap=False, min_samples_leaf=1, min_samples_split=2 \n",
      "[CV]  max_depth=30, max_features=auto, n_estimators=1960, bootstrap=False, min_samples_leaf=2, min_samples_split=5, total= 6.2min\n",
      "[CV] max_depth=30, max_features=auto, n_estimators=1680, bootstrap=False, min_samples_leaf=1, min_samples_split=2 \n",
      "[CV]  max_depth=30, max_features=auto, n_estimators=1960, bootstrap=False, min_samples_leaf=2, min_samples_split=5, total= 5.9min\n",
      "[CV] max_depth=100, max_features=sqrt, n_estimators=1200, bootstrap=True, min_samples_leaf=1, min_samples_split=2 \n",
      "[CV]  max_depth=100, max_features=sqrt, n_estimators=1200, bootstrap=True, min_samples_leaf=1, min_samples_split=2, total=  37.3s\n",
      "[CV] max_depth=100, max_features=sqrt, n_estimators=1200, bootstrap=True, min_samples_leaf=1, min_samples_split=2 \n",
      "[CV]  max_depth=100, max_features=sqrt, n_estimators=1200, bootstrap=True, min_samples_leaf=1, min_samples_split=2, total=  37.3s\n",
      "[CV] max_depth=100, max_features=sqrt, n_estimators=1200, bootstrap=True, min_samples_leaf=1, min_samples_split=2 \n",
      "[CV]  max_depth=30, max_features=auto, n_estimators=1680, bootstrap=False, min_samples_leaf=1, min_samples_split=2, total= 5.8min\n",
      "[CV] max_depth=90, max_features=auto, n_estimators=840, bootstrap=True, min_samples_leaf=1, min_samples_split=5 \n",
      "[CV]  max_depth=100, max_features=sqrt, n_estimators=1200, bootstrap=True, min_samples_leaf=1, min_samples_split=2, total=  37.1s\n",
      "[CV] max_depth=90, max_features=auto, n_estimators=840, bootstrap=True, min_samples_leaf=1, min_samples_split=5 \n",
      "[CV]  max_depth=90, max_features=auto, n_estimators=840, bootstrap=True, min_samples_leaf=1, min_samples_split=5, total= 1.4min\n",
      "[CV] max_depth=90, max_features=auto, n_estimators=840, bootstrap=True, min_samples_leaf=1, min_samples_split=5 \n",
      "[CV]  max_depth=90, max_features=auto, n_estimators=840, bootstrap=True, min_samples_leaf=1, min_samples_split=5, total= 1.5min\n",
      "[CV] max_depth=90, max_features=sqrt, n_estimators=420, bootstrap=False, min_samples_leaf=4, min_samples_split=10 \n",
      "[CV]  max_depth=90, max_features=sqrt, n_estimators=420, bootstrap=False, min_samples_leaf=4, min_samples_split=10, total=  20.0s\n",
      "[CV] max_depth=90, max_features=sqrt, n_estimators=420, bootstrap=False, min_samples_leaf=4, min_samples_split=10 \n",
      "[CV]  max_depth=90, max_features=sqrt, n_estimators=420, bootstrap=False, min_samples_leaf=4, min_samples_split=10, total=  19.8s\n",
      "[CV] max_depth=90, max_features=sqrt, n_estimators=420, bootstrap=False, min_samples_leaf=4, min_samples_split=10 \n",
      "[CV]  max_depth=90, max_features=sqrt, n_estimators=420, bootstrap=False, min_samples_leaf=4, min_samples_split=10, total=  19.3s\n"
     ]
    },
    {
     "name": "stdout",
     "output_type": "stream",
     "text": [
      "[CV] max_depth=40, max_features=sqrt, n_estimators=640, bootstrap=False, min_samples_leaf=2, min_samples_split=5 \n",
      "[CV]  max_depth=90, max_features=auto, n_estimators=840, bootstrap=True, min_samples_leaf=1, min_samples_split=5, total= 1.4min\n",
      "[CV] max_depth=40, max_features=sqrt, n_estimators=640, bootstrap=False, min_samples_leaf=2, min_samples_split=5 \n",
      "[CV]  max_depth=40, max_features=sqrt, n_estimators=640, bootstrap=False, min_samples_leaf=2, min_samples_split=5, total=  32.7s\n",
      "[CV] max_depth=40, max_features=sqrt, n_estimators=640, bootstrap=False, min_samples_leaf=2, min_samples_split=5 \n",
      "[CV]  max_depth=40, max_features=sqrt, n_estimators=640, bootstrap=False, min_samples_leaf=2, min_samples_split=5, total=  32.5s\n",
      "[CV] max_depth=10, max_features=sqrt, n_estimators=1720, bootstrap=True, min_samples_leaf=4, min_samples_split=2 \n",
      "[CV]  max_depth=40, max_features=sqrt, n_estimators=640, bootstrap=False, min_samples_leaf=2, min_samples_split=5, total=  32.4s\n",
      "[CV] max_depth=10, max_features=sqrt, n_estimators=1720, bootstrap=True, min_samples_leaf=4, min_samples_split=2 \n",
      "[CV]  max_depth=30, max_features=auto, n_estimators=1680, bootstrap=False, min_samples_leaf=1, min_samples_split=2, total= 5.8min\n",
      "[CV] max_depth=10, max_features=sqrt, n_estimators=1720, bootstrap=True, min_samples_leaf=4, min_samples_split=2 \n",
      "[CV]  max_depth=30, max_features=auto, n_estimators=1680, bootstrap=False, min_samples_leaf=1, min_samples_split=2, total= 5.7min\n",
      "[CV] max_depth=30, max_features=auto, n_estimators=880, bootstrap=True, min_samples_leaf=2, min_samples_split=2 \n",
      "[CV]  max_depth=10, max_features=sqrt, n_estimators=1720, bootstrap=True, min_samples_leaf=4, min_samples_split=2, total=  40.1s\n",
      "[CV] max_depth=30, max_features=auto, n_estimators=880, bootstrap=True, min_samples_leaf=2, min_samples_split=2 \n",
      "[CV]  max_depth=10, max_features=sqrt, n_estimators=1720, bootstrap=True, min_samples_leaf=4, min_samples_split=2, total=  40.1s\n",
      "[CV] max_depth=30, max_features=auto, n_estimators=880, bootstrap=True, min_samples_leaf=2, min_samples_split=2 \n",
      "[CV]  max_depth=10, max_features=sqrt, n_estimators=1720, bootstrap=True, min_samples_leaf=4, min_samples_split=2, total=  39.5s\n",
      "[CV] max_depth=30, max_features=auto, n_estimators=800, bootstrap=False, min_samples_leaf=2, min_samples_split=10 \n",
      "[CV]  max_depth=30, max_features=auto, n_estimators=880, bootstrap=True, min_samples_leaf=2, min_samples_split=2, total= 1.3min\n",
      "[CV] max_depth=30, max_features=auto, n_estimators=800, bootstrap=False, min_samples_leaf=2, min_samples_split=10 \n",
      "[CV]  max_depth=30, max_features=auto, n_estimators=880, bootstrap=True, min_samples_leaf=2, min_samples_split=2, total= 1.3min\n",
      "[CV] max_depth=30, max_features=auto, n_estimators=800, bootstrap=False, min_samples_leaf=2, min_samples_split=10 \n",
      "[CV]  max_depth=30, max_features=auto, n_estimators=880, bootstrap=True, min_samples_leaf=2, min_samples_split=2, total= 1.3min\n",
      "[CV] max_depth=110, max_features=sqrt, n_estimators=1160, bootstrap=True, min_samples_leaf=2, min_samples_split=10 \n",
      "[CV]  max_depth=110, max_features=sqrt, n_estimators=1160, bootstrap=True, min_samples_leaf=2, min_samples_split=10, total=  33.1s\n",
      "[CV] max_depth=110, max_features=sqrt, n_estimators=1160, bootstrap=True, min_samples_leaf=2, min_samples_split=10 \n",
      "[CV]  max_depth=110, max_features=sqrt, n_estimators=1160, bootstrap=True, min_samples_leaf=2, min_samples_split=10, total=  28.9s\n",
      "[CV] max_depth=110, max_features=sqrt, n_estimators=1160, bootstrap=True, min_samples_leaf=2, min_samples_split=10 \n",
      "[CV]  max_depth=30, max_features=auto, n_estimators=800, bootstrap=False, min_samples_leaf=2, min_samples_split=10, total= 2.5min\n",
      "[CV] max_depth=10, max_features=sqrt, n_estimators=440, bootstrap=True, min_samples_leaf=1, min_samples_split=5 \n",
      "[CV]  max_depth=110, max_features=sqrt, n_estimators=1160, bootstrap=True, min_samples_leaf=2, min_samples_split=10, total=  28.8s\n",
      "[CV] max_depth=10, max_features=sqrt, n_estimators=440, bootstrap=True, min_samples_leaf=1, min_samples_split=5 \n",
      "[CV]  max_depth=10, max_features=sqrt, n_estimators=440, bootstrap=True, min_samples_leaf=1, min_samples_split=5, total=  11.5s\n",
      "[CV] max_depth=10, max_features=sqrt, n_estimators=440, bootstrap=True, min_samples_leaf=1, min_samples_split=5 \n",
      "[CV]  max_depth=10, max_features=sqrt, n_estimators=440, bootstrap=True, min_samples_leaf=1, min_samples_split=5, total=  11.5s\n",
      "[CV] max_depth=70, max_features=auto, n_estimators=1080, bootstrap=True, min_samples_leaf=4, min_samples_split=10 \n",
      "[CV]  max_depth=10, max_features=sqrt, n_estimators=440, bootstrap=True, min_samples_leaf=1, min_samples_split=5, total=  11.5s\n",
      "[CV] max_depth=70, max_features=auto, n_estimators=1080, bootstrap=True, min_samples_leaf=4, min_samples_split=10 \n"
     ]
    },
    {
     "name": "stderr",
     "output_type": "stream",
     "text": [
      "[Parallel(n_jobs=-1)]: Done 154 tasks      | elapsed: 62.6min\n"
     ]
    },
    {
     "name": "stdout",
     "output_type": "stream",
     "text": [
      "[CV]  max_depth=30, max_features=auto, n_estimators=800, bootstrap=False, min_samples_leaf=2, min_samples_split=10, total= 2.4min\n",
      "[CV] max_depth=70, max_features=auto, n_estimators=1080, bootstrap=True, min_samples_leaf=4, min_samples_split=10 \n",
      "[CV]  max_depth=30, max_features=auto, n_estimators=800, bootstrap=False, min_samples_leaf=2, min_samples_split=10, total= 2.4min\n",
      "[CV] max_depth=80, max_features=auto, n_estimators=360, bootstrap=True, min_samples_leaf=4, min_samples_split=10 \n",
      "[CV]  max_depth=80, max_features=auto, n_estimators=360, bootstrap=True, min_samples_leaf=4, min_samples_split=10, total=  28.6s\n",
      "[CV] max_depth=80, max_features=auto, n_estimators=360, bootstrap=True, min_samples_leaf=4, min_samples_split=10 \n",
      "[CV]  max_depth=80, max_features=auto, n_estimators=360, bootstrap=True, min_samples_leaf=4, min_samples_split=10, total=  28.2s\n",
      "[CV] max_depth=80, max_features=auto, n_estimators=360, bootstrap=True, min_samples_leaf=4, min_samples_split=10 \n",
      "[CV]  max_depth=70, max_features=auto, n_estimators=1080, bootstrap=True, min_samples_leaf=4, min_samples_split=10, total= 1.4min\n",
      "[CV] max_depth=60, max_features=auto, n_estimators=1860, bootstrap=True, min_samples_leaf=4, min_samples_split=2 \n",
      "[CV]  max_depth=70, max_features=auto, n_estimators=1080, bootstrap=True, min_samples_leaf=4, min_samples_split=10, total= 1.4min\n",
      "[CV] max_depth=60, max_features=auto, n_estimators=1860, bootstrap=True, min_samples_leaf=4, min_samples_split=2 \n",
      "[CV]  max_depth=70, max_features=auto, n_estimators=1080, bootstrap=True, min_samples_leaf=4, min_samples_split=10, total= 1.4min\n",
      "[CV] max_depth=60, max_features=auto, n_estimators=1860, bootstrap=True, min_samples_leaf=4, min_samples_split=2 \n",
      "[CV]  max_depth=80, max_features=auto, n_estimators=360, bootstrap=True, min_samples_leaf=4, min_samples_split=10, total=  28.7s\n",
      "[CV] max_depth=40, max_features=sqrt, n_estimators=1480, bootstrap=True, min_samples_leaf=2, min_samples_split=10 \n",
      "[CV]  max_depth=40, max_features=sqrt, n_estimators=1480, bootstrap=True, min_samples_leaf=2, min_samples_split=10, total=  37.0s\n",
      "[CV] max_depth=40, max_features=sqrt, n_estimators=1480, bootstrap=True, min_samples_leaf=2, min_samples_split=10 \n",
      "[CV]  max_depth=40, max_features=sqrt, n_estimators=1480, bootstrap=True, min_samples_leaf=2, min_samples_split=10, total=  37.4s\n",
      "[CV] max_depth=40, max_features=sqrt, n_estimators=1480, bootstrap=True, min_samples_leaf=2, min_samples_split=10 \n",
      "[CV]  max_depth=40, max_features=sqrt, n_estimators=1480, bootstrap=True, min_samples_leaf=2, min_samples_split=10, total=  36.4s\n",
      "[CV] max_depth=40, max_features=auto, n_estimators=1520, bootstrap=True, min_samples_leaf=1, min_samples_split=10 \n",
      "[CV]  max_depth=60, max_features=auto, n_estimators=1860, bootstrap=True, min_samples_leaf=4, min_samples_split=2, total= 2.5min\n",
      "[CV] max_depth=40, max_features=auto, n_estimators=1520, bootstrap=True, min_samples_leaf=1, min_samples_split=10 \n",
      "[CV]  max_depth=60, max_features=auto, n_estimators=1860, bootstrap=True, min_samples_leaf=4, min_samples_split=2, total= 2.5min\n",
      "[CV] max_depth=40, max_features=auto, n_estimators=1520, bootstrap=True, min_samples_leaf=1, min_samples_split=10 \n",
      "[CV]  max_depth=60, max_features=auto, n_estimators=1860, bootstrap=True, min_samples_leaf=4, min_samples_split=2, total= 2.5min\n",
      "[CV] max_depth=10, max_features=auto, n_estimators=1240, bootstrap=True, min_samples_leaf=1, min_samples_split=5 \n",
      "[CV]  max_depth=10, max_features=auto, n_estimators=1240, bootstrap=True, min_samples_leaf=1, min_samples_split=5, total= 1.9min\n",
      "[CV] max_depth=10, max_features=auto, n_estimators=1240, bootstrap=True, min_samples_leaf=1, min_samples_split=5 \n",
      "[CV]  max_depth=40, max_features=auto, n_estimators=1520, bootstrap=True, min_samples_leaf=1, min_samples_split=10, total= 2.5min\n",
      "[CV] max_depth=10, max_features=auto, n_estimators=1240, bootstrap=True, min_samples_leaf=1, min_samples_split=5 \n",
      "[CV]  max_depth=40, max_features=auto, n_estimators=1520, bootstrap=True, min_samples_leaf=1, min_samples_split=10, total= 2.5min\n",
      "[CV] max_depth=100, max_features=sqrt, n_estimators=1320, bootstrap=False, min_samples_leaf=1, min_samples_split=5 \n",
      "[CV]  max_depth=40, max_features=auto, n_estimators=1520, bootstrap=True, min_samples_leaf=1, min_samples_split=10, total= 2.5min\n",
      "[CV] max_depth=100, max_features=sqrt, n_estimators=1320, bootstrap=False, min_samples_leaf=1, min_samples_split=5 \n",
      "[CV]  max_depth=100, max_features=sqrt, n_estimators=1320, bootstrap=False, min_samples_leaf=1, min_samples_split=5, total= 1.3min\n",
      "[CV] max_depth=100, max_features=sqrt, n_estimators=1320, bootstrap=False, min_samples_leaf=1, min_samples_split=5 \n",
      "[CV]  max_depth=100, max_features=sqrt, n_estimators=1320, bootstrap=False, min_samples_leaf=1, min_samples_split=5, total= 1.3min\n",
      "[CV] max_depth=40, max_features=sqrt, n_estimators=1160, bootstrap=False, min_samples_leaf=2, min_samples_split=5 \n",
      "[CV]  max_depth=10, max_features=auto, n_estimators=1240, bootstrap=True, min_samples_leaf=1, min_samples_split=5, total= 1.9min\n",
      "[CV] max_depth=40, max_features=sqrt, n_estimators=1160, bootstrap=False, min_samples_leaf=2, min_samples_split=5 \n",
      "[CV]  max_depth=10, max_features=auto, n_estimators=1240, bootstrap=True, min_samples_leaf=1, min_samples_split=5, total= 1.9min\n",
      "[CV] max_depth=40, max_features=sqrt, n_estimators=1160, bootstrap=False, min_samples_leaf=2, min_samples_split=5 \n",
      "[CV]  max_depth=40, max_features=sqrt, n_estimators=1160, bootstrap=False, min_samples_leaf=2, min_samples_split=5, total=  59.3s\n",
      "[CV] max_depth=80, max_features=sqrt, n_estimators=1280, bootstrap=False, min_samples_leaf=2, min_samples_split=5 \n",
      "[CV]  max_depth=100, max_features=sqrt, n_estimators=1320, bootstrap=False, min_samples_leaf=1, min_samples_split=5, total= 1.2min\n",
      "[CV] max_depth=80, max_features=sqrt, n_estimators=1280, bootstrap=False, min_samples_leaf=2, min_samples_split=5 \n",
      "[CV]  max_depth=40, max_features=sqrt, n_estimators=1160, bootstrap=False, min_samples_leaf=2, min_samples_split=5, total=  58.9s\n",
      "[CV] max_depth=80, max_features=sqrt, n_estimators=1280, bootstrap=False, min_samples_leaf=2, min_samples_split=5 \n",
      "[CV]  max_depth=40, max_features=sqrt, n_estimators=1160, bootstrap=False, min_samples_leaf=2, min_samples_split=5, total=  58.6s\n",
      "[CV] max_depth=80, max_features=auto, n_estimators=140, bootstrap=False, min_samples_leaf=1, min_samples_split=10 \n",
      "[CV]  max_depth=80, max_features=auto, n_estimators=140, bootstrap=False, min_samples_leaf=1, min_samples_split=10, total=  27.6s\n",
      "[CV] max_depth=80, max_features=auto, n_estimators=140, bootstrap=False, min_samples_leaf=1, min_samples_split=10 \n",
      "[CV]  max_depth=80, max_features=sqrt, n_estimators=1280, bootstrap=False, min_samples_leaf=2, min_samples_split=5, total= 1.1min\n",
      "[CV] max_depth=80, max_features=auto, n_estimators=140, bootstrap=False, min_samples_leaf=1, min_samples_split=10 \n",
      "[CV]  max_depth=80, max_features=auto, n_estimators=140, bootstrap=False, min_samples_leaf=1, min_samples_split=10, total=  26.9s\n",
      "[CV] max_depth=70, max_features=auto, n_estimators=700, bootstrap=True, min_samples_leaf=4, min_samples_split=5 \n",
      "[CV]  max_depth=80, max_features=sqrt, n_estimators=1280, bootstrap=False, min_samples_leaf=2, min_samples_split=5, total= 1.1min\n",
      "[CV] max_depth=70, max_features=auto, n_estimators=700, bootstrap=True, min_samples_leaf=4, min_samples_split=5 \n",
      "[CV]  max_depth=80, max_features=sqrt, n_estimators=1280, bootstrap=False, min_samples_leaf=2, min_samples_split=5, total= 1.1min\n",
      "[CV] max_depth=70, max_features=auto, n_estimators=700, bootstrap=True, min_samples_leaf=4, min_samples_split=5 \n",
      "[CV]  max_depth=80, max_features=auto, n_estimators=140, bootstrap=False, min_samples_leaf=1, min_samples_split=10, total=  26.4s\n",
      "[CV] max_depth=60, max_features=auto, n_estimators=560, bootstrap=False, min_samples_leaf=2, min_samples_split=2 \n",
      "[CV]  max_depth=70, max_features=auto, n_estimators=700, bootstrap=True, min_samples_leaf=4, min_samples_split=5, total=  55.8s\n",
      "[CV] max_depth=60, max_features=auto, n_estimators=560, bootstrap=False, min_samples_leaf=2, min_samples_split=2 \n",
      "[CV]  max_depth=70, max_features=auto, n_estimators=700, bootstrap=True, min_samples_leaf=4, min_samples_split=5, total=  55.3s\n",
      "[CV] max_depth=60, max_features=auto, n_estimators=560, bootstrap=False, min_samples_leaf=2, min_samples_split=2 \n"
     ]
    },
    {
     "name": "stdout",
     "output_type": "stream",
     "text": [
      "[CV]  max_depth=70, max_features=auto, n_estimators=700, bootstrap=True, min_samples_leaf=4, min_samples_split=5, total=  56.1s\n",
      "[CV] max_depth=40, max_features=auto, n_estimators=1040, bootstrap=False, min_samples_leaf=4, min_samples_split=2 \n",
      "[CV]  max_depth=60, max_features=auto, n_estimators=560, bootstrap=False, min_samples_leaf=2, min_samples_split=2, total= 1.8min\n",
      "[CV] max_depth=40, max_features=auto, n_estimators=1040, bootstrap=False, min_samples_leaf=4, min_samples_split=2 \n",
      "[CV]  max_depth=60, max_features=auto, n_estimators=560, bootstrap=False, min_samples_leaf=2, min_samples_split=2, total= 1.7min\n",
      "[CV] max_depth=40, max_features=auto, n_estimators=1040, bootstrap=False, min_samples_leaf=4, min_samples_split=2 \n",
      "[CV]  max_depth=60, max_features=auto, n_estimators=560, bootstrap=False, min_samples_leaf=2, min_samples_split=2, total= 1.7min\n",
      "[CV] max_depth=10, max_features=sqrt, n_estimators=340, bootstrap=True, min_samples_leaf=1, min_samples_split=5 \n",
      "[CV]  max_depth=10, max_features=sqrt, n_estimators=340, bootstrap=True, min_samples_leaf=1, min_samples_split=5, total=   9.0s\n",
      "[CV] max_depth=10, max_features=sqrt, n_estimators=340, bootstrap=True, min_samples_leaf=1, min_samples_split=5 \n",
      "[CV]  max_depth=10, max_features=sqrt, n_estimators=340, bootstrap=True, min_samples_leaf=1, min_samples_split=5, total=   8.8s\n",
      "[CV] max_depth=10, max_features=sqrt, n_estimators=340, bootstrap=True, min_samples_leaf=1, min_samples_split=5 \n",
      "[CV]  max_depth=10, max_features=sqrt, n_estimators=340, bootstrap=True, min_samples_leaf=1, min_samples_split=5, total=   8.8s\n",
      "[CV] max_depth=30, max_features=auto, n_estimators=1080, bootstrap=False, min_samples_leaf=4, min_samples_split=10 \n",
      "[CV]  max_depth=40, max_features=auto, n_estimators=1040, bootstrap=False, min_samples_leaf=4, min_samples_split=2, total= 3.0min\n",
      "[CV] max_depth=30, max_features=auto, n_estimators=1080, bootstrap=False, min_samples_leaf=4, min_samples_split=10 \n",
      "[CV]  max_depth=40, max_features=auto, n_estimators=1040, bootstrap=False, min_samples_leaf=4, min_samples_split=2, total= 2.9min\n",
      "[CV] max_depth=30, max_features=auto, n_estimators=1080, bootstrap=False, min_samples_leaf=4, min_samples_split=10 \n",
      "[CV]  max_depth=40, max_features=auto, n_estimators=1040, bootstrap=False, min_samples_leaf=4, min_samples_split=2, total= 2.9min\n",
      "[CV] max_depth=30, max_features=auto, n_estimators=1540, bootstrap=False, min_samples_leaf=4, min_samples_split=10 \n",
      "[CV]  max_depth=30, max_features=auto, n_estimators=1080, bootstrap=False, min_samples_leaf=4, min_samples_split=10, total= 3.1min\n",
      "[CV] max_depth=30, max_features=auto, n_estimators=1540, bootstrap=False, min_samples_leaf=4, min_samples_split=10 \n",
      "[CV]  max_depth=30, max_features=auto, n_estimators=1080, bootstrap=False, min_samples_leaf=4, min_samples_split=10, total= 2.9min\n",
      "[CV] max_depth=30, max_features=auto, n_estimators=1540, bootstrap=False, min_samples_leaf=4, min_samples_split=10 \n",
      "[CV]  max_depth=30, max_features=auto, n_estimators=1080, bootstrap=False, min_samples_leaf=4, min_samples_split=10, total= 3.0min\n",
      "[CV] max_depth=20, max_features=sqrt, n_estimators=960, bootstrap=False, min_samples_leaf=4, min_samples_split=5 \n",
      "[CV]  max_depth=20, max_features=sqrt, n_estimators=960, bootstrap=False, min_samples_leaf=4, min_samples_split=5, total=  45.4s\n",
      "[CV] max_depth=20, max_features=sqrt, n_estimators=960, bootstrap=False, min_samples_leaf=4, min_samples_split=5 \n",
      "[CV]  max_depth=20, max_features=sqrt, n_estimators=960, bootstrap=False, min_samples_leaf=4, min_samples_split=5, total=  45.1s\n",
      "[CV] max_depth=20, max_features=sqrt, n_estimators=960, bootstrap=False, min_samples_leaf=4, min_samples_split=5 \n",
      "[CV]  max_depth=30, max_features=auto, n_estimators=1540, bootstrap=False, min_samples_leaf=4, min_samples_split=10, total= 4.5min\n",
      "[CV] max_depth=30, max_features=sqrt, n_estimators=20, bootstrap=False, min_samples_leaf=1, min_samples_split=2 \n",
      "[CV]  max_depth=30, max_features=sqrt, n_estimators=20, bootstrap=False, min_samples_leaf=1, min_samples_split=2, total=   1.2s\n",
      "[CV] max_depth=30, max_features=sqrt, n_estimators=20, bootstrap=False, min_samples_leaf=1, min_samples_split=2 \n",
      "[CV]  max_depth=30, max_features=sqrt, n_estimators=20, bootstrap=False, min_samples_leaf=1, min_samples_split=2, total=   1.2s\n",
      "[CV] max_depth=30, max_features=sqrt, n_estimators=20, bootstrap=False, min_samples_leaf=1, min_samples_split=2 \n",
      "[CV]  max_depth=30, max_features=sqrt, n_estimators=20, bootstrap=False, min_samples_leaf=1, min_samples_split=2, total=   1.2s\n",
      "[CV] max_depth=50, max_features=sqrt, n_estimators=600, bootstrap=True, min_samples_leaf=2, min_samples_split=5 \n",
      "[CV]  max_depth=20, max_features=sqrt, n_estimators=960, bootstrap=False, min_samples_leaf=4, min_samples_split=5, total=  44.9s\n",
      "[CV] max_depth=50, max_features=sqrt, n_estimators=600, bootstrap=True, min_samples_leaf=2, min_samples_split=5 \n",
      "[CV]  max_depth=50, max_features=sqrt, n_estimators=600, bootstrap=True, min_samples_leaf=2, min_samples_split=5, total=  15.5s\n",
      "[CV] max_depth=50, max_features=sqrt, n_estimators=600, bootstrap=True, min_samples_leaf=2, min_samples_split=5 \n",
      "[CV]  max_depth=30, max_features=auto, n_estimators=1540, bootstrap=False, min_samples_leaf=4, min_samples_split=10, total= 4.2min\n",
      "[CV] max_depth=100, max_features=sqrt, n_estimators=1260, bootstrap=True, min_samples_leaf=1, min_samples_split=5 \n",
      "[CV]  max_depth=50, max_features=sqrt, n_estimators=600, bootstrap=True, min_samples_leaf=2, min_samples_split=5, total=  15.8s\n",
      "[CV] max_depth=100, max_features=sqrt, n_estimators=1260, bootstrap=True, min_samples_leaf=1, min_samples_split=5 \n",
      "[CV]  max_depth=50, max_features=sqrt, n_estimators=600, bootstrap=True, min_samples_leaf=2, min_samples_split=5, total=  15.6s\n",
      "[CV] max_depth=100, max_features=sqrt, n_estimators=1260, bootstrap=True, min_samples_leaf=1, min_samples_split=5 \n",
      "[CV]  max_depth=100, max_features=sqrt, n_estimators=1260, bootstrap=True, min_samples_leaf=1, min_samples_split=5, total=  37.2s\n",
      "[CV] max_depth=60, max_features=auto, n_estimators=1380, bootstrap=True, min_samples_leaf=1, min_samples_split=10 \n",
      "[CV]  max_depth=100, max_features=sqrt, n_estimators=1260, bootstrap=True, min_samples_leaf=1, min_samples_split=5, total=  37.4s\n",
      "[CV] max_depth=60, max_features=auto, n_estimators=1380, bootstrap=True, min_samples_leaf=1, min_samples_split=10 \n",
      "[CV]  max_depth=100, max_features=sqrt, n_estimators=1260, bootstrap=True, min_samples_leaf=1, min_samples_split=5, total=  36.3s\n",
      "[CV] max_depth=60, max_features=auto, n_estimators=1380, bootstrap=True, min_samples_leaf=1, min_samples_split=10 \n",
      "[CV]  max_depth=30, max_features=auto, n_estimators=1540, bootstrap=False, min_samples_leaf=4, min_samples_split=10, total= 4.4min\n",
      "[CV] max_depth=10, max_features=sqrt, n_estimators=1440, bootstrap=False, min_samples_leaf=2, min_samples_split=10 \n",
      "[CV]  max_depth=10, max_features=sqrt, n_estimators=1440, bootstrap=False, min_samples_leaf=2, min_samples_split=10, total= 1.1min\n",
      "[CV] max_depth=10, max_features=sqrt, n_estimators=1440, bootstrap=False, min_samples_leaf=2, min_samples_split=10 \n",
      "[CV]  max_depth=60, max_features=auto, n_estimators=1380, bootstrap=True, min_samples_leaf=1, min_samples_split=10, total= 2.2min\n",
      "[CV] max_depth=10, max_features=sqrt, n_estimators=1440, bootstrap=False, min_samples_leaf=2, min_samples_split=10 \n",
      "[CV]  max_depth=60, max_features=auto, n_estimators=1380, bootstrap=True, min_samples_leaf=1, min_samples_split=10, total= 2.3min\n",
      "[CV] max_depth=70, max_features=sqrt, n_estimators=1720, bootstrap=True, min_samples_leaf=2, min_samples_split=5 \n",
      "[CV]  max_depth=60, max_features=auto, n_estimators=1380, bootstrap=True, min_samples_leaf=1, min_samples_split=10, total= 2.2min\n",
      "[CV] max_depth=70, max_features=sqrt, n_estimators=1720, bootstrap=True, min_samples_leaf=2, min_samples_split=5 \n",
      "[CV]  max_depth=10, max_features=sqrt, n_estimators=1440, bootstrap=False, min_samples_leaf=2, min_samples_split=10, total= 1.1min\n",
      "[CV] max_depth=70, max_features=sqrt, n_estimators=1720, bootstrap=True, min_samples_leaf=2, min_samples_split=5 \n",
      "[CV]  max_depth=70, max_features=sqrt, n_estimators=1720, bootstrap=True, min_samples_leaf=2, min_samples_split=5, total=  44.6s\n",
      "[CV] max_depth=10, max_features=sqrt, n_estimators=880, bootstrap=False, min_samples_leaf=2, min_samples_split=10 \n"
     ]
    },
    {
     "name": "stdout",
     "output_type": "stream",
     "text": [
      "[CV]  max_depth=70, max_features=sqrt, n_estimators=1720, bootstrap=True, min_samples_leaf=2, min_samples_split=5, total=  45.0s\n",
      "[CV] max_depth=10, max_features=sqrt, n_estimators=880, bootstrap=False, min_samples_leaf=2, min_samples_split=10 \n",
      "[CV]  max_depth=10, max_features=sqrt, n_estimators=1440, bootstrap=False, min_samples_leaf=2, min_samples_split=10, total= 1.1min\n",
      "[CV] max_depth=10, max_features=sqrt, n_estimators=880, bootstrap=False, min_samples_leaf=2, min_samples_split=10 \n",
      "[CV]  max_depth=70, max_features=sqrt, n_estimators=1720, bootstrap=True, min_samples_leaf=2, min_samples_split=5, total=  44.2s\n",
      "[CV] max_depth=110, max_features=sqrt, n_estimators=2000, bootstrap=False, min_samples_leaf=2, min_samples_split=2 \n",
      "[CV]  max_depth=10, max_features=sqrt, n_estimators=880, bootstrap=False, min_samples_leaf=2, min_samples_split=10, total=  41.9s\n",
      "[CV] max_depth=110, max_features=sqrt, n_estimators=2000, bootstrap=False, min_samples_leaf=2, min_samples_split=2 \n",
      "[CV]  max_depth=10, max_features=sqrt, n_estimators=880, bootstrap=False, min_samples_leaf=2, min_samples_split=10, total=  41.7s\n",
      "[CV] max_depth=110, max_features=sqrt, n_estimators=2000, bootstrap=False, min_samples_leaf=2, min_samples_split=2 \n",
      "[CV]  max_depth=10, max_features=sqrt, n_estimators=880, bootstrap=False, min_samples_leaf=2, min_samples_split=10, total=  40.7s\n",
      "[CV] max_depth=50, max_features=sqrt, n_estimators=1440, bootstrap=True, min_samples_leaf=2, min_samples_split=5 \n",
      "[CV]  max_depth=50, max_features=sqrt, n_estimators=1440, bootstrap=True, min_samples_leaf=2, min_samples_split=5, total=  37.2s\n",
      "[CV] max_depth=50, max_features=sqrt, n_estimators=1440, bootstrap=True, min_samples_leaf=2, min_samples_split=5 \n",
      "[CV]  max_depth=110, max_features=sqrt, n_estimators=2000, bootstrap=False, min_samples_leaf=2, min_samples_split=2, total= 1.7min\n",
      "[CV] max_depth=50, max_features=sqrt, n_estimators=1440, bootstrap=True, min_samples_leaf=2, min_samples_split=5 \n",
      "[CV]  max_depth=50, max_features=sqrt, n_estimators=1440, bootstrap=True, min_samples_leaf=2, min_samples_split=5, total=  37.2s\n",
      "[CV] max_depth=110, max_features=auto, n_estimators=900, bootstrap=False, min_samples_leaf=1, min_samples_split=10 \n",
      "[CV]  max_depth=110, max_features=sqrt, n_estimators=2000, bootstrap=False, min_samples_leaf=2, min_samples_split=2, total= 1.7min\n",
      "[CV] max_depth=110, max_features=auto, n_estimators=900, bootstrap=False, min_samples_leaf=1, min_samples_split=10 \n",
      "[CV]  max_depth=110, max_features=sqrt, n_estimators=2000, bootstrap=False, min_samples_leaf=2, min_samples_split=2, total= 1.7min\n",
      "[CV] max_depth=110, max_features=auto, n_estimators=900, bootstrap=False, min_samples_leaf=1, min_samples_split=10 \n",
      "[CV]  max_depth=50, max_features=sqrt, n_estimators=1440, bootstrap=True, min_samples_leaf=2, min_samples_split=5, total=  36.7s\n",
      "[CV] max_depth=20, max_features=auto, n_estimators=1380, bootstrap=True, min_samples_leaf=4, min_samples_split=5 \n",
      "[CV]  max_depth=20, max_features=auto, n_estimators=1380, bootstrap=True, min_samples_leaf=4, min_samples_split=5, total= 1.8min\n",
      "[CV] max_depth=20, max_features=auto, n_estimators=1380, bootstrap=True, min_samples_leaf=4, min_samples_split=5 \n",
      "[CV]  max_depth=110, max_features=auto, n_estimators=900, bootstrap=False, min_samples_leaf=1, min_samples_split=10, total= 2.9min\n",
      "[CV] max_depth=20, max_features=auto, n_estimators=1380, bootstrap=True, min_samples_leaf=4, min_samples_split=5 \n",
      "[CV]  max_depth=110, max_features=auto, n_estimators=900, bootstrap=False, min_samples_leaf=1, min_samples_split=10, total= 2.8min\n",
      "[CV] max_depth=20, max_features=auto, n_estimators=560, bootstrap=True, min_samples_leaf=1, min_samples_split=10 \n",
      "[CV]  max_depth=110, max_features=auto, n_estimators=900, bootstrap=False, min_samples_leaf=1, min_samples_split=10, total= 2.9min\n",
      "[CV] max_depth=20, max_features=auto, n_estimators=560, bootstrap=True, min_samples_leaf=1, min_samples_split=10 \n",
      "[CV]  max_depth=20, max_features=auto, n_estimators=560, bootstrap=True, min_samples_leaf=1, min_samples_split=10, total=  53.7s\n",
      "[CV] max_depth=20, max_features=auto, n_estimators=560, bootstrap=True, min_samples_leaf=1, min_samples_split=10 \n",
      "[CV]  max_depth=20, max_features=auto, n_estimators=560, bootstrap=True, min_samples_leaf=1, min_samples_split=10, total=  54.4s\n",
      "[CV] max_depth=20, max_features=auto, n_estimators=1920, bootstrap=True, min_samples_leaf=4, min_samples_split=10 \n",
      "[CV]  max_depth=20, max_features=auto, n_estimators=1380, bootstrap=True, min_samples_leaf=4, min_samples_split=5, total= 1.8min\n",
      "[CV] max_depth=20, max_features=auto, n_estimators=1920, bootstrap=True, min_samples_leaf=4, min_samples_split=10 \n",
      "[CV]  max_depth=20, max_features=auto, n_estimators=1380, bootstrap=True, min_samples_leaf=4, min_samples_split=5, total= 1.8min\n",
      "[CV] max_depth=20, max_features=auto, n_estimators=1920, bootstrap=True, min_samples_leaf=4, min_samples_split=10 \n",
      "[CV]  max_depth=20, max_features=auto, n_estimators=560, bootstrap=True, min_samples_leaf=1, min_samples_split=10, total=  54.0s\n",
      "[CV] max_depth=30, max_features=sqrt, n_estimators=1180, bootstrap=True, min_samples_leaf=4, min_samples_split=5 \n",
      "[CV]  max_depth=30, max_features=sqrt, n_estimators=1180, bootstrap=True, min_samples_leaf=4, min_samples_split=5, total=  27.6s\n",
      "[CV] max_depth=30, max_features=sqrt, n_estimators=1180, bootstrap=True, min_samples_leaf=4, min_samples_split=5 \n",
      "[CV]  max_depth=30, max_features=sqrt, n_estimators=1180, bootstrap=True, min_samples_leaf=4, min_samples_split=5, total=  27.7s\n",
      "[CV] max_depth=30, max_features=sqrt, n_estimators=1180, bootstrap=True, min_samples_leaf=4, min_samples_split=5 \n",
      "[CV]  max_depth=30, max_features=sqrt, n_estimators=1180, bootstrap=True, min_samples_leaf=4, min_samples_split=5, total=  27.4s\n",
      "[CV] max_depth=20, max_features=auto, n_estimators=60, bootstrap=False, min_samples_leaf=2, min_samples_split=5 \n",
      "[CV]  max_depth=20, max_features=auto, n_estimators=60, bootstrap=False, min_samples_leaf=2, min_samples_split=5, total=  11.4s\n",
      "[CV] max_depth=20, max_features=auto, n_estimators=60, bootstrap=False, min_samples_leaf=2, min_samples_split=5 \n",
      "[CV]  max_depth=20, max_features=auto, n_estimators=1920, bootstrap=True, min_samples_leaf=4, min_samples_split=10, total= 2.5min\n",
      "[CV] max_depth=20, max_features=auto, n_estimators=60, bootstrap=False, min_samples_leaf=2, min_samples_split=5 \n",
      "[CV]  max_depth=20, max_features=auto, n_estimators=60, bootstrap=False, min_samples_leaf=2, min_samples_split=5, total=  10.8s\n",
      "[CV] max_depth=110, max_features=sqrt, n_estimators=100, bootstrap=False, min_samples_leaf=4, min_samples_split=10 \n",
      "[CV]  max_depth=20, max_features=auto, n_estimators=1920, bootstrap=True, min_samples_leaf=4, min_samples_split=10, total= 2.5min\n",
      "[CV] max_depth=110, max_features=sqrt, n_estimators=100, bootstrap=False, min_samples_leaf=4, min_samples_split=10 \n",
      "[CV]  max_depth=110, max_features=sqrt, n_estimators=100, bootstrap=False, min_samples_leaf=4, min_samples_split=10, total=   4.8s\n",
      "[CV] max_depth=110, max_features=sqrt, n_estimators=100, bootstrap=False, min_samples_leaf=4, min_samples_split=10 \n",
      "[CV]  max_depth=110, max_features=sqrt, n_estimators=100, bootstrap=False, min_samples_leaf=4, min_samples_split=10, total=   4.8s\n",
      "[CV] max_depth=80, max_features=auto, n_estimators=1200, bootstrap=False, min_samples_leaf=4, min_samples_split=5 \n",
      "[CV]  max_depth=20, max_features=auto, n_estimators=60, bootstrap=False, min_samples_leaf=2, min_samples_split=5, total=  11.0s\n",
      "[CV] max_depth=80, max_features=auto, n_estimators=1200, bootstrap=False, min_samples_leaf=4, min_samples_split=5 \n",
      "[CV]  max_depth=110, max_features=sqrt, n_estimators=100, bootstrap=False, min_samples_leaf=4, min_samples_split=10, total=   4.8s\n",
      "[CV] max_depth=80, max_features=auto, n_estimators=1200, bootstrap=False, min_samples_leaf=4, min_samples_split=5 \n",
      "[CV]  max_depth=20, max_features=auto, n_estimators=1920, bootstrap=True, min_samples_leaf=4, min_samples_split=10, total= 2.6min\n",
      "[CV] max_depth=80, max_features=sqrt, n_estimators=1740, bootstrap=True, min_samples_leaf=2, min_samples_split=5 \n",
      "[CV]  max_depth=80, max_features=sqrt, n_estimators=1740, bootstrap=True, min_samples_leaf=2, min_samples_split=5, total=  45.3s\n"
     ]
    },
    {
     "name": "stdout",
     "output_type": "stream",
     "text": [
      "[CV] max_depth=80, max_features=sqrt, n_estimators=1740, bootstrap=True, min_samples_leaf=2, min_samples_split=5 \n",
      "[CV]  max_depth=80, max_features=sqrt, n_estimators=1740, bootstrap=True, min_samples_leaf=2, min_samples_split=5, total=  45.5s\n",
      "[CV] max_depth=80, max_features=sqrt, n_estimators=1740, bootstrap=True, min_samples_leaf=2, min_samples_split=5 \n",
      "[CV]  max_depth=80, max_features=sqrt, n_estimators=1740, bootstrap=True, min_samples_leaf=2, min_samples_split=5, total=  44.2s\n",
      "[CV] max_depth=80, max_features=auto, n_estimators=1340, bootstrap=True, min_samples_leaf=1, min_samples_split=2 \n",
      "[CV]  max_depth=80, max_features=auto, n_estimators=1200, bootstrap=False, min_samples_leaf=4, min_samples_split=5, total= 3.3min\n",
      "[CV] max_depth=80, max_features=auto, n_estimators=1340, bootstrap=True, min_samples_leaf=1, min_samples_split=2 \n",
      "[CV]  max_depth=80, max_features=auto, n_estimators=1200, bootstrap=False, min_samples_leaf=4, min_samples_split=5, total= 3.4min\n",
      "[CV] max_depth=80, max_features=auto, n_estimators=1340, bootstrap=True, min_samples_leaf=1, min_samples_split=2 \n",
      "[CV]  max_depth=80, max_features=auto, n_estimators=1200, bootstrap=False, min_samples_leaf=4, min_samples_split=5, total= 3.5min\n",
      "[CV] max_depth=110, max_features=auto, n_estimators=1220, bootstrap=False, min_samples_leaf=4, min_samples_split=10 \n",
      "[CV]  max_depth=80, max_features=auto, n_estimators=1340, bootstrap=True, min_samples_leaf=1, min_samples_split=2, total= 2.4min\n",
      "[CV] max_depth=110, max_features=auto, n_estimators=1220, bootstrap=False, min_samples_leaf=4, min_samples_split=10 \n",
      "[CV]  max_depth=80, max_features=auto, n_estimators=1340, bootstrap=True, min_samples_leaf=1, min_samples_split=2, total= 2.4min\n",
      "[CV] max_depth=110, max_features=auto, n_estimators=1220, bootstrap=False, min_samples_leaf=4, min_samples_split=10 \n",
      "[CV]  max_depth=80, max_features=auto, n_estimators=1340, bootstrap=True, min_samples_leaf=1, min_samples_split=2, total= 2.4min\n",
      "[CV] max_depth=20, max_features=sqrt, n_estimators=1240, bootstrap=True, min_samples_leaf=4, min_samples_split=10 \n",
      "[CV]  max_depth=20, max_features=sqrt, n_estimators=1240, bootstrap=True, min_samples_leaf=4, min_samples_split=10, total=  28.9s\n",
      "[CV] max_depth=20, max_features=sqrt, n_estimators=1240, bootstrap=True, min_samples_leaf=4, min_samples_split=10 \n",
      "[CV]  max_depth=20, max_features=sqrt, n_estimators=1240, bootstrap=True, min_samples_leaf=4, min_samples_split=10, total=  28.7s\n",
      "[CV] max_depth=20, max_features=sqrt, n_estimators=1240, bootstrap=True, min_samples_leaf=4, min_samples_split=10 \n",
      "[CV]  max_depth=110, max_features=auto, n_estimators=1220, bootstrap=False, min_samples_leaf=4, min_samples_split=10, total= 3.5min\n",
      "[CV] max_depth=40, max_features=sqrt, n_estimators=1100, bootstrap=False, min_samples_leaf=4, min_samples_split=5 \n",
      "[CV]  max_depth=20, max_features=sqrt, n_estimators=1240, bootstrap=True, min_samples_leaf=4, min_samples_split=10, total=  28.3s\n",
      "[CV] max_depth=40, max_features=sqrt, n_estimators=1100, bootstrap=False, min_samples_leaf=4, min_samples_split=5 \n",
      "[CV]  max_depth=40, max_features=sqrt, n_estimators=1100, bootstrap=False, min_samples_leaf=4, min_samples_split=5, total=  51.7s\n",
      "[CV] max_depth=40, max_features=sqrt, n_estimators=1100, bootstrap=False, min_samples_leaf=4, min_samples_split=5 \n",
      "[CV]  max_depth=40, max_features=sqrt, n_estimators=1100, bootstrap=False, min_samples_leaf=4, min_samples_split=5, total=  51.4s\n",
      "[CV] max_depth=110, max_features=sqrt, n_estimators=1060, bootstrap=False, min_samples_leaf=1, min_samples_split=10 \n",
      "[CV]  max_depth=110, max_features=auto, n_estimators=1220, bootstrap=False, min_samples_leaf=4, min_samples_split=10, total= 3.3min\n",
      "[CV] max_depth=110, max_features=sqrt, n_estimators=1060, bootstrap=False, min_samples_leaf=1, min_samples_split=10 \n",
      "[CV]  max_depth=40, max_features=sqrt, n_estimators=1100, bootstrap=False, min_samples_leaf=4, min_samples_split=5, total=  50.7s\n",
      "[CV] max_depth=110, max_features=sqrt, n_estimators=1060, bootstrap=False, min_samples_leaf=1, min_samples_split=10 \n",
      "[CV]  max_depth=110, max_features=sqrt, n_estimators=1060, bootstrap=False, min_samples_leaf=1, min_samples_split=10, total=  55.4s\n",
      "[CV] max_depth=20, max_features=sqrt, n_estimators=1260, bootstrap=False, min_samples_leaf=1, min_samples_split=5 \n",
      "[CV]  max_depth=110, max_features=auto, n_estimators=1220, bootstrap=False, min_samples_leaf=4, min_samples_split=10, total= 3.4min\n",
      "[CV] max_depth=20, max_features=sqrt, n_estimators=1260, bootstrap=False, min_samples_leaf=1, min_samples_split=5 \n",
      "[CV]  max_depth=110, max_features=sqrt, n_estimators=1060, bootstrap=False, min_samples_leaf=1, min_samples_split=10, total=  56.0s\n",
      "[CV] max_depth=20, max_features=sqrt, n_estimators=1260, bootstrap=False, min_samples_leaf=1, min_samples_split=5 \n",
      "[CV]  max_depth=110, max_features=sqrt, n_estimators=1060, bootstrap=False, min_samples_leaf=1, min_samples_split=10, total=  55.2s\n",
      "[CV] max_depth=50, max_features=sqrt, n_estimators=1860, bootstrap=True, min_samples_leaf=1, min_samples_split=10 \n",
      "[CV]  max_depth=20, max_features=sqrt, n_estimators=1260, bootstrap=False, min_samples_leaf=1, min_samples_split=5, total= 1.2min\n",
      "[CV] max_depth=50, max_features=sqrt, n_estimators=1860, bootstrap=True, min_samples_leaf=1, min_samples_split=10 \n",
      "[CV]  max_depth=20, max_features=sqrt, n_estimators=1260, bootstrap=False, min_samples_leaf=1, min_samples_split=5, total= 1.2min\n",
      "[CV] max_depth=50, max_features=sqrt, n_estimators=1860, bootstrap=True, min_samples_leaf=1, min_samples_split=10 \n",
      "[CV]  max_depth=50, max_features=sqrt, n_estimators=1860, bootstrap=True, min_samples_leaf=1, min_samples_split=10, total=  51.4s\n",
      "[CV] max_depth=60, max_features=sqrt, n_estimators=720, bootstrap=False, min_samples_leaf=4, min_samples_split=10 \n",
      "[CV]  max_depth=20, max_features=sqrt, n_estimators=1260, bootstrap=False, min_samples_leaf=1, min_samples_split=5, total= 1.1min\n",
      "[CV] max_depth=60, max_features=sqrt, n_estimators=720, bootstrap=False, min_samples_leaf=4, min_samples_split=10 \n",
      "[CV]  max_depth=50, max_features=sqrt, n_estimators=1860, bootstrap=True, min_samples_leaf=1, min_samples_split=10, total=  51.6s\n",
      "[CV] max_depth=60, max_features=sqrt, n_estimators=720, bootstrap=False, min_samples_leaf=4, min_samples_split=10 \n",
      "[CV]  max_depth=60, max_features=sqrt, n_estimators=720, bootstrap=False, min_samples_leaf=4, min_samples_split=10, total=  33.6s\n",
      "[CV] max_depth=80, max_features=auto, n_estimators=1360, bootstrap=True, min_samples_leaf=2, min_samples_split=5 \n",
      "[CV]  max_depth=50, max_features=sqrt, n_estimators=1860, bootstrap=True, min_samples_leaf=1, min_samples_split=10, total=  51.0s\n",
      "[CV] max_depth=80, max_features=auto, n_estimators=1360, bootstrap=True, min_samples_leaf=2, min_samples_split=5 \n",
      "[CV]  max_depth=60, max_features=sqrt, n_estimators=720, bootstrap=False, min_samples_leaf=4, min_samples_split=10, total=  33.6s\n",
      "[CV] max_depth=80, max_features=auto, n_estimators=1360, bootstrap=True, min_samples_leaf=2, min_samples_split=5 \n",
      "[CV]  max_depth=60, max_features=sqrt, n_estimators=720, bootstrap=False, min_samples_leaf=4, min_samples_split=10, total=  34.2s\n",
      "[CV] max_depth=30, max_features=auto, n_estimators=2000, bootstrap=False, min_samples_leaf=1, min_samples_split=5 \n",
      "[CV]  max_depth=80, max_features=auto, n_estimators=1360, bootstrap=True, min_samples_leaf=2, min_samples_split=5, total= 2.0min\n",
      "[CV] max_depth=30, max_features=auto, n_estimators=2000, bootstrap=False, min_samples_leaf=1, min_samples_split=5 \n",
      "[CV]  max_depth=80, max_features=auto, n_estimators=1360, bootstrap=True, min_samples_leaf=2, min_samples_split=5, total= 2.0min\n",
      "[CV] max_depth=30, max_features=auto, n_estimators=2000, bootstrap=False, min_samples_leaf=1, min_samples_split=5 \n",
      "[CV]  max_depth=80, max_features=auto, n_estimators=1360, bootstrap=True, min_samples_leaf=2, min_samples_split=5, total= 2.0min\n",
      "[CV] max_depth=90, max_features=sqrt, n_estimators=460, bootstrap=False, min_samples_leaf=1, min_samples_split=5 \n",
      "[CV]  max_depth=90, max_features=sqrt, n_estimators=460, bootstrap=False, min_samples_leaf=1, min_samples_split=5, total=  25.4s\n",
      "[CV] max_depth=90, max_features=sqrt, n_estimators=460, bootstrap=False, min_samples_leaf=1, min_samples_split=5 \n"
     ]
    },
    {
     "name": "stdout",
     "output_type": "stream",
     "text": [
      "[CV]  max_depth=90, max_features=sqrt, n_estimators=460, bootstrap=False, min_samples_leaf=1, min_samples_split=5, total=  25.4s\n",
      "[CV] max_depth=90, max_features=sqrt, n_estimators=460, bootstrap=False, min_samples_leaf=1, min_samples_split=5 \n",
      "[CV]  max_depth=90, max_features=sqrt, n_estimators=460, bootstrap=False, min_samples_leaf=1, min_samples_split=5, total=  25.0s\n",
      "[CV] max_depth=70, max_features=sqrt, n_estimators=760, bootstrap=True, min_samples_leaf=1, min_samples_split=5 \n",
      "[CV]  max_depth=70, max_features=sqrt, n_estimators=760, bootstrap=True, min_samples_leaf=1, min_samples_split=5, total=  22.2s\n",
      "[CV] max_depth=70, max_features=sqrt, n_estimators=760, bootstrap=True, min_samples_leaf=1, min_samples_split=5 \n",
      "[CV]  max_depth=70, max_features=sqrt, n_estimators=760, bootstrap=True, min_samples_leaf=1, min_samples_split=5, total=  22.2s\n",
      "[CV] max_depth=70, max_features=sqrt, n_estimators=760, bootstrap=True, min_samples_leaf=1, min_samples_split=5 \n",
      "[CV]  max_depth=70, max_features=sqrt, n_estimators=760, bootstrap=True, min_samples_leaf=1, min_samples_split=5, total=  22.1s\n",
      "[CV] max_depth=80, max_features=sqrt, n_estimators=800, bootstrap=True, min_samples_leaf=2, min_samples_split=10 \n",
      "[CV]  max_depth=80, max_features=sqrt, n_estimators=800, bootstrap=True, min_samples_leaf=2, min_samples_split=10, total=  19.9s\n",
      "[CV] max_depth=80, max_features=sqrt, n_estimators=800, bootstrap=True, min_samples_leaf=2, min_samples_split=10 \n",
      "[CV]  max_depth=80, max_features=sqrt, n_estimators=800, bootstrap=True, min_samples_leaf=2, min_samples_split=10, total=  20.3s\n",
      "[CV] max_depth=80, max_features=sqrt, n_estimators=800, bootstrap=True, min_samples_leaf=2, min_samples_split=10 \n",
      "[CV]  max_depth=80, max_features=sqrt, n_estimators=800, bootstrap=True, min_samples_leaf=2, min_samples_split=10, total=  19.7s\n",
      "[CV]  max_depth=30, max_features=auto, n_estimators=2000, bootstrap=False, min_samples_leaf=1, min_samples_split=5, total= 6.3min\n",
      "[CV]  max_depth=30, max_features=auto, n_estimators=2000, bootstrap=False, min_samples_leaf=1, min_samples_split=5, total= 5.6min\n",
      "[CV]  max_depth=30, max_features=auto, n_estimators=2000, bootstrap=False, min_samples_leaf=1, min_samples_split=5, total= 5.9min\n"
     ]
    },
    {
     "name": "stderr",
     "output_type": "stream",
     "text": [
      "[Parallel(n_jobs=-1)]: Done 300 out of 300 | elapsed: 114.8min finished\n"
     ]
    },
    {
     "data": {
      "text/plain": [
       "RandomizedSearchCV(cv=3, error_score='raise',\n",
       "          estimator=RandomForestRegressor(bootstrap=True, criterion='mae', max_depth=None,\n",
       "           max_features='auto', max_leaf_nodes=None,\n",
       "           min_impurity_decrease=0.0, min_impurity_split=None,\n",
       "           min_samples_leaf=1, min_samples_split=2,\n",
       "           min_weight_fraction_leaf=0.0, n_estimators=10, n_jobs=1,\n",
       "           oob_score=False, random_state=42, verbose=0, warm_start=False),\n",
       "          fit_params=None, iid=True, n_iter=100, n_jobs=-1,\n",
       "          param_distributions={'max_depth': array([ 10,  20,  30,  40,  50,  60,  70,  80,  90, 100, 110]), 'max_features': ['auto', 'sqrt'], 'n_estimators': array([  20,   40, ..., 1980, 2000]), 'bootstrap': [True, False], 'min_samples_leaf': [1, 2, 4], 'min_samples_split': [2, 5, 10]},\n",
       "          pre_dispatch='2*n_jobs', random_state=42, refit=True,\n",
       "          return_train_score='warn', scoring=None, verbose=2)"
      ]
     },
     "execution_count": 79,
     "metadata": {},
     "output_type": "execute_result"
    }
   ],
   "source": [
    "random_rf.fit(X_m_s_train_norm, target_viol_train)"
   ]
  },
  {
   "cell_type": "code",
   "execution_count": 80,
   "metadata": {},
   "outputs": [
    {
     "data": {
      "text/plain": [
       "0.6216473273790658"
      ]
     },
     "execution_count": 80,
     "metadata": {},
     "output_type": "execute_result"
    }
   ],
   "source": [
    "random_rf.best_score_"
   ]
  },
  {
   "cell_type": "code",
   "execution_count": 81,
   "metadata": {},
   "outputs": [
    {
     "data": {
      "text/plain": [
       "{'bootstrap': False,\n",
       " 'max_depth': 100,\n",
       " 'max_features': 'sqrt',\n",
       " 'min_samples_leaf': 1,\n",
       " 'min_samples_split': 5,\n",
       " 'n_estimators': 1320}"
      ]
     },
     "execution_count": 81,
     "metadata": {},
     "output_type": "execute_result"
    }
   ],
   "source": [
    "random_rf.best_params_"
   ]
  },
  {
   "cell_type": "code",
   "execution_count": 84,
   "metadata": {},
   "outputs": [
    {
     "data": {
      "text/plain": [
       "247.85947489120622"
      ]
     },
     "execution_count": 84,
     "metadata": {},
     "output_type": "execute_result"
    }
   ],
   "source": [
    "mean_absolute_error(target_viol_test, random_rf.best_estimator_.predict(X_m_s_test_norm))"
   ]
  },
  {
   "cell_type": "code",
   "execution_count": 91,
   "metadata": {},
   "outputs": [
    {
     "data": {
      "text/plain": [
       "{'bootstrap': [False],\n",
       " 'max_depth': [90, 100, 110],\n",
       " 'max_features': ['sqrt'],\n",
       " 'min_samples_leaf': [1, 2, 3],\n",
       " 'min_samples_split': [5, 7],\n",
       " 'n_estimators': [1310, 1320, 1330]}"
      ]
     },
     "execution_count": 91,
     "metadata": {},
     "output_type": "execute_result"
    }
   ],
   "source": [
    "grid_rf_params = {'bootstrap': [False],\n",
    " 'max_depth' : [90, 100, 110],\n",
    " 'max_features':['sqrt'],\n",
    " 'min_samples_leaf' : [1, 2, 3],\n",
    " 'min_samples_split': [5, 7],\n",
    " 'n_estimators': [1310, 1320, 1330]}\n",
    "grid_rf_params"
   ]
  },
  {
   "cell_type": "code",
   "execution_count": 92,
   "metadata": {},
   "outputs": [],
   "source": [
    "grid_rf = GridSearchCV(rfreg, grid_rf_params, scoring = 'neg_mean_absolute_error', cv = 3, verbose=2, n_jobs = -1)"
   ]
  },
  {
   "cell_type": "code",
   "execution_count": 93,
   "metadata": {},
   "outputs": [
    {
     "name": "stdout",
     "output_type": "stream",
     "text": [
      "Fitting 3 folds for each of 54 candidates, totalling 162 fits\n",
      "[CV] max_depth=90, max_features=sqrt, n_estimators=1310, bootstrap=False, min_samples_leaf=1, min_samples_split=5 \n",
      "[CV] max_depth=90, max_features=sqrt, n_estimators=1310, bootstrap=False, min_samples_leaf=1, min_samples_split=5 \n",
      "[CV] max_depth=90, max_features=sqrt, n_estimators=1310, bootstrap=False, min_samples_leaf=1, min_samples_split=5 \n",
      "[CV] max_depth=90, max_features=sqrt, n_estimators=1320, bootstrap=False, min_samples_leaf=1, min_samples_split=5 \n",
      "[CV]  max_depth=90, max_features=sqrt, n_estimators=1310, bootstrap=False, min_samples_leaf=1, min_samples_split=5, total= 1.2min\n",
      "[CV] max_depth=90, max_features=sqrt, n_estimators=1320, bootstrap=False, min_samples_leaf=1, min_samples_split=5 \n",
      "[CV]  max_depth=90, max_features=sqrt, n_estimators=1310, bootstrap=False, min_samples_leaf=1, min_samples_split=5, total= 1.2min\n",
      "[CV] max_depth=90, max_features=sqrt, n_estimators=1320, bootstrap=False, min_samples_leaf=1, min_samples_split=5 \n",
      "[CV]  max_depth=90, max_features=sqrt, n_estimators=1310, bootstrap=False, min_samples_leaf=1, min_samples_split=5, total= 1.2min\n",
      "[CV] max_depth=90, max_features=sqrt, n_estimators=1330, bootstrap=False, min_samples_leaf=1, min_samples_split=5 \n",
      "[CV]  max_depth=90, max_features=sqrt, n_estimators=1320, bootstrap=False, min_samples_leaf=1, min_samples_split=5, total= 1.2min\n",
      "[CV] max_depth=90, max_features=sqrt, n_estimators=1330, bootstrap=False, min_samples_leaf=1, min_samples_split=5 \n",
      "[CV]  max_depth=90, max_features=sqrt, n_estimators=1320, bootstrap=False, min_samples_leaf=1, min_samples_split=5, total= 1.3min\n",
      "[CV] max_depth=90, max_features=sqrt, n_estimators=1330, bootstrap=False, min_samples_leaf=1, min_samples_split=5 \n",
      "[CV]  max_depth=90, max_features=sqrt, n_estimators=1330, bootstrap=False, min_samples_leaf=1, min_samples_split=5, total= 1.3min\n",
      "[CV] max_depth=90, max_features=sqrt, n_estimators=1310, bootstrap=False, min_samples_leaf=1, min_samples_split=7 \n",
      "[CV]  max_depth=90, max_features=sqrt, n_estimators=1320, bootstrap=False, min_samples_leaf=1, min_samples_split=5, total= 1.3min\n",
      "[CV] max_depth=90, max_features=sqrt, n_estimators=1310, bootstrap=False, min_samples_leaf=1, min_samples_split=7 \n",
      "[CV]  max_depth=90, max_features=sqrt, n_estimators=1330, bootstrap=False, min_samples_leaf=1, min_samples_split=5, total= 1.3min\n",
      "[CV] max_depth=90, max_features=sqrt, n_estimators=1310, bootstrap=False, min_samples_leaf=1, min_samples_split=7 \n",
      "[CV]  max_depth=90, max_features=sqrt, n_estimators=1310, bootstrap=False, min_samples_leaf=1, min_samples_split=7, total= 1.2min\n",
      "[CV] max_depth=90, max_features=sqrt, n_estimators=1320, bootstrap=False, min_samples_leaf=1, min_samples_split=7 \n",
      "[CV]  max_depth=90, max_features=sqrt, n_estimators=1310, bootstrap=False, min_samples_leaf=1, min_samples_split=7, total= 1.2min\n",
      "[CV] max_depth=90, max_features=sqrt, n_estimators=1320, bootstrap=False, min_samples_leaf=1, min_samples_split=7 \n",
      "[CV]  max_depth=90, max_features=sqrt, n_estimators=1310, bootstrap=False, min_samples_leaf=1, min_samples_split=7, total= 1.2min\n",
      "[CV] max_depth=90, max_features=sqrt, n_estimators=1320, bootstrap=False, min_samples_leaf=1, min_samples_split=7 \n",
      "[CV]  max_depth=90, max_features=sqrt, n_estimators=1330, bootstrap=False, min_samples_leaf=1, min_samples_split=5, total= 1.2min\n",
      "[CV] max_depth=90, max_features=sqrt, n_estimators=1330, bootstrap=False, min_samples_leaf=1, min_samples_split=7 \n",
      "[CV]  max_depth=90, max_features=sqrt, n_estimators=1320, bootstrap=False, min_samples_leaf=1, min_samples_split=7, total= 1.2min\n",
      "[CV] max_depth=90, max_features=sqrt, n_estimators=1330, bootstrap=False, min_samples_leaf=1, min_samples_split=7 \n",
      "[CV]  max_depth=90, max_features=sqrt, n_estimators=1320, bootstrap=False, min_samples_leaf=1, min_samples_split=7, total= 1.2min\n",
      "[CV] max_depth=90, max_features=sqrt, n_estimators=1330, bootstrap=False, min_samples_leaf=1, min_samples_split=7 \n",
      "[CV]  max_depth=90, max_features=sqrt, n_estimators=1320, bootstrap=False, min_samples_leaf=1, min_samples_split=7, total= 1.2min\n",
      "[CV] max_depth=90, max_features=sqrt, n_estimators=1310, bootstrap=False, min_samples_leaf=2, min_samples_split=5 \n",
      "[CV]  max_depth=90, max_features=sqrt, n_estimators=1330, bootstrap=False, min_samples_leaf=1, min_samples_split=7, total= 1.2min\n",
      "[CV] max_depth=90, max_features=sqrt, n_estimators=1310, bootstrap=False, min_samples_leaf=2, min_samples_split=5 \n",
      "[CV]  max_depth=90, max_features=sqrt, n_estimators=1310, bootstrap=False, min_samples_leaf=2, min_samples_split=5, total= 1.1min\n",
      "[CV] max_depth=90, max_features=sqrt, n_estimators=1310, bootstrap=False, min_samples_leaf=2, min_samples_split=5 \n",
      "[CV]  max_depth=90, max_features=sqrt, n_estimators=1310, bootstrap=False, min_samples_leaf=2, min_samples_split=5, total= 1.1min\n",
      "[CV] max_depth=90, max_features=sqrt, n_estimators=1320, bootstrap=False, min_samples_leaf=2, min_samples_split=5 \n",
      "[CV]  max_depth=90, max_features=sqrt, n_estimators=1330, bootstrap=False, min_samples_leaf=1, min_samples_split=7, total= 1.2min\n",
      "[CV] max_depth=90, max_features=sqrt, n_estimators=1320, bootstrap=False, min_samples_leaf=2, min_samples_split=5 \n",
      "[CV]  max_depth=90, max_features=sqrt, n_estimators=1330, bootstrap=False, min_samples_leaf=1, min_samples_split=7, total= 1.2min\n",
      "[CV] max_depth=90, max_features=sqrt, n_estimators=1320, bootstrap=False, min_samples_leaf=2, min_samples_split=5 \n",
      "[CV]  max_depth=90, max_features=sqrt, n_estimators=1310, bootstrap=False, min_samples_leaf=2, min_samples_split=5, total= 1.1min\n",
      "[CV] max_depth=90, max_features=sqrt, n_estimators=1330, bootstrap=False, min_samples_leaf=2, min_samples_split=5 \n",
      "[CV]  max_depth=90, max_features=sqrt, n_estimators=1320, bootstrap=False, min_samples_leaf=2, min_samples_split=5, total= 1.1min\n",
      "[CV] max_depth=90, max_features=sqrt, n_estimators=1330, bootstrap=False, min_samples_leaf=2, min_samples_split=5 \n",
      "[CV]  max_depth=90, max_features=sqrt, n_estimators=1320, bootstrap=False, min_samples_leaf=2, min_samples_split=5, total= 1.1min\n",
      "[CV] max_depth=90, max_features=sqrt, n_estimators=1330, bootstrap=False, min_samples_leaf=2, min_samples_split=5 \n",
      "[CV]  max_depth=90, max_features=sqrt, n_estimators=1320, bootstrap=False, min_samples_leaf=2, min_samples_split=5, total= 1.1min\n",
      "[CV] max_depth=90, max_features=sqrt, n_estimators=1310, bootstrap=False, min_samples_leaf=2, min_samples_split=7 \n",
      "[CV]  max_depth=90, max_features=sqrt, n_estimators=1330, bootstrap=False, min_samples_leaf=2, min_samples_split=5, total= 1.2min\n",
      "[CV] max_depth=90, max_features=sqrt, n_estimators=1310, bootstrap=False, min_samples_leaf=2, min_samples_split=7 \n",
      "[CV]  max_depth=90, max_features=sqrt, n_estimators=1330, bootstrap=False, min_samples_leaf=2, min_samples_split=5, total= 1.2min\n",
      "[CV] max_depth=90, max_features=sqrt, n_estimators=1310, bootstrap=False, min_samples_leaf=2, min_samples_split=7 \n",
      "[CV]  max_depth=90, max_features=sqrt, n_estimators=1310, bootstrap=False, min_samples_leaf=2, min_samples_split=7, total= 1.1min\n",
      "[CV] max_depth=90, max_features=sqrt, n_estimators=1320, bootstrap=False, min_samples_leaf=2, min_samples_split=7 \n",
      "[CV]  max_depth=90, max_features=sqrt, n_estimators=1330, bootstrap=False, min_samples_leaf=2, min_samples_split=5, total= 1.2min\n",
      "[CV] max_depth=90, max_features=sqrt, n_estimators=1320, bootstrap=False, min_samples_leaf=2, min_samples_split=7 \n",
      "[CV]  max_depth=90, max_features=sqrt, n_estimators=1310, bootstrap=False, min_samples_leaf=2, min_samples_split=7, total= 1.4min\n",
      "[CV] max_depth=90, max_features=sqrt, n_estimators=1320, bootstrap=False, min_samples_leaf=2, min_samples_split=7 \n",
      "[CV]  max_depth=90, max_features=sqrt, n_estimators=1310, bootstrap=False, min_samples_leaf=2, min_samples_split=7, total= 1.3min\n",
      "[CV] max_depth=90, max_features=sqrt, n_estimators=1330, bootstrap=False, min_samples_leaf=2, min_samples_split=7 \n",
      "[CV]  max_depth=90, max_features=sqrt, n_estimators=1320, bootstrap=False, min_samples_leaf=2, min_samples_split=7, total= 1.3min\n",
      "[CV] max_depth=90, max_features=sqrt, n_estimators=1330, bootstrap=False, min_samples_leaf=2, min_samples_split=7 \n",
      "[CV]  max_depth=90, max_features=sqrt, n_estimators=1320, bootstrap=False, min_samples_leaf=2, min_samples_split=7, total= 1.3min\n"
     ]
    },
    {
     "name": "stdout",
     "output_type": "stream",
     "text": [
      "[CV] max_depth=90, max_features=sqrt, n_estimators=1330, bootstrap=False, min_samples_leaf=2, min_samples_split=7 \n",
      "[CV]  max_depth=90, max_features=sqrt, n_estimators=1320, bootstrap=False, min_samples_leaf=2, min_samples_split=7, total= 1.2min\n",
      "[CV] max_depth=90, max_features=sqrt, n_estimators=1310, bootstrap=False, min_samples_leaf=3, min_samples_split=5 \n"
     ]
    },
    {
     "name": "stderr",
     "output_type": "stream",
     "text": [
      "[Parallel(n_jobs=-1)]: Done  33 tasks      | elapsed: 10.9min\n"
     ]
    },
    {
     "name": "stdout",
     "output_type": "stream",
     "text": [
      "[CV]  max_depth=90, max_features=sqrt, n_estimators=1330, bootstrap=False, min_samples_leaf=2, min_samples_split=7, total= 1.2min\n",
      "[CV] max_depth=90, max_features=sqrt, n_estimators=1310, bootstrap=False, min_samples_leaf=3, min_samples_split=5 \n",
      "[CV]  max_depth=90, max_features=sqrt, n_estimators=1330, bootstrap=False, min_samples_leaf=2, min_samples_split=7, total= 1.2min\n",
      "[CV] max_depth=90, max_features=sqrt, n_estimators=1310, bootstrap=False, min_samples_leaf=3, min_samples_split=5 \n",
      "[CV]  max_depth=90, max_features=sqrt, n_estimators=1330, bootstrap=False, min_samples_leaf=2, min_samples_split=7, total= 1.2min\n",
      "[CV] max_depth=90, max_features=sqrt, n_estimators=1320, bootstrap=False, min_samples_leaf=3, min_samples_split=5 \n",
      "[CV]  max_depth=90, max_features=sqrt, n_estimators=1310, bootstrap=False, min_samples_leaf=3, min_samples_split=5, total= 1.1min\n",
      "[CV] max_depth=90, max_features=sqrt, n_estimators=1320, bootstrap=False, min_samples_leaf=3, min_samples_split=5 \n",
      "[CV]  max_depth=90, max_features=sqrt, n_estimators=1310, bootstrap=False, min_samples_leaf=3, min_samples_split=5, total= 1.1min\n",
      "[CV] max_depth=90, max_features=sqrt, n_estimators=1320, bootstrap=False, min_samples_leaf=3, min_samples_split=5 \n",
      "[CV]  max_depth=90, max_features=sqrt, n_estimators=1310, bootstrap=False, min_samples_leaf=3, min_samples_split=5, total= 1.1min\n",
      "[CV] max_depth=90, max_features=sqrt, n_estimators=1330, bootstrap=False, min_samples_leaf=3, min_samples_split=5 \n",
      "[CV]  max_depth=90, max_features=sqrt, n_estimators=1320, bootstrap=False, min_samples_leaf=3, min_samples_split=5, total= 1.1min\n",
      "[CV] max_depth=90, max_features=sqrt, n_estimators=1330, bootstrap=False, min_samples_leaf=3, min_samples_split=5 \n",
      "[CV]  max_depth=90, max_features=sqrt, n_estimators=1320, bootstrap=False, min_samples_leaf=3, min_samples_split=5, total= 1.2min\n",
      "[CV] max_depth=90, max_features=sqrt, n_estimators=1330, bootstrap=False, min_samples_leaf=3, min_samples_split=5 \n",
      "[CV]  max_depth=90, max_features=sqrt, n_estimators=1320, bootstrap=False, min_samples_leaf=3, min_samples_split=5, total= 1.2min\n",
      "[CV] max_depth=90, max_features=sqrt, n_estimators=1310, bootstrap=False, min_samples_leaf=3, min_samples_split=7 \n",
      "[CV]  max_depth=90, max_features=sqrt, n_estimators=1330, bootstrap=False, min_samples_leaf=3, min_samples_split=5, total= 1.2min\n",
      "[CV] max_depth=90, max_features=sqrt, n_estimators=1310, bootstrap=False, min_samples_leaf=3, min_samples_split=7 \n",
      "[CV]  max_depth=90, max_features=sqrt, n_estimators=1330, bootstrap=False, min_samples_leaf=3, min_samples_split=5, total= 1.2min\n",
      "[CV] max_depth=90, max_features=sqrt, n_estimators=1310, bootstrap=False, min_samples_leaf=3, min_samples_split=7 \n",
      "[CV]  max_depth=90, max_features=sqrt, n_estimators=1330, bootstrap=False, min_samples_leaf=3, min_samples_split=5, total= 1.3min\n",
      "[CV] max_depth=90, max_features=sqrt, n_estimators=1320, bootstrap=False, min_samples_leaf=3, min_samples_split=7 \n",
      "[CV]  max_depth=90, max_features=sqrt, n_estimators=1310, bootstrap=False, min_samples_leaf=3, min_samples_split=7, total= 1.3min\n",
      "[CV] max_depth=90, max_features=sqrt, n_estimators=1320, bootstrap=False, min_samples_leaf=3, min_samples_split=7 \n",
      "[CV]  max_depth=90, max_features=sqrt, n_estimators=1310, bootstrap=False, min_samples_leaf=3, min_samples_split=7, total= 1.2min\n",
      "[CV] max_depth=90, max_features=sqrt, n_estimators=1320, bootstrap=False, min_samples_leaf=3, min_samples_split=7 \n",
      "[CV]  max_depth=90, max_features=sqrt, n_estimators=1310, bootstrap=False, min_samples_leaf=3, min_samples_split=7, total= 1.2min\n",
      "[CV] max_depth=90, max_features=sqrt, n_estimators=1330, bootstrap=False, min_samples_leaf=3, min_samples_split=7 \n",
      "[CV]  max_depth=90, max_features=sqrt, n_estimators=1320, bootstrap=False, min_samples_leaf=3, min_samples_split=7, total= 1.1min\n",
      "[CV] max_depth=90, max_features=sqrt, n_estimators=1330, bootstrap=False, min_samples_leaf=3, min_samples_split=7 \n",
      "[CV]  max_depth=90, max_features=sqrt, n_estimators=1320, bootstrap=False, min_samples_leaf=3, min_samples_split=7, total= 1.1min\n",
      "[CV] max_depth=90, max_features=sqrt, n_estimators=1330, bootstrap=False, min_samples_leaf=3, min_samples_split=7 \n",
      "[CV]  max_depth=90, max_features=sqrt, n_estimators=1320, bootstrap=False, min_samples_leaf=3, min_samples_split=7, total= 1.1min\n",
      "[CV] max_depth=100, max_features=sqrt, n_estimators=1310, bootstrap=False, min_samples_leaf=1, min_samples_split=5 \n",
      "[CV]  max_depth=90, max_features=sqrt, n_estimators=1330, bootstrap=False, min_samples_leaf=3, min_samples_split=7, total= 1.1min\n",
      "[CV] max_depth=100, max_features=sqrt, n_estimators=1310, bootstrap=False, min_samples_leaf=1, min_samples_split=5 \n",
      "[CV]  max_depth=90, max_features=sqrt, n_estimators=1330, bootstrap=False, min_samples_leaf=3, min_samples_split=7, total= 1.3min\n",
      "[CV] max_depth=100, max_features=sqrt, n_estimators=1310, bootstrap=False, min_samples_leaf=1, min_samples_split=5 \n",
      "[CV]  max_depth=90, max_features=sqrt, n_estimators=1330, bootstrap=False, min_samples_leaf=3, min_samples_split=7, total= 1.3min\n",
      "[CV] max_depth=100, max_features=sqrt, n_estimators=1320, bootstrap=False, min_samples_leaf=1, min_samples_split=5 \n",
      "[CV]  max_depth=100, max_features=sqrt, n_estimators=1310, bootstrap=False, min_samples_leaf=1, min_samples_split=5, total= 1.4min\n",
      "[CV] max_depth=100, max_features=sqrt, n_estimators=1320, bootstrap=False, min_samples_leaf=1, min_samples_split=5 \n",
      "[CV]  max_depth=100, max_features=sqrt, n_estimators=1310, bootstrap=False, min_samples_leaf=1, min_samples_split=5, total= 1.4min\n",
      "[CV] max_depth=100, max_features=sqrt, n_estimators=1320, bootstrap=False, min_samples_leaf=1, min_samples_split=5 \n",
      "[CV]  max_depth=100, max_features=sqrt, n_estimators=1310, bootstrap=False, min_samples_leaf=1, min_samples_split=5, total= 1.4min\n",
      "[CV] max_depth=100, max_features=sqrt, n_estimators=1330, bootstrap=False, min_samples_leaf=1, min_samples_split=5 \n",
      "[CV]  max_depth=100, max_features=sqrt, n_estimators=1320, bootstrap=False, min_samples_leaf=1, min_samples_split=5, total= 1.3min\n",
      "[CV] max_depth=100, max_features=sqrt, n_estimators=1330, bootstrap=False, min_samples_leaf=1, min_samples_split=5 \n",
      "[CV]  max_depth=100, max_features=sqrt, n_estimators=1320, bootstrap=False, min_samples_leaf=1, min_samples_split=5, total= 1.3min\n",
      "[CV] max_depth=100, max_features=sqrt, n_estimators=1330, bootstrap=False, min_samples_leaf=1, min_samples_split=5 \n",
      "[CV]  max_depth=100, max_features=sqrt, n_estimators=1320, bootstrap=False, min_samples_leaf=1, min_samples_split=5, total= 1.3min\n",
      "[CV] max_depth=100, max_features=sqrt, n_estimators=1310, bootstrap=False, min_samples_leaf=1, min_samples_split=7 \n",
      "[CV]  max_depth=100, max_features=sqrt, n_estimators=1330, bootstrap=False, min_samples_leaf=1, min_samples_split=5, total= 1.4min\n",
      "[CV] max_depth=100, max_features=sqrt, n_estimators=1310, bootstrap=False, min_samples_leaf=1, min_samples_split=7 \n",
      "[CV]  max_depth=100, max_features=sqrt, n_estimators=1330, bootstrap=False, min_samples_leaf=1, min_samples_split=5, total= 1.4min\n",
      "[CV] max_depth=100, max_features=sqrt, n_estimators=1310, bootstrap=False, min_samples_leaf=1, min_samples_split=7 \n",
      "[CV]  max_depth=100, max_features=sqrt, n_estimators=1330, bootstrap=False, min_samples_leaf=1, min_samples_split=5, total= 1.4min\n",
      "[CV] max_depth=100, max_features=sqrt, n_estimators=1320, bootstrap=False, min_samples_leaf=1, min_samples_split=7 \n",
      "[CV]  max_depth=100, max_features=sqrt, n_estimators=1310, bootstrap=False, min_samples_leaf=1, min_samples_split=7, total= 1.4min\n",
      "[CV] max_depth=100, max_features=sqrt, n_estimators=1320, bootstrap=False, min_samples_leaf=1, min_samples_split=7 \n",
      "[CV]  max_depth=100, max_features=sqrt, n_estimators=1310, bootstrap=False, min_samples_leaf=1, min_samples_split=7, total= 1.4min\n",
      "[CV] max_depth=100, max_features=sqrt, n_estimators=1320, bootstrap=False, min_samples_leaf=1, min_samples_split=7 \n",
      "[CV]  max_depth=100, max_features=sqrt, n_estimators=1310, bootstrap=False, min_samples_leaf=1, min_samples_split=7, total= 1.5min\n",
      "[CV] max_depth=100, max_features=sqrt, n_estimators=1330, bootstrap=False, min_samples_leaf=1, min_samples_split=7 \n",
      "[CV]  max_depth=100, max_features=sqrt, n_estimators=1320, bootstrap=False, min_samples_leaf=1, min_samples_split=7, total= 1.5min\n"
     ]
    },
    {
     "name": "stdout",
     "output_type": "stream",
     "text": [
      "[CV] max_depth=100, max_features=sqrt, n_estimators=1330, bootstrap=False, min_samples_leaf=1, min_samples_split=7 \n",
      "[CV]  max_depth=100, max_features=sqrt, n_estimators=1320, bootstrap=False, min_samples_leaf=1, min_samples_split=7, total= 1.5min\n",
      "[CV] max_depth=100, max_features=sqrt, n_estimators=1330, bootstrap=False, min_samples_leaf=1, min_samples_split=7 \n",
      "[CV]  max_depth=100, max_features=sqrt, n_estimators=1320, bootstrap=False, min_samples_leaf=1, min_samples_split=7, total= 1.4min\n",
      "[CV] max_depth=100, max_features=sqrt, n_estimators=1310, bootstrap=False, min_samples_leaf=2, min_samples_split=5 \n",
      "[CV]  max_depth=100, max_features=sqrt, n_estimators=1330, bootstrap=False, min_samples_leaf=1, min_samples_split=7, total= 1.4min\n",
      "[CV] max_depth=100, max_features=sqrt, n_estimators=1310, bootstrap=False, min_samples_leaf=2, min_samples_split=5 \n",
      "[CV]  max_depth=100, max_features=sqrt, n_estimators=1330, bootstrap=False, min_samples_leaf=1, min_samples_split=7, total= 1.3min\n",
      "[CV] max_depth=100, max_features=sqrt, n_estimators=1310, bootstrap=False, min_samples_leaf=2, min_samples_split=5 \n",
      "[CV]  max_depth=100, max_features=sqrt, n_estimators=1330, bootstrap=False, min_samples_leaf=1, min_samples_split=7, total= 1.4min\n",
      "[CV] max_depth=100, max_features=sqrt, n_estimators=1320, bootstrap=False, min_samples_leaf=2, min_samples_split=5 \n",
      "[CV]  max_depth=100, max_features=sqrt, n_estimators=1310, bootstrap=False, min_samples_leaf=2, min_samples_split=5, total= 1.4min\n",
      "[CV] max_depth=100, max_features=sqrt, n_estimators=1320, bootstrap=False, min_samples_leaf=2, min_samples_split=5 \n",
      "[CV]  max_depth=100, max_features=sqrt, n_estimators=1310, bootstrap=False, min_samples_leaf=2, min_samples_split=5, total= 1.4min\n",
      "[CV] max_depth=100, max_features=sqrt, n_estimators=1320, bootstrap=False, min_samples_leaf=2, min_samples_split=5 \n",
      "[CV]  max_depth=100, max_features=sqrt, n_estimators=1310, bootstrap=False, min_samples_leaf=2, min_samples_split=5, total= 1.4min\n",
      "[CV] max_depth=100, max_features=sqrt, n_estimators=1330, bootstrap=False, min_samples_leaf=2, min_samples_split=5 \n",
      "[CV]  max_depth=100, max_features=sqrt, n_estimators=1320, bootstrap=False, min_samples_leaf=2, min_samples_split=5, total= 1.4min\n",
      "[CV] max_depth=100, max_features=sqrt, n_estimators=1330, bootstrap=False, min_samples_leaf=2, min_samples_split=5 \n",
      "[CV]  max_depth=100, max_features=sqrt, n_estimators=1320, bootstrap=False, min_samples_leaf=2, min_samples_split=5, total= 1.2min\n",
      "[CV] max_depth=100, max_features=sqrt, n_estimators=1330, bootstrap=False, min_samples_leaf=2, min_samples_split=5 \n",
      "[CV]  max_depth=100, max_features=sqrt, n_estimators=1320, bootstrap=False, min_samples_leaf=2, min_samples_split=5, total= 1.2min\n",
      "[CV] max_depth=100, max_features=sqrt, n_estimators=1310, bootstrap=False, min_samples_leaf=2, min_samples_split=7 \n",
      "[CV]  max_depth=100, max_features=sqrt, n_estimators=1330, bootstrap=False, min_samples_leaf=2, min_samples_split=5, total= 1.2min\n",
      "[CV] max_depth=100, max_features=sqrt, n_estimators=1310, bootstrap=False, min_samples_leaf=2, min_samples_split=7 \n",
      "[CV]  max_depth=100, max_features=sqrt, n_estimators=1330, bootstrap=False, min_samples_leaf=2, min_samples_split=5, total= 1.3min\n",
      "[CV] max_depth=100, max_features=sqrt, n_estimators=1310, bootstrap=False, min_samples_leaf=2, min_samples_split=7 \n",
      "[CV]  max_depth=100, max_features=sqrt, n_estimators=1310, bootstrap=False, min_samples_leaf=2, min_samples_split=7, total= 1.2min\n",
      "[CV] max_depth=100, max_features=sqrt, n_estimators=1320, bootstrap=False, min_samples_leaf=2, min_samples_split=7 \n",
      "[CV]  max_depth=100, max_features=sqrt, n_estimators=1330, bootstrap=False, min_samples_leaf=2, min_samples_split=5, total= 1.2min\n",
      "[CV] max_depth=100, max_features=sqrt, n_estimators=1320, bootstrap=False, min_samples_leaf=2, min_samples_split=7 \n",
      "[CV]  max_depth=100, max_features=sqrt, n_estimators=1310, bootstrap=False, min_samples_leaf=2, min_samples_split=7, total= 1.2min\n",
      "[CV] max_depth=100, max_features=sqrt, n_estimators=1320, bootstrap=False, min_samples_leaf=2, min_samples_split=7 \n",
      "[CV]  max_depth=100, max_features=sqrt, n_estimators=1310, bootstrap=False, min_samples_leaf=2, min_samples_split=7, total= 1.2min\n",
      "[CV] max_depth=100, max_features=sqrt, n_estimators=1330, bootstrap=False, min_samples_leaf=2, min_samples_split=7 \n",
      "[CV]  max_depth=100, max_features=sqrt, n_estimators=1320, bootstrap=False, min_samples_leaf=2, min_samples_split=7, total= 1.2min\n",
      "[CV] max_depth=100, max_features=sqrt, n_estimators=1330, bootstrap=False, min_samples_leaf=2, min_samples_split=7 \n",
      "[CV]  max_depth=100, max_features=sqrt, n_estimators=1320, bootstrap=False, min_samples_leaf=2, min_samples_split=7, total= 1.2min\n",
      "[CV] max_depth=100, max_features=sqrt, n_estimators=1330, bootstrap=False, min_samples_leaf=2, min_samples_split=7 \n",
      "[CV]  max_depth=100, max_features=sqrt, n_estimators=1320, bootstrap=False, min_samples_leaf=2, min_samples_split=7, total= 1.2min\n",
      "[CV] max_depth=100, max_features=sqrt, n_estimators=1310, bootstrap=False, min_samples_leaf=3, min_samples_split=5 \n",
      "[CV]  max_depth=100, max_features=sqrt, n_estimators=1330, bootstrap=False, min_samples_leaf=2, min_samples_split=7, total= 1.3min\n",
      "[CV] max_depth=100, max_features=sqrt, n_estimators=1310, bootstrap=False, min_samples_leaf=3, min_samples_split=5 \n",
      "[CV]  max_depth=100, max_features=sqrt, n_estimators=1330, bootstrap=False, min_samples_leaf=2, min_samples_split=7, total= 1.3min\n",
      "[CV] max_depth=100, max_features=sqrt, n_estimators=1310, bootstrap=False, min_samples_leaf=3, min_samples_split=5 \n",
      "[CV]  max_depth=100, max_features=sqrt, n_estimators=1330, bootstrap=False, min_samples_leaf=2, min_samples_split=7, total= 1.3min\n",
      "[CV] max_depth=100, max_features=sqrt, n_estimators=1320, bootstrap=False, min_samples_leaf=3, min_samples_split=5 \n",
      "[CV]  max_depth=100, max_features=sqrt, n_estimators=1310, bootstrap=False, min_samples_leaf=3, min_samples_split=5, total= 1.2min\n",
      "[CV] max_depth=100, max_features=sqrt, n_estimators=1320, bootstrap=False, min_samples_leaf=3, min_samples_split=5 \n",
      "[CV]  max_depth=100, max_features=sqrt, n_estimators=1310, bootstrap=False, min_samples_leaf=3, min_samples_split=5, total= 1.2min\n",
      "[CV] max_depth=100, max_features=sqrt, n_estimators=1320, bootstrap=False, min_samples_leaf=3, min_samples_split=5 \n",
      "[CV]  max_depth=100, max_features=sqrt, n_estimators=1310, bootstrap=False, min_samples_leaf=3, min_samples_split=5, total= 1.1min\n",
      "[CV] max_depth=100, max_features=sqrt, n_estimators=1330, bootstrap=False, min_samples_leaf=3, min_samples_split=5 \n",
      "[CV]  max_depth=100, max_features=sqrt, n_estimators=1320, bootstrap=False, min_samples_leaf=3, min_samples_split=5, total= 1.1min\n",
      "[CV] max_depth=100, max_features=sqrt, n_estimators=1330, bootstrap=False, min_samples_leaf=3, min_samples_split=5 \n",
      "[CV]  max_depth=100, max_features=sqrt, n_estimators=1320, bootstrap=False, min_samples_leaf=3, min_samples_split=5, total= 1.1min\n",
      "[CV] max_depth=100, max_features=sqrt, n_estimators=1330, bootstrap=False, min_samples_leaf=3, min_samples_split=5 \n",
      "[CV]  max_depth=100, max_features=sqrt, n_estimators=1320, bootstrap=False, min_samples_leaf=3, min_samples_split=5, total= 1.2min\n",
      "[CV] max_depth=100, max_features=sqrt, n_estimators=1310, bootstrap=False, min_samples_leaf=3, min_samples_split=7 \n",
      "[CV]  max_depth=100, max_features=sqrt, n_estimators=1330, bootstrap=False, min_samples_leaf=3, min_samples_split=5, total= 1.2min\n",
      "[CV] max_depth=100, max_features=sqrt, n_estimators=1310, bootstrap=False, min_samples_leaf=3, min_samples_split=7 \n",
      "[CV]  max_depth=100, max_features=sqrt, n_estimators=1330, bootstrap=False, min_samples_leaf=3, min_samples_split=5, total= 1.3min\n",
      "[CV] max_depth=100, max_features=sqrt, n_estimators=1310, bootstrap=False, min_samples_leaf=3, min_samples_split=7 \n",
      "[CV]  max_depth=100, max_features=sqrt, n_estimators=1330, bootstrap=False, min_samples_leaf=3, min_samples_split=5, total= 1.2min\n",
      "[CV] max_depth=100, max_features=sqrt, n_estimators=1320, bootstrap=False, min_samples_leaf=3, min_samples_split=7 \n",
      "[CV]  max_depth=100, max_features=sqrt, n_estimators=1310, bootstrap=False, min_samples_leaf=3, min_samples_split=7, total= 1.2min\n",
      "[CV] max_depth=100, max_features=sqrt, n_estimators=1320, bootstrap=False, min_samples_leaf=3, min_samples_split=7 \n"
     ]
    },
    {
     "name": "stdout",
     "output_type": "stream",
     "text": [
      "[CV]  max_depth=100, max_features=sqrt, n_estimators=1310, bootstrap=False, min_samples_leaf=3, min_samples_split=7, total= 1.1min\n",
      "[CV] max_depth=100, max_features=sqrt, n_estimators=1320, bootstrap=False, min_samples_leaf=3, min_samples_split=7 \n",
      "[CV]  max_depth=100, max_features=sqrt, n_estimators=1310, bootstrap=False, min_samples_leaf=3, min_samples_split=7, total= 1.2min\n",
      "[CV] max_depth=100, max_features=sqrt, n_estimators=1330, bootstrap=False, min_samples_leaf=3, min_samples_split=7 \n",
      "[CV]  max_depth=100, max_features=sqrt, n_estimators=1320, bootstrap=False, min_samples_leaf=3, min_samples_split=7, total= 1.2min\n",
      "[CV] max_depth=100, max_features=sqrt, n_estimators=1330, bootstrap=False, min_samples_leaf=3, min_samples_split=7 \n",
      "[CV]  max_depth=100, max_features=sqrt, n_estimators=1320, bootstrap=False, min_samples_leaf=3, min_samples_split=7, total= 1.2min\n",
      "[CV] max_depth=100, max_features=sqrt, n_estimators=1330, bootstrap=False, min_samples_leaf=3, min_samples_split=7 \n",
      "[CV]  max_depth=100, max_features=sqrt, n_estimators=1320, bootstrap=False, min_samples_leaf=3, min_samples_split=7, total= 1.3min\n",
      "[CV] max_depth=110, max_features=sqrt, n_estimators=1310, bootstrap=False, min_samples_leaf=1, min_samples_split=5 \n",
      "[CV]  max_depth=100, max_features=sqrt, n_estimators=1330, bootstrap=False, min_samples_leaf=3, min_samples_split=7, total= 1.3min\n",
      "[CV] max_depth=110, max_features=sqrt, n_estimators=1310, bootstrap=False, min_samples_leaf=1, min_samples_split=5 \n",
      "[CV]  max_depth=100, max_features=sqrt, n_estimators=1330, bootstrap=False, min_samples_leaf=3, min_samples_split=7, total= 1.3min\n",
      "[CV] max_depth=110, max_features=sqrt, n_estimators=1310, bootstrap=False, min_samples_leaf=1, min_samples_split=5 \n",
      "[CV]  max_depth=100, max_features=sqrt, n_estimators=1330, bootstrap=False, min_samples_leaf=3, min_samples_split=7, total= 1.3min\n",
      "[CV] max_depth=110, max_features=sqrt, n_estimators=1320, bootstrap=False, min_samples_leaf=1, min_samples_split=5 \n",
      "[CV]  max_depth=110, max_features=sqrt, n_estimators=1310, bootstrap=False, min_samples_leaf=1, min_samples_split=5, total= 1.4min\n",
      "[CV] max_depth=110, max_features=sqrt, n_estimators=1320, bootstrap=False, min_samples_leaf=1, min_samples_split=5 \n",
      "[CV]  max_depth=110, max_features=sqrt, n_estimators=1310, bootstrap=False, min_samples_leaf=1, min_samples_split=5, total= 1.3min\n",
      "[CV] max_depth=110, max_features=sqrt, n_estimators=1320, bootstrap=False, min_samples_leaf=1, min_samples_split=5 \n",
      "[CV]  max_depth=110, max_features=sqrt, n_estimators=1310, bootstrap=False, min_samples_leaf=1, min_samples_split=5, total= 1.3min\n",
      "[CV] max_depth=110, max_features=sqrt, n_estimators=1330, bootstrap=False, min_samples_leaf=1, min_samples_split=5 \n",
      "[CV]  max_depth=110, max_features=sqrt, n_estimators=1320, bootstrap=False, min_samples_leaf=1, min_samples_split=5, total= 1.3min\n",
      "[CV] max_depth=110, max_features=sqrt, n_estimators=1330, bootstrap=False, min_samples_leaf=1, min_samples_split=5 \n",
      "[CV]  max_depth=110, max_features=sqrt, n_estimators=1320, bootstrap=False, min_samples_leaf=1, min_samples_split=5, total= 1.2min\n",
      "[CV] max_depth=110, max_features=sqrt, n_estimators=1330, bootstrap=False, min_samples_leaf=1, min_samples_split=5 \n",
      "[CV]  max_depth=110, max_features=sqrt, n_estimators=1320, bootstrap=False, min_samples_leaf=1, min_samples_split=5, total= 1.2min\n",
      "[CV] max_depth=110, max_features=sqrt, n_estimators=1310, bootstrap=False, min_samples_leaf=1, min_samples_split=7 \n",
      "[CV]  max_depth=110, max_features=sqrt, n_estimators=1330, bootstrap=False, min_samples_leaf=1, min_samples_split=5, total= 1.2min\n",
      "[CV] max_depth=110, max_features=sqrt, n_estimators=1310, bootstrap=False, min_samples_leaf=1, min_samples_split=7 \n",
      "[CV]  max_depth=110, max_features=sqrt, n_estimators=1330, bootstrap=False, min_samples_leaf=1, min_samples_split=5, total= 1.2min\n",
      "[CV] max_depth=110, max_features=sqrt, n_estimators=1310, bootstrap=False, min_samples_leaf=1, min_samples_split=7 \n",
      "[CV]  max_depth=110, max_features=sqrt, n_estimators=1330, bootstrap=False, min_samples_leaf=1, min_samples_split=5, total= 1.3min\n",
      "[CV] max_depth=110, max_features=sqrt, n_estimators=1320, bootstrap=False, min_samples_leaf=1, min_samples_split=7 \n",
      "[CV]  max_depth=110, max_features=sqrt, n_estimators=1310, bootstrap=False, min_samples_leaf=1, min_samples_split=7, total= 1.3min\n",
      "[CV]  max_depth=110, max_features=sqrt, n_estimators=1310, bootstrap=False, min_samples_leaf=1, min_samples_split=7, total= 1.3min\n",
      "[CV]  max_depth=110, max_features=sqrt, n_estimators=1310, bootstrap=False, min_samples_leaf=1, min_samples_split=7, total= 1.3min\n",
      "[CV] max_depth=110, max_features=sqrt, n_estimators=1320, bootstrap=False, min_samples_leaf=1, min_samples_split=7 \n",
      "[CV] max_depth=110, max_features=sqrt, n_estimators=1330, bootstrap=False, min_samples_leaf=1, min_samples_split=7 \n",
      "[CV] max_depth=110, max_features=sqrt, n_estimators=1320, bootstrap=False, min_samples_leaf=1, min_samples_split=7 \n",
      "[CV]  max_depth=110, max_features=sqrt, n_estimators=1320, bootstrap=False, min_samples_leaf=1, min_samples_split=7, total= 1.3min\n",
      "[CV] max_depth=110, max_features=sqrt, n_estimators=1330, bootstrap=False, min_samples_leaf=1, min_samples_split=7 \n",
      "[CV]  max_depth=110, max_features=sqrt, n_estimators=1320, bootstrap=False, min_samples_leaf=1, min_samples_split=7, total= 1.3min\n",
      "[CV] max_depth=110, max_features=sqrt, n_estimators=1330, bootstrap=False, min_samples_leaf=1, min_samples_split=7 \n",
      "[CV]  max_depth=110, max_features=sqrt, n_estimators=1320, bootstrap=False, min_samples_leaf=1, min_samples_split=7, total= 1.3min\n",
      "[CV] max_depth=110, max_features=sqrt, n_estimators=1310, bootstrap=False, min_samples_leaf=2, min_samples_split=5 \n",
      "[CV]  max_depth=110, max_features=sqrt, n_estimators=1330, bootstrap=False, min_samples_leaf=1, min_samples_split=7, total= 1.3min\n",
      "[CV] max_depth=110, max_features=sqrt, n_estimators=1310, bootstrap=False, min_samples_leaf=2, min_samples_split=5 \n",
      "[CV]  max_depth=110, max_features=sqrt, n_estimators=1330, bootstrap=False, min_samples_leaf=1, min_samples_split=7, total= 1.3min\n",
      "[CV] max_depth=110, max_features=sqrt, n_estimators=1310, bootstrap=False, min_samples_leaf=2, min_samples_split=5 \n",
      "[CV]  max_depth=110, max_features=sqrt, n_estimators=1310, bootstrap=False, min_samples_leaf=2, min_samples_split=5, total= 1.2min\n",
      "[CV] max_depth=110, max_features=sqrt, n_estimators=1320, bootstrap=False, min_samples_leaf=2, min_samples_split=5 \n",
      "[CV]  max_depth=110, max_features=sqrt, n_estimators=1310, bootstrap=False, min_samples_leaf=2, min_samples_split=5, total= 1.2min\n",
      "[CV] max_depth=110, max_features=sqrt, n_estimators=1320, bootstrap=False, min_samples_leaf=2, min_samples_split=5 \n",
      "[CV]  max_depth=110, max_features=sqrt, n_estimators=1330, bootstrap=False, min_samples_leaf=1, min_samples_split=7, total= 1.3min\n",
      "[CV] max_depth=110, max_features=sqrt, n_estimators=1320, bootstrap=False, min_samples_leaf=2, min_samples_split=5 \n",
      "[CV]  max_depth=110, max_features=sqrt, n_estimators=1310, bootstrap=False, min_samples_leaf=2, min_samples_split=5, total= 1.3min\n",
      "[CV] max_depth=110, max_features=sqrt, n_estimators=1330, bootstrap=False, min_samples_leaf=2, min_samples_split=5 \n",
      "[CV]  max_depth=110, max_features=sqrt, n_estimators=1320, bootstrap=False, min_samples_leaf=2, min_samples_split=5, total= 1.3min\n",
      "[CV] max_depth=110, max_features=sqrt, n_estimators=1330, bootstrap=False, min_samples_leaf=2, min_samples_split=5 \n",
      "[CV]  max_depth=110, max_features=sqrt, n_estimators=1320, bootstrap=False, min_samples_leaf=2, min_samples_split=5, total= 1.3min\n",
      "[CV] max_depth=110, max_features=sqrt, n_estimators=1330, bootstrap=False, min_samples_leaf=2, min_samples_split=5 \n",
      "[CV]  max_depth=110, max_features=sqrt, n_estimators=1320, bootstrap=False, min_samples_leaf=2, min_samples_split=5, total= 1.4min\n",
      "[CV] max_depth=110, max_features=sqrt, n_estimators=1310, bootstrap=False, min_samples_leaf=2, min_samples_split=7 \n",
      "[CV]  max_depth=110, max_features=sqrt, n_estimators=1330, bootstrap=False, min_samples_leaf=2, min_samples_split=5, total= 1.4min\n",
      "[CV] max_depth=110, max_features=sqrt, n_estimators=1310, bootstrap=False, min_samples_leaf=2, min_samples_split=7 \n",
      "[CV]  max_depth=110, max_features=sqrt, n_estimators=1330, bootstrap=False, min_samples_leaf=2, min_samples_split=5, total= 1.4min\n"
     ]
    },
    {
     "name": "stdout",
     "output_type": "stream",
     "text": [
      "[CV] max_depth=110, max_features=sqrt, n_estimators=1310, bootstrap=False, min_samples_leaf=2, min_samples_split=7 \n",
      "[CV]  max_depth=110, max_features=sqrt, n_estimators=1310, bootstrap=False, min_samples_leaf=2, min_samples_split=7, total= 1.4min\n",
      "[CV] max_depth=110, max_features=sqrt, n_estimators=1320, bootstrap=False, min_samples_leaf=2, min_samples_split=7 \n",
      "[CV]  max_depth=110, max_features=sqrt, n_estimators=1330, bootstrap=False, min_samples_leaf=2, min_samples_split=5, total= 1.4min\n",
      "[CV] max_depth=110, max_features=sqrt, n_estimators=1320, bootstrap=False, min_samples_leaf=2, min_samples_split=7 \n",
      "[CV]  max_depth=110, max_features=sqrt, n_estimators=1310, bootstrap=False, min_samples_leaf=2, min_samples_split=7, total= 1.2min\n",
      "[CV] max_depth=110, max_features=sqrt, n_estimators=1320, bootstrap=False, min_samples_leaf=2, min_samples_split=7 \n",
      "[CV]  max_depth=110, max_features=sqrt, n_estimators=1310, bootstrap=False, min_samples_leaf=2, min_samples_split=7, total= 1.2min\n",
      "[CV] max_depth=110, max_features=sqrt, n_estimators=1330, bootstrap=False, min_samples_leaf=2, min_samples_split=7 \n",
      "[CV]  max_depth=110, max_features=sqrt, n_estimators=1320, bootstrap=False, min_samples_leaf=2, min_samples_split=7, total= 1.2min\n",
      "[CV] max_depth=110, max_features=sqrt, n_estimators=1330, bootstrap=False, min_samples_leaf=2, min_samples_split=7 \n",
      "[CV]  max_depth=110, max_features=sqrt, n_estimators=1320, bootstrap=False, min_samples_leaf=2, min_samples_split=7, total= 1.2min\n",
      "[CV] max_depth=110, max_features=sqrt, n_estimators=1330, bootstrap=False, min_samples_leaf=2, min_samples_split=7 \n",
      "[CV]  max_depth=110, max_features=sqrt, n_estimators=1320, bootstrap=False, min_samples_leaf=2, min_samples_split=7, total= 1.2min\n",
      "[CV] max_depth=110, max_features=sqrt, n_estimators=1310, bootstrap=False, min_samples_leaf=3, min_samples_split=5 \n",
      "[CV]  max_depth=110, max_features=sqrt, n_estimators=1330, bootstrap=False, min_samples_leaf=2, min_samples_split=7, total= 1.1min\n",
      "[CV] max_depth=110, max_features=sqrt, n_estimators=1310, bootstrap=False, min_samples_leaf=3, min_samples_split=5 \n",
      "[CV]  max_depth=110, max_features=sqrt, n_estimators=1330, bootstrap=False, min_samples_leaf=2, min_samples_split=7, total= 1.1min\n",
      "[CV] max_depth=110, max_features=sqrt, n_estimators=1310, bootstrap=False, min_samples_leaf=3, min_samples_split=5 \n",
      "[CV]  max_depth=110, max_features=sqrt, n_estimators=1330, bootstrap=False, min_samples_leaf=2, min_samples_split=7, total= 1.1min\n",
      "[CV] max_depth=110, max_features=sqrt, n_estimators=1320, bootstrap=False, min_samples_leaf=3, min_samples_split=5 \n",
      "[CV]  max_depth=110, max_features=sqrt, n_estimators=1310, bootstrap=False, min_samples_leaf=3, min_samples_split=5, total= 1.1min\n",
      "[CV] max_depth=110, max_features=sqrt, n_estimators=1320, bootstrap=False, min_samples_leaf=3, min_samples_split=5 \n",
      "[CV]  max_depth=110, max_features=sqrt, n_estimators=1310, bootstrap=False, min_samples_leaf=3, min_samples_split=5, total= 1.1min\n",
      "[CV] max_depth=110, max_features=sqrt, n_estimators=1320, bootstrap=False, min_samples_leaf=3, min_samples_split=5 \n",
      "[CV]  max_depth=110, max_features=sqrt, n_estimators=1310, bootstrap=False, min_samples_leaf=3, min_samples_split=5, total= 1.1min\n",
      "[CV] max_depth=110, max_features=sqrt, n_estimators=1330, bootstrap=False, min_samples_leaf=3, min_samples_split=5 \n",
      "[CV]  max_depth=110, max_features=sqrt, n_estimators=1320, bootstrap=False, min_samples_leaf=3, min_samples_split=5, total= 1.1min\n",
      "[CV] max_depth=110, max_features=sqrt, n_estimators=1330, bootstrap=False, min_samples_leaf=3, min_samples_split=5 \n",
      "[CV]  max_depth=110, max_features=sqrt, n_estimators=1320, bootstrap=False, min_samples_leaf=3, min_samples_split=5, total= 1.1min\n",
      "[CV] max_depth=110, max_features=sqrt, n_estimators=1330, bootstrap=False, min_samples_leaf=3, min_samples_split=5 \n",
      "[CV]  max_depth=110, max_features=sqrt, n_estimators=1330, bootstrap=False, min_samples_leaf=3, min_samples_split=5, total= 1.1min\n",
      "[CV] max_depth=110, max_features=sqrt, n_estimators=1310, bootstrap=False, min_samples_leaf=3, min_samples_split=7 \n",
      "[CV]  max_depth=110, max_features=sqrt, n_estimators=1320, bootstrap=False, min_samples_leaf=3, min_samples_split=5, total= 1.1min\n",
      "[CV] max_depth=110, max_features=sqrt, n_estimators=1310, bootstrap=False, min_samples_leaf=3, min_samples_split=7 \n",
      "[CV]  max_depth=110, max_features=sqrt, n_estimators=1330, bootstrap=False, min_samples_leaf=3, min_samples_split=5, total= 1.1min\n",
      "[CV] max_depth=110, max_features=sqrt, n_estimators=1310, bootstrap=False, min_samples_leaf=3, min_samples_split=7 \n",
      "[CV]  max_depth=110, max_features=sqrt, n_estimators=1330, bootstrap=False, min_samples_leaf=3, min_samples_split=5, total= 1.1min\n",
      "[CV] max_depth=110, max_features=sqrt, n_estimators=1320, bootstrap=False, min_samples_leaf=3, min_samples_split=7 \n",
      "[CV]  max_depth=110, max_features=sqrt, n_estimators=1310, bootstrap=False, min_samples_leaf=3, min_samples_split=7, total= 1.1min\n",
      "[CV] max_depth=110, max_features=sqrt, n_estimators=1320, bootstrap=False, min_samples_leaf=3, min_samples_split=7 \n"
     ]
    },
    {
     "name": "stderr",
     "output_type": "stream",
     "text": [
      "[Parallel(n_jobs=-1)]: Done 154 tasks      | elapsed: 48.8min\n"
     ]
    },
    {
     "name": "stdout",
     "output_type": "stream",
     "text": [
      "[CV]  max_depth=110, max_features=sqrt, n_estimators=1310, bootstrap=False, min_samples_leaf=3, min_samples_split=7, total= 1.1min\n",
      "[CV] max_depth=110, max_features=sqrt, n_estimators=1320, bootstrap=False, min_samples_leaf=3, min_samples_split=7 \n",
      "[CV]  max_depth=110, max_features=sqrt, n_estimators=1310, bootstrap=False, min_samples_leaf=3, min_samples_split=7, total= 1.1min\n",
      "[CV] max_depth=110, max_features=sqrt, n_estimators=1330, bootstrap=False, min_samples_leaf=3, min_samples_split=7 \n",
      "[CV]  max_depth=110, max_features=sqrt, n_estimators=1320, bootstrap=False, min_samples_leaf=3, min_samples_split=7, total= 1.1min\n",
      "[CV] max_depth=110, max_features=sqrt, n_estimators=1330, bootstrap=False, min_samples_leaf=3, min_samples_split=7 \n",
      "[CV]  max_depth=110, max_features=sqrt, n_estimators=1320, bootstrap=False, min_samples_leaf=3, min_samples_split=7, total= 1.1min\n",
      "[CV] max_depth=110, max_features=sqrt, n_estimators=1330, bootstrap=False, min_samples_leaf=3, min_samples_split=7 \n",
      "[CV]  max_depth=110, max_features=sqrt, n_estimators=1320, bootstrap=False, min_samples_leaf=3, min_samples_split=7, total= 1.1min\n",
      "[CV]  max_depth=110, max_features=sqrt, n_estimators=1330, bootstrap=False, min_samples_leaf=3, min_samples_split=7, total= 1.2min\n",
      "[CV]  max_depth=110, max_features=sqrt, n_estimators=1330, bootstrap=False, min_samples_leaf=3, min_samples_split=7, total=  44.4s\n",
      "[CV]  max_depth=110, max_features=sqrt, n_estimators=1330, bootstrap=False, min_samples_leaf=3, min_samples_split=7, total=  44.2s\n"
     ]
    },
    {
     "name": "stderr",
     "output_type": "stream",
     "text": [
      "[Parallel(n_jobs=-1)]: Done 162 out of 162 | elapsed: 50.7min finished\n"
     ]
    },
    {
     "data": {
      "text/plain": [
       "GridSearchCV(cv=3, error_score='raise',\n",
       "       estimator=RandomForestRegressor(bootstrap=True, criterion='mae', max_depth=None,\n",
       "           max_features='auto', max_leaf_nodes=None,\n",
       "           min_impurity_decrease=0.0, min_impurity_split=None,\n",
       "           min_samples_leaf=1, min_samples_split=2,\n",
       "           min_weight_fraction_leaf=0.0, n_estimators=10, n_jobs=1,\n",
       "           oob_score=False, random_state=42, verbose=0, warm_start=False),\n",
       "       fit_params=None, iid=True, n_jobs=-1,\n",
       "       param_grid={'max_depth': [90, 100, 110], 'max_features': ['sqrt'], 'n_estimators': [1310, 1320, 1330], 'bootstrap': [False], 'min_samples_leaf': [1, 2, 3], 'min_samples_split': [5, 7]},\n",
       "       pre_dispatch='2*n_jobs', refit=True, return_train_score='warn',\n",
       "       scoring='neg_mean_absolute_error', verbose=2)"
      ]
     },
     "execution_count": 93,
     "metadata": {},
     "output_type": "execute_result"
    }
   ],
   "source": [
    "grid_rf.fit(X_m_s_train_norm, target_viol_train)"
   ]
  },
  {
   "cell_type": "code",
   "execution_count": 94,
   "metadata": {},
   "outputs": [
    {
     "data": {
      "text/plain": [
       "{'bootstrap': False,\n",
       " 'max_depth': 90,\n",
       " 'max_features': 'sqrt',\n",
       " 'min_samples_leaf': 3,\n",
       " 'min_samples_split': 7,\n",
       " 'n_estimators': 1320}"
      ]
     },
     "execution_count": 94,
     "metadata": {},
     "output_type": "execute_result"
    }
   ],
   "source": [
    "grid_rf.best_params_"
   ]
  },
  {
   "cell_type": "code",
   "execution_count": 96,
   "metadata": {},
   "outputs": [
    {
     "data": {
      "text/plain": [
       "-240.15812407793186"
      ]
     },
     "execution_count": 96,
     "metadata": {},
     "output_type": "execute_result"
    }
   ],
   "source": [
    "grid_rf.best_score_"
   ]
  },
  {
   "cell_type": "code",
   "execution_count": 78,
   "metadata": {},
   "outputs": [],
   "source": [
    "best_rf = RandomForestRegressor(bootstrap = False, max_depth = 90, max_features = 'sqrt', min_samples_leaf = 3, min_samples_split = 7, n_estimators = 1320, criterion = 'mae', random_state = RANDOM_STATE)"
   ]
  },
  {
   "cell_type": "code",
   "execution_count": 79,
   "metadata": {
    "scrolled": true
   },
   "outputs": [
    {
     "data": {
      "text/plain": [
       "RandomForestRegressor(bootstrap=False, criterion='mae', max_depth=90,\n",
       "           max_features='sqrt', max_leaf_nodes=None,\n",
       "           min_impurity_decrease=0.0, min_impurity_split=None,\n",
       "           min_samples_leaf=3, min_samples_split=7,\n",
       "           min_weight_fraction_leaf=0.0, n_estimators=1320, n_jobs=None,\n",
       "           oob_score=False, random_state=42, verbose=0, warm_start=False)"
      ]
     },
     "execution_count": 79,
     "metadata": {},
     "output_type": "execute_result"
    }
   ],
   "source": [
    "best_rf.fit(X_m_s_train_norm, target_viol_train)"
   ]
  },
  {
   "cell_type": "code",
   "execution_count": 80,
   "metadata": {},
   "outputs": [
    {
     "data": {
      "text/plain": [
       "[(0.013079848443436638, 'NumKindsDrugsSeiz'),\n",
       " (0.018925469314026794, 'LemasSwornFT'),\n",
       " (0.04030690079759766, 'agePct12t29'),\n",
       " (0.04430602784663418, 'PctBSorMore'),\n",
       " (0.04758453981671585, 'perCapInc'),\n",
       " (0.0498825984472525, 'PctImmigRec10'),\n",
       " (0.04995083741078455, 'MedRent'),\n",
       " (0.054570374220163594, 'NumInShelters'),\n",
       " (0.06329328385109664, 'NumStreet'),\n",
       " (0.08639996748451882, 'PctUnemployed'),\n",
       " (0.1318672288920112, 'TotalPctDiv'),\n",
       " (0.13972646144740125, 'PctPopUnderPov'),\n",
       " (0.2601064620283603, 'racePctWhite')]"
      ]
     },
     "execution_count": 80,
     "metadata": {},
     "output_type": "execute_result"
    }
   ],
   "source": [
    "viol_rf_f = sorted(zip(best_rf.feature_importances_, manually_selected_features))\n",
    "viol_rf_f"
   ]
  },
  {
   "cell_type": "code",
   "execution_count": 81,
   "metadata": {},
   "outputs": [
    {
     "data": {
      "text/plain": [
       "236.5259341134638"
      ]
     },
     "execution_count": 81,
     "metadata": {},
     "output_type": "execute_result"
    }
   ],
   "source": [
    "mean_absolute_error(target_viol_test, best_rf.predict(X_m_s_test_norm))"
   ]
  },
  {
   "cell_type": "code",
   "execution_count": 82,
   "metadata": {},
   "outputs": [
    {
     "data": {
      "image/png": "[encoded data removed]",
      "text/plain": [
       "<Figure size 432x288 with 1 Axes>"
      ]
     },
     "metadata": {},
     "output_type": "display_data"
    }
   ],
   "source": [
    "plotter(X_m_s_train_norm, X_m_s_test_norm, target_viol_train, target_viol_test, best_rf, 'RF', -100, 5000)"
   ]
  },
  {
   "cell_type": "code",
   "execution_count": 83,
   "metadata": {},
   "outputs": [],
   "source": [
    "res_best_lasso = evaluate_lasso(X_m_s_train_norm, X_m_s_test_norm, target_viol_train, target_viol_test, best_lasso_viol)"
   ]
  },
  {
   "cell_type": "code",
   "execution_count": 84,
   "metadata": {},
   "outputs": [
    {
     "data": {
      "text/plain": [
       "[(0.0, 'LemasSwornFT'),\n",
       " (0.0, 'MedRent'),\n",
       " (0.0, 'NumKindsDrugsSeiz'),\n",
       " (0.0, 'NumStreet'),\n",
       " (0.0, 'PctBSorMore'),\n",
       " (0.0, 'PctImmigRec10'),\n",
       " (0.0, 'agePct12t29'),\n",
       " (0.0, 'perCapInc'),\n",
       " (29.026224675492088, 'NumInShelters'),\n",
       " (33.63802334870525, 'PctPopUnderPov'),\n",
       " (37.1010611070957, 'PctUnemployed'),\n",
       " (153.01285006313614, 'TotalPctDiv'),\n",
       " (291.0607563561307, 'racePctWhite')]"
      ]
     },
     "execution_count": 84,
     "metadata": {},
     "output_type": "execute_result"
    }
   ],
   "source": [
    "viol_lasso_f = sorted(zip(abs(res_best_lasso[0]), manually_selected_features))\n",
    "viol_lasso_f"
   ]
  },
  {
   "cell_type": "markdown",
   "metadata": {},
   "source": [
    "4 out of 5 most important features selected by Lasso and RandomForestRegressor match."
   ]
  },
  {
   "cell_type": "markdown",
   "metadata": {},
   "source": [
    "### 3.2. Random forest with Lasso selected features: violent crimes"
   ]
  },
  {
   "cell_type": "markdown",
   "metadata": {},
   "source": [
    "Let's try to improve the performance of RandomForestRegressor by cutting down the features a simpler model finds useless."
   ]
  },
  {
   "cell_type": "code",
   "execution_count": 85,
   "metadata": {},
   "outputs": [],
   "source": [
    "from sklearn.feature_selection import SelectFromModel\n",
    "from sklearn.pipeline import make_pipeline\n",
    "from sklearn.model_selection import cross_val_score"
   ]
  },
  {
   "cell_type": "code",
   "execution_count": 86,
   "metadata": {},
   "outputs": [],
   "source": [
    "pipe = make_pipeline(SelectFromModel(best_lasso_viol, '0.65*mean'), rfreg)"
   ]
  },
  {
   "cell_type": "code",
   "execution_count": 87,
   "metadata": {},
   "outputs": [
    {
     "name": "stdout",
     "output_type": "stream",
     "text": [
      "MAE_train:  105.19475281743051\n",
      "MAE_test:  267.0840192644484\n"
     ]
    }
   ],
   "source": [
    "result_select = evaluate(X_m_s_train_norm, X_m_s_test_norm, target_viol_train, target_viol_test, pipe)\n",
    "print_result(result_select)"
   ]
  },
  {
   "cell_type": "markdown",
   "metadata": {},
   "source": [
    "Lol, my attempt to improve the performance failed miserably."
   ]
  },
  {
   "cell_type": "code",
   "execution_count": 88,
   "metadata": {},
   "outputs": [],
   "source": [
    "pipe_2 = make_pipeline(SelectFromModel(best_lasso_viol, '0.65*mean'), best_rf)"
   ]
  },
  {
   "cell_type": "code",
   "execution_count": 89,
   "metadata": {},
   "outputs": [
    {
     "name": "stdout",
     "output_type": "stream",
     "text": [
      "MAE_train:  107.20854742959281\n",
      "MAE_test:  246.85754451918478\n"
     ]
    }
   ],
   "source": [
    "result_select_2 = evaluate(X_m_s_train_norm, X_m_s_test_norm, target_viol_train, target_viol_test, pipe_2)\n",
    "print_result(result_select_2)"
   ]
  },
  {
   "cell_type": "markdown",
   "metadata": {},
   "source": [
    "As I was saying c:"
   ]
  },
  {
   "cell_type": "markdown",
   "metadata": {},
   "source": [
    "### 3.3. Random Forest with parameter tuning: nonviolent crimes"
   ]
  },
  {
   "cell_type": "code",
   "execution_count": 90,
   "metadata": {},
   "outputs": [
    {
     "data": {
      "text/plain": [
       "{'bootstrap': [True, False],\n",
       " 'max_depth': array([ 10,  40,  70, 100]),\n",
       " 'max_features': ['auto', 'sqrt'],\n",
       " 'min_samples_leaf': [1, 2, 4],\n",
       " 'min_samples_split': [2, 5, 10],\n",
       " 'n_estimators': array([  20,  520, 1020, 1520, 2020])}"
      ]
     },
     "execution_count": 90,
     "metadata": {},
     "output_type": "execute_result"
    }
   ],
   "source": [
    "n_estimators_2 = np.arange(20, 2520, 500)\n",
    "max_features = ['auto', 'sqrt']\n",
    "max_depth = np.arange(10, 120, 30)\n",
    "min_samples_split = [2, 5, 10]\n",
    "min_samples_leaf = [1, 2, 4]\n",
    "bootstrap = [True, False]\n",
    "random_params_2 = {'n_estimators': n_estimators_2,\n",
    "               'max_features': max_features,\n",
    "               'max_depth': max_depth,\n",
    "               'min_samples_split': min_samples_split,\n",
    "               'min_samples_leaf': min_samples_leaf,\n",
    "               'bootstrap': bootstrap}\n",
    "random_params_2"
   ]
  },
  {
   "cell_type": "code",
   "execution_count": 91,
   "metadata": {},
   "outputs": [],
   "source": [
    "random_rf_nonv = RandomizedSearchCV(rfreg, random_params_2, n_iter = 100, cv = 3, verbose=2, random_state=RANDOM_STATE, n_jobs = -1)"
   ]
  },
  {
   "cell_type": "code",
   "execution_count": 93,
   "metadata": {},
   "outputs": [
    {
     "name": "stdout",
     "output_type": "stream",
     "text": [
      "Fitting 3 folds for each of 100 candidates, totalling 300 fits\n",
      "[CV] max_features=sqrt, n_estimators=20, max_depth=100, bootstrap=True, min_samples_split=10, min_samples_leaf=2 \n",
      "[CV] max_features=sqrt, n_estimators=20, max_depth=100, bootstrap=True, min_samples_split=10, min_samples_leaf=2 \n",
      "[CV] max_features=sqrt, n_estimators=20, max_depth=100, bootstrap=True, min_samples_split=10, min_samples_leaf=2 \n",
      "[CV] max_features=auto, n_estimators=20, max_depth=100, bootstrap=True, min_samples_split=5, min_samples_leaf=2 \n",
      "[CV]  max_features=sqrt, n_estimators=20, max_depth=100, bootstrap=True, min_samples_split=10, min_samples_leaf=2, total=   0.6s\n",
      "[CV] max_features=auto, n_estimators=20, max_depth=100, bootstrap=True, min_samples_split=5, min_samples_leaf=2 \n",
      "[CV]  max_features=sqrt, n_estimators=20, max_depth=100, bootstrap=True, min_samples_split=10, min_samples_leaf=2, total=   0.7s\n",
      "[CV] max_features=auto, n_estimators=20, max_depth=100, bootstrap=True, min_samples_split=5, min_samples_leaf=2 \n",
      "[CV]  max_features=sqrt, n_estimators=20, max_depth=100, bootstrap=True, min_samples_split=10, min_samples_leaf=2, total=   0.7s\n",
      "[CV] max_features=sqrt, n_estimators=2020, max_depth=10, bootstrap=True, min_samples_split=5, min_samples_leaf=1 \n",
      "[CV]  max_features=auto, n_estimators=20, max_depth=100, bootstrap=True, min_samples_split=5, min_samples_leaf=2, total=   1.9s\n",
      "[CV] max_features=sqrt, n_estimators=2020, max_depth=10, bootstrap=True, min_samples_split=5, min_samples_leaf=1 \n",
      "[CV]  max_features=auto, n_estimators=20, max_depth=100, bootstrap=True, min_samples_split=5, min_samples_leaf=2, total=   1.9s\n",
      "[CV] max_features=sqrt, n_estimators=2020, max_depth=10, bootstrap=True, min_samples_split=5, min_samples_leaf=1 \n",
      "[CV]  max_features=auto, n_estimators=20, max_depth=100, bootstrap=True, min_samples_split=5, min_samples_leaf=2, total=   2.0s\n",
      "[CV] max_features=auto, n_estimators=1520, max_depth=70, bootstrap=True, min_samples_split=2, min_samples_leaf=2 \n",
      "[CV]  max_features=sqrt, n_estimators=2020, max_depth=10, bootstrap=True, min_samples_split=5, min_samples_leaf=1, total=  52.8s\n",
      "[CV] max_features=auto, n_estimators=1520, max_depth=70, bootstrap=True, min_samples_split=2, min_samples_leaf=2 \n",
      "[CV]  max_features=sqrt, n_estimators=2020, max_depth=10, bootstrap=True, min_samples_split=5, min_samples_leaf=1, total=  52.8s\n",
      "[CV] max_features=auto, n_estimators=1520, max_depth=70, bootstrap=True, min_samples_split=2, min_samples_leaf=2 \n",
      "[CV]  max_features=sqrt, n_estimators=2020, max_depth=10, bootstrap=True, min_samples_split=5, min_samples_leaf=1, total=  53.3s\n",
      "[CV] max_features=auto, n_estimators=1520, max_depth=40, bootstrap=False, min_samples_split=2, min_samples_leaf=1 \n",
      "[CV]  max_features=auto, n_estimators=1520, max_depth=70, bootstrap=True, min_samples_split=2, min_samples_leaf=2, total= 2.2min\n",
      "[CV] max_features=auto, n_estimators=1520, max_depth=40, bootstrap=False, min_samples_split=2, min_samples_leaf=1 \n",
      "[CV]  max_features=auto, n_estimators=1520, max_depth=70, bootstrap=True, min_samples_split=2, min_samples_leaf=2, total= 2.1min\n",
      "[CV] max_features=auto, n_estimators=1520, max_depth=40, bootstrap=False, min_samples_split=2, min_samples_leaf=1 \n",
      "[CV]  max_features=auto, n_estimators=1520, max_depth=70, bootstrap=True, min_samples_split=2, min_samples_leaf=2, total= 2.2min\n",
      "[CV] max_features=sqrt, n_estimators=20, max_depth=10, bootstrap=True, min_samples_split=5, min_samples_leaf=2 \n",
      "[CV]  max_features=sqrt, n_estimators=20, max_depth=10, bootstrap=True, min_samples_split=5, min_samples_leaf=2, total=   0.7s\n",
      "[CV] max_features=sqrt, n_estimators=20, max_depth=10, bootstrap=True, min_samples_split=5, min_samples_leaf=2 \n",
      "[CV]  max_features=sqrt, n_estimators=20, max_depth=10, bootstrap=True, min_samples_split=5, min_samples_leaf=2, total=   0.6s\n",
      "[CV] max_features=sqrt, n_estimators=20, max_depth=10, bootstrap=True, min_samples_split=5, min_samples_leaf=2 \n",
      "[CV]  max_features=sqrt, n_estimators=20, max_depth=10, bootstrap=True, min_samples_split=5, min_samples_leaf=2, total=   0.5s\n",
      "[CV] max_features=sqrt, n_estimators=1520, max_depth=10, bootstrap=True, min_samples_split=2, min_samples_leaf=2 \n",
      "[CV]  max_features=sqrt, n_estimators=1520, max_depth=10, bootstrap=True, min_samples_split=2, min_samples_leaf=2, total=  38.0s\n",
      "[CV] max_features=sqrt, n_estimators=1520, max_depth=10, bootstrap=True, min_samples_split=2, min_samples_leaf=2 \n",
      "[CV]  max_features=sqrt, n_estimators=1520, max_depth=10, bootstrap=True, min_samples_split=2, min_samples_leaf=2, total=  38.9s\n",
      "[CV] max_features=sqrt, n_estimators=1520, max_depth=10, bootstrap=True, min_samples_split=2, min_samples_leaf=2 \n",
      "[CV]  max_features=sqrt, n_estimators=1520, max_depth=10, bootstrap=True, min_samples_split=2, min_samples_leaf=2, total=  37.0s\n",
      "[CV] max_features=sqrt, n_estimators=20, max_depth=40, bootstrap=True, min_samples_split=10, min_samples_leaf=1 \n",
      "[CV]  max_features=sqrt, n_estimators=20, max_depth=40, bootstrap=True, min_samples_split=10, min_samples_leaf=1, total=   0.6s\n",
      "[CV] max_features=sqrt, n_estimators=20, max_depth=40, bootstrap=True, min_samples_split=10, min_samples_leaf=1 \n",
      "[CV]  max_features=sqrt, n_estimators=20, max_depth=40, bootstrap=True, min_samples_split=10, min_samples_leaf=1, total=   0.6s\n",
      "[CV] max_features=sqrt, n_estimators=20, max_depth=40, bootstrap=True, min_samples_split=10, min_samples_leaf=1 \n",
      "[CV]  max_features=sqrt, n_estimators=20, max_depth=40, bootstrap=True, min_samples_split=10, min_samples_leaf=1, total=   0.6s\n",
      "[CV] max_features=auto, n_estimators=1020, max_depth=100, bootstrap=True, min_samples_split=5, min_samples_leaf=2 \n",
      "[CV]  max_features=auto, n_estimators=1520, max_depth=40, bootstrap=False, min_samples_split=2, min_samples_leaf=1, total= 5.2min\n",
      "[CV] max_features=auto, n_estimators=1020, max_depth=100, bootstrap=True, min_samples_split=5, min_samples_leaf=2 \n",
      "[CV]  max_features=auto, n_estimators=1020, max_depth=100, bootstrap=True, min_samples_split=5, min_samples_leaf=2, total= 1.5min\n",
      "[CV] max_features=auto, n_estimators=1020, max_depth=100, bootstrap=True, min_samples_split=5, min_samples_leaf=2 \n",
      "[CV]  max_features=auto, n_estimators=1520, max_depth=40, bootstrap=False, min_samples_split=2, min_samples_leaf=1, total= 5.1min\n",
      "[CV] max_features=auto, n_estimators=20, max_depth=10, bootstrap=False, min_samples_split=2, min_samples_leaf=4 \n",
      "[CV]  max_features=auto, n_estimators=20, max_depth=10, bootstrap=False, min_samples_split=2, min_samples_leaf=4, total=   3.4s\n",
      "[CV] max_features=auto, n_estimators=20, max_depth=10, bootstrap=False, min_samples_split=2, min_samples_leaf=4 \n",
      "[CV]  max_features=auto, n_estimators=20, max_depth=10, bootstrap=False, min_samples_split=2, min_samples_leaf=4, total=   3.4s\n",
      "[CV] max_features=auto, n_estimators=20, max_depth=10, bootstrap=False, min_samples_split=2, min_samples_leaf=4 \n",
      "[CV]  max_features=auto, n_estimators=20, max_depth=10, bootstrap=False, min_samples_split=2, min_samples_leaf=4, total=   3.1s\n",
      "[CV] max_features=sqrt, n_estimators=520, max_depth=100, bootstrap=False, min_samples_split=2, min_samples_leaf=4 \n",
      "[CV]  max_features=auto, n_estimators=1020, max_depth=100, bootstrap=True, min_samples_split=5, min_samples_leaf=2, total= 1.5min\n",
      "[CV] max_features=sqrt, n_estimators=520, max_depth=100, bootstrap=False, min_samples_split=2, min_samples_leaf=4 \n",
      "[CV]  max_features=sqrt, n_estimators=520, max_depth=100, bootstrap=False, min_samples_split=2, min_samples_leaf=4, total=  24.4s\n",
      "[CV] max_features=sqrt, n_estimators=520, max_depth=100, bootstrap=False, min_samples_split=2, min_samples_leaf=4 \n",
      "[CV]  max_features=auto, n_estimators=1020, max_depth=100, bootstrap=True, min_samples_split=5, min_samples_leaf=2, total= 1.4min\n",
      "[CV] max_features=sqrt, n_estimators=1520, max_depth=10, bootstrap=False, min_samples_split=10, min_samples_leaf=4 \n",
      "[CV]  max_features=sqrt, n_estimators=520, max_depth=100, bootstrap=False, min_samples_split=2, min_samples_leaf=4, total=  24.5s\n",
      "[CV] max_features=sqrt, n_estimators=1520, max_depth=10, bootstrap=False, min_samples_split=10, min_samples_leaf=4 \n",
      "[CV]  max_features=auto, n_estimators=1520, max_depth=40, bootstrap=False, min_samples_split=2, min_samples_leaf=1, total= 5.0min\n",
      "[CV] max_features=sqrt, n_estimators=1520, max_depth=10, bootstrap=False, min_samples_split=10, min_samples_leaf=4 \n"
     ]
    },
    {
     "name": "stdout",
     "output_type": "stream",
     "text": [
      "[CV]  max_features=sqrt, n_estimators=520, max_depth=100, bootstrap=False, min_samples_split=2, min_samples_leaf=4, total=  23.7s\n",
      "[CV] max_features=auto, n_estimators=2020, max_depth=10, bootstrap=True, min_samples_split=5, min_samples_leaf=4 \n"
     ]
    },
    {
     "name": "stderr",
     "output_type": "stream",
     "text": [
      "[Parallel(n_jobs=-1)]: Done  33 tasks      | elapsed:  8.4min\n"
     ]
    },
    {
     "name": "stdout",
     "output_type": "stream",
     "text": [
      "[CV]  max_features=sqrt, n_estimators=1520, max_depth=10, bootstrap=False, min_samples_split=10, min_samples_leaf=4, total= 1.1min\n",
      "[CV] max_features=auto, n_estimators=2020, max_depth=10, bootstrap=True, min_samples_split=5, min_samples_leaf=4 \n",
      "[CV]  max_features=sqrt, n_estimators=1520, max_depth=10, bootstrap=False, min_samples_split=10, min_samples_leaf=4, total= 1.1min\n",
      "[CV] max_features=auto, n_estimators=2020, max_depth=10, bootstrap=True, min_samples_split=5, min_samples_leaf=4 \n",
      "[CV]  max_features=sqrt, n_estimators=1520, max_depth=10, bootstrap=False, min_samples_split=10, min_samples_leaf=4, total= 1.1min\n",
      "[CV] max_features=auto, n_estimators=520, max_depth=40, bootstrap=True, min_samples_split=10, min_samples_leaf=1 \n",
      "[CV]  max_features=auto, n_estimators=520, max_depth=40, bootstrap=True, min_samples_split=10, min_samples_leaf=1, total=  49.1s\n",
      "[CV] max_features=auto, n_estimators=520, max_depth=40, bootstrap=True, min_samples_split=10, min_samples_leaf=1 \n",
      "[CV]  max_features=auto, n_estimators=520, max_depth=40, bootstrap=True, min_samples_split=10, min_samples_leaf=1, total=  49.1s\n",
      "[CV] max_features=auto, n_estimators=520, max_depth=40, bootstrap=True, min_samples_split=10, min_samples_leaf=1 \n",
      "[CV]  max_features=auto, n_estimators=2020, max_depth=10, bootstrap=True, min_samples_split=5, min_samples_leaf=4, total= 2.5min\n",
      "[CV] max_features=sqrt, n_estimators=20, max_depth=10, bootstrap=False, min_samples_split=10, min_samples_leaf=2 \n",
      "[CV]  max_features=sqrt, n_estimators=20, max_depth=10, bootstrap=False, min_samples_split=10, min_samples_leaf=2, total=   1.0s\n",
      "[CV] max_features=sqrt, n_estimators=20, max_depth=10, bootstrap=False, min_samples_split=10, min_samples_leaf=2 \n",
      "[CV]  max_features=sqrt, n_estimators=20, max_depth=10, bootstrap=False, min_samples_split=10, min_samples_leaf=2, total=   1.0s\n",
      "[CV] max_features=sqrt, n_estimators=20, max_depth=10, bootstrap=False, min_samples_split=10, min_samples_leaf=2 \n",
      "[CV]  max_features=sqrt, n_estimators=20, max_depth=10, bootstrap=False, min_samples_split=10, min_samples_leaf=2, total=   1.0s\n",
      "[CV] max_features=sqrt, n_estimators=1520, max_depth=100, bootstrap=True, min_samples_split=10, min_samples_leaf=1 \n",
      "[CV]  max_features=auto, n_estimators=520, max_depth=40, bootstrap=True, min_samples_split=10, min_samples_leaf=1, total=  47.2s\n",
      "[CV] max_features=sqrt, n_estimators=1520, max_depth=100, bootstrap=True, min_samples_split=10, min_samples_leaf=1 \n",
      "[CV]  max_features=sqrt, n_estimators=1520, max_depth=100, bootstrap=True, min_samples_split=10, min_samples_leaf=1, total=  41.3s\n",
      "[CV] max_features=sqrt, n_estimators=1520, max_depth=100, bootstrap=True, min_samples_split=10, min_samples_leaf=1 \n",
      "[CV]  max_features=auto, n_estimators=2020, max_depth=10, bootstrap=True, min_samples_split=5, min_samples_leaf=4, total= 2.5min\n",
      "[CV] max_features=sqrt, n_estimators=520, max_depth=10, bootstrap=True, min_samples_split=10, min_samples_leaf=4 \n",
      "[CV]  max_features=auto, n_estimators=2020, max_depth=10, bootstrap=True, min_samples_split=5, min_samples_leaf=4, total= 2.6min\n",
      "[CV] max_features=sqrt, n_estimators=520, max_depth=10, bootstrap=True, min_samples_split=10, min_samples_leaf=4 \n",
      "[CV]  max_features=sqrt, n_estimators=520, max_depth=10, bootstrap=True, min_samples_split=10, min_samples_leaf=4, total=  11.9s\n",
      "[CV] max_features=sqrt, n_estimators=520, max_depth=10, bootstrap=True, min_samples_split=10, min_samples_leaf=4 \n",
      "[CV]  max_features=sqrt, n_estimators=520, max_depth=10, bootstrap=True, min_samples_split=10, min_samples_leaf=4, total=  11.8s\n",
      "[CV] max_features=sqrt, n_estimators=1020, max_depth=70, bootstrap=False, min_samples_split=10, min_samples_leaf=4 \n",
      "[CV]  max_features=sqrt, n_estimators=520, max_depth=10, bootstrap=True, min_samples_split=10, min_samples_leaf=4, total=  11.7s\n",
      "[CV] max_features=sqrt, n_estimators=1020, max_depth=70, bootstrap=False, min_samples_split=10, min_samples_leaf=4 \n",
      "[CV]  max_features=sqrt, n_estimators=1520, max_depth=100, bootstrap=True, min_samples_split=10, min_samples_leaf=1, total=  42.1s\n",
      "[CV] max_features=sqrt, n_estimators=1020, max_depth=70, bootstrap=False, min_samples_split=10, min_samples_leaf=4 \n",
      "[CV]  max_features=sqrt, n_estimators=1520, max_depth=100, bootstrap=True, min_samples_split=10, min_samples_leaf=1, total=  41.0s\n",
      "[CV] max_features=sqrt, n_estimators=2020, max_depth=70, bootstrap=True, min_samples_split=2, min_samples_leaf=4 \n",
      "[CV]  max_features=sqrt, n_estimators=1020, max_depth=70, bootstrap=False, min_samples_split=10, min_samples_leaf=4, total=  47.8s\n",
      "[CV] max_features=sqrt, n_estimators=2020, max_depth=70, bootstrap=True, min_samples_split=2, min_samples_leaf=4 \n",
      "[CV]  max_features=sqrt, n_estimators=1020, max_depth=70, bootstrap=False, min_samples_split=10, min_samples_leaf=4, total=  47.4s\n",
      "[CV] max_features=sqrt, n_estimators=2020, max_depth=70, bootstrap=True, min_samples_split=2, min_samples_leaf=4 \n",
      "[CV]  max_features=sqrt, n_estimators=1020, max_depth=70, bootstrap=False, min_samples_split=10, min_samples_leaf=4, total=  47.6s\n",
      "[CV] max_features=auto, n_estimators=1520, max_depth=70, bootstrap=True, min_samples_split=2, min_samples_leaf=4 \n",
      "[CV]  max_features=sqrt, n_estimators=2020, max_depth=70, bootstrap=True, min_samples_split=2, min_samples_leaf=4, total=  47.7s\n",
      "[CV] max_features=auto, n_estimators=1520, max_depth=70, bootstrap=True, min_samples_split=2, min_samples_leaf=4 \n",
      "[CV]  max_features=sqrt, n_estimators=2020, max_depth=70, bootstrap=True, min_samples_split=2, min_samples_leaf=4, total=  46.5s\n",
      "[CV] max_features=auto, n_estimators=1520, max_depth=70, bootstrap=True, min_samples_split=2, min_samples_leaf=4 \n",
      "[CV]  max_features=sqrt, n_estimators=2020, max_depth=70, bootstrap=True, min_samples_split=2, min_samples_leaf=4, total=  46.0s\n",
      "[CV] max_features=sqrt, n_estimators=520, max_depth=10, bootstrap=False, min_samples_split=10, min_samples_leaf=4 \n",
      "[CV]  max_features=sqrt, n_estimators=520, max_depth=10, bootstrap=False, min_samples_split=10, min_samples_leaf=4, total=  25.5s\n",
      "[CV] max_features=sqrt, n_estimators=520, max_depth=10, bootstrap=False, min_samples_split=10, min_samples_leaf=4 \n",
      "[CV]  max_features=sqrt, n_estimators=520, max_depth=10, bootstrap=False, min_samples_split=10, min_samples_leaf=4, total=  23.6s\n",
      "[CV] max_features=sqrt, n_estimators=520, max_depth=10, bootstrap=False, min_samples_split=10, min_samples_leaf=4 \n",
      "[CV]  max_features=sqrt, n_estimators=520, max_depth=10, bootstrap=False, min_samples_split=10, min_samples_leaf=4, total=  22.8s\n",
      "[CV] max_features=auto, n_estimators=1020, max_depth=10, bootstrap=False, min_samples_split=5, min_samples_leaf=1 \n",
      "[CV]  max_features=auto, n_estimators=1520, max_depth=70, bootstrap=True, min_samples_split=2, min_samples_leaf=4, total= 2.0min\n",
      "[CV] max_features=auto, n_estimators=1020, max_depth=10, bootstrap=False, min_samples_split=5, min_samples_leaf=1 \n",
      "[CV]  max_features=auto, n_estimators=1520, max_depth=70, bootstrap=True, min_samples_split=2, min_samples_leaf=4, total= 2.0min\n",
      "[CV] max_features=auto, n_estimators=1020, max_depth=10, bootstrap=False, min_samples_split=5, min_samples_leaf=1 \n",
      "[CV]  max_features=auto, n_estimators=1520, max_depth=70, bootstrap=True, min_samples_split=2, min_samples_leaf=4, total= 1.9min\n",
      "[CV] max_features=auto, n_estimators=1520, max_depth=10, bootstrap=True, min_samples_split=2, min_samples_leaf=4 \n",
      "[CV]  max_features=auto, n_estimators=1520, max_depth=10, bootstrap=True, min_samples_split=2, min_samples_leaf=4, total= 1.9min\n",
      "[CV] max_features=auto, n_estimators=1520, max_depth=10, bootstrap=True, min_samples_split=2, min_samples_leaf=4 \n",
      "[CV]  max_features=auto, n_estimators=1020, max_depth=10, bootstrap=False, min_samples_split=5, min_samples_leaf=1, total= 3.0min\n",
      "[CV] max_features=auto, n_estimators=1520, max_depth=10, bootstrap=True, min_samples_split=2, min_samples_leaf=4 \n",
      "[CV]  max_features=auto, n_estimators=1020, max_depth=10, bootstrap=False, min_samples_split=5, min_samples_leaf=1, total= 2.9min\n",
      "[CV] max_features=sqrt, n_estimators=520, max_depth=100, bootstrap=False, min_samples_split=10, min_samples_leaf=1 \n",
      "[CV]  max_features=auto, n_estimators=1020, max_depth=10, bootstrap=False, min_samples_split=5, min_samples_leaf=1, total= 2.9min\n",
      "[CV] max_features=sqrt, n_estimators=520, max_depth=100, bootstrap=False, min_samples_split=10, min_samples_leaf=1 \n"
     ]
    },
    {
     "name": "stdout",
     "output_type": "stream",
     "text": [
      "[CV]  max_features=sqrt, n_estimators=520, max_depth=100, bootstrap=False, min_samples_split=10, min_samples_leaf=1, total=  27.5s\n",
      "[CV] max_features=sqrt, n_estimators=520, max_depth=100, bootstrap=False, min_samples_split=10, min_samples_leaf=1 \n",
      "[CV]  max_features=sqrt, n_estimators=520, max_depth=100, bootstrap=False, min_samples_split=10, min_samples_leaf=1, total=  27.6s\n",
      "[CV] max_features=auto, n_estimators=1520, max_depth=40, bootstrap=False, min_samples_split=10, min_samples_leaf=2 \n",
      "[CV]  max_features=sqrt, n_estimators=520, max_depth=100, bootstrap=False, min_samples_split=10, min_samples_leaf=1, total=  26.7s\n",
      "[CV] max_features=auto, n_estimators=1520, max_depth=40, bootstrap=False, min_samples_split=10, min_samples_leaf=2 \n",
      "[CV]  max_features=auto, n_estimators=1520, max_depth=10, bootstrap=True, min_samples_split=2, min_samples_leaf=4, total= 2.0min\n",
      "[CV] max_features=auto, n_estimators=1520, max_depth=40, bootstrap=False, min_samples_split=10, min_samples_leaf=2 \n",
      "[CV]  max_features=auto, n_estimators=1520, max_depth=10, bootstrap=True, min_samples_split=2, min_samples_leaf=4, total= 2.0min\n",
      "[CV] max_features=sqrt, n_estimators=1520, max_depth=100, bootstrap=True, min_samples_split=5, min_samples_leaf=1 \n",
      "[CV]  max_features=sqrt, n_estimators=1520, max_depth=100, bootstrap=True, min_samples_split=5, min_samples_leaf=1, total=  44.1s\n",
      "[CV] max_features=sqrt, n_estimators=1520, max_depth=100, bootstrap=True, min_samples_split=5, min_samples_leaf=1 \n",
      "[CV]  max_features=sqrt, n_estimators=1520, max_depth=100, bootstrap=True, min_samples_split=5, min_samples_leaf=1, total=  46.0s\n",
      "[CV] max_features=sqrt, n_estimators=1520, max_depth=100, bootstrap=True, min_samples_split=5, min_samples_leaf=1 \n",
      "[CV]  max_features=sqrt, n_estimators=1520, max_depth=100, bootstrap=True, min_samples_split=5, min_samples_leaf=1, total=  42.6s\n",
      "[CV] max_features=sqrt, n_estimators=2020, max_depth=70, bootstrap=True, min_samples_split=10, min_samples_leaf=2 \n",
      "[CV]  max_features=sqrt, n_estimators=2020, max_depth=70, bootstrap=True, min_samples_split=10, min_samples_leaf=2, total=  57.4s\n",
      "[CV] max_features=sqrt, n_estimators=2020, max_depth=70, bootstrap=True, min_samples_split=10, min_samples_leaf=2 \n",
      "[CV]  max_features=auto, n_estimators=1520, max_depth=40, bootstrap=False, min_samples_split=10, min_samples_leaf=2, total= 4.6min\n",
      "[CV] max_features=sqrt, n_estimators=2020, max_depth=70, bootstrap=True, min_samples_split=10, min_samples_leaf=2 \n",
      "[CV]  max_features=auto, n_estimators=1520, max_depth=40, bootstrap=False, min_samples_split=10, min_samples_leaf=2, total= 4.8min\n",
      "[CV] max_features=auto, n_estimators=20, max_depth=70, bootstrap=True, min_samples_split=2, min_samples_leaf=4 \n",
      "[CV]  max_features=auto, n_estimators=20, max_depth=70, bootstrap=True, min_samples_split=2, min_samples_leaf=4, total=   2.3s\n",
      "[CV] max_features=auto, n_estimators=20, max_depth=70, bootstrap=True, min_samples_split=2, min_samples_leaf=4 \n",
      "[CV]  max_features=auto, n_estimators=20, max_depth=70, bootstrap=True, min_samples_split=2, min_samples_leaf=4, total=   1.8s\n",
      "[CV] max_features=auto, n_estimators=20, max_depth=70, bootstrap=True, min_samples_split=2, min_samples_leaf=4 \n",
      "[CV]  max_features=auto, n_estimators=20, max_depth=70, bootstrap=True, min_samples_split=2, min_samples_leaf=4, total=   1.8s\n",
      "[CV] max_features=auto, n_estimators=20, max_depth=40, bootstrap=True, min_samples_split=2, min_samples_leaf=4 \n",
      "[CV]  max_features=auto, n_estimators=20, max_depth=40, bootstrap=True, min_samples_split=2, min_samples_leaf=4, total=   2.0s\n",
      "[CV] max_features=auto, n_estimators=20, max_depth=40, bootstrap=True, min_samples_split=2, min_samples_leaf=4 \n",
      "[CV]  max_features=auto, n_estimators=20, max_depth=40, bootstrap=True, min_samples_split=2, min_samples_leaf=4, total=   1.5s\n",
      "[CV] max_features=auto, n_estimators=20, max_depth=40, bootstrap=True, min_samples_split=2, min_samples_leaf=4 \n",
      "[CV]  max_features=auto, n_estimators=20, max_depth=40, bootstrap=True, min_samples_split=2, min_samples_leaf=4, total=   1.6s\n",
      "[CV] max_features=auto, n_estimators=1520, max_depth=40, bootstrap=True, min_samples_split=10, min_samples_leaf=4 \n",
      "[CV]  max_features=auto, n_estimators=1520, max_depth=40, bootstrap=False, min_samples_split=10, min_samples_leaf=2, total= 4.7min\n",
      "[CV] max_features=auto, n_estimators=1520, max_depth=40, bootstrap=True, min_samples_split=10, min_samples_leaf=4 \n",
      "[CV]  max_features=sqrt, n_estimators=2020, max_depth=70, bootstrap=True, min_samples_split=10, min_samples_leaf=2, total= 1.0min\n",
      "[CV] max_features=auto, n_estimators=1520, max_depth=40, bootstrap=True, min_samples_split=10, min_samples_leaf=4 \n",
      "[CV]  max_features=sqrt, n_estimators=2020, max_depth=70, bootstrap=True, min_samples_split=10, min_samples_leaf=2, total= 1.1min\n",
      "[CV] max_features=sqrt, n_estimators=1020, max_depth=10, bootstrap=False, min_samples_split=10, min_samples_leaf=1 \n",
      "[CV]  max_features=sqrt, n_estimators=1020, max_depth=10, bootstrap=False, min_samples_split=10, min_samples_leaf=1, total= 1.1min\n",
      "[CV] max_features=sqrt, n_estimators=1020, max_depth=10, bootstrap=False, min_samples_split=10, min_samples_leaf=1 \n",
      "[CV]  max_features=sqrt, n_estimators=1020, max_depth=10, bootstrap=False, min_samples_split=10, min_samples_leaf=1, total= 1.1min\n",
      "[CV] max_features=sqrt, n_estimators=1020, max_depth=10, bootstrap=False, min_samples_split=10, min_samples_leaf=1 \n",
      "[CV]  max_features=auto, n_estimators=1520, max_depth=40, bootstrap=True, min_samples_split=10, min_samples_leaf=4, total= 2.6min\n",
      "[CV] max_features=auto, n_estimators=1520, max_depth=10, bootstrap=False, min_samples_split=2, min_samples_leaf=1 \n",
      "[CV]  max_features=auto, n_estimators=1520, max_depth=40, bootstrap=True, min_samples_split=10, min_samples_leaf=4, total= 2.5min\n",
      "[CV] max_features=auto, n_estimators=1520, max_depth=10, bootstrap=False, min_samples_split=2, min_samples_leaf=1 \n",
      "[CV]  max_features=auto, n_estimators=1520, max_depth=40, bootstrap=True, min_samples_split=10, min_samples_leaf=4, total= 2.5min\n",
      "[CV] max_features=auto, n_estimators=1520, max_depth=10, bootstrap=False, min_samples_split=2, min_samples_leaf=1 \n",
      "[CV]  max_features=sqrt, n_estimators=1020, max_depth=10, bootstrap=False, min_samples_split=10, min_samples_leaf=1, total=  60.0s\n",
      "[CV] max_features=sqrt, n_estimators=520, max_depth=100, bootstrap=True, min_samples_split=5, min_samples_leaf=2 \n",
      "[CV]  max_features=sqrt, n_estimators=520, max_depth=100, bootstrap=True, min_samples_split=5, min_samples_leaf=2, total=  15.8s\n",
      "[CV] max_features=sqrt, n_estimators=520, max_depth=100, bootstrap=True, min_samples_split=5, min_samples_leaf=2 \n",
      "[CV]  max_features=sqrt, n_estimators=520, max_depth=100, bootstrap=True, min_samples_split=5, min_samples_leaf=2, total=  17.5s\n",
      "[CV] max_features=sqrt, n_estimators=520, max_depth=100, bootstrap=True, min_samples_split=5, min_samples_leaf=2 \n",
      "[CV]  max_features=sqrt, n_estimators=520, max_depth=100, bootstrap=True, min_samples_split=5, min_samples_leaf=2, total=  18.0s\n",
      "[CV] max_features=auto, n_estimators=20, max_depth=10, bootstrap=False, min_samples_split=2, min_samples_leaf=2 \n",
      "[CV]  max_features=auto, n_estimators=20, max_depth=10, bootstrap=False, min_samples_split=2, min_samples_leaf=2, total=   3.5s\n",
      "[CV] max_features=auto, n_estimators=20, max_depth=10, bootstrap=False, min_samples_split=2, min_samples_leaf=2 \n",
      "[CV]  max_features=auto, n_estimators=20, max_depth=10, bootstrap=False, min_samples_split=2, min_samples_leaf=2, total=   3.4s\n",
      "[CV] max_features=auto, n_estimators=20, max_depth=10, bootstrap=False, min_samples_split=2, min_samples_leaf=2 \n",
      "[CV]  max_features=auto, n_estimators=20, max_depth=10, bootstrap=False, min_samples_split=2, min_samples_leaf=2, total=   4.7s\n",
      "[CV] max_features=auto, n_estimators=520, max_depth=70, bootstrap=False, min_samples_split=2, min_samples_leaf=4 \n",
      "[CV]  max_features=auto, n_estimators=520, max_depth=70, bootstrap=False, min_samples_split=2, min_samples_leaf=4, total= 1.7min\n",
      "[CV] max_features=auto, n_estimators=520, max_depth=70, bootstrap=False, min_samples_split=2, min_samples_leaf=4 \n",
      "[CV]  max_features=auto, n_estimators=520, max_depth=70, bootstrap=False, min_samples_split=2, min_samples_leaf=4, total= 1.7min\n",
      "[CV] max_features=auto, n_estimators=520, max_depth=70, bootstrap=False, min_samples_split=2, min_samples_leaf=4 \n"
     ]
    },
    {
     "name": "stdout",
     "output_type": "stream",
     "text": [
      "[CV]  max_features=auto, n_estimators=1520, max_depth=10, bootstrap=False, min_samples_split=2, min_samples_leaf=1, total= 5.4min\n",
      "[CV] max_features=auto, n_estimators=520, max_depth=100, bootstrap=False, min_samples_split=5, min_samples_leaf=1 \n",
      "[CV]  max_features=auto, n_estimators=1520, max_depth=10, bootstrap=False, min_samples_split=2, min_samples_leaf=1, total= 5.5min\n",
      "[CV] max_features=auto, n_estimators=520, max_depth=100, bootstrap=False, min_samples_split=5, min_samples_leaf=1 \n",
      "[CV]  max_features=auto, n_estimators=1520, max_depth=10, bootstrap=False, min_samples_split=2, min_samples_leaf=1, total= 5.6min\n",
      "[CV] max_features=auto, n_estimators=520, max_depth=100, bootstrap=False, min_samples_split=5, min_samples_leaf=1 \n",
      "[CV]  max_features=auto, n_estimators=520, max_depth=70, bootstrap=False, min_samples_split=2, min_samples_leaf=4, total= 1.6min\n",
      "[CV] max_features=sqrt, n_estimators=520, max_depth=100, bootstrap=False, min_samples_split=10, min_samples_leaf=4 \n",
      "[CV]  max_features=auto, n_estimators=520, max_depth=100, bootstrap=False, min_samples_split=5, min_samples_leaf=1, total= 1.9min\n",
      "[CV] max_features=sqrt, n_estimators=520, max_depth=100, bootstrap=False, min_samples_split=10, min_samples_leaf=4 \n",
      "[CV]  max_features=auto, n_estimators=520, max_depth=100, bootstrap=False, min_samples_split=5, min_samples_leaf=1, total= 1.8min\n",
      "[CV] max_features=sqrt, n_estimators=520, max_depth=100, bootstrap=False, min_samples_split=10, min_samples_leaf=4 \n",
      "[CV]  max_features=sqrt, n_estimators=520, max_depth=100, bootstrap=False, min_samples_split=10, min_samples_leaf=4, total=  27.6s\n",
      "[CV] max_features=auto, n_estimators=2020, max_depth=70, bootstrap=False, min_samples_split=10, min_samples_leaf=2 \n",
      "[CV]  max_features=auto, n_estimators=520, max_depth=100, bootstrap=False, min_samples_split=5, min_samples_leaf=1, total= 1.8min\n",
      "[CV] max_features=auto, n_estimators=2020, max_depth=70, bootstrap=False, min_samples_split=10, min_samples_leaf=2 \n",
      "[CV]  max_features=sqrt, n_estimators=520, max_depth=100, bootstrap=False, min_samples_split=10, min_samples_leaf=4, total=  24.1s\n",
      "[CV] max_features=auto, n_estimators=2020, max_depth=70, bootstrap=False, min_samples_split=10, min_samples_leaf=2 \n",
      "[CV]  max_features=sqrt, n_estimators=520, max_depth=100, bootstrap=False, min_samples_split=10, min_samples_leaf=4, total=  26.3s\n",
      "[CV] max_features=auto, n_estimators=1520, max_depth=70, bootstrap=False, min_samples_split=10, min_samples_leaf=4 \n",
      "[CV]  max_features=auto, n_estimators=1520, max_depth=70, bootstrap=False, min_samples_split=10, min_samples_leaf=4, total= 4.3min\n",
      "[CV] max_features=auto, n_estimators=1520, max_depth=70, bootstrap=False, min_samples_split=10, min_samples_leaf=4 \n",
      "[CV]  max_features=auto, n_estimators=2020, max_depth=70, bootstrap=False, min_samples_split=10, min_samples_leaf=2, total= 6.2min\n",
      "[CV] max_features=auto, n_estimators=1520, max_depth=70, bootstrap=False, min_samples_split=10, min_samples_leaf=4 \n",
      "[CV]  max_features=auto, n_estimators=2020, max_depth=70, bootstrap=False, min_samples_split=10, min_samples_leaf=2, total= 6.3min\n",
      "[CV] max_features=auto, n_estimators=1520, max_depth=40, bootstrap=False, min_samples_split=10, min_samples_leaf=4 \n",
      "[CV]  max_features=auto, n_estimators=2020, max_depth=70, bootstrap=False, min_samples_split=10, min_samples_leaf=2, total= 6.0min\n",
      "[CV] max_features=auto, n_estimators=1520, max_depth=40, bootstrap=False, min_samples_split=10, min_samples_leaf=4 \n",
      "[CV]  max_features=auto, n_estimators=1520, max_depth=70, bootstrap=False, min_samples_split=10, min_samples_leaf=4, total= 4.7min\n",
      "[CV] max_features=auto, n_estimators=1520, max_depth=40, bootstrap=False, min_samples_split=10, min_samples_leaf=4 \n",
      "[CV]  max_features=auto, n_estimators=1520, max_depth=70, bootstrap=False, min_samples_split=10, min_samples_leaf=4, total= 4.4min\n",
      "[CV] max_features=auto, n_estimators=20, max_depth=100, bootstrap=True, min_samples_split=2, min_samples_leaf=4 \n",
      "[CV]  max_features=auto, n_estimators=20, max_depth=100, bootstrap=True, min_samples_split=2, min_samples_leaf=4, total=   1.5s\n",
      "[CV] max_features=auto, n_estimators=20, max_depth=100, bootstrap=True, min_samples_split=2, min_samples_leaf=4 \n",
      "[CV]  max_features=auto, n_estimators=20, max_depth=100, bootstrap=True, min_samples_split=2, min_samples_leaf=4, total=   1.6s\n",
      "[CV] max_features=auto, n_estimators=20, max_depth=100, bootstrap=True, min_samples_split=2, min_samples_leaf=4 \n",
      "[CV]  max_features=auto, n_estimators=20, max_depth=100, bootstrap=True, min_samples_split=2, min_samples_leaf=4, total=   1.5s\n",
      "[CV] max_features=sqrt, n_estimators=20, max_depth=40, bootstrap=True, min_samples_split=2, min_samples_leaf=1 \n",
      "[CV]  max_features=sqrt, n_estimators=20, max_depth=40, bootstrap=True, min_samples_split=2, min_samples_leaf=1, total=   0.6s\n",
      "[CV] max_features=sqrt, n_estimators=20, max_depth=40, bootstrap=True, min_samples_split=2, min_samples_leaf=1 \n",
      "[CV]  max_features=sqrt, n_estimators=20, max_depth=40, bootstrap=True, min_samples_split=2, min_samples_leaf=1, total=   0.6s\n",
      "[CV] max_features=sqrt, n_estimators=20, max_depth=40, bootstrap=True, min_samples_split=2, min_samples_leaf=1 \n",
      "[CV]  max_features=sqrt, n_estimators=20, max_depth=40, bootstrap=True, min_samples_split=2, min_samples_leaf=1, total=   0.6s\n",
      "[CV] max_features=sqrt, n_estimators=2020, max_depth=10, bootstrap=True, min_samples_split=2, min_samples_leaf=1 \n",
      "[CV]  max_features=auto, n_estimators=1520, max_depth=40, bootstrap=False, min_samples_split=10, min_samples_leaf=4, total= 4.5min\n",
      "[CV] max_features=sqrt, n_estimators=2020, max_depth=10, bootstrap=True, min_samples_split=2, min_samples_leaf=1 \n",
      "[CV]  max_features=auto, n_estimators=1520, max_depth=40, bootstrap=False, min_samples_split=10, min_samples_leaf=4, total= 4.5min\n",
      "[CV] max_features=sqrt, n_estimators=2020, max_depth=10, bootstrap=True, min_samples_split=2, min_samples_leaf=1 \n",
      "[CV]  max_features=sqrt, n_estimators=2020, max_depth=10, bootstrap=True, min_samples_split=2, min_samples_leaf=1, total=  53.9s\n",
      "[CV] max_features=sqrt, n_estimators=1020, max_depth=100, bootstrap=False, min_samples_split=5, min_samples_leaf=4 \n",
      "[CV]  max_features=sqrt, n_estimators=2020, max_depth=10, bootstrap=True, min_samples_split=2, min_samples_leaf=1, total=  55.1s\n",
      "[CV] max_features=sqrt, n_estimators=1020, max_depth=100, bootstrap=False, min_samples_split=5, min_samples_leaf=4 \n",
      "[CV]  max_features=sqrt, n_estimators=2020, max_depth=10, bootstrap=True, min_samples_split=2, min_samples_leaf=1, total=  55.3s\n",
      "[CV] max_features=sqrt, n_estimators=1020, max_depth=100, bootstrap=False, min_samples_split=5, min_samples_leaf=4 \n",
      "[CV]  max_features=sqrt, n_estimators=1020, max_depth=100, bootstrap=False, min_samples_split=5, min_samples_leaf=4, total=  48.5s\n",
      "[CV] max_features=sqrt, n_estimators=520, max_depth=10, bootstrap=False, min_samples_split=10, min_samples_leaf=1 \n",
      "[CV]  max_features=sqrt, n_estimators=1020, max_depth=100, bootstrap=False, min_samples_split=5, min_samples_leaf=4, total=  48.9s\n",
      "[CV] max_features=sqrt, n_estimators=520, max_depth=10, bootstrap=False, min_samples_split=10, min_samples_leaf=1 \n",
      "[CV]  max_features=sqrt, n_estimators=1020, max_depth=100, bootstrap=False, min_samples_split=5, min_samples_leaf=4, total=  48.6s\n",
      "[CV] max_features=sqrt, n_estimators=520, max_depth=10, bootstrap=False, min_samples_split=10, min_samples_leaf=1 \n",
      "[CV]  max_features=sqrt, n_estimators=520, max_depth=10, bootstrap=False, min_samples_split=10, min_samples_leaf=1, total=  25.5s\n",
      "[CV] max_features=sqrt, n_estimators=1020, max_depth=10, bootstrap=True, min_samples_split=10, min_samples_leaf=2 \n",
      "[CV]  max_features=sqrt, n_estimators=520, max_depth=10, bootstrap=False, min_samples_split=10, min_samples_leaf=1, total=  25.6s\n",
      "[CV] max_features=sqrt, n_estimators=1020, max_depth=10, bootstrap=True, min_samples_split=10, min_samples_leaf=2 \n",
      "[CV]  max_features=sqrt, n_estimators=520, max_depth=10, bootstrap=False, min_samples_split=10, min_samples_leaf=1, total=  25.5s\n",
      "[CV] max_features=sqrt, n_estimators=1020, max_depth=10, bootstrap=True, min_samples_split=10, min_samples_leaf=2 \n",
      "[CV]  max_features=sqrt, n_estimators=1020, max_depth=10, bootstrap=True, min_samples_split=10, min_samples_leaf=2, total=  24.9s\n"
     ]
    },
    {
     "name": "stdout",
     "output_type": "stream",
     "text": [
      "[CV] max_features=sqrt, n_estimators=1020, max_depth=100, bootstrap=True, min_samples_split=10, min_samples_leaf=2 \n",
      "[CV]  max_features=sqrt, n_estimators=1020, max_depth=10, bootstrap=True, min_samples_split=10, min_samples_leaf=2, total=  25.2s\n",
      "[CV] max_features=sqrt, n_estimators=1020, max_depth=100, bootstrap=True, min_samples_split=10, min_samples_leaf=2 \n",
      "[CV]  max_features=sqrt, n_estimators=1020, max_depth=10, bootstrap=True, min_samples_split=10, min_samples_leaf=2, total=  25.3s\n",
      "[CV] max_features=sqrt, n_estimators=1020, max_depth=100, bootstrap=True, min_samples_split=10, min_samples_leaf=2 \n",
      "[CV]  max_features=auto, n_estimators=1520, max_depth=40, bootstrap=False, min_samples_split=10, min_samples_leaf=4, total= 4.1min\n",
      "[CV] max_features=sqrt, n_estimators=1020, max_depth=70, bootstrap=False, min_samples_split=10, min_samples_leaf=1 \n",
      "[CV]  max_features=sqrt, n_estimators=1020, max_depth=100, bootstrap=True, min_samples_split=10, min_samples_leaf=2, total=  26.2s\n",
      "[CV] max_features=sqrt, n_estimators=1020, max_depth=70, bootstrap=False, min_samples_split=10, min_samples_leaf=1 \n",
      "[CV]  max_features=sqrt, n_estimators=1020, max_depth=100, bootstrap=True, min_samples_split=10, min_samples_leaf=2, total=  25.7s\n",
      "[CV] max_features=sqrt, n_estimators=1020, max_depth=70, bootstrap=False, min_samples_split=10, min_samples_leaf=1 \n",
      "[CV]  max_features=sqrt, n_estimators=1020, max_depth=100, bootstrap=True, min_samples_split=10, min_samples_leaf=2, total=  24.8s\n",
      "[CV] max_features=auto, n_estimators=520, max_depth=100, bootstrap=False, min_samples_split=5, min_samples_leaf=2 \n",
      "[CV]  max_features=sqrt, n_estimators=1020, max_depth=70, bootstrap=False, min_samples_split=10, min_samples_leaf=1, total=  56.5s\n",
      "[CV] max_features=auto, n_estimators=520, max_depth=100, bootstrap=False, min_samples_split=5, min_samples_leaf=2 \n",
      "[CV]  max_features=sqrt, n_estimators=1020, max_depth=70, bootstrap=False, min_samples_split=10, min_samples_leaf=1, total=  54.7s\n",
      "[CV] max_features=auto, n_estimators=520, max_depth=100, bootstrap=False, min_samples_split=5, min_samples_leaf=2 \n",
      "[CV]  max_features=sqrt, n_estimators=1020, max_depth=70, bootstrap=False, min_samples_split=10, min_samples_leaf=1, total=  54.4s\n",
      "[CV] max_features=sqrt, n_estimators=1020, max_depth=10, bootstrap=True, min_samples_split=2, min_samples_leaf=4 \n",
      "[CV]  max_features=sqrt, n_estimators=1020, max_depth=10, bootstrap=True, min_samples_split=2, min_samples_leaf=4, total=  23.8s\n",
      "[CV] max_features=sqrt, n_estimators=1020, max_depth=10, bootstrap=True, min_samples_split=2, min_samples_leaf=4 \n",
      "[CV]  max_features=auto, n_estimators=520, max_depth=100, bootstrap=False, min_samples_split=5, min_samples_leaf=2, total= 1.6min\n",
      "[CV] max_features=sqrt, n_estimators=1020, max_depth=10, bootstrap=True, min_samples_split=2, min_samples_leaf=4 \n",
      "[CV]  max_features=sqrt, n_estimators=1020, max_depth=10, bootstrap=True, min_samples_split=2, min_samples_leaf=4, total=  24.3s\n",
      "[CV] max_features=sqrt, n_estimators=1020, max_depth=40, bootstrap=False, min_samples_split=10, min_samples_leaf=2 \n",
      "[CV]  max_features=sqrt, n_estimators=1020, max_depth=10, bootstrap=True, min_samples_split=2, min_samples_leaf=4, total=  23.7s\n",
      "[CV] max_features=sqrt, n_estimators=1020, max_depth=40, bootstrap=False, min_samples_split=10, min_samples_leaf=2 \n",
      "[CV]  max_features=auto, n_estimators=520, max_depth=100, bootstrap=False, min_samples_split=5, min_samples_leaf=2, total= 1.6min\n",
      "[CV] max_features=sqrt, n_estimators=1020, max_depth=40, bootstrap=False, min_samples_split=10, min_samples_leaf=2 \n",
      "[CV]  max_features=auto, n_estimators=520, max_depth=100, bootstrap=False, min_samples_split=5, min_samples_leaf=2, total= 1.5min\n",
      "[CV] max_features=auto, n_estimators=1020, max_depth=100, bootstrap=False, min_samples_split=10, min_samples_leaf=4 \n",
      "[CV]  max_features=sqrt, n_estimators=1020, max_depth=40, bootstrap=False, min_samples_split=10, min_samples_leaf=2, total=  51.1s\n",
      "[CV] max_features=auto, n_estimators=1020, max_depth=100, bootstrap=False, min_samples_split=10, min_samples_leaf=4 \n",
      "[CV]  max_features=sqrt, n_estimators=1020, max_depth=40, bootstrap=False, min_samples_split=10, min_samples_leaf=2, total=  51.2s\n",
      "[CV] max_features=auto, n_estimators=1020, max_depth=100, bootstrap=False, min_samples_split=10, min_samples_leaf=4 \n",
      "[CV]  max_features=sqrt, n_estimators=1020, max_depth=40, bootstrap=False, min_samples_split=10, min_samples_leaf=2, total=  48.6s\n",
      "[CV] max_features=sqrt, n_estimators=1020, max_depth=10, bootstrap=False, min_samples_split=2, min_samples_leaf=4 \n",
      "[CV]  max_features=sqrt, n_estimators=1020, max_depth=10, bootstrap=False, min_samples_split=2, min_samples_leaf=4, total=  46.6s\n",
      "[CV] max_features=sqrt, n_estimators=1020, max_depth=10, bootstrap=False, min_samples_split=2, min_samples_leaf=4 \n"
     ]
    },
    {
     "name": "stderr",
     "output_type": "stream",
     "text": [
      "[Parallel(n_jobs=-1)]: Done 154 tasks      | elapsed: 51.6min\n"
     ]
    },
    {
     "name": "stdout",
     "output_type": "stream",
     "text": [
      "[CV]  max_features=sqrt, n_estimators=1020, max_depth=10, bootstrap=False, min_samples_split=2, min_samples_leaf=4, total=  46.8s\n",
      "[CV] max_features=sqrt, n_estimators=1020, max_depth=10, bootstrap=False, min_samples_split=2, min_samples_leaf=4 \n",
      "[CV]  max_features=auto, n_estimators=1020, max_depth=100, bootstrap=False, min_samples_split=10, min_samples_leaf=4, total= 2.8min\n",
      "[CV] max_features=sqrt, n_estimators=520, max_depth=70, bootstrap=False, min_samples_split=5, min_samples_leaf=1 \n",
      "[CV]  max_features=sqrt, n_estimators=1020, max_depth=10, bootstrap=False, min_samples_split=2, min_samples_leaf=4, total=  46.6s\n",
      "[CV] max_features=sqrt, n_estimators=520, max_depth=70, bootstrap=False, min_samples_split=5, min_samples_leaf=1 \n",
      "[CV]  max_features=auto, n_estimators=1020, max_depth=100, bootstrap=False, min_samples_split=10, min_samples_leaf=4, total= 2.9min\n",
      "[CV] max_features=sqrt, n_estimators=520, max_depth=70, bootstrap=False, min_samples_split=5, min_samples_leaf=1 \n",
      "[CV]  max_features=auto, n_estimators=1020, max_depth=100, bootstrap=False, min_samples_split=10, min_samples_leaf=4, total= 2.7min\n",
      "[CV] max_features=auto, n_estimators=520, max_depth=40, bootstrap=True, min_samples_split=10, min_samples_leaf=4 \n",
      "[CV]  max_features=sqrt, n_estimators=520, max_depth=70, bootstrap=False, min_samples_split=5, min_samples_leaf=1, total=  30.0s\n",
      "[CV] max_features=auto, n_estimators=520, max_depth=40, bootstrap=True, min_samples_split=10, min_samples_leaf=4 \n",
      "[CV]  max_features=sqrt, n_estimators=520, max_depth=70, bootstrap=False, min_samples_split=5, min_samples_leaf=1, total=  29.6s\n",
      "[CV] max_features=auto, n_estimators=520, max_depth=40, bootstrap=True, min_samples_split=10, min_samples_leaf=4 \n",
      "[CV]  max_features=sqrt, n_estimators=520, max_depth=70, bootstrap=False, min_samples_split=5, min_samples_leaf=1, total=  28.6s\n",
      "[CV] max_features=sqrt, n_estimators=1020, max_depth=100, bootstrap=True, min_samples_split=5, min_samples_leaf=4 \n",
      "[CV]  max_features=auto, n_estimators=520, max_depth=40, bootstrap=True, min_samples_split=10, min_samples_leaf=4, total=  40.4s\n",
      "[CV] max_features=sqrt, n_estimators=1020, max_depth=100, bootstrap=True, min_samples_split=5, min_samples_leaf=4 \n",
      "[CV]  max_features=auto, n_estimators=520, max_depth=40, bootstrap=True, min_samples_split=10, min_samples_leaf=4, total=  40.9s\n",
      "[CV] max_features=sqrt, n_estimators=1020, max_depth=100, bootstrap=True, min_samples_split=5, min_samples_leaf=4 \n",
      "[CV]  max_features=sqrt, n_estimators=1020, max_depth=100, bootstrap=True, min_samples_split=5, min_samples_leaf=4, total=  24.7s\n",
      "[CV] max_features=auto, n_estimators=520, max_depth=70, bootstrap=True, min_samples_split=2, min_samples_leaf=4 \n",
      "[CV]  max_features=auto, n_estimators=520, max_depth=40, bootstrap=True, min_samples_split=10, min_samples_leaf=4, total=  40.2s\n",
      "[CV] max_features=auto, n_estimators=520, max_depth=70, bootstrap=True, min_samples_split=2, min_samples_leaf=4 \n",
      "[CV]  max_features=sqrt, n_estimators=1020, max_depth=100, bootstrap=True, min_samples_split=5, min_samples_leaf=4, total=  24.2s\n",
      "[CV] max_features=auto, n_estimators=520, max_depth=70, bootstrap=True, min_samples_split=2, min_samples_leaf=4 \n",
      "[CV]  max_features=sqrt, n_estimators=1020, max_depth=100, bootstrap=True, min_samples_split=5, min_samples_leaf=4, total=  24.3s\n",
      "[CV] max_features=auto, n_estimators=20, max_depth=70, bootstrap=True, min_samples_split=5, min_samples_leaf=4 \n",
      "[CV]  max_features=auto, n_estimators=20, max_depth=70, bootstrap=True, min_samples_split=5, min_samples_leaf=4, total=   1.5s\n",
      "[CV] max_features=auto, n_estimators=20, max_depth=70, bootstrap=True, min_samples_split=5, min_samples_leaf=4 \n",
      "[CV]  max_features=auto, n_estimators=20, max_depth=70, bootstrap=True, min_samples_split=5, min_samples_leaf=4, total=   1.6s\n",
      "[CV] max_features=auto, n_estimators=20, max_depth=70, bootstrap=True, min_samples_split=5, min_samples_leaf=4 \n",
      "[CV]  max_features=auto, n_estimators=20, max_depth=70, bootstrap=True, min_samples_split=5, min_samples_leaf=4, total=   1.5s\n",
      "[CV] max_features=sqrt, n_estimators=2020, max_depth=10, bootstrap=True, min_samples_split=5, min_samples_leaf=4 \n",
      "[CV]  max_features=auto, n_estimators=520, max_depth=70, bootstrap=True, min_samples_split=2, min_samples_leaf=4, total=  40.8s\n",
      "[CV] max_features=sqrt, n_estimators=2020, max_depth=10, bootstrap=True, min_samples_split=5, min_samples_leaf=4 \n",
      "[CV]  max_features=auto, n_estimators=520, max_depth=70, bootstrap=True, min_samples_split=2, min_samples_leaf=4, total=  42.1s\n",
      "[CV] max_features=sqrt, n_estimators=2020, max_depth=10, bootstrap=True, min_samples_split=5, min_samples_leaf=4 \n",
      "[CV]  max_features=auto, n_estimators=520, max_depth=70, bootstrap=True, min_samples_split=2, min_samples_leaf=4, total=  40.4s\n",
      "[CV] max_features=sqrt, n_estimators=2020, max_depth=100, bootstrap=True, min_samples_split=10, min_samples_leaf=1 \n",
      "[CV]  max_features=sqrt, n_estimators=2020, max_depth=10, bootstrap=True, min_samples_split=5, min_samples_leaf=4, total=  46.8s\n",
      "[CV] max_features=sqrt, n_estimators=2020, max_depth=100, bootstrap=True, min_samples_split=10, min_samples_leaf=1 \n",
      "[CV]  max_features=sqrt, n_estimators=2020, max_depth=10, bootstrap=True, min_samples_split=5, min_samples_leaf=4, total=  47.9s\n",
      "[CV] max_features=sqrt, n_estimators=2020, max_depth=100, bootstrap=True, min_samples_split=10, min_samples_leaf=1 \n",
      "[CV]  max_features=sqrt, n_estimators=2020, max_depth=10, bootstrap=True, min_samples_split=5, min_samples_leaf=4, total=  46.2s\n",
      "[CV] max_features=sqrt, n_estimators=1020, max_depth=40, bootstrap=False, min_samples_split=5, min_samples_leaf=4 \n",
      "[CV]  max_features=sqrt, n_estimators=2020, max_depth=100, bootstrap=True, min_samples_split=10, min_samples_leaf=1, total=  58.1s\n",
      "[CV] max_features=sqrt, n_estimators=1020, max_depth=40, bootstrap=False, min_samples_split=5, min_samples_leaf=4 \n",
      "[CV]  max_features=sqrt, n_estimators=2020, max_depth=100, bootstrap=True, min_samples_split=10, min_samples_leaf=1, total=  57.6s\n",
      "[CV] max_features=sqrt, n_estimators=1020, max_depth=40, bootstrap=False, min_samples_split=5, min_samples_leaf=4 \n",
      "[CV]  max_features=sqrt, n_estimators=2020, max_depth=100, bootstrap=True, min_samples_split=10, min_samples_leaf=1, total=  55.7s\n",
      "[CV] max_features=auto, n_estimators=20, max_depth=10, bootstrap=True, min_samples_split=10, min_samples_leaf=1 \n",
      "[CV]  max_features=auto, n_estimators=20, max_depth=10, bootstrap=True, min_samples_split=10, min_samples_leaf=1, total=   1.7s\n",
      "[CV] max_features=auto, n_estimators=20, max_depth=10, bootstrap=True, min_samples_split=10, min_samples_leaf=1 \n",
      "[CV]  max_features=auto, n_estimators=20, max_depth=10, bootstrap=True, min_samples_split=10, min_samples_leaf=1, total=   1.7s\n",
      "[CV] max_features=auto, n_estimators=20, max_depth=10, bootstrap=True, min_samples_split=10, min_samples_leaf=1 \n",
      "[CV]  max_features=sqrt, n_estimators=1020, max_depth=40, bootstrap=False, min_samples_split=5, min_samples_leaf=4, total=  48.5s\n",
      "[CV] max_features=sqrt, n_estimators=1520, max_depth=10, bootstrap=True, min_samples_split=2, min_samples_leaf=4 \n",
      "[CV]  max_features=auto, n_estimators=20, max_depth=10, bootstrap=True, min_samples_split=10, min_samples_leaf=1, total=   1.7s\n",
      "[CV] max_features=sqrt, n_estimators=1520, max_depth=10, bootstrap=True, min_samples_split=2, min_samples_leaf=4 \n",
      "[CV]  max_features=sqrt, n_estimators=1020, max_depth=40, bootstrap=False, min_samples_split=5, min_samples_leaf=4, total=  48.9s\n",
      "[CV] max_features=sqrt, n_estimators=1520, max_depth=10, bootstrap=True, min_samples_split=2, min_samples_leaf=4 \n",
      "[CV]  max_features=sqrt, n_estimators=1020, max_depth=40, bootstrap=False, min_samples_split=5, min_samples_leaf=4, total=  47.7s\n",
      "[CV] max_features=auto, n_estimators=1520, max_depth=10, bootstrap=False, min_samples_split=2, min_samples_leaf=4 \n",
      "[CV]  max_features=sqrt, n_estimators=1520, max_depth=10, bootstrap=True, min_samples_split=2, min_samples_leaf=4, total=  37.7s\n",
      "[CV] max_features=auto, n_estimators=1520, max_depth=10, bootstrap=False, min_samples_split=2, min_samples_leaf=4 \n",
      "[CV]  max_features=sqrt, n_estimators=1520, max_depth=10, bootstrap=True, min_samples_split=2, min_samples_leaf=4, total=  38.2s\n",
      "[CV] max_features=auto, n_estimators=1520, max_depth=10, bootstrap=False, min_samples_split=2, min_samples_leaf=4 \n"
     ]
    },
    {
     "name": "stdout",
     "output_type": "stream",
     "text": [
      "[CV]  max_features=sqrt, n_estimators=1520, max_depth=10, bootstrap=True, min_samples_split=2, min_samples_leaf=4, total=  39.7s\n",
      "[CV] max_features=sqrt, n_estimators=20, max_depth=70, bootstrap=True, min_samples_split=10, min_samples_leaf=2 \n",
      "[CV]  max_features=sqrt, n_estimators=20, max_depth=70, bootstrap=True, min_samples_split=10, min_samples_leaf=2, total=   0.6s\n",
      "[CV] max_features=sqrt, n_estimators=20, max_depth=70, bootstrap=True, min_samples_split=10, min_samples_leaf=2 \n",
      "[CV]  max_features=sqrt, n_estimators=20, max_depth=70, bootstrap=True, min_samples_split=10, min_samples_leaf=2, total=   0.5s\n",
      "[CV] max_features=sqrt, n_estimators=20, max_depth=70, bootstrap=True, min_samples_split=10, min_samples_leaf=2 \n",
      "[CV]  max_features=sqrt, n_estimators=20, max_depth=70, bootstrap=True, min_samples_split=10, min_samples_leaf=2, total=   0.5s\n",
      "[CV] max_features=auto, n_estimators=1020, max_depth=40, bootstrap=True, min_samples_split=5, min_samples_leaf=1 \n",
      "[CV]  max_features=auto, n_estimators=1020, max_depth=40, bootstrap=True, min_samples_split=5, min_samples_leaf=1, total= 2.0min\n",
      "[CV] max_features=auto, n_estimators=1020, max_depth=40, bootstrap=True, min_samples_split=5, min_samples_leaf=1 \n",
      "[CV]  max_features=auto, n_estimators=1020, max_depth=40, bootstrap=True, min_samples_split=5, min_samples_leaf=1, total= 1.9min\n",
      "[CV] max_features=auto, n_estimators=1020, max_depth=40, bootstrap=True, min_samples_split=5, min_samples_leaf=1 \n",
      "[CV]  max_features=auto, n_estimators=1520, max_depth=10, bootstrap=False, min_samples_split=2, min_samples_leaf=4, total= 4.4min\n",
      "[CV] max_features=auto, n_estimators=2020, max_depth=100, bootstrap=False, min_samples_split=5, min_samples_leaf=2 \n",
      "[CV]  max_features=auto, n_estimators=1520, max_depth=10, bootstrap=False, min_samples_split=2, min_samples_leaf=4, total= 4.5min\n",
      "[CV] max_features=auto, n_estimators=2020, max_depth=100, bootstrap=False, min_samples_split=5, min_samples_leaf=2 \n",
      "[CV]  max_features=auto, n_estimators=1520, max_depth=10, bootstrap=False, min_samples_split=2, min_samples_leaf=4, total= 4.7min\n",
      "[CV] max_features=auto, n_estimators=2020, max_depth=100, bootstrap=False, min_samples_split=5, min_samples_leaf=2 \n",
      "[CV]  max_features=auto, n_estimators=1020, max_depth=40, bootstrap=True, min_samples_split=5, min_samples_leaf=1, total= 1.7min\n",
      "[CV] max_features=sqrt, n_estimators=20, max_depth=40, bootstrap=True, min_samples_split=5, min_samples_leaf=2 \n",
      "[CV]  max_features=sqrt, n_estimators=20, max_depth=40, bootstrap=True, min_samples_split=5, min_samples_leaf=2, total=   0.5s\n",
      "[CV] max_features=sqrt, n_estimators=20, max_depth=40, bootstrap=True, min_samples_split=5, min_samples_leaf=2 \n",
      "[CV]  max_features=sqrt, n_estimators=20, max_depth=40, bootstrap=True, min_samples_split=5, min_samples_leaf=2, total=   0.6s\n",
      "[CV] max_features=sqrt, n_estimators=20, max_depth=40, bootstrap=True, min_samples_split=5, min_samples_leaf=2 \n",
      "[CV]  max_features=sqrt, n_estimators=20, max_depth=40, bootstrap=True, min_samples_split=5, min_samples_leaf=2, total=   0.6s\n",
      "[CV] max_features=sqrt, n_estimators=1020, max_depth=40, bootstrap=False, min_samples_split=2, min_samples_leaf=4 \n",
      "[CV]  max_features=sqrt, n_estimators=1020, max_depth=40, bootstrap=False, min_samples_split=2, min_samples_leaf=4, total=  47.5s\n",
      "[CV] max_features=sqrt, n_estimators=1020, max_depth=40, bootstrap=False, min_samples_split=2, min_samples_leaf=4 \n",
      "[CV]  max_features=sqrt, n_estimators=1020, max_depth=40, bootstrap=False, min_samples_split=2, min_samples_leaf=4, total=  48.3s\n",
      "[CV] max_features=sqrt, n_estimators=1020, max_depth=40, bootstrap=False, min_samples_split=2, min_samples_leaf=4 \n",
      "[CV]  max_features=sqrt, n_estimators=1020, max_depth=40, bootstrap=False, min_samples_split=2, min_samples_leaf=4, total=  46.7s\n",
      "[CV] max_features=sqrt, n_estimators=520, max_depth=70, bootstrap=False, min_samples_split=10, min_samples_leaf=1 \n",
      "[CV]  max_features=sqrt, n_estimators=520, max_depth=70, bootstrap=False, min_samples_split=10, min_samples_leaf=1, total=  30.2s\n",
      "[CV] max_features=sqrt, n_estimators=520, max_depth=70, bootstrap=False, min_samples_split=10, min_samples_leaf=1 \n",
      "[CV]  max_features=sqrt, n_estimators=520, max_depth=70, bootstrap=False, min_samples_split=10, min_samples_leaf=1, total=  31.3s\n",
      "[CV] max_features=sqrt, n_estimators=520, max_depth=70, bootstrap=False, min_samples_split=10, min_samples_leaf=1 \n",
      "[CV]  max_features=sqrt, n_estimators=520, max_depth=70, bootstrap=False, min_samples_split=10, min_samples_leaf=1, total=  28.4s\n",
      "[CV] max_features=auto, n_estimators=1520, max_depth=100, bootstrap=False, min_samples_split=5, min_samples_leaf=4 \n",
      "[CV]  max_features=auto, n_estimators=2020, max_depth=100, bootstrap=False, min_samples_split=5, min_samples_leaf=2, total= 6.1min\n",
      "[CV] max_features=auto, n_estimators=1520, max_depth=100, bootstrap=False, min_samples_split=5, min_samples_leaf=4 \n",
      "[CV]  max_features=auto, n_estimators=2020, max_depth=100, bootstrap=False, min_samples_split=5, min_samples_leaf=2, total= 6.0min\n",
      "[CV] max_features=auto, n_estimators=1520, max_depth=100, bootstrap=False, min_samples_split=5, min_samples_leaf=4 \n",
      "[CV]  max_features=auto, n_estimators=2020, max_depth=100, bootstrap=False, min_samples_split=5, min_samples_leaf=2, total= 6.3min\n",
      "[CV] max_features=sqrt, n_estimators=1520, max_depth=10, bootstrap=False, min_samples_split=2, min_samples_leaf=1 \n",
      "[CV]  max_features=sqrt, n_estimators=1520, max_depth=10, bootstrap=False, min_samples_split=2, min_samples_leaf=1, total= 1.3min\n",
      "[CV] max_features=sqrt, n_estimators=1520, max_depth=10, bootstrap=False, min_samples_split=2, min_samples_leaf=1 \n",
      "[CV]  max_features=sqrt, n_estimators=1520, max_depth=10, bootstrap=False, min_samples_split=2, min_samples_leaf=1, total= 1.4min\n",
      "[CV] max_features=sqrt, n_estimators=1520, max_depth=10, bootstrap=False, min_samples_split=2, min_samples_leaf=1 \n",
      "[CV]  max_features=auto, n_estimators=1520, max_depth=100, bootstrap=False, min_samples_split=5, min_samples_leaf=4, total= 4.8min\n",
      "[CV] max_features=sqrt, n_estimators=520, max_depth=10, bootstrap=True, min_samples_split=5, min_samples_leaf=4 \n",
      "[CV]  max_features=sqrt, n_estimators=520, max_depth=10, bootstrap=True, min_samples_split=5, min_samples_leaf=4, total=  16.9s\n",
      "[CV] max_features=sqrt, n_estimators=520, max_depth=10, bootstrap=True, min_samples_split=5, min_samples_leaf=4 \n",
      "[CV]  max_features=sqrt, n_estimators=520, max_depth=10, bootstrap=True, min_samples_split=5, min_samples_leaf=4, total=  15.9s\n",
      "[CV] max_features=sqrt, n_estimators=520, max_depth=10, bootstrap=True, min_samples_split=5, min_samples_leaf=4 \n",
      "[CV]  max_features=auto, n_estimators=1520, max_depth=100, bootstrap=False, min_samples_split=5, min_samples_leaf=4, total= 4.7min\n",
      "[CV] max_features=auto, n_estimators=1020, max_depth=10, bootstrap=False, min_samples_split=5, min_samples_leaf=2 \n",
      "[CV]  max_features=sqrt, n_estimators=1520, max_depth=10, bootstrap=False, min_samples_split=2, min_samples_leaf=1, total= 1.7min\n",
      "[CV] max_features=auto, n_estimators=1020, max_depth=10, bootstrap=False, min_samples_split=5, min_samples_leaf=2 \n",
      "[CV]  max_features=sqrt, n_estimators=520, max_depth=10, bootstrap=True, min_samples_split=5, min_samples_leaf=4, total=  15.7s\n",
      "[CV] max_features=auto, n_estimators=1020, max_depth=10, bootstrap=False, min_samples_split=5, min_samples_leaf=2 \n",
      "[CV]  max_features=auto, n_estimators=1520, max_depth=100, bootstrap=False, min_samples_split=5, min_samples_leaf=4, total= 5.1min\n",
      "[CV] max_features=sqrt, n_estimators=1520, max_depth=40, bootstrap=True, min_samples_split=10, min_samples_leaf=1 \n",
      "[CV]  max_features=sqrt, n_estimators=1520, max_depth=40, bootstrap=True, min_samples_split=10, min_samples_leaf=1, total=  55.2s\n",
      "[CV] max_features=sqrt, n_estimators=1520, max_depth=40, bootstrap=True, min_samples_split=10, min_samples_leaf=1 \n",
      "[CV]  max_features=sqrt, n_estimators=1520, max_depth=40, bootstrap=True, min_samples_split=10, min_samples_leaf=1, total=  54.4s\n",
      "[CV] max_features=sqrt, n_estimators=1520, max_depth=40, bootstrap=True, min_samples_split=10, min_samples_leaf=1 \n",
      "[CV]  max_features=sqrt, n_estimators=1520, max_depth=40, bootstrap=True, min_samples_split=10, min_samples_leaf=1, total=  47.3s\n",
      "[CV] max_features=sqrt, n_estimators=520, max_depth=40, bootstrap=False, min_samples_split=10, min_samples_leaf=4 \n"
     ]
    },
    {
     "name": "stdout",
     "output_type": "stream",
     "text": [
      "[CV]  max_features=sqrt, n_estimators=520, max_depth=40, bootstrap=False, min_samples_split=10, min_samples_leaf=4, total=  23.8s\n",
      "[CV] max_features=sqrt, n_estimators=520, max_depth=40, bootstrap=False, min_samples_split=10, min_samples_leaf=4 \n",
      "[CV]  max_features=auto, n_estimators=1020, max_depth=10, bootstrap=False, min_samples_split=5, min_samples_leaf=2, total= 3.4min\n",
      "[CV] max_features=sqrt, n_estimators=520, max_depth=40, bootstrap=False, min_samples_split=10, min_samples_leaf=4 \n",
      "[CV]  max_features=auto, n_estimators=1020, max_depth=10, bootstrap=False, min_samples_split=5, min_samples_leaf=2, total= 3.5min\n",
      "[CV] max_features=auto, n_estimators=520, max_depth=70, bootstrap=False, min_samples_split=10, min_samples_leaf=4 \n",
      "[CV]  max_features=auto, n_estimators=1020, max_depth=10, bootstrap=False, min_samples_split=5, min_samples_leaf=2, total= 3.3min\n",
      "[CV] max_features=auto, n_estimators=520, max_depth=70, bootstrap=False, min_samples_split=10, min_samples_leaf=4 \n",
      "[CV]  max_features=sqrt, n_estimators=520, max_depth=40, bootstrap=False, min_samples_split=10, min_samples_leaf=4, total=  23.9s\n",
      "[CV] max_features=auto, n_estimators=520, max_depth=70, bootstrap=False, min_samples_split=10, min_samples_leaf=4 \n",
      "[CV]  max_features=sqrt, n_estimators=520, max_depth=40, bootstrap=False, min_samples_split=10, min_samples_leaf=4, total=  23.3s\n",
      "[CV] max_features=sqrt, n_estimators=2020, max_depth=100, bootstrap=True, min_samples_split=10, min_samples_leaf=2 \n",
      "[CV]  max_features=sqrt, n_estimators=2020, max_depth=100, bootstrap=True, min_samples_split=10, min_samples_leaf=2, total=  50.5s\n",
      "[CV] max_features=sqrt, n_estimators=2020, max_depth=100, bootstrap=True, min_samples_split=10, min_samples_leaf=2 \n",
      "[CV]  max_features=auto, n_estimators=520, max_depth=70, bootstrap=False, min_samples_split=10, min_samples_leaf=4, total= 1.4min\n",
      "[CV] max_features=sqrt, n_estimators=2020, max_depth=100, bootstrap=True, min_samples_split=10, min_samples_leaf=2 \n",
      "[CV]  max_features=auto, n_estimators=520, max_depth=70, bootstrap=False, min_samples_split=10, min_samples_leaf=4, total= 1.4min\n",
      "[CV] max_features=sqrt, n_estimators=2020, max_depth=100, bootstrap=False, min_samples_split=5, min_samples_leaf=4 \n",
      "[CV]  max_features=auto, n_estimators=520, max_depth=70, bootstrap=False, min_samples_split=10, min_samples_leaf=4, total= 1.4min\n",
      "[CV] max_features=sqrt, n_estimators=2020, max_depth=100, bootstrap=False, min_samples_split=5, min_samples_leaf=4 \n",
      "[CV]  max_features=sqrt, n_estimators=2020, max_depth=100, bootstrap=True, min_samples_split=10, min_samples_leaf=2, total=  49.6s\n",
      "[CV] max_features=sqrt, n_estimators=2020, max_depth=100, bootstrap=False, min_samples_split=5, min_samples_leaf=4 \n",
      "[CV]  max_features=sqrt, n_estimators=2020, max_depth=100, bootstrap=True, min_samples_split=10, min_samples_leaf=2, total=  49.1s\n",
      "[CV] max_features=sqrt, n_estimators=1520, max_depth=70, bootstrap=True, min_samples_split=5, min_samples_leaf=2 \n",
      "[CV]  max_features=sqrt, n_estimators=1520, max_depth=70, bootstrap=True, min_samples_split=5, min_samples_leaf=2, total=  38.2s\n",
      "[CV] max_features=sqrt, n_estimators=1520, max_depth=70, bootstrap=True, min_samples_split=5, min_samples_leaf=2 \n",
      "[CV]  max_features=sqrt, n_estimators=2020, max_depth=100, bootstrap=False, min_samples_split=5, min_samples_leaf=4, total= 1.5min\n",
      "[CV] max_features=sqrt, n_estimators=1520, max_depth=70, bootstrap=True, min_samples_split=5, min_samples_leaf=2 \n",
      "[CV]  max_features=sqrt, n_estimators=2020, max_depth=100, bootstrap=False, min_samples_split=5, min_samples_leaf=4, total= 1.5min\n",
      "[CV] max_features=sqrt, n_estimators=1520, max_depth=40, bootstrap=False, min_samples_split=5, min_samples_leaf=4 \n",
      "[CV]  max_features=sqrt, n_estimators=1520, max_depth=70, bootstrap=True, min_samples_split=5, min_samples_leaf=2, total=  38.3s\n",
      "[CV] max_features=sqrt, n_estimators=1520, max_depth=40, bootstrap=False, min_samples_split=5, min_samples_leaf=4 \n",
      "[CV]  max_features=sqrt, n_estimators=2020, max_depth=100, bootstrap=False, min_samples_split=5, min_samples_leaf=4, total= 1.5min\n",
      "[CV] max_features=sqrt, n_estimators=1520, max_depth=40, bootstrap=False, min_samples_split=5, min_samples_leaf=4 \n",
      "[CV]  max_features=sqrt, n_estimators=1520, max_depth=70, bootstrap=True, min_samples_split=5, min_samples_leaf=2, total=  37.6s\n",
      "[CV] max_features=auto, n_estimators=520, max_depth=100, bootstrap=True, min_samples_split=5, min_samples_leaf=4 \n",
      "[CV]  max_features=auto, n_estimators=520, max_depth=100, bootstrap=True, min_samples_split=5, min_samples_leaf=4, total=  39.8s\n",
      "[CV] max_features=auto, n_estimators=520, max_depth=100, bootstrap=True, min_samples_split=5, min_samples_leaf=4 \n",
      "[CV]  max_features=sqrt, n_estimators=1520, max_depth=40, bootstrap=False, min_samples_split=5, min_samples_leaf=4, total= 1.2min\n",
      "[CV] max_features=auto, n_estimators=520, max_depth=100, bootstrap=True, min_samples_split=5, min_samples_leaf=4 \n",
      "[CV]  max_features=sqrt, n_estimators=1520, max_depth=40, bootstrap=False, min_samples_split=5, min_samples_leaf=4, total= 1.2min\n",
      "[CV] max_features=auto, n_estimators=1020, max_depth=70, bootstrap=True, min_samples_split=10, min_samples_leaf=1 \n",
      "[CV]  max_features=sqrt, n_estimators=1520, max_depth=40, bootstrap=False, min_samples_split=5, min_samples_leaf=4, total= 1.1min\n",
      "[CV] max_features=auto, n_estimators=1020, max_depth=70, bootstrap=True, min_samples_split=10, min_samples_leaf=1 \n",
      "[CV]  max_features=auto, n_estimators=520, max_depth=100, bootstrap=True, min_samples_split=5, min_samples_leaf=4, total=  40.7s\n",
      "[CV] max_features=auto, n_estimators=1020, max_depth=70, bootstrap=True, min_samples_split=10, min_samples_leaf=1 \n",
      "[CV]  max_features=auto, n_estimators=520, max_depth=100, bootstrap=True, min_samples_split=5, min_samples_leaf=4, total=  38.6s\n",
      "[CV] max_features=auto, n_estimators=2020, max_depth=100, bootstrap=True, min_samples_split=10, min_samples_leaf=2 \n",
      "[CV]  max_features=auto, n_estimators=1020, max_depth=70, bootstrap=True, min_samples_split=10, min_samples_leaf=1, total= 1.7min\n",
      "[CV] max_features=auto, n_estimators=2020, max_depth=100, bootstrap=True, min_samples_split=10, min_samples_leaf=2 \n",
      "[CV]  max_features=auto, n_estimators=1020, max_depth=70, bootstrap=True, min_samples_split=10, min_samples_leaf=1, total= 1.7min\n",
      "[CV] max_features=auto, n_estimators=2020, max_depth=100, bootstrap=True, min_samples_split=10, min_samples_leaf=2 \n",
      "[CV]  max_features=auto, n_estimators=1020, max_depth=70, bootstrap=True, min_samples_split=10, min_samples_leaf=1, total= 1.7min\n",
      "[CV] max_features=auto, n_estimators=520, max_depth=10, bootstrap=True, min_samples_split=2, min_samples_leaf=4 \n",
      "[CV]  max_features=auto, n_estimators=520, max_depth=10, bootstrap=True, min_samples_split=2, min_samples_leaf=4, total=  39.5s\n",
      "[CV] max_features=auto, n_estimators=520, max_depth=10, bootstrap=True, min_samples_split=2, min_samples_leaf=4 \n",
      "[CV]  max_features=auto, n_estimators=2020, max_depth=100, bootstrap=True, min_samples_split=10, min_samples_leaf=2, total= 2.9min\n",
      "[CV] max_features=auto, n_estimators=520, max_depth=10, bootstrap=True, min_samples_split=2, min_samples_leaf=4 \n",
      "[CV]  max_features=auto, n_estimators=520, max_depth=10, bootstrap=True, min_samples_split=2, min_samples_leaf=4, total=  39.8s\n",
      "[CV] max_features=sqrt, n_estimators=1520, max_depth=40, bootstrap=False, min_samples_split=5, min_samples_leaf=1 \n",
      "[CV]  max_features=auto, n_estimators=520, max_depth=10, bootstrap=True, min_samples_split=2, min_samples_leaf=4, total=  50.5s\n",
      "[CV] max_features=sqrt, n_estimators=1520, max_depth=40, bootstrap=False, min_samples_split=5, min_samples_leaf=1 \n",
      "[CV]  max_features=auto, n_estimators=2020, max_depth=100, bootstrap=True, min_samples_split=10, min_samples_leaf=2, total= 2.9min\n",
      "[CV] max_features=sqrt, n_estimators=1520, max_depth=40, bootstrap=False, min_samples_split=5, min_samples_leaf=1 \n",
      "[CV]  max_features=auto, n_estimators=2020, max_depth=100, bootstrap=True, min_samples_split=10, min_samples_leaf=2, total= 3.0min\n",
      "[CV] max_features=auto, n_estimators=2020, max_depth=70, bootstrap=False, min_samples_split=5, min_samples_leaf=1 \n",
      "[CV]  max_features=sqrt, n_estimators=1520, max_depth=40, bootstrap=False, min_samples_split=5, min_samples_leaf=1, total= 1.6min\n"
     ]
    },
    {
     "name": "stdout",
     "output_type": "stream",
     "text": [
      "[CV] max_features=auto, n_estimators=2020, max_depth=70, bootstrap=False, min_samples_split=5, min_samples_leaf=1 \n",
      "[CV]  max_features=sqrt, n_estimators=1520, max_depth=40, bootstrap=False, min_samples_split=5, min_samples_leaf=1, total= 1.4min\n",
      "[CV] max_features=auto, n_estimators=2020, max_depth=70, bootstrap=False, min_samples_split=5, min_samples_leaf=1 \n",
      "[CV]  max_features=sqrt, n_estimators=1520, max_depth=40, bootstrap=False, min_samples_split=5, min_samples_leaf=1, total= 1.3min\n",
      "[CV] max_features=sqrt, n_estimators=520, max_depth=70, bootstrap=True, min_samples_split=5, min_samples_leaf=1 \n",
      "[CV]  max_features=sqrt, n_estimators=520, max_depth=70, bootstrap=True, min_samples_split=5, min_samples_leaf=1, total=  15.0s\n",
      "[CV] max_features=sqrt, n_estimators=520, max_depth=70, bootstrap=True, min_samples_split=5, min_samples_leaf=1 \n",
      "[CV]  max_features=sqrt, n_estimators=520, max_depth=70, bootstrap=True, min_samples_split=5, min_samples_leaf=1, total=  15.1s\n",
      "[CV] max_features=sqrt, n_estimators=520, max_depth=70, bootstrap=True, min_samples_split=5, min_samples_leaf=1 \n",
      "[CV]  max_features=sqrt, n_estimators=520, max_depth=70, bootstrap=True, min_samples_split=5, min_samples_leaf=1, total=  15.3s\n",
      "[CV] max_features=auto, n_estimators=1020, max_depth=40, bootstrap=False, min_samples_split=5, min_samples_leaf=1 \n",
      "[CV]  max_features=auto, n_estimators=1020, max_depth=40, bootstrap=False, min_samples_split=5, min_samples_leaf=1, total= 3.3min\n",
      "[CV] max_features=auto, n_estimators=1020, max_depth=40, bootstrap=False, min_samples_split=5, min_samples_leaf=1 \n",
      "[CV]  max_features=auto, n_estimators=2020, max_depth=70, bootstrap=False, min_samples_split=5, min_samples_leaf=1, total= 6.6min\n",
      "[CV] max_features=auto, n_estimators=1020, max_depth=40, bootstrap=False, min_samples_split=5, min_samples_leaf=1 \n",
      "[CV]  max_features=auto, n_estimators=2020, max_depth=70, bootstrap=False, min_samples_split=5, min_samples_leaf=1, total= 6.5min\n",
      "[CV] max_features=auto, n_estimators=20, max_depth=100, bootstrap=False, min_samples_split=2, min_samples_leaf=4 \n",
      "[CV]  max_features=auto, n_estimators=20, max_depth=100, bootstrap=False, min_samples_split=2, min_samples_leaf=4, total=   3.4s\n",
      "[CV] max_features=auto, n_estimators=20, max_depth=100, bootstrap=False, min_samples_split=2, min_samples_leaf=4 \n",
      "[CV]  max_features=auto, n_estimators=20, max_depth=100, bootstrap=False, min_samples_split=2, min_samples_leaf=4, total=   3.4s\n",
      "[CV] max_features=auto, n_estimators=20, max_depth=100, bootstrap=False, min_samples_split=2, min_samples_leaf=4 \n",
      "[CV]  max_features=auto, n_estimators=20, max_depth=100, bootstrap=False, min_samples_split=2, min_samples_leaf=4, total=   3.8s\n",
      "[CV] max_features=sqrt, n_estimators=2020, max_depth=70, bootstrap=True, min_samples_split=5, min_samples_leaf=1 \n",
      "[CV]  max_features=auto, n_estimators=2020, max_depth=70, bootstrap=False, min_samples_split=5, min_samples_leaf=1, total= 6.3min\n",
      "[CV] max_features=sqrt, n_estimators=2020, max_depth=70, bootstrap=True, min_samples_split=5, min_samples_leaf=1 \n",
      "[CV]  max_features=sqrt, n_estimators=2020, max_depth=70, bootstrap=True, min_samples_split=5, min_samples_leaf=1, total=  59.1s\n",
      "[CV] max_features=sqrt, n_estimators=2020, max_depth=70, bootstrap=True, min_samples_split=5, min_samples_leaf=1 \n",
      "[CV]  max_features=sqrt, n_estimators=2020, max_depth=70, bootstrap=True, min_samples_split=5, min_samples_leaf=1, total=  59.3s\n",
      "[CV] max_features=sqrt, n_estimators=20, max_depth=10, bootstrap=True, min_samples_split=10, min_samples_leaf=1 \n",
      "[CV]  max_features=sqrt, n_estimators=20, max_depth=10, bootstrap=True, min_samples_split=10, min_samples_leaf=1, total=   0.6s\n",
      "[CV] max_features=sqrt, n_estimators=20, max_depth=10, bootstrap=True, min_samples_split=10, min_samples_leaf=1 \n",
      "[CV]  max_features=sqrt, n_estimators=20, max_depth=10, bootstrap=True, min_samples_split=10, min_samples_leaf=1, total=   0.6s\n",
      "[CV] max_features=sqrt, n_estimators=20, max_depth=10, bootstrap=True, min_samples_split=10, min_samples_leaf=1 \n",
      "[CV]  max_features=sqrt, n_estimators=20, max_depth=10, bootstrap=True, min_samples_split=10, min_samples_leaf=1, total=   0.5s\n",
      "[CV] max_features=auto, n_estimators=2020, max_depth=70, bootstrap=True, min_samples_split=10, min_samples_leaf=2 \n",
      "[CV]  max_features=auto, n_estimators=1020, max_depth=40, bootstrap=False, min_samples_split=5, min_samples_leaf=1, total= 3.3min\n",
      "[CV] max_features=auto, n_estimators=2020, max_depth=70, bootstrap=True, min_samples_split=10, min_samples_leaf=2 \n",
      "[CV]  max_features=sqrt, n_estimators=2020, max_depth=70, bootstrap=True, min_samples_split=5, min_samples_leaf=1, total=  58.0s\n",
      "[CV] max_features=auto, n_estimators=2020, max_depth=70, bootstrap=True, min_samples_split=10, min_samples_leaf=2 \n",
      "[CV]  max_features=auto, n_estimators=1020, max_depth=40, bootstrap=False, min_samples_split=5, min_samples_leaf=1, total= 3.2min\n",
      "[CV] max_features=sqrt, n_estimators=1520, max_depth=100, bootstrap=True, min_samples_split=5, min_samples_leaf=2 \n",
      "[CV]  max_features=sqrt, n_estimators=1520, max_depth=100, bootstrap=True, min_samples_split=5, min_samples_leaf=2, total=  38.5s\n",
      "[CV] max_features=sqrt, n_estimators=1520, max_depth=100, bootstrap=True, min_samples_split=5, min_samples_leaf=2 \n",
      "[CV]  max_features=auto, n_estimators=2020, max_depth=70, bootstrap=True, min_samples_split=10, min_samples_leaf=2, total= 2.8min\n",
      "[CV] max_features=sqrt, n_estimators=1520, max_depth=100, bootstrap=True, min_samples_split=5, min_samples_leaf=2 \n",
      "[CV]  max_features=sqrt, n_estimators=1520, max_depth=100, bootstrap=True, min_samples_split=5, min_samples_leaf=2, total=  39.7s\n",
      "[CV] max_features=sqrt, n_estimators=2020, max_depth=40, bootstrap=True, min_samples_split=5, min_samples_leaf=4 \n",
      "[CV]  max_features=auto, n_estimators=2020, max_depth=70, bootstrap=True, min_samples_split=10, min_samples_leaf=2, total= 2.8min\n",
      "[CV] max_features=sqrt, n_estimators=2020, max_depth=40, bootstrap=True, min_samples_split=5, min_samples_leaf=4 \n",
      "[CV]  max_features=sqrt, n_estimators=1520, max_depth=100, bootstrap=True, min_samples_split=5, min_samples_leaf=2, total=  38.9s\n",
      "[CV] max_features=sqrt, n_estimators=2020, max_depth=40, bootstrap=True, min_samples_split=5, min_samples_leaf=4 \n",
      "[CV]  max_features=auto, n_estimators=2020, max_depth=70, bootstrap=True, min_samples_split=10, min_samples_leaf=2, total= 2.8min\n",
      "[CV] max_features=sqrt, n_estimators=20, max_depth=100, bootstrap=True, min_samples_split=5, min_samples_leaf=4 \n",
      "[CV]  max_features=sqrt, n_estimators=20, max_depth=100, bootstrap=True, min_samples_split=5, min_samples_leaf=4, total=   0.6s\n",
      "[CV] max_features=sqrt, n_estimators=20, max_depth=100, bootstrap=True, min_samples_split=5, min_samples_leaf=4 \n",
      "[CV]  max_features=sqrt, n_estimators=20, max_depth=100, bootstrap=True, min_samples_split=5, min_samples_leaf=4, total=   0.5s\n",
      "[CV] max_features=sqrt, n_estimators=20, max_depth=100, bootstrap=True, min_samples_split=5, min_samples_leaf=4 \n",
      "[CV]  max_features=sqrt, n_estimators=20, max_depth=100, bootstrap=True, min_samples_split=5, min_samples_leaf=4, total=   0.6s\n",
      "[CV] max_features=sqrt, n_estimators=520, max_depth=10, bootstrap=True, min_samples_split=2, min_samples_leaf=4 \n",
      "[CV]  max_features=sqrt, n_estimators=520, max_depth=10, bootstrap=True, min_samples_split=2, min_samples_leaf=4, total=  14.7s\n",
      "[CV] max_features=sqrt, n_estimators=520, max_depth=10, bootstrap=True, min_samples_split=2, min_samples_leaf=4 \n",
      "[CV]  max_features=sqrt, n_estimators=2020, max_depth=40, bootstrap=True, min_samples_split=5, min_samples_leaf=4, total=  51.9s\n",
      "[CV] max_features=sqrt, n_estimators=520, max_depth=10, bootstrap=True, min_samples_split=2, min_samples_leaf=4 \n",
      "[CV]  max_features=sqrt, n_estimators=520, max_depth=10, bootstrap=True, min_samples_split=2, min_samples_leaf=4, total=  13.8s\n",
      "[CV] max_features=auto, n_estimators=1020, max_depth=10, bootstrap=True, min_samples_split=2, min_samples_leaf=1 \n",
      "[CV]  max_features=sqrt, n_estimators=520, max_depth=10, bootstrap=True, min_samples_split=2, min_samples_leaf=4, total=  13.3s\n",
      "[CV] max_features=auto, n_estimators=1020, max_depth=10, bootstrap=True, min_samples_split=2, min_samples_leaf=1 \n",
      "[CV]  max_features=sqrt, n_estimators=2020, max_depth=40, bootstrap=True, min_samples_split=5, min_samples_leaf=4, total=  54.9s\n"
     ]
    },
    {
     "name": "stdout",
     "output_type": "stream",
     "text": [
      "[CV] max_features=auto, n_estimators=1020, max_depth=10, bootstrap=True, min_samples_split=2, min_samples_leaf=1 \n",
      "[CV]  max_features=sqrt, n_estimators=2020, max_depth=40, bootstrap=True, min_samples_split=5, min_samples_leaf=4, total=  52.7s\n",
      "[CV] max_features=auto, n_estimators=1520, max_depth=70, bootstrap=False, min_samples_split=5, min_samples_leaf=1 \n",
      "[CV]  max_features=auto, n_estimators=1020, max_depth=10, bootstrap=True, min_samples_split=2, min_samples_leaf=1, total= 1.6min\n",
      "[CV] max_features=auto, n_estimators=1520, max_depth=70, bootstrap=False, min_samples_split=5, min_samples_leaf=1 \n",
      "[CV]  max_features=auto, n_estimators=1020, max_depth=10, bootstrap=True, min_samples_split=2, min_samples_leaf=1, total= 1.6min\n",
      "[CV] max_features=auto, n_estimators=1520, max_depth=70, bootstrap=False, min_samples_split=5, min_samples_leaf=1 \n",
      "[CV]  max_features=auto, n_estimators=1020, max_depth=10, bootstrap=True, min_samples_split=2, min_samples_leaf=1, total= 1.5min\n",
      "[CV] max_features=auto, n_estimators=2020, max_depth=40, bootstrap=True, min_samples_split=2, min_samples_leaf=2 \n",
      "[CV]  max_features=auto, n_estimators=2020, max_depth=40, bootstrap=True, min_samples_split=2, min_samples_leaf=2, total= 3.0min\n",
      "[CV] max_features=auto, n_estimators=2020, max_depth=40, bootstrap=True, min_samples_split=2, min_samples_leaf=2 \n",
      "[CV]  max_features=auto, n_estimators=1520, max_depth=70, bootstrap=False, min_samples_split=5, min_samples_leaf=1, total= 5.0min\n",
      "[CV] max_features=auto, n_estimators=2020, max_depth=40, bootstrap=True, min_samples_split=2, min_samples_leaf=2 \n",
      "[CV]  max_features=auto, n_estimators=1520, max_depth=70, bootstrap=False, min_samples_split=5, min_samples_leaf=1, total= 4.8min\n",
      "[CV]  max_features=auto, n_estimators=1520, max_depth=70, bootstrap=False, min_samples_split=5, min_samples_leaf=1, total= 4.9min\n",
      "[CV]  max_features=auto, n_estimators=2020, max_depth=40, bootstrap=True, min_samples_split=2, min_samples_leaf=2, total= 2.4min\n",
      "[CV]  max_features=auto, n_estimators=2020, max_depth=40, bootstrap=True, min_samples_split=2, min_samples_leaf=2, total= 2.2min\n"
     ]
    },
    {
     "name": "stderr",
     "output_type": "stream",
     "text": [
      "[Parallel(n_jobs=-1)]: Done 300 out of 300 | elapsed: 105.2min finished\n"
     ]
    },
    {
     "data": {
      "text/plain": [
       "RandomizedSearchCV(cv=3, error_score='raise',\n",
       "          estimator=RandomForestRegressor(bootstrap=True, criterion='mae', max_depth=None,\n",
       "           max_features='auto', max_leaf_nodes=None,\n",
       "           min_impurity_decrease=0.0, min_impurity_split=None,\n",
       "           min_samples_leaf=1, min_samples_split=2,\n",
       "           min_weight_fraction_leaf=0.0, n_estimators=10, n_jobs=1,\n",
       "           oob_score=False, random_state=42, verbose=0, warm_start=False),\n",
       "          fit_params=None, iid=True, n_iter=100, n_jobs=-1,\n",
       "          param_distributions={'max_features': ['auto', 'sqrt'], 'n_estimators': array([  20,  520, 1020, 1520, 2020]), 'max_depth': array([ 10,  40,  70, 100]), 'bootstrap': [True, False], 'min_samples_split': [2, 5, 10], 'min_samples_leaf': [1, 2, 4]},\n",
       "          pre_dispatch='2*n_jobs', random_state=42, refit=True,\n",
       "          return_train_score='warn', scoring=None, verbose=2)"
      ]
     },
     "execution_count": 93,
     "metadata": {},
     "output_type": "execute_result"
    }
   ],
   "source": [
    "random_rf_nonv.fit(X_m_s_train_norm, target_nonv_train)"
   ]
  },
  {
   "cell_type": "code",
   "execution_count": 94,
   "metadata": {},
   "outputs": [
    {
     "data": {
      "text/plain": [
       "{'bootstrap': True,\n",
       " 'max_depth': 100,\n",
       " 'max_features': 'sqrt',\n",
       " 'min_samples_leaf': 2,\n",
       " 'min_samples_split': 5,\n",
       " 'n_estimators': 520}"
      ]
     },
     "execution_count": 94,
     "metadata": {},
     "output_type": "execute_result"
    }
   ],
   "source": [
    "random_rf_nonv.best_params_"
   ]
  },
  {
   "cell_type": "code",
   "execution_count": 95,
   "metadata": {},
   "outputs": [
    {
     "data": {
      "text/plain": [
       "1305.7436274080553"
      ]
     },
     "execution_count": 95,
     "metadata": {},
     "output_type": "execute_result"
    }
   ],
   "source": [
    "mean_absolute_error(target_nonv_test, random_rf_nonv.best_estimator_.predict(X_m_s_test_norm))"
   ]
  },
  {
   "cell_type": "code",
   "execution_count": 96,
   "metadata": {},
   "outputs": [
    {
     "data": {
      "text/plain": [
       "{'bootstrap': [True],\n",
       " 'max_depth': [85, 100],\n",
       " 'max_features': ['sqrt'],\n",
       " 'min_samples_leaf': [2, 5],\n",
       " 'min_samples_split': [5, 7],\n",
       " 'n_estimators': [250, 500, 750]}"
      ]
     },
     "execution_count": 96,
     "metadata": {},
     "output_type": "execute_result"
    }
   ],
   "source": [
    "grid_rf_params_nonv = {'bootstrap': [True],\n",
    " 'max_depth' : [85, 100],\n",
    " 'max_features':['sqrt'],\n",
    " 'min_samples_leaf' : [2, 5],\n",
    " 'min_samples_split': [5, 7],\n",
    " 'n_estimators': [250, 500, 750]}\n",
    "grid_rf_params_nonv"
   ]
  },
  {
   "cell_type": "code",
   "execution_count": 97,
   "metadata": {},
   "outputs": [],
   "source": [
    "grid_rf_nonv = GridSearchCV(rfreg, grid_rf_params_nonv, scoring = 'neg_mean_absolute_error', cv = 3, verbose=2, n_jobs = -1)"
   ]
  },
  {
   "cell_type": "code",
   "execution_count": 98,
   "metadata": {},
   "outputs": [
    {
     "name": "stdout",
     "output_type": "stream",
     "text": [
      "Fitting 3 folds for each of 24 candidates, totalling 72 fits\n",
      "[CV] max_features=sqrt, n_estimators=250, max_depth=85, bootstrap=True, min_samples_split=5, min_samples_leaf=2 \n",
      "[CV] max_features=sqrt, n_estimators=250, max_depth=85, bootstrap=True, min_samples_split=5, min_samples_leaf=2 \n",
      "[CV] max_features=sqrt, n_estimators=500, max_depth=85, bootstrap=True, min_samples_split=5, min_samples_leaf=2 \n",
      "[CV] max_features=sqrt, n_estimators=250, max_depth=85, bootstrap=True, min_samples_split=5, min_samples_leaf=2 \n",
      "[CV]  max_features=sqrt, n_estimators=250, max_depth=85, bootstrap=True, min_samples_split=5, min_samples_leaf=2, total=   6.6s\n",
      "[CV] max_features=sqrt, n_estimators=500, max_depth=85, bootstrap=True, min_samples_split=5, min_samples_leaf=2 \n",
      "[CV]  max_features=sqrt, n_estimators=250, max_depth=85, bootstrap=True, min_samples_split=5, min_samples_leaf=2, total=   6.7s\n",
      "[CV] max_features=sqrt, n_estimators=500, max_depth=85, bootstrap=True, min_samples_split=5, min_samples_leaf=2 \n",
      "[CV]  max_features=sqrt, n_estimators=250, max_depth=85, bootstrap=True, min_samples_split=5, min_samples_leaf=2, total=   7.0s\n",
      "[CV] max_features=sqrt, n_estimators=750, max_depth=85, bootstrap=True, min_samples_split=5, min_samples_leaf=2 \n",
      "[CV]  max_features=sqrt, n_estimators=500, max_depth=85, bootstrap=True, min_samples_split=5, min_samples_leaf=2, total=  13.5s\n",
      "[CV] max_features=sqrt, n_estimators=750, max_depth=85, bootstrap=True, min_samples_split=5, min_samples_leaf=2 \n",
      "[CV]  max_features=sqrt, n_estimators=500, max_depth=85, bootstrap=True, min_samples_split=5, min_samples_leaf=2, total=  12.7s\n",
      "[CV] max_features=sqrt, n_estimators=750, max_depth=85, bootstrap=True, min_samples_split=5, min_samples_leaf=2 \n",
      "[CV]  max_features=sqrt, n_estimators=500, max_depth=85, bootstrap=True, min_samples_split=5, min_samples_leaf=2, total=  13.3s\n",
      "[CV] max_features=sqrt, n_estimators=250, max_depth=85, bootstrap=True, min_samples_split=7, min_samples_leaf=2 \n",
      "[CV]  max_features=sqrt, n_estimators=250, max_depth=85, bootstrap=True, min_samples_split=7, min_samples_leaf=2, total=   6.5s\n",
      "[CV] max_features=sqrt, n_estimators=250, max_depth=85, bootstrap=True, min_samples_split=7, min_samples_leaf=2 \n",
      "[CV]  max_features=sqrt, n_estimators=750, max_depth=85, bootstrap=True, min_samples_split=5, min_samples_leaf=2, total=  19.9s\n",
      "[CV] max_features=sqrt, n_estimators=250, max_depth=85, bootstrap=True, min_samples_split=7, min_samples_leaf=2 \n",
      "[CV]  max_features=sqrt, n_estimators=750, max_depth=85, bootstrap=True, min_samples_split=5, min_samples_leaf=2, total=  19.2s\n",
      "[CV] max_features=sqrt, n_estimators=500, max_depth=85, bootstrap=True, min_samples_split=7, min_samples_leaf=2 \n",
      "[CV]  max_features=sqrt, n_estimators=250, max_depth=85, bootstrap=True, min_samples_split=7, min_samples_leaf=2, total=   6.6s\n",
      "[CV] max_features=sqrt, n_estimators=500, max_depth=85, bootstrap=True, min_samples_split=7, min_samples_leaf=2 \n",
      "[CV]  max_features=sqrt, n_estimators=250, max_depth=85, bootstrap=True, min_samples_split=7, min_samples_leaf=2, total=   6.4s\n",
      "[CV] max_features=sqrt, n_estimators=500, max_depth=85, bootstrap=True, min_samples_split=7, min_samples_leaf=2 \n",
      "[CV]  max_features=sqrt, n_estimators=750, max_depth=85, bootstrap=True, min_samples_split=5, min_samples_leaf=2, total=  19.3s\n",
      "[CV] max_features=sqrt, n_estimators=750, max_depth=85, bootstrap=True, min_samples_split=7, min_samples_leaf=2 \n",
      "[CV]  max_features=sqrt, n_estimators=500, max_depth=85, bootstrap=True, min_samples_split=7, min_samples_leaf=2, total=  12.9s\n",
      "[CV] max_features=sqrt, n_estimators=750, max_depth=85, bootstrap=True, min_samples_split=7, min_samples_leaf=2 \n",
      "[CV]  max_features=sqrt, n_estimators=500, max_depth=85, bootstrap=True, min_samples_split=7, min_samples_leaf=2, total=  12.6s\n",
      "[CV] max_features=sqrt, n_estimators=750, max_depth=85, bootstrap=True, min_samples_split=7, min_samples_leaf=2 \n",
      "[CV]  max_features=sqrt, n_estimators=500, max_depth=85, bootstrap=True, min_samples_split=7, min_samples_leaf=2, total=  13.2s\n",
      "[CV] max_features=sqrt, n_estimators=250, max_depth=85, bootstrap=True, min_samples_split=5, min_samples_leaf=5 \n",
      "[CV]  max_features=sqrt, n_estimators=250, max_depth=85, bootstrap=True, min_samples_split=5, min_samples_leaf=5, total=   5.6s\n",
      "[CV] max_features=sqrt, n_estimators=250, max_depth=85, bootstrap=True, min_samples_split=5, min_samples_leaf=5 \n",
      "[CV]  max_features=sqrt, n_estimators=250, max_depth=85, bootstrap=True, min_samples_split=5, min_samples_leaf=5, total=   5.9s\n",
      "[CV] max_features=sqrt, n_estimators=250, max_depth=85, bootstrap=True, min_samples_split=5, min_samples_leaf=5 \n",
      "[CV]  max_features=sqrt, n_estimators=750, max_depth=85, bootstrap=True, min_samples_split=7, min_samples_leaf=2, total=  19.9s\n",
      "[CV] max_features=sqrt, n_estimators=500, max_depth=85, bootstrap=True, min_samples_split=5, min_samples_leaf=5 \n",
      "[CV]  max_features=sqrt, n_estimators=250, max_depth=85, bootstrap=True, min_samples_split=5, min_samples_leaf=5, total=   5.5s\n",
      "[CV] max_features=sqrt, n_estimators=500, max_depth=85, bootstrap=True, min_samples_split=5, min_samples_leaf=5 \n",
      "[CV]  max_features=sqrt, n_estimators=750, max_depth=85, bootstrap=True, min_samples_split=7, min_samples_leaf=2, total=  18.7s\n",
      "[CV] max_features=sqrt, n_estimators=500, max_depth=85, bootstrap=True, min_samples_split=5, min_samples_leaf=5 \n",
      "[CV]  max_features=sqrt, n_estimators=750, max_depth=85, bootstrap=True, min_samples_split=7, min_samples_leaf=2, total=  19.7s\n",
      "[CV] max_features=sqrt, n_estimators=750, max_depth=85, bootstrap=True, min_samples_split=5, min_samples_leaf=5 \n",
      "[CV]  max_features=sqrt, n_estimators=500, max_depth=85, bootstrap=True, min_samples_split=5, min_samples_leaf=5, total=  11.6s\n",
      "[CV] max_features=sqrt, n_estimators=750, max_depth=85, bootstrap=True, min_samples_split=5, min_samples_leaf=5 \n",
      "[CV]  max_features=sqrt, n_estimators=500, max_depth=85, bootstrap=True, min_samples_split=5, min_samples_leaf=5, total=  11.3s\n",
      "[CV] max_features=sqrt, n_estimators=750, max_depth=85, bootstrap=True, min_samples_split=5, min_samples_leaf=5 \n",
      "[CV]  max_features=sqrt, n_estimators=500, max_depth=85, bootstrap=True, min_samples_split=5, min_samples_leaf=5, total=  11.4s\n",
      "[CV] max_features=sqrt, n_estimators=250, max_depth=85, bootstrap=True, min_samples_split=7, min_samples_leaf=5 \n",
      "[CV]  max_features=sqrt, n_estimators=250, max_depth=85, bootstrap=True, min_samples_split=7, min_samples_leaf=5, total=   5.6s\n",
      "[CV] max_features=sqrt, n_estimators=250, max_depth=85, bootstrap=True, min_samples_split=7, min_samples_leaf=5 \n",
      "[CV]  max_features=sqrt, n_estimators=750, max_depth=85, bootstrap=True, min_samples_split=5, min_samples_leaf=5, total=  17.5s\n",
      "[CV] max_features=sqrt, n_estimators=250, max_depth=85, bootstrap=True, min_samples_split=7, min_samples_leaf=5 \n",
      "[CV]  max_features=sqrt, n_estimators=250, max_depth=85, bootstrap=True, min_samples_split=7, min_samples_leaf=5, total=   5.6s\n",
      "[CV] max_features=sqrt, n_estimators=500, max_depth=85, bootstrap=True, min_samples_split=7, min_samples_leaf=5 \n",
      "[CV]  max_features=sqrt, n_estimators=750, max_depth=85, bootstrap=True, min_samples_split=5, min_samples_leaf=5, total=  17.4s\n",
      "[CV] max_features=sqrt, n_estimators=500, max_depth=85, bootstrap=True, min_samples_split=7, min_samples_leaf=5 \n",
      "[CV]  max_features=sqrt, n_estimators=250, max_depth=85, bootstrap=True, min_samples_split=7, min_samples_leaf=5, total=   5.6s\n",
      "[CV] max_features=sqrt, n_estimators=500, max_depth=85, bootstrap=True, min_samples_split=7, min_samples_leaf=5 \n",
      "[CV]  max_features=sqrt, n_estimators=750, max_depth=85, bootstrap=True, min_samples_split=5, min_samples_leaf=5, total=  17.5s\n",
      "[CV] max_features=sqrt, n_estimators=750, max_depth=85, bootstrap=True, min_samples_split=7, min_samples_leaf=5 \n",
      "[CV]  max_features=sqrt, n_estimators=500, max_depth=85, bootstrap=True, min_samples_split=7, min_samples_leaf=5, total=  11.5s\n",
      "[CV] max_features=sqrt, n_estimators=750, max_depth=85, bootstrap=True, min_samples_split=7, min_samples_leaf=5 \n",
      "[CV]  max_features=sqrt, n_estimators=500, max_depth=85, bootstrap=True, min_samples_split=7, min_samples_leaf=5, total=  11.3s\n",
      "[CV] max_features=sqrt, n_estimators=750, max_depth=85, bootstrap=True, min_samples_split=7, min_samples_leaf=5 \n"
     ]
    },
    {
     "name": "stdout",
     "output_type": "stream",
     "text": [
      "[CV]  max_features=sqrt, n_estimators=500, max_depth=85, bootstrap=True, min_samples_split=7, min_samples_leaf=5, total=  11.0s\n",
      "[CV] max_features=sqrt, n_estimators=250, max_depth=100, bootstrap=True, min_samples_split=5, min_samples_leaf=2 \n"
     ]
    },
    {
     "name": "stderr",
     "output_type": "stream",
     "text": [
      "[Parallel(n_jobs=-1)]: Done  33 tasks      | elapsed:  1.7min\n"
     ]
    },
    {
     "name": "stdout",
     "output_type": "stream",
     "text": [
      "[CV]  max_features=sqrt, n_estimators=250, max_depth=100, bootstrap=True, min_samples_split=5, min_samples_leaf=2, total=   6.5s\n",
      "[CV] max_features=sqrt, n_estimators=250, max_depth=100, bootstrap=True, min_samples_split=5, min_samples_leaf=2 \n",
      "[CV]  max_features=sqrt, n_estimators=750, max_depth=85, bootstrap=True, min_samples_split=7, min_samples_leaf=5, total=  17.3s\n",
      "[CV] max_features=sqrt, n_estimators=250, max_depth=100, bootstrap=True, min_samples_split=5, min_samples_leaf=2 \n",
      "[CV]  max_features=sqrt, n_estimators=250, max_depth=100, bootstrap=True, min_samples_split=5, min_samples_leaf=2, total=   6.5s\n",
      "[CV] max_features=sqrt, n_estimators=500, max_depth=100, bootstrap=True, min_samples_split=5, min_samples_leaf=2 \n",
      "[CV]  max_features=sqrt, n_estimators=750, max_depth=85, bootstrap=True, min_samples_split=7, min_samples_leaf=5, total=  16.8s\n",
      "[CV] max_features=sqrt, n_estimators=500, max_depth=100, bootstrap=True, min_samples_split=5, min_samples_leaf=2 \n",
      "[CV]  max_features=sqrt, n_estimators=250, max_depth=100, bootstrap=True, min_samples_split=5, min_samples_leaf=2, total=   6.2s\n",
      "[CV] max_features=sqrt, n_estimators=500, max_depth=100, bootstrap=True, min_samples_split=5, min_samples_leaf=2 \n",
      "[CV]  max_features=sqrt, n_estimators=750, max_depth=85, bootstrap=True, min_samples_split=7, min_samples_leaf=5, total=  17.5s\n",
      "[CV] max_features=sqrt, n_estimators=750, max_depth=100, bootstrap=True, min_samples_split=5, min_samples_leaf=2 \n",
      "[CV]  max_features=sqrt, n_estimators=500, max_depth=100, bootstrap=True, min_samples_split=5, min_samples_leaf=2, total=  12.9s\n",
      "[CV] max_features=sqrt, n_estimators=750, max_depth=100, bootstrap=True, min_samples_split=5, min_samples_leaf=2 \n",
      "[CV]  max_features=sqrt, n_estimators=500, max_depth=100, bootstrap=True, min_samples_split=5, min_samples_leaf=2, total=  12.7s\n",
      "[CV] max_features=sqrt, n_estimators=750, max_depth=100, bootstrap=True, min_samples_split=5, min_samples_leaf=2 \n",
      "[CV]  max_features=sqrt, n_estimators=500, max_depth=100, bootstrap=True, min_samples_split=5, min_samples_leaf=2, total=  12.8s\n",
      "[CV] max_features=sqrt, n_estimators=250, max_depth=100, bootstrap=True, min_samples_split=7, min_samples_leaf=2 \n",
      "[CV]  max_features=sqrt, n_estimators=250, max_depth=100, bootstrap=True, min_samples_split=7, min_samples_leaf=2, total=   6.3s\n",
      "[CV] max_features=sqrt, n_estimators=250, max_depth=100, bootstrap=True, min_samples_split=7, min_samples_leaf=2 \n",
      "[CV]  max_features=sqrt, n_estimators=750, max_depth=100, bootstrap=True, min_samples_split=5, min_samples_leaf=2, total=  19.7s\n",
      "[CV] max_features=sqrt, n_estimators=250, max_depth=100, bootstrap=True, min_samples_split=7, min_samples_leaf=2 \n",
      "[CV]  max_features=sqrt, n_estimators=250, max_depth=100, bootstrap=True, min_samples_split=7, min_samples_leaf=2, total=   6.5s\n",
      "[CV] max_features=sqrt, n_estimators=500, max_depth=100, bootstrap=True, min_samples_split=7, min_samples_leaf=2 \n",
      "[CV]  max_features=sqrt, n_estimators=250, max_depth=100, bootstrap=True, min_samples_split=7, min_samples_leaf=2, total=   6.4s\n",
      "[CV] max_features=sqrt, n_estimators=500, max_depth=100, bootstrap=True, min_samples_split=7, min_samples_leaf=2 \n",
      "[CV]  max_features=sqrt, n_estimators=750, max_depth=100, bootstrap=True, min_samples_split=5, min_samples_leaf=2, total=  19.4s\n",
      "[CV] max_features=sqrt, n_estimators=500, max_depth=100, bootstrap=True, min_samples_split=7, min_samples_leaf=2 \n",
      "[CV]  max_features=sqrt, n_estimators=750, max_depth=100, bootstrap=True, min_samples_split=5, min_samples_leaf=2, total=  18.9s\n",
      "[CV] max_features=sqrt, n_estimators=750, max_depth=100, bootstrap=True, min_samples_split=7, min_samples_leaf=2 \n",
      "[CV]  max_features=sqrt, n_estimators=500, max_depth=100, bootstrap=True, min_samples_split=7, min_samples_leaf=2, total=  12.8s\n",
      "[CV] max_features=sqrt, n_estimators=750, max_depth=100, bootstrap=True, min_samples_split=7, min_samples_leaf=2 \n",
      "[CV]  max_features=sqrt, n_estimators=500, max_depth=100, bootstrap=True, min_samples_split=7, min_samples_leaf=2, total=  12.9s\n",
      "[CV] max_features=sqrt, n_estimators=750, max_depth=100, bootstrap=True, min_samples_split=7, min_samples_leaf=2 \n",
      "[CV]  max_features=sqrt, n_estimators=500, max_depth=100, bootstrap=True, min_samples_split=7, min_samples_leaf=2, total=  12.4s\n",
      "[CV] max_features=sqrt, n_estimators=250, max_depth=100, bootstrap=True, min_samples_split=5, min_samples_leaf=5 \n",
      "[CV]  max_features=sqrt, n_estimators=250, max_depth=100, bootstrap=True, min_samples_split=5, min_samples_leaf=5, total=   5.8s\n",
      "[CV] max_features=sqrt, n_estimators=250, max_depth=100, bootstrap=True, min_samples_split=5, min_samples_leaf=5 \n",
      "[CV]  max_features=sqrt, n_estimators=750, max_depth=100, bootstrap=True, min_samples_split=7, min_samples_leaf=2, total=  19.4s\n",
      "[CV] max_features=sqrt, n_estimators=250, max_depth=100, bootstrap=True, min_samples_split=5, min_samples_leaf=5 \n",
      "[CV]  max_features=sqrt, n_estimators=250, max_depth=100, bootstrap=True, min_samples_split=5, min_samples_leaf=5, total=   5.6s\n",
      "[CV] max_features=sqrt, n_estimators=500, max_depth=100, bootstrap=True, min_samples_split=5, min_samples_leaf=5 \n",
      "[CV]  max_features=sqrt, n_estimators=250, max_depth=100, bootstrap=True, min_samples_split=5, min_samples_leaf=5, total=   5.8s\n",
      "[CV] max_features=sqrt, n_estimators=500, max_depth=100, bootstrap=True, min_samples_split=5, min_samples_leaf=5 \n",
      "[CV]  max_features=sqrt, n_estimators=750, max_depth=100, bootstrap=True, min_samples_split=7, min_samples_leaf=2, total=  19.5s\n",
      "[CV] max_features=sqrt, n_estimators=500, max_depth=100, bootstrap=True, min_samples_split=5, min_samples_leaf=5 \n",
      "[CV]  max_features=sqrt, n_estimators=750, max_depth=100, bootstrap=True, min_samples_split=7, min_samples_leaf=2, total=  19.1s\n",
      "[CV] max_features=sqrt, n_estimators=750, max_depth=100, bootstrap=True, min_samples_split=5, min_samples_leaf=5 \n",
      "[CV]  max_features=sqrt, n_estimators=500, max_depth=100, bootstrap=True, min_samples_split=5, min_samples_leaf=5, total=  11.5s\n",
      "[CV] max_features=sqrt, n_estimators=750, max_depth=100, bootstrap=True, min_samples_split=5, min_samples_leaf=5 \n",
      "[CV]  max_features=sqrt, n_estimators=500, max_depth=100, bootstrap=True, min_samples_split=5, min_samples_leaf=5, total=  11.9s\n",
      "[CV] max_features=sqrt, n_estimators=750, max_depth=100, bootstrap=True, min_samples_split=5, min_samples_leaf=5 \n",
      "[CV]  max_features=sqrt, n_estimators=500, max_depth=100, bootstrap=True, min_samples_split=5, min_samples_leaf=5, total=  11.3s\n",
      "[CV] max_features=sqrt, n_estimators=250, max_depth=100, bootstrap=True, min_samples_split=7, min_samples_leaf=5 \n",
      "[CV]  max_features=sqrt, n_estimators=250, max_depth=100, bootstrap=True, min_samples_split=7, min_samples_leaf=5, total=   5.8s\n",
      "[CV] max_features=sqrt, n_estimators=250, max_depth=100, bootstrap=True, min_samples_split=7, min_samples_leaf=5 \n",
      "[CV]  max_features=sqrt, n_estimators=750, max_depth=100, bootstrap=True, min_samples_split=5, min_samples_leaf=5, total=  17.3s\n",
      "[CV] max_features=sqrt, n_estimators=250, max_depth=100, bootstrap=True, min_samples_split=7, min_samples_leaf=5 \n",
      "[CV]  max_features=sqrt, n_estimators=250, max_depth=100, bootstrap=True, min_samples_split=7, min_samples_leaf=5, total=   5.9s\n",
      "[CV] max_features=sqrt, n_estimators=500, max_depth=100, bootstrap=True, min_samples_split=7, min_samples_leaf=5 \n",
      "[CV]  max_features=sqrt, n_estimators=750, max_depth=100, bootstrap=True, min_samples_split=5, min_samples_leaf=5, total=  17.0s\n",
      "[CV] max_features=sqrt, n_estimators=500, max_depth=100, bootstrap=True, min_samples_split=7, min_samples_leaf=5 \n",
      "[CV]  max_features=sqrt, n_estimators=250, max_depth=100, bootstrap=True, min_samples_split=7, min_samples_leaf=5, total=   5.6s\n",
      "[CV] max_features=sqrt, n_estimators=500, max_depth=100, bootstrap=True, min_samples_split=7, min_samples_leaf=5 \n",
      "[CV]  max_features=sqrt, n_estimators=750, max_depth=100, bootstrap=True, min_samples_split=5, min_samples_leaf=5, total=  16.7s\n",
      "[CV] max_features=sqrt, n_estimators=750, max_depth=100, bootstrap=True, min_samples_split=7, min_samples_leaf=5 \n",
      "[CV]  max_features=sqrt, n_estimators=500, max_depth=100, bootstrap=True, min_samples_split=7, min_samples_leaf=5, total=  11.3s\n",
      "[CV] max_features=sqrt, n_estimators=750, max_depth=100, bootstrap=True, min_samples_split=7, min_samples_leaf=5 \n"
     ]
    },
    {
     "name": "stdout",
     "output_type": "stream",
     "text": [
      "[CV]  max_features=sqrt, n_estimators=500, max_depth=100, bootstrap=True, min_samples_split=7, min_samples_leaf=5, total=  11.5s\n",
      "[CV] max_features=sqrt, n_estimators=750, max_depth=100, bootstrap=True, min_samples_split=7, min_samples_leaf=5 \n",
      "[CV]  max_features=sqrt, n_estimators=500, max_depth=100, bootstrap=True, min_samples_split=7, min_samples_leaf=5, total=  11.5s\n",
      "[CV]  max_features=sqrt, n_estimators=750, max_depth=100, bootstrap=True, min_samples_split=7, min_samples_leaf=5, total=  16.8s\n",
      "[CV]  max_features=sqrt, n_estimators=750, max_depth=100, bootstrap=True, min_samples_split=7, min_samples_leaf=5, total=  11.8s\n",
      "[CV]  max_features=sqrt, n_estimators=750, max_depth=100, bootstrap=True, min_samples_split=7, min_samples_leaf=5, total=  13.1s\n"
     ]
    },
    {
     "name": "stderr",
     "output_type": "stream",
     "text": [
      "[Parallel(n_jobs=-1)]: Done  72 out of  72 | elapsed:  3.7min finished\n"
     ]
    },
    {
     "data": {
      "text/plain": [
       "GridSearchCV(cv=3, error_score='raise',\n",
       "       estimator=RandomForestRegressor(bootstrap=True, criterion='mae', max_depth=None,\n",
       "           max_features='auto', max_leaf_nodes=None,\n",
       "           min_impurity_decrease=0.0, min_impurity_split=None,\n",
       "           min_samples_leaf=1, min_samples_split=2,\n",
       "           min_weight_fraction_leaf=0.0, n_estimators=10, n_jobs=1,\n",
       "           oob_score=False, random_state=42, verbose=0, warm_start=False),\n",
       "       fit_params=None, iid=True, n_jobs=-1,\n",
       "       param_grid={'max_features': ['sqrt'], 'n_estimators': [250, 500, 750], 'max_depth': [85, 100], 'bootstrap': [True], 'min_samples_split': [5, 7], 'min_samples_leaf': [2, 5]},\n",
       "       pre_dispatch='2*n_jobs', refit=True, return_train_score='warn',\n",
       "       scoring='neg_mean_absolute_error', verbose=2)"
      ]
     },
     "execution_count": 98,
     "metadata": {},
     "output_type": "execute_result"
    }
   ],
   "source": [
    "grid_rf_nonv.fit(X_m_s_train_norm, target_nonv_train)"
   ]
  },
  {
   "cell_type": "code",
   "execution_count": 100,
   "metadata": {},
   "outputs": [
    {
     "data": {
      "text/plain": [
       "-1295.5017775732529"
      ]
     },
     "execution_count": 100,
     "metadata": {},
     "output_type": "execute_result"
    }
   ],
   "source": [
    "grid_rf_nonv.best_score_"
   ]
  },
  {
   "cell_type": "code",
   "execution_count": 101,
   "metadata": {},
   "outputs": [
    {
     "data": {
      "text/plain": [
       "{'bootstrap': True,\n",
       " 'max_depth': 85,\n",
       " 'max_features': 'sqrt',\n",
       " 'min_samples_leaf': 2,\n",
       " 'min_samples_split': 5,\n",
       " 'n_estimators': 500}"
      ]
     },
     "execution_count": 101,
     "metadata": {},
     "output_type": "execute_result"
    }
   ],
   "source": [
    "grid_rf_nonv.best_params_"
   ]
  },
  {
   "cell_type": "code",
   "execution_count": 103,
   "metadata": {},
   "outputs": [
    {
     "data": {
      "text/plain": [
       "1305.806011085814"
      ]
     },
     "execution_count": 103,
     "metadata": {},
     "output_type": "execute_result"
    }
   ],
   "source": [
    "mean_absolute_error(target_nonv_test, grid_rf_nonv.best_estimator_.predict(X_m_s_test_norm))"
   ]
  },
  {
   "cell_type": "code",
   "execution_count": 104,
   "metadata": {},
   "outputs": [
    {
     "data": {
      "text/plain": [
       "{'bootstrap': [True],\n",
       " 'max_depth': [90, 95, 100],\n",
       " 'max_features': ['sqrt'],\n",
       " 'min_samples_leaf': [2],\n",
       " 'min_samples_split': [5],\n",
       " 'n_estimators': [500, 510, 520]}"
      ]
     },
     "execution_count": 104,
     "metadata": {},
     "output_type": "execute_result"
    }
   ],
   "source": [
    "grid_rf_params_nonv_2 = {'bootstrap': [True],\n",
    " 'max_depth' : [90, 95, 100],\n",
    " 'max_features':['sqrt'],\n",
    " 'min_samples_leaf' : [2,],\n",
    " 'min_samples_split': [5],\n",
    " 'n_estimators': [500, 510, 520]}\n",
    "grid_rf_params_nonv_2"
   ]
  },
  {
   "cell_type": "code",
   "execution_count": 107,
   "metadata": {},
   "outputs": [],
   "source": [
    "grid_rf_nonv_2 = GridSearchCV(rfreg, grid_rf_params_nonv_2, scoring = 'neg_mean_absolute_error', cv = 3, verbose=2, n_jobs = -1)"
   ]
  },
  {
   "cell_type": "code",
   "execution_count": 108,
   "metadata": {},
   "outputs": [
    {
     "name": "stdout",
     "output_type": "stream",
     "text": [
      "Fitting 3 folds for each of 9 candidates, totalling 27 fits\n",
      "[CV] max_features=sqrt, n_estimators=500, max_depth=90, bootstrap=True, min_samples_split=5, min_samples_leaf=2 \n",
      "[CV] max_features=sqrt, n_estimators=500, max_depth=90, bootstrap=True, min_samples_split=5, min_samples_leaf=2 \n",
      "[CV] max_features=sqrt, n_estimators=500, max_depth=90, bootstrap=True, min_samples_split=5, min_samples_leaf=2 \n",
      "[CV] max_features=sqrt, n_estimators=510, max_depth=90, bootstrap=True, min_samples_split=5, min_samples_leaf=2 \n",
      "[CV]  max_features=sqrt, n_estimators=500, max_depth=90, bootstrap=True, min_samples_split=5, min_samples_leaf=2, total=  12.6s\n",
      "[CV] max_features=sqrt, n_estimators=510, max_depth=90, bootstrap=True, min_samples_split=5, min_samples_leaf=2 \n",
      "[CV]  max_features=sqrt, n_estimators=500, max_depth=90, bootstrap=True, min_samples_split=5, min_samples_leaf=2, total=  13.0s\n",
      "[CV] max_features=sqrt, n_estimators=510, max_depth=90, bootstrap=True, min_samples_split=5, min_samples_leaf=2 \n",
      "[CV]  max_features=sqrt, n_estimators=500, max_depth=90, bootstrap=True, min_samples_split=5, min_samples_leaf=2, total=  13.0s\n",
      "[CV] max_features=sqrt, n_estimators=520, max_depth=90, bootstrap=True, min_samples_split=5, min_samples_leaf=2 \n",
      "[CV]  max_features=sqrt, n_estimators=510, max_depth=90, bootstrap=True, min_samples_split=5, min_samples_leaf=2, total=  13.4s\n",
      "[CV] max_features=sqrt, n_estimators=520, max_depth=90, bootstrap=True, min_samples_split=5, min_samples_leaf=2 \n",
      "[CV]  max_features=sqrt, n_estimators=510, max_depth=90, bootstrap=True, min_samples_split=5, min_samples_leaf=2, total=  13.0s\n",
      "[CV]  max_features=sqrt, n_estimators=510, max_depth=90, bootstrap=True, min_samples_split=5, min_samples_leaf=2, total=  13.4s\n",
      "[CV] max_features=sqrt, n_estimators=520, max_depth=90, bootstrap=True, min_samples_split=5, min_samples_leaf=2 \n",
      "[CV] max_features=sqrt, n_estimators=500, max_depth=95, bootstrap=True, min_samples_split=5, min_samples_leaf=2 \n",
      "[CV]  max_features=sqrt, n_estimators=520, max_depth=90, bootstrap=True, min_samples_split=5, min_samples_leaf=2, total=  13.3s\n",
      "[CV] max_features=sqrt, n_estimators=500, max_depth=95, bootstrap=True, min_samples_split=5, min_samples_leaf=2 \n",
      "[CV]  max_features=sqrt, n_estimators=520, max_depth=90, bootstrap=True, min_samples_split=5, min_samples_leaf=2, total=  13.5s\n",
      "[CV] max_features=sqrt, n_estimators=500, max_depth=95, bootstrap=True, min_samples_split=5, min_samples_leaf=2 \n",
      "[CV]  max_features=sqrt, n_estimators=500, max_depth=95, bootstrap=True, min_samples_split=5, min_samples_leaf=2, total=  13.2s\n",
      "[CV] max_features=sqrt, n_estimators=510, max_depth=95, bootstrap=True, min_samples_split=5, min_samples_leaf=2 \n",
      "[CV]  max_features=sqrt, n_estimators=520, max_depth=90, bootstrap=True, min_samples_split=5, min_samples_leaf=2, total=  13.3s\n",
      "[CV] max_features=sqrt, n_estimators=510, max_depth=95, bootstrap=True, min_samples_split=5, min_samples_leaf=2 \n",
      "[CV]  max_features=sqrt, n_estimators=500, max_depth=95, bootstrap=True, min_samples_split=5, min_samples_leaf=2, total=  12.7s\n",
      "[CV] max_features=sqrt, n_estimators=510, max_depth=95, bootstrap=True, min_samples_split=5, min_samples_leaf=2 \n",
      "[CV]  max_features=sqrt, n_estimators=500, max_depth=95, bootstrap=True, min_samples_split=5, min_samples_leaf=2, total=  13.3s\n",
      "[CV] max_features=sqrt, n_estimators=520, max_depth=95, bootstrap=True, min_samples_split=5, min_samples_leaf=2 \n",
      "[CV]  max_features=sqrt, n_estimators=510, max_depth=95, bootstrap=True, min_samples_split=5, min_samples_leaf=2, total=  13.7s\n",
      "[CV] max_features=sqrt, n_estimators=520, max_depth=95, bootstrap=True, min_samples_split=5, min_samples_leaf=2 \n",
      "[CV]  max_features=sqrt, n_estimators=510, max_depth=95, bootstrap=True, min_samples_split=5, min_samples_leaf=2, total=  13.4s\n",
      "[CV] max_features=sqrt, n_estimators=520, max_depth=95, bootstrap=True, min_samples_split=5, min_samples_leaf=2 \n",
      "[CV]  max_features=sqrt, n_estimators=510, max_depth=95, bootstrap=True, min_samples_split=5, min_samples_leaf=2, total=  14.0s\n",
      "[CV] max_features=sqrt, n_estimators=500, max_depth=100, bootstrap=True, min_samples_split=5, min_samples_leaf=2 \n",
      "[CV]  max_features=sqrt, n_estimators=520, max_depth=95, bootstrap=True, min_samples_split=5, min_samples_leaf=2, total=  14.4s\n",
      "[CV] max_features=sqrt, n_estimators=500, max_depth=100, bootstrap=True, min_samples_split=5, min_samples_leaf=2 \n",
      "[CV]  max_features=sqrt, n_estimators=500, max_depth=100, bootstrap=True, min_samples_split=5, min_samples_leaf=2, total=  12.8s\n",
      "[CV] max_features=sqrt, n_estimators=500, max_depth=100, bootstrap=True, min_samples_split=5, min_samples_leaf=2 \n",
      "[CV]  max_features=sqrt, n_estimators=520, max_depth=95, bootstrap=True, min_samples_split=5, min_samples_leaf=2, total=  13.5s\n",
      "[CV] max_features=sqrt, n_estimators=510, max_depth=100, bootstrap=True, min_samples_split=5, min_samples_leaf=2 \n",
      "[CV]  max_features=sqrt, n_estimators=520, max_depth=95, bootstrap=True, min_samples_split=5, min_samples_leaf=2, total=  13.3s\n",
      "[CV] max_features=sqrt, n_estimators=510, max_depth=100, bootstrap=True, min_samples_split=5, min_samples_leaf=2 \n",
      "[CV]  max_features=sqrt, n_estimators=500, max_depth=100, bootstrap=True, min_samples_split=5, min_samples_leaf=2, total=  13.0s\n",
      "[CV] max_features=sqrt, n_estimators=510, max_depth=100, bootstrap=True, min_samples_split=5, min_samples_leaf=2 \n",
      "[CV]  max_features=sqrt, n_estimators=500, max_depth=100, bootstrap=True, min_samples_split=5, min_samples_leaf=2, total=  12.8s\n",
      "[CV] max_features=sqrt, n_estimators=520, max_depth=100, bootstrap=True, min_samples_split=5, min_samples_leaf=2 \n",
      "[CV]  max_features=sqrt, n_estimators=510, max_depth=100, bootstrap=True, min_samples_split=5, min_samples_leaf=2, total=  13.1s\n",
      "[CV] max_features=sqrt, n_estimators=520, max_depth=100, bootstrap=True, min_samples_split=5, min_samples_leaf=2 \n",
      "[CV]  max_features=sqrt, n_estimators=510, max_depth=100, bootstrap=True, min_samples_split=5, min_samples_leaf=2, total=  13.2s\n",
      "[CV] max_features=sqrt, n_estimators=520, max_depth=100, bootstrap=True, min_samples_split=5, min_samples_leaf=2 \n",
      "[CV]  max_features=sqrt, n_estimators=510, max_depth=100, bootstrap=True, min_samples_split=5, min_samples_leaf=2, total=  13.0s\n",
      "[CV]  max_features=sqrt, n_estimators=520, max_depth=100, bootstrap=True, min_samples_split=5, min_samples_leaf=2, total=   8.5s\n",
      "[CV]  max_features=sqrt, n_estimators=520, max_depth=100, bootstrap=True, min_samples_split=5, min_samples_leaf=2, total=  12.0s\n",
      "[CV]  max_features=sqrt, n_estimators=520, max_depth=100, bootstrap=True, min_samples_split=5, min_samples_leaf=2, total=  11.8s\n"
     ]
    },
    {
     "name": "stderr",
     "output_type": "stream",
     "text": [
      "[Parallel(n_jobs=-1)]: Done  27 out of  27 | elapsed:  1.5min finished\n"
     ]
    },
    {
     "data": {
      "text/plain": [
       "GridSearchCV(cv=3, error_score='raise',\n",
       "       estimator=RandomForestRegressor(bootstrap=True, criterion='mae', max_depth=None,\n",
       "           max_features='auto', max_leaf_nodes=None,\n",
       "           min_impurity_decrease=0.0, min_impurity_split=None,\n",
       "           min_samples_leaf=1, min_samples_split=2,\n",
       "           min_weight_fraction_leaf=0.0, n_estimators=10, n_jobs=1,\n",
       "           oob_score=False, random_state=42, verbose=0, warm_start=False),\n",
       "       fit_params=None, iid=True, n_jobs=-1,\n",
       "       param_grid={'max_features': ['sqrt'], 'n_estimators': [500, 510, 520], 'max_depth': [90, 95, 100], 'bootstrap': [True], 'min_samples_split': [5], 'min_samples_leaf': [2]},\n",
       "       pre_dispatch='2*n_jobs', refit=True, return_train_score='warn',\n",
       "       scoring='neg_mean_absolute_error', verbose=2)"
      ]
     },
     "execution_count": 108,
     "metadata": {},
     "output_type": "execute_result"
    }
   ],
   "source": [
    "grid_rf_nonv_2.fit(X_m_s_train_norm, target_nonv_train)"
   ]
  },
  {
   "cell_type": "code",
   "execution_count": 109,
   "metadata": {},
   "outputs": [
    {
     "data": {
      "text/plain": [
       "-1295.5017775732529"
      ]
     },
     "execution_count": 109,
     "metadata": {},
     "output_type": "execute_result"
    }
   ],
   "source": [
    "grid_rf_nonv_2.best_score_"
   ]
  },
  {
   "cell_type": "code",
   "execution_count": 110,
   "metadata": {},
   "outputs": [
    {
     "data": {
      "text/plain": [
       "{'bootstrap': True,\n",
       " 'max_depth': 90,\n",
       " 'max_features': 'sqrt',\n",
       " 'min_samples_leaf': 2,\n",
       " 'min_samples_split': 5,\n",
       " 'n_estimators': 500}"
      ]
     },
     "execution_count": 110,
     "metadata": {},
     "output_type": "execute_result"
    }
   ],
   "source": [
    "grid_rf_nonv_2.best_params_"
   ]
  },
  {
   "cell_type": "code",
   "execution_count": 111,
   "metadata": {},
   "outputs": [
    {
     "data": {
      "text/plain": [
       "1305.806011085814"
      ]
     },
     "execution_count": 111,
     "metadata": {},
     "output_type": "execute_result"
    }
   ],
   "source": [
    "mean_absolute_error(target_nonv_test, grid_rf_nonv_2.best_estimator_.predict(X_m_s_test_norm))"
   ]
  },
  {
   "cell_type": "code",
   "execution_count": 92,
   "metadata": {},
   "outputs": [],
   "source": [
    "best_rf_nonv = RandomForestRegressor(bootstrap = True, max_depth = 90, max_features = 'sqrt', min_samples_leaf = 2, min_samples_split = 5, n_estimators = 500, criterion = 'mae', random_state = RANDOM_STATE)"
   ]
  },
  {
   "cell_type": "code",
   "execution_count": 93,
   "metadata": {},
   "outputs": [
    {
     "data": {
      "image/png": "[encoded data removed]",
      "text/plain": [
       "<Figure size 432x288 with 1 Axes>"
      ]
     },
     "metadata": {},
     "output_type": "display_data"
    }
   ],
   "source": [
    "plotter(X_m_s_train_norm, X_m_s_test_norm, target_nonv_train, target_nonv_test, best_rf_nonv, 'RF', -100, 15000)"
   ]
  },
  {
   "cell_type": "code",
   "execution_count": 94,
   "metadata": {
    "scrolled": true
   },
   "outputs": [
    {
     "data": {
      "text/plain": [
       "RandomForestRegressor(bootstrap=True, criterion='mae', max_depth=90,\n",
       "           max_features='sqrt', max_leaf_nodes=None,\n",
       "           min_impurity_decrease=0.0, min_impurity_split=None,\n",
       "           min_samples_leaf=2, min_samples_split=5,\n",
       "           min_weight_fraction_leaf=0.0, n_estimators=500, n_jobs=None,\n",
       "           oob_score=False, random_state=42, verbose=0, warm_start=False)"
      ]
     },
     "execution_count": 94,
     "metadata": {},
     "output_type": "execute_result"
    }
   ],
   "source": [
    "best_rf_nonv.fit(X_m_s_train_norm, target_nonv_train)"
   ]
  },
  {
   "cell_type": "code",
   "execution_count": 95,
   "metadata": {},
   "outputs": [
    {
     "data": {
      "text/plain": [
       "[(0.010132019716074168, 'NumKindsDrugsSeiz'),\n",
       " (0.013966676310488828, 'LemasSwornFT'),\n",
       " (0.05274215142604762, 'NumInShelters'),\n",
       " (0.05797817997383664, 'PctBSorMore'),\n",
       " (0.05897617404976898, 'NumStreet'),\n",
       " (0.059079421046327546, 'agePct12t29'),\n",
       " (0.05953308562908847, 'PctImmigRec10'),\n",
       " (0.06357431173589176, 'MedRent'),\n",
       " (0.06523437731624519, 'PctUnemployed'),\n",
       " (0.06675956639131136, 'perCapInc'),\n",
       " (0.12419239906475998, 'racePctWhite'),\n",
       " (0.14910334535576805, 'PctPopUnderPov'),\n",
       " (0.2187282919843917, 'TotalPctDiv')]"
      ]
     },
     "execution_count": 95,
     "metadata": {},
     "output_type": "execute_result"
    }
   ],
   "source": [
    "nonv_rf_features=sorted(zip(best_rf_nonv.feature_importances_, manually_selected_features))\n",
    "nonv_rf_features"
   ]
  },
  {
   "cell_type": "code",
   "execution_count": 96,
   "metadata": {},
   "outputs": [],
   "source": [
    "res_best_lasso_nonv = evaluate_lasso(X_m_s_train_norm, X_m_s_test_norm, target_nonv_train, target_nonv_test, best_lasso_nonv)"
   ]
  },
  {
   "cell_type": "code",
   "execution_count": 97,
   "metadata": {},
   "outputs": [
    {
     "data": {
      "text/plain": [
       "[(25.250164730047914, 'NumKindsDrugsSeiz'),\n",
       " (31.189800285287127, 'PctBSorMore'),\n",
       " (65.87311926897448, 'NumStreet'),\n",
       " (192.9503802106123, 'agePct12t29'),\n",
       " (195.74969251584838, 'PctImmigRec10'),\n",
       " (205.6087940354931, 'MedRent'),\n",
       " (251.7314573316126, 'perCapInc'),\n",
       " (270.5736428635336, 'PctUnemployed'),\n",
       " (431.65991361804765, 'racePctWhite'),\n",
       " (894.0678119576311, 'LemasSwornFT'),\n",
       " (899.6718880172077, 'PctPopUnderPov'),\n",
       " (977.1582139081347, 'NumInShelters'),\n",
       " (1110.2867020304545, 'TotalPctDiv')]"
      ]
     },
     "execution_count": 97,
     "metadata": {},
     "output_type": "execute_result"
    }
   ],
   "source": [
    "nonv_lasso_f = sorted(zip(abs(res_best_lasso_nonv[0]), manually_selected_features))\n",
    "nonv_lasso_f"
   ]
  },
  {
   "cell_type": "markdown",
   "metadata": {},
   "source": [
    "Now only 3 out of 5 most important features selected by each model match."
   ]
  },
  {
   "cell_type": "markdown",
   "metadata": {},
   "source": [
    "## 4. Summary on manuallly selected data"
   ]
  },
  {
   "cell_type": "markdown",
   "metadata": {},
   "source": [
    "Random Forest outperforms linear models on both violent and nonviolent crimes. \n",
    "<br>*Violent crimes best scores:*\n",
    "* **Lasso:** MAE_test = 259.94365824914854 \n",
    "* **RF:** MAE_test = 236.5259341134638. \n",
    "<br>\n",
    "\n",
    "*Nonviolent crimes best scores:*\n",
    "* **Lasso:** MAE_test = 1400.6183591755841 \n",
    "* **RF:** MAE_test = 1305.806011085814. <br>\n",
    "\n",
    "However, it's remarkable, that Lasso and Random Forest select nearly the same important features. <br>\n",
    "\n",
    "*Most important features for violent crimes(in ascending order):*\n",
    "* PctUnemployed\n",
    "* TotalPctDiv\n",
    "* PctPopUnderPov\n",
    "* racePctWhite.\n",
    "<br>\n",
    "\n",
    "*Most important features for nonviolent crimes(in ascending order):*\n",
    "* racePctWhite\n",
    "* PctPopUnderPov\n",
    "* TotalPctDiv.\n",
    "<br>\n",
    "\n",
    "Thus, the total percentage of divorced parents leads to more nonviolent crimes, and the percentage of white people diminishes the number of violent ones."
   ]
  }
 ],
 "metadata": {
  "kernelspec": {
   "display_name": "Python 3",
   "language": "python",
   "name": "python3"
  },
  "language_info": {
   "codemirror_mode": {
    "name": "ipython",
    "version": 3
   },
   "file_extension": ".py",
   "mimetype": "text/x-python",
   "name": "python",
   "nbconvert_exporter": "python",
   "pygments_lexer": "ipython3",
   "version": "3.5.2"
  }
 },
 "nbformat": 4,
 "nbformat_minor": 2
}
